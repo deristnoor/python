{
 "cells": [
  {
   "cell_type": "markdown",
   "source": [
    "# WEBINAR MODUL 3 DAY 4: \r\n",
    "\r\n",
    "## Unsupervised Learning, Time Series, Text Mining"
   ],
   "metadata": {}
  },
  {
   "cell_type": "code",
   "execution_count": 1,
   "source": [
    "import numpy as np\r\n",
    "import pandas as pd \r\n",
    "from sklearn.metrics import precision_score, recall_score, f1_score\r\n",
    "from IPython import display"
   ],
   "outputs": [],
   "metadata": {}
  },
  {
   "cell_type": "markdown",
   "source": [
    "# No. 1"
   ],
   "metadata": {}
  },
  {
   "cell_type": "markdown",
   "source": [
    "## PCA: salah satu algoritma Dimensionality Reduction\r\n",
    "## - bukan memilih feature, tapi mengombinasikan banyak feature menjadi 2 feature baru yang tidak saling berkorelasi.\r\n",
    "\r\n",
    "## Kelebihan:\r\n",
    "- Mengurangi dimensi dari banyak dimensi menjadi 2 dimensi\r\n",
    "- Mudah divisualisasi (scatterplot 2 dimensi)\r\n",
    "- Mudah diexplorasi (misalnya untuk clustering)\r\n",
    "- Modeling lebih cepat\r\n",
    "- Mengatasi multicollinearity\r\n",
    "\r\n",
    "## Kekurangan:\r\n",
    "- Kehilangan informasi\r\n",
    "- Feature sulit untuk diinterpretasi\r\n"
   ],
   "metadata": {}
  },
  {
   "cell_type": "markdown",
   "source": [
    "![PCA](https://i.ibb.co/tB60YLD/nagesh-pca-4.png)\r\n",
    "\r\n",
    "![PCA Gif](https://i.ibb.co/f42F86J/nagesh-pca-5.gif)"
   ],
   "metadata": {}
  },
  {
   "cell_type": "code",
   "execution_count": null,
   "source": [],
   "outputs": [],
   "metadata": {}
  },
  {
   "cell_type": "markdown",
   "source": [
    "# No. 2"
   ],
   "metadata": {}
  },
  {
   "cell_type": "markdown",
   "source": [
    "![](https://www.researchgate.net/publication/342141592/figure/fig4/AS:901775972380681@1592011554293/An-Example-Illustrating-the-Density-Based-DBSCAN-Clustering-Method-Applied-to-SMLM-Data.png)"
   ],
   "metadata": {}
  },
  {
   "cell_type": "markdown",
   "source": [
    "## epsilon: Radius/jarak maksimum untuk 2 sample dianggap sebagai 1 neighborhood.\r\n",
    "- Memperbesar nilai epsilon akan menyebabkan cluster yang terbentuk cenderung berukuran besar, dan akan semakin banyak data point yang masuk sebagai cluster.\r\n",
    "- Memperkecil nilai epsilon akan menyebabkan cluster yang terbentuk cenderung berukuran kecil-kecil, dan akan semakin sedikit data point yang masuk sebagai cluster.\r\n",
    "\r\n",
    "\r\n",
    "## min_samples: jumlah minimum sample untuk menjadi core sample\r\n",
    "- Memperbesar nilai min_samples akan mempersulit bagi setiap data untuk menjadi core sample, akan semakin banyak data yang dianggap sebagai noise \r\n",
    "- Memperkecil nilai min_samples akan mempermudah bagi setiap data untuk menjadi core sample, akan semakin sedikit data yang dianggap sebagai noise\r\n"
   ],
   "metadata": {}
  },
  {
   "cell_type": "markdown",
   "source": [],
   "metadata": {}
  },
  {
   "cell_type": "markdown",
   "source": [
    "# No. 3"
   ],
   "metadata": {}
  },
  {
   "cell_type": "markdown",
   "source": [
    "## - Elbow Method (cari sudut terlancip)\r\n",
    "## - Silhoutte Score (cari score terbesar)\r\n"
   ],
   "metadata": {}
  },
  {
   "cell_type": "markdown",
   "source": [],
   "metadata": {}
  },
  {
   "cell_type": "markdown",
   "source": [
    "# No. 4"
   ],
   "metadata": {}
  },
  {
   "cell_type": "markdown",
   "source": [],
   "metadata": {}
  },
  {
   "cell_type": "markdown",
   "source": [],
   "metadata": {}
  },
  {
   "cell_type": "markdown",
   "source": [],
   "metadata": {}
  },
  {
   "cell_type": "markdown",
   "source": [],
   "metadata": {}
  }
 ],
 "metadata": {
  "orig_nbformat": 4,
  "language_info": {
   "name": "python",
   "version": "3.7.6",
   "mimetype": "text/x-python",
   "codemirror_mode": {
    "name": "ipython",
    "version": 3
   },
   "pygments_lexer": "ipython3",
   "nbconvert_exporter": "python",
   "file_extension": ".py"
  },
  "kernelspec": {
   "name": "python3",
   "display_name": "Python 3.7.6 64-bit ('base': conda)"
  },
  "interpreter": {
   "hash": "37eb40c3388cfde35488e2d005b0d69ca91ddeff8a429754d4da636d3f888e5e"
  }
 },
 "nbformat": 4,
 "nbformat_minor": 2
}