{
 "cells": [
  {
   "cell_type": "markdown",
   "source": [
    "# WEBINAR MODUL 3 DAY 3: \r\n",
    "\r\n",
    "## Metrics, Imbalance Dataset, Ensemble Model"
   ],
   "metadata": {}
  },
  {
   "cell_type": "code",
   "execution_count": 1,
   "source": [
    "import numpy as np\r\n",
    "import pandas as pd \r\n",
    "from sklearn.metrics import precision_score, recall_score, f1_score\r\n",
    "from IPython import display"
   ],
   "outputs": [],
   "metadata": {}
  },
  {
   "cell_type": "markdown",
   "source": [
    "# No. 2"
   ],
   "metadata": {}
  },
  {
   "cell_type": "markdown",
   "source": [
    "![](https://static.wixstatic.com/media/02a1ae_32cad84eaf3348059a8996d1b0f88627~mv2.jpg)"
   ],
   "metadata": {}
  },
  {
   "cell_type": "markdown",
   "source": [
    "## Precision\r\n",
    "Precision = 1000 / (1000+20) = 0.980\r\n",
    "\r\n",
    "## Recall\r\n",
    "Recall = 1000 / (1000+120) = 0.892\r\n"
   ],
   "metadata": {}
  },
  {
   "cell_type": "code",
   "execution_count": null,
   "source": [],
   "outputs": [],
   "metadata": {}
  },
  {
   "cell_type": "markdown",
   "source": [
    "# No. 3"
   ],
   "metadata": {}
  },
  {
   "cell_type": "markdown",
   "source": [
    "![](https://static.wixstatic.com/media/02a1ae_32cad84eaf3348059a8996d1b0f88627~mv2.jpg)"
   ],
   "metadata": {}
  },
  {
   "cell_type": "markdown",
   "source": [
    "## False Positive Rate\r\n",
    "\r\n",
    "FPR = FP / (FP+TN)\r\n",
    "\r\n",
    "FPR = persentase jumlah orang sehat yang dideteksi sebagai penderita kanker (dari seluruh orang yang aslinya sehat)\r\n"
   ],
   "metadata": {}
  },
  {
   "cell_type": "code",
   "execution_count": null,
   "source": [],
   "outputs": [],
   "metadata": {}
  },
  {
   "cell_type": "markdown",
   "source": [
    "# No. 4"
   ],
   "metadata": {}
  },
  {
   "cell_type": "markdown",
   "source": [
    "![](https://static.wixstatic.com/media/02a1ae_32cad84eaf3348059a8996d1b0f88627~mv2.jpg)"
   ],
   "metadata": {}
  },
  {
   "cell_type": "markdown",
   "source": [
    "\r\n",
    "## Accuracy\r\n",
    "Accuracy = (TP + TN) / (TP + TN + FP +FN)\r\n",
    "\r\n",
    "- berapa tebakan yang benar dari semuanya\r\n",
    "\r\n",
    "## Precision\r\n",
    "Precision = TP / (TP + FP)\r\n",
    "\r\n",
    "- Tujuan: menurunkan FP\r\n",
    "- Contoh: email spam detection \r\n",
    "\r\n",
    "## Recall\r\n",
    "Recall = TP / (TP + FN)\r\n",
    "\r\n",
    "- Tujuan: menurunkan FN\r\n",
    "- Contoh: cancer detection \r\n",
    "\r\n",
    "\r\n",
    "## F1 score\r\n",
    "F1 score = 2 * (Precision* Recall) / (Precision + Recall)\r\n",
    "\r\n",
    "- Tujuan: Precision dan Recall seimbang\r\n",
    "\r\n",
    "\r\n",
    "\r\n",
    "## ROC AUC\r\n",
    "ROC AUC : \r\n",
    "- ROC menampilka nilai trade-off antara TPR dan FPR untuk model prediksi yang menggunakan probability threshold yang berbeda (dari 0-1). Semakin luas Area Under Curve, maka prediksi semakin baik.\r\n",
    "\r\n",
    "\r\n"
   ],
   "metadata": {}
  },
  {
   "cell_type": "markdown",
   "source": [
    "![](https://img1.daumcdn.net/thumb/R1280x0/?scode=mtistory2&fname=https%3A%2F%2Fblog.kakaocdn.net%2Fdn%2FbR3g0T%2FbtqWzsOc5uU%2F78gn39iKyTAeNGoA1HLny1%2Fimg.png)"
   ],
   "metadata": {}
  },
  {
   "cell_type": "code",
   "execution_count": null,
   "source": [],
   "outputs": [],
   "metadata": {}
  },
  {
   "cell_type": "code",
   "execution_count": null,
   "source": [],
   "outputs": [],
   "metadata": {}
  },
  {
   "cell_type": "code",
   "execution_count": null,
   "source": [],
   "outputs": [],
   "metadata": {}
  },
  {
   "cell_type": "code",
   "execution_count": null,
   "source": [],
   "outputs": [],
   "metadata": {}
  },
  {
   "cell_type": "code",
   "execution_count": null,
   "source": [],
   "outputs": [],
   "metadata": {}
  },
  {
   "cell_type": "code",
   "execution_count": null,
   "source": [],
   "outputs": [],
   "metadata": {}
  },
  {
   "cell_type": "code",
   "execution_count": null,
   "source": [],
   "outputs": [],
   "metadata": {}
  },
  {
   "cell_type": "code",
   "execution_count": null,
   "source": [],
   "outputs": [],
   "metadata": {}
  },
  {
   "cell_type": "code",
   "execution_count": null,
   "source": [],
   "outputs": [],
   "metadata": {}
  },
  {
   "cell_type": "code",
   "execution_count": null,
   "source": [],
   "outputs": [],
   "metadata": {}
  }
 ],
 "metadata": {
  "orig_nbformat": 4,
  "language_info": {
   "name": "python",
   "version": "3.7.6",
   "mimetype": "text/x-python",
   "codemirror_mode": {
    "name": "ipython",
    "version": 3
   },
   "pygments_lexer": "ipython3",
   "nbconvert_exporter": "python",
   "file_extension": ".py"
  },
  "kernelspec": {
   "name": "python3",
   "display_name": "Python 3.7.6 64-bit ('base': conda)"
  },
  "interpreter": {
   "hash": "37eb40c3388cfde35488e2d005b0d69ca91ddeff8a429754d4da636d3f888e5e"
  }
 },
 "nbformat": 4,
 "nbformat_minor": 2
}