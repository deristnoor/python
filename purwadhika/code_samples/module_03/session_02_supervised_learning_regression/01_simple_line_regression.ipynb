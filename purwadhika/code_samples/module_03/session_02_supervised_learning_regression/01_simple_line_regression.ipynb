{
 "cells": [
  {
   "cell_type": "markdown",
   "metadata": {},
   "source": [
    "# Module 03\n",
    "\n",
    "## Session 02 Supervised Learning Regression"
   ]
  },
  {
   "cell_type": "markdown",
   "metadata": {},
   "source": [
    "## Simple Linear Regression"
   ]
  },
  {
   "cell_type": "markdown",
   "metadata": {},
   "source": [
    "### Import data"
   ]
  },
  {
   "cell_type": "code",
   "execution_count": null,
   "metadata": {},
   "outputs": [],
   "source": [
    "import statsmodels.api as sm\n",
    "import seaborn as sns"
   ]
  },
  {
   "cell_type": "markdown",
   "metadata": {},
   "source": [
    "### Load data"
   ]
  },
  {
   "cell_type": "code",
   "execution_count": 3,
   "metadata": {},
   "outputs": [
    {
     "data": {
      "text/html": [
       "<div>\n",
       "<style scoped>\n",
       "    .dataframe tbody tr th:only-of-type {\n",
       "        vertical-align: middle;\n",
       "    }\n",
       "\n",
       "    .dataframe tbody tr th {\n",
       "        vertical-align: top;\n",
       "    }\n",
       "\n",
       "    .dataframe thead th {\n",
       "        text-align: right;\n",
       "    }\n",
       "</style>\n",
       "<table border=\"1\" class=\"dataframe\">\n",
       "  <thead>\n",
       "    <tr style=\"text-align: right;\">\n",
       "      <th></th>\n",
       "      <th>total_bill</th>\n",
       "      <th>tip</th>\n",
       "      <th>sex</th>\n",
       "      <th>smoker</th>\n",
       "      <th>day</th>\n",
       "      <th>time</th>\n",
       "      <th>size</th>\n",
       "    </tr>\n",
       "  </thead>\n",
       "  <tbody>\n",
       "    <tr>\n",
       "      <th>0</th>\n",
       "      <td>16.99</td>\n",
       "      <td>1.01</td>\n",
       "      <td>Female</td>\n",
       "      <td>No</td>\n",
       "      <td>Sun</td>\n",
       "      <td>Dinner</td>\n",
       "      <td>2</td>\n",
       "    </tr>\n",
       "    <tr>\n",
       "      <th>1</th>\n",
       "      <td>10.34</td>\n",
       "      <td>1.66</td>\n",
       "      <td>Male</td>\n",
       "      <td>No</td>\n",
       "      <td>Sun</td>\n",
       "      <td>Dinner</td>\n",
       "      <td>3</td>\n",
       "    </tr>\n",
       "    <tr>\n",
       "      <th>2</th>\n",
       "      <td>21.01</td>\n",
       "      <td>3.50</td>\n",
       "      <td>Male</td>\n",
       "      <td>No</td>\n",
       "      <td>Sun</td>\n",
       "      <td>Dinner</td>\n",
       "      <td>3</td>\n",
       "    </tr>\n",
       "    <tr>\n",
       "      <th>3</th>\n",
       "      <td>23.68</td>\n",
       "      <td>3.31</td>\n",
       "      <td>Male</td>\n",
       "      <td>No</td>\n",
       "      <td>Sun</td>\n",
       "      <td>Dinner</td>\n",
       "      <td>2</td>\n",
       "    </tr>\n",
       "    <tr>\n",
       "      <th>4</th>\n",
       "      <td>24.59</td>\n",
       "      <td>3.61</td>\n",
       "      <td>Female</td>\n",
       "      <td>No</td>\n",
       "      <td>Sun</td>\n",
       "      <td>Dinner</td>\n",
       "      <td>4</td>\n",
       "    </tr>\n",
       "  </tbody>\n",
       "</table>\n",
       "</div>"
      ],
      "text/plain": [
       "   total_bill   tip     sex smoker  day    time  size\n",
       "0       16.99  1.01  Female     No  Sun  Dinner     2\n",
       "1       10.34  1.66    Male     No  Sun  Dinner     3\n",
       "2       21.01  3.50    Male     No  Sun  Dinner     3\n",
       "3       23.68  3.31    Male     No  Sun  Dinner     2\n",
       "4       24.59  3.61  Female     No  Sun  Dinner     4"
      ]
     },
     "execution_count": 3,
     "metadata": {},
     "output_type": "execute_result"
    }
   ],
   "source": [
    "tips = sns.load_dataset('tips')\n",
    "tips.head()"
   ]
  },
  {
   "cell_type": "markdown",
   "metadata": {},
   "source": [
    "### Model"
   ]
  },
  {
   "cell_type": "code",
   "execution_count": 5,
   "metadata": {},
   "outputs": [
    {
     "name": "stdout",
     "output_type": "stream",
     "text": [
      "                            OLS Regression Results                            \n",
      "==============================================================================\n",
      "Dep. Variable:                    tip   R-squared:                       0.457\n",
      "Model:                            OLS   Adj. R-squared:                  0.454\n",
      "Method:                 Least Squares   F-statistic:                     203.4\n",
      "Date:                Wed, 07 Jul 2021   Prob (F-statistic):           6.69e-34\n",
      "Time:                        10:44:59   Log-Likelihood:                -350.54\n",
      "No. Observations:                 244   AIC:                             705.1\n",
      "Df Residuals:                     242   BIC:                             712.1\n",
      "Df Model:                           1                                         \n",
      "Covariance Type:            nonrobust                                         \n",
      "==============================================================================\n",
      "                 coef    std err          t      P>|t|      [0.025      0.975]\n",
      "------------------------------------------------------------------------------\n",
      "const          0.9203      0.160      5.761      0.000       0.606       1.235\n",
      "total_bill     0.1050      0.007     14.260      0.000       0.091       0.120\n",
      "==============================================================================\n",
      "Omnibus:                       20.185   Durbin-Watson:                   2.151\n",
      "Prob(Omnibus):                  0.000   Jarque-Bera (JB):               37.750\n",
      "Skew:                           0.443   Prob(JB):                     6.35e-09\n",
      "Kurtosis:                       4.711   Cond. No.                         53.0\n",
      "==============================================================================\n",
      "\n",
      "Notes:\n",
      "[1] Standard Errors assume that the covariance matrix of the errors is correctly specified.\n"
     ]
    }
   ],
   "source": [
    "# variable\n",
    "y = tips['tip'] # dependent\n",
    "X = tips[['total_bill']] # independent\n",
    "\n",
    "# add intercept to the formula\n",
    "X = sm.add_constant(X) \n",
    "\n",
    "# defining the model\n",
    "model = sm.OLS(y, X)\n",
    "\n",
    "# fitting model\n",
    "result = model.fit()\n",
    "\n",
    "# print summary\n",
    "print(result.summary())"
   ]
  },
  {
   "cell_type": "markdown",
   "metadata": {},
   "source": [
    "<b>Important output</b>:\n",
    "1. <b>R-square</b> \n",
    "2. <b>Prob (F-statistic)</b> (F-test)\n",
    "3. <b>coef each variables</b> (β<sub>0</sub> and β<sub>1</sub>) \n",
    "4. <b>prob each variables</b> (T-test from β<sub>0</sub> and β<sub>1</sub>)"
   ]
  },
  {
   "cell_type": "markdown",
   "metadata": {},
   "source": [
    "### Summary interpretation:\n",
    "Model: <b>y = 0.9203 + 0.1050X</b>\n",
    "1. <b>R-square</b>: the model can define 45.7% variation of tips\n",
    "2. <b>Prob (F-statistic)</b>: 6.69e-34 < 0.05, then the total bill significantly affect the tips\n",
    "3. <b>β<sub>0</sub> and β<sub>1</sub></b>:\n",
    "> - β<sub>0</sub>: y = β<sub>0</sub> + β<sub>1</sub>X, y when x=0, tips when total bill = 0\n",
    "> - β<sub>1</sub>: Every 10 dollars total bill increase, then it will increase the tips approximately 1.050 dollars\n",
    "4. <b>T-test</b>:\n",
    "> - β<sub>0</sub> p-value: 0.000... < 0.05, then it confirm the model needs intercept\n",
    "> - β<sub>1</sub> p-value: 0.000... < 0.05, then it confirm the correlation between total bill and tips are significant and the correlations are positive\n",
    "\n",
    "<b>Note</b>: \n",
    "> - <b>F-test</b>: to test wether the independent variable affects the dependent variable\n",
    ">> - <b>Hypothesis</b>: Independent variable <b>does not</b> affects dependent variable\n",
    ">> - <b>H<sub>0</sub></b>: β<sub>1</sub> = 0\n",
    ">> - <b>H<sub>a</sub></b>: β<sub>1</sub> != 0\n",
    ">> - <b>Rejection criteria</b>: p-value <= α\n",
    "> - <b>T-test</b>: to test wether β<sub>0</sub> and β<sub>1</sub> are significant and wether β<sub>0</sub> (intercept/constant) are needed\n",
    ">> - <b>Hypothesis</b>: Model <b>does not</b> need the intercept\n",
    ">> - <b>H<sub>0</sub></b>: β<sub>0</sub> = 0\n",
    ">> - <b>H<sub>a</sub></b>: β<sub>0</sub> != 0 or β<sub>0</sub> != 0 or β<sub>0</sub> != 0 \n",
    ">> - <b>Rejection criteria</b>: \n",
    ">>> - <b>One-sided</b>: p-value <= α\n",
    ">>> - <b>Two-sided</b>: p-value/2 <= α\n",
    "----------------------"
   ]
  },
  {
   "cell_type": "code",
   "execution_count": null,
   "metadata": {},
   "outputs": [],
   "source": []
  }
 ],
 "metadata": {
  "kernelspec": {
   "display_name": "Python 3",
   "language": "python",
   "name": "python3"
  },
  "language_info": {
   "codemirror_mode": {
    "name": "ipython",
    "version": 3
   },
   "file_extension": ".py",
   "mimetype": "text/x-python",
   "name": "python",
   "nbconvert_exporter": "python",
   "pygments_lexer": "ipython3",
   "version": "3.8.5"
  }
 },
 "nbformat": 4,
 "nbformat_minor": 4
}
