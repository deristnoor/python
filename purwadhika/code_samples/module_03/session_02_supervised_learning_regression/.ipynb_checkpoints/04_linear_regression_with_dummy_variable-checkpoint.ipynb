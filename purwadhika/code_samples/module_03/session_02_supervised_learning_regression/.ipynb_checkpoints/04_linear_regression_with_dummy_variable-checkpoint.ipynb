{
 "cells": [
  {
   "cell_type": "markdown",
   "metadata": {},
   "source": [
    "# Module 03\n",
    "\n",
    "## Session 02 Supervised Learning Regression"
   ]
  },
  {
   "cell_type": "markdown",
   "metadata": {},
   "source": [
    "## Linear Regression with Dummy Variables"
   ]
  },
  {
   "cell_type": "markdown",
   "metadata": {},
   "source": [
    "### Import data"
   ]
  },
  {
   "cell_type": "code",
   "execution_count": 12,
   "metadata": {},
   "outputs": [],
   "source": [
    "import pandas as pd\n",
    "import statsmodels.api as sm\n",
    "import seaborn as sns\n",
    "import matplotlib.pyplot as plt\n",
    "from statsmodels.stats.outliers_influence import variance_inflation_factor"
   ]
  },
  {
   "cell_type": "markdown",
   "metadata": {},
   "source": [
    "### Load data"
   ]
  },
  {
   "cell_type": "code",
   "execution_count": 2,
   "metadata": {},
   "outputs": [
    {
     "data": {
      "text/html": [
       "<div>\n",
       "<style scoped>\n",
       "    .dataframe tbody tr th:only-of-type {\n",
       "        vertical-align: middle;\n",
       "    }\n",
       "\n",
       "    .dataframe tbody tr th {\n",
       "        vertical-align: top;\n",
       "    }\n",
       "\n",
       "    .dataframe thead th {\n",
       "        text-align: right;\n",
       "    }\n",
       "</style>\n",
       "<table border=\"1\" class=\"dataframe\">\n",
       "  <thead>\n",
       "    <tr style=\"text-align: right;\">\n",
       "      <th></th>\n",
       "      <th>total_bill</th>\n",
       "      <th>tip</th>\n",
       "      <th>sex</th>\n",
       "      <th>smoker</th>\n",
       "      <th>day</th>\n",
       "      <th>time</th>\n",
       "      <th>size</th>\n",
       "    </tr>\n",
       "  </thead>\n",
       "  <tbody>\n",
       "    <tr>\n",
       "      <th>0</th>\n",
       "      <td>16.99</td>\n",
       "      <td>1.01</td>\n",
       "      <td>Female</td>\n",
       "      <td>No</td>\n",
       "      <td>Sun</td>\n",
       "      <td>Dinner</td>\n",
       "      <td>2</td>\n",
       "    </tr>\n",
       "    <tr>\n",
       "      <th>1</th>\n",
       "      <td>10.34</td>\n",
       "      <td>1.66</td>\n",
       "      <td>Male</td>\n",
       "      <td>No</td>\n",
       "      <td>Sun</td>\n",
       "      <td>Dinner</td>\n",
       "      <td>3</td>\n",
       "    </tr>\n",
       "    <tr>\n",
       "      <th>2</th>\n",
       "      <td>21.01</td>\n",
       "      <td>3.50</td>\n",
       "      <td>Male</td>\n",
       "      <td>No</td>\n",
       "      <td>Sun</td>\n",
       "      <td>Dinner</td>\n",
       "      <td>3</td>\n",
       "    </tr>\n",
       "    <tr>\n",
       "      <th>3</th>\n",
       "      <td>23.68</td>\n",
       "      <td>3.31</td>\n",
       "      <td>Male</td>\n",
       "      <td>No</td>\n",
       "      <td>Sun</td>\n",
       "      <td>Dinner</td>\n",
       "      <td>2</td>\n",
       "    </tr>\n",
       "    <tr>\n",
       "      <th>4</th>\n",
       "      <td>24.59</td>\n",
       "      <td>3.61</td>\n",
       "      <td>Female</td>\n",
       "      <td>No</td>\n",
       "      <td>Sun</td>\n",
       "      <td>Dinner</td>\n",
       "      <td>4</td>\n",
       "    </tr>\n",
       "  </tbody>\n",
       "</table>\n",
       "</div>"
      ],
      "text/plain": [
       "   total_bill   tip     sex smoker  day    time  size\n",
       "0       16.99  1.01  Female     No  Sun  Dinner     2\n",
       "1       10.34  1.66    Male     No  Sun  Dinner     3\n",
       "2       21.01  3.50    Male     No  Sun  Dinner     3\n",
       "3       23.68  3.31    Male     No  Sun  Dinner     2\n",
       "4       24.59  3.61  Female     No  Sun  Dinner     4"
      ]
     },
     "execution_count": 2,
     "metadata": {},
     "output_type": "execute_result"
    }
   ],
   "source": [
    "tips = sns.load_dataset('tips')\n",
    "tips.head()"
   ]
  },
  {
   "cell_type": "markdown",
   "metadata": {},
   "source": [
    "### Dummy Variables"
   ]
  },
  {
   "cell_type": "code",
   "execution_count": 11,
   "metadata": {},
   "outputs": [
    {
     "data": {
      "text/html": [
       "<div>\n",
       "<style scoped>\n",
       "    .dataframe tbody tr th:only-of-type {\n",
       "        vertical-align: middle;\n",
       "    }\n",
       "\n",
       "    .dataframe tbody tr th {\n",
       "        vertical-align: top;\n",
       "    }\n",
       "\n",
       "    .dataframe thead th {\n",
       "        text-align: right;\n",
       "    }\n",
       "</style>\n",
       "<table border=\"1\" class=\"dataframe\">\n",
       "  <thead>\n",
       "    <tr style=\"text-align: right;\">\n",
       "      <th></th>\n",
       "      <th>total_bill</th>\n",
       "      <th>size</th>\n",
       "      <th>sex_Female</th>\n",
       "      <th>smoker_No</th>\n",
       "      <th>day_Fri</th>\n",
       "      <th>day_Sat</th>\n",
       "      <th>day_Sun</th>\n",
       "      <th>time_Dinner</th>\n",
       "    </tr>\n",
       "  </thead>\n",
       "  <tbody>\n",
       "    <tr>\n",
       "      <th>0</th>\n",
       "      <td>16.99</td>\n",
       "      <td>2</td>\n",
       "      <td>1</td>\n",
       "      <td>1</td>\n",
       "      <td>0</td>\n",
       "      <td>0</td>\n",
       "      <td>1</td>\n",
       "      <td>1</td>\n",
       "    </tr>\n",
       "    <tr>\n",
       "      <th>1</th>\n",
       "      <td>10.34</td>\n",
       "      <td>3</td>\n",
       "      <td>0</td>\n",
       "      <td>1</td>\n",
       "      <td>0</td>\n",
       "      <td>0</td>\n",
       "      <td>1</td>\n",
       "      <td>1</td>\n",
       "    </tr>\n",
       "    <tr>\n",
       "      <th>2</th>\n",
       "      <td>21.01</td>\n",
       "      <td>3</td>\n",
       "      <td>0</td>\n",
       "      <td>1</td>\n",
       "      <td>0</td>\n",
       "      <td>0</td>\n",
       "      <td>1</td>\n",
       "      <td>1</td>\n",
       "    </tr>\n",
       "    <tr>\n",
       "      <th>3</th>\n",
       "      <td>23.68</td>\n",
       "      <td>2</td>\n",
       "      <td>0</td>\n",
       "      <td>1</td>\n",
       "      <td>0</td>\n",
       "      <td>0</td>\n",
       "      <td>1</td>\n",
       "      <td>1</td>\n",
       "    </tr>\n",
       "    <tr>\n",
       "      <th>4</th>\n",
       "      <td>24.59</td>\n",
       "      <td>4</td>\n",
       "      <td>1</td>\n",
       "      <td>1</td>\n",
       "      <td>0</td>\n",
       "      <td>0</td>\n",
       "      <td>1</td>\n",
       "      <td>1</td>\n",
       "    </tr>\n",
       "    <tr>\n",
       "      <th>...</th>\n",
       "      <td>...</td>\n",
       "      <td>...</td>\n",
       "      <td>...</td>\n",
       "      <td>...</td>\n",
       "      <td>...</td>\n",
       "      <td>...</td>\n",
       "      <td>...</td>\n",
       "      <td>...</td>\n",
       "    </tr>\n",
       "    <tr>\n",
       "      <th>239</th>\n",
       "      <td>29.03</td>\n",
       "      <td>3</td>\n",
       "      <td>0</td>\n",
       "      <td>1</td>\n",
       "      <td>0</td>\n",
       "      <td>1</td>\n",
       "      <td>0</td>\n",
       "      <td>1</td>\n",
       "    </tr>\n",
       "    <tr>\n",
       "      <th>240</th>\n",
       "      <td>27.18</td>\n",
       "      <td>2</td>\n",
       "      <td>1</td>\n",
       "      <td>0</td>\n",
       "      <td>0</td>\n",
       "      <td>1</td>\n",
       "      <td>0</td>\n",
       "      <td>1</td>\n",
       "    </tr>\n",
       "    <tr>\n",
       "      <th>241</th>\n",
       "      <td>22.67</td>\n",
       "      <td>2</td>\n",
       "      <td>0</td>\n",
       "      <td>0</td>\n",
       "      <td>0</td>\n",
       "      <td>1</td>\n",
       "      <td>0</td>\n",
       "      <td>1</td>\n",
       "    </tr>\n",
       "    <tr>\n",
       "      <th>242</th>\n",
       "      <td>17.82</td>\n",
       "      <td>2</td>\n",
       "      <td>0</td>\n",
       "      <td>1</td>\n",
       "      <td>0</td>\n",
       "      <td>1</td>\n",
       "      <td>0</td>\n",
       "      <td>1</td>\n",
       "    </tr>\n",
       "    <tr>\n",
       "      <th>243</th>\n",
       "      <td>18.78</td>\n",
       "      <td>2</td>\n",
       "      <td>1</td>\n",
       "      <td>1</td>\n",
       "      <td>0</td>\n",
       "      <td>0</td>\n",
       "      <td>0</td>\n",
       "      <td>1</td>\n",
       "    </tr>\n",
       "  </tbody>\n",
       "</table>\n",
       "<p>244 rows × 8 columns</p>\n",
       "</div>"
      ],
      "text/plain": [
       "     total_bill  size  sex_Female  smoker_No  day_Fri  day_Sat  day_Sun  \\\n",
       "0         16.99     2           1          1        0        0        1   \n",
       "1         10.34     3           0          1        0        0        1   \n",
       "2         21.01     3           0          1        0        0        1   \n",
       "3         23.68     2           0          1        0        0        1   \n",
       "4         24.59     4           1          1        0        0        1   \n",
       "..          ...   ...         ...        ...      ...      ...      ...   \n",
       "239       29.03     3           0          1        0        1        0   \n",
       "240       27.18     2           1          0        0        1        0   \n",
       "241       22.67     2           0          0        0        1        0   \n",
       "242       17.82     2           0          1        0        1        0   \n",
       "243       18.78     2           1          1        0        0        0   \n",
       "\n",
       "     time_Dinner  \n",
       "0              1  \n",
       "1              1  \n",
       "2              1  \n",
       "3              1  \n",
       "4              1  \n",
       "..           ...  \n",
       "239            1  \n",
       "240            1  \n",
       "241            1  \n",
       "242            1  \n",
       "243            1  \n",
       "\n",
       "[244 rows x 8 columns]"
      ]
     },
     "execution_count": 11,
     "metadata": {},
     "output_type": "execute_result"
    }
   ],
   "source": [
    "# variable\n",
    "X = tips.drop(columns = ['tip'])\n",
    "y = tips['tip']\n",
    "\n",
    "# making dummies\n",
    "X_dummies = pd.get_dummies(X, columns = ['sex', 'smoker', 'day', 'time'], drop_first = True)\n",
    "X_dummies"
   ]
  },
  {
   "cell_type": "markdown",
   "metadata": {},
   "source": [
    "### Model"
   ]
  },
  {
   "cell_type": "code",
   "execution_count": 9,
   "metadata": {},
   "outputs": [
    {
     "name": "stdout",
     "output_type": "stream",
     "text": [
      "                            OLS Regression Results                            \n",
      "==============================================================================\n",
      "Dep. Variable:                    tip   R-squared:                       0.470\n",
      "Model:                            OLS   Adj. R-squared:                  0.452\n",
      "Method:                 Least Squares   F-statistic:                     26.06\n",
      "Date:                Wed, 07 Jul 2021   Prob (F-statistic):           1.20e-28\n",
      "Time:                        19:09:58   Log-Likelihood:                -347.48\n",
      "No. Observations:                 244   AIC:                             713.0\n",
      "Df Residuals:                     235   BIC:                             744.4\n",
      "Df Model:                           8                                         \n",
      "Covariance Type:            nonrobust                                         \n",
      "===============================================================================\n",
      "                  coef    std err          t      P>|t|      [0.025      0.975]\n",
      "-------------------------------------------------------------------------------\n",
      "const           0.5908      0.256      2.310      0.022       0.087       1.095\n",
      "total_bill      0.0945      0.010      9.841      0.000       0.076       0.113\n",
      "size            0.1760      0.090      1.966      0.051      -0.000       0.352\n",
      "sex_Female      0.0324      0.142      0.229      0.819      -0.247       0.311\n",
      "smoker_No       0.0864      0.147      0.589      0.556      -0.202       0.375\n",
      "day_Fri         0.1623      0.393      0.412      0.680      -0.613       0.937\n",
      "day_Sat         0.0408      0.471      0.087      0.931      -0.886       0.968\n",
      "day_Sun         0.1368      0.472      0.290      0.772      -0.793       1.066\n",
      "time_Dinner    -0.0681      0.445     -0.153      0.878      -0.944       0.808\n",
      "==============================================================================\n",
      "Omnibus:                       27.860   Durbin-Watson:                   2.096\n",
      "Prob(Omnibus):                  0.000   Jarque-Bera (JB):               52.555\n",
      "Skew:                           0.607   Prob(JB):                     3.87e-12\n",
      "Kurtosis:                       4.923   Cond. No.                         281.\n",
      "==============================================================================\n",
      "\n",
      "Notes:\n",
      "[1] Standard Errors assume that the covariance matrix of the errors is correctly specified.\n"
     ]
    }
   ],
   "source": [
    "# add intercept to the formula\n",
    "X_dummies = sm.add_constant(X_dummies) \n",
    "\n",
    "# defining the model\n",
    "model = sm.OLS(y, X_dummies)\n",
    "\n",
    "# fitting model\n",
    "result = model.fit()\n",
    "\n",
    "# print summary\n",
    "print(result.summary())"
   ]
  },
  {
   "cell_type": "markdown",
   "metadata": {},
   "source": [
    "<b>Important output</b>:\n",
    "1. <b>Adjusted R-square</b> \n",
    "2. <b>Prob (F-statistic)</b> (F-test)\n",
    "3. <b>coef each variables</b> (β<sub>0</sub> ... β<sub>k</sub>) \n",
    "4. <b>prob each variables</b> (T-test from β<sub>0</sub> ... β<sub>k</sub>)"
   ]
  },
  {
   "cell_type": "markdown",
   "metadata": {},
   "source": [
    "### Summary Interpretation:\n",
    "Model: <b>y = 0.5908 + 0.0945X<sub>1</sub> + 0.1760X<sub>2</sub> + ... - 0.0681X<sub>8</sub></b>\n",
    "> - X<sub>1</sub> = Total bill\n",
    "> - X<sub>2</sub> = Size\n",
    ">>  \n",
    "> - X<sub>8</sub> = Dinner time\n",
    "1. <b>Adjusted R-square</b>: the model can define 45.2% variation of tips\n",
    "2. <b>Prob (F-statistic)</b>: 1.20e-28 < 0.05, then one or more variables are significantly affect the tips\n",
    "3. <b>β<sub>0</sub>, β<sub>1</sub></b> ... <b>β<sub>8</sub></b>:\n",
    "> - <b>β<sub>0</sub></b>: y when both x=0, tips when total bill = 0 and size = 0\n",
    "> - <b>β<sub>1</sub></b>: Every 1 dollars total bill increase, then it will increase the tips approximately 0.0927 dollars\n",
    ">>\n",
    "> - <b>β<sub>8</sub></b>: The tips on Dinner 0.0681 dollars times larger than Lunch\n",
    "4. <b>T-test</b>:\n",
    "> - β<sub>0</sub> p-value: 0.022... < 0.05, then it confirm the model needs intercept\n",
    "> - β<sub>1</sub> p-value: 0.000... < 0.05, then the correlation between total bill and tips are significant and the correlations are positive\n",
    ">>\n",
    "> - β<sub>8</sub> p-value: 0.878... > 0.05, then it confirm the correlation between size and tips are not significant and the correlations are negative\n",
    "\n",
    "------------------"
   ]
  },
  {
   "cell_type": "markdown",
   "metadata": {},
   "source": [
    "## Diagnostics"
   ]
  },
  {
   "cell_type": "markdown",
   "metadata": {},
   "source": [
    "### 1. Normality Assumption"
   ]
  },
  {
   "cell_type": "code",
   "execution_count": 14,
   "metadata": {},
   "outputs": [
    {
     "data": {
      "text/plain": [
       "<seaborn.axisgrid.FacetGrid at 0x7fe528139c40>"
      ]
     },
     "execution_count": 14,
     "metadata": {},
     "output_type": "execute_result"
    },
    {
     "data": {
      "image/png": "[encoded data removed]",
      "text/plain": [
       "<Figure size 360x360 with 1 Axes>"
      ]
     },
     "metadata": {
      "needs_background": "light"
     },
     "output_type": "display_data"
    }
   ],
   "source": [
    "sns.displot(result.resid)"
   ]
  },
  {
   "cell_type": "markdown",
   "metadata": {},
   "source": [
    "> The graph shows that we can assume the residual are <b>normally distributed</b>\n",
    "\n",
    "-------------"
   ]
  },
  {
   "cell_type": "markdown",
   "metadata": {},
   "source": [
    "### 2. Gauss-Markov Assumption"
   ]
  },
  {
   "cell_type": "code",
   "execution_count": 15,
   "metadata": {},
   "outputs": [
    {
     "data": {
      "text/plain": [
       "Text(0, 0.5, 'residual')"
      ]
     },
     "execution_count": 15,
     "metadata": {},
     "output_type": "execute_result"
    },
    {
     "data": {
      "image/png": "[encoded data removed]",
      "text/plain": [
       "<Figure size 720x720 with 1 Axes>"
      ]
     },
     "metadata": {
      "needs_background": "light"
     },
     "output_type": "display_data"
    }
   ],
   "source": [
    "plt.figure(figsize=(10,10))\n",
    "sns.scatterplot(x=result.fittedvalues, y=result.resid)\n",
    "sns.lineplot(x=result.fittedvalues, y=0)\n",
    "plt.xlabel('y predict')\n",
    "plt.ylabel('residual')"
   ]
  },
  {
   "cell_type": "markdown",
   "metadata": {},
   "source": [
    "<b>Interpretation</b>:\n",
    "1. Residual values swarm near the axis 0, we can assume the means error equal to 0\n",
    "2. We did not see any pattern from the plot, so we can assume that the errors are not correlated\n",
    "3. The graph indicated that the residual variance are gradually increased when y predict increased. So, we cannot assume that the variance are constant\n",
    "\n",
    "We can conclude that the <b>Gauss-Markov Assumption</b> are <b>not accepted</b> only in point 3 because of <b>non-constant variance</b>\n",
    "\n",
    "--------------------"
   ]
  },
  {
   "cell_type": "markdown",
   "metadata": {},
   "source": [
    "### 3. Multicollinearity"
   ]
  },
  {
   "cell_type": "code",
   "execution_count": 16,
   "metadata": {},
   "outputs": [],
   "source": [
    "def calc_vif(X):\n",
    "    \n",
    "    vif = pd.DataFrame()\n",
    "    vif['variable'] = X.columns\n",
    "    vif['vif'] = [variance_inflation_factor(X.values, i) for i in range(X.shape[1])]\n",
    "    \n",
    "    return vif"
   ]
  },
  {
   "cell_type": "code",
   "execution_count": 19,
   "metadata": {},
   "outputs": [
    {
     "data": {
      "text/html": [
       "<div>\n",
       "<style scoped>\n",
       "    .dataframe tbody tr th:only-of-type {\n",
       "        vertical-align: middle;\n",
       "    }\n",
       "\n",
       "    .dataframe tbody tr th {\n",
       "        vertical-align: top;\n",
       "    }\n",
       "\n",
       "    .dataframe thead th {\n",
       "        text-align: right;\n",
       "    }\n",
       "</style>\n",
       "<table border=\"1\" class=\"dataframe\">\n",
       "  <thead>\n",
       "    <tr style=\"text-align: right;\">\n",
       "      <th></th>\n",
       "      <th>variable</th>\n",
       "      <th>vif</th>\n",
       "    </tr>\n",
       "  </thead>\n",
       "  <tbody>\n",
       "    <tr>\n",
       "      <th>0</th>\n",
       "      <td>total_bill</td>\n",
       "      <td>9.443197</td>\n",
       "    </tr>\n",
       "    <tr>\n",
       "      <th>1</th>\n",
       "      <td>size</td>\n",
       "      <td>12.048233</td>\n",
       "    </tr>\n",
       "    <tr>\n",
       "      <th>2</th>\n",
       "      <td>sex_Female</td>\n",
       "      <td>1.479481</td>\n",
       "    </tr>\n",
       "    <tr>\n",
       "      <th>3</th>\n",
       "      <td>smoker_No</td>\n",
       "      <td>2.635550</td>\n",
       "    </tr>\n",
       "    <tr>\n",
       "      <th>4</th>\n",
       "      <td>day_Fri</td>\n",
       "      <td>2.559699</td>\n",
       "    </tr>\n",
       "    <tr>\n",
       "      <th>5</th>\n",
       "      <td>day_Sat</td>\n",
       "      <td>17.730443</td>\n",
       "    </tr>\n",
       "    <tr>\n",
       "      <th>6</th>\n",
       "      <td>day_Sun</td>\n",
       "      <td>15.810322</td>\n",
       "    </tr>\n",
       "    <tr>\n",
       "      <th>7</th>\n",
       "      <td>time_Dinner</td>\n",
       "      <td>33.150259</td>\n",
       "    </tr>\n",
       "  </tbody>\n",
       "</table>\n",
       "</div>"
      ],
      "text/plain": [
       "      variable        vif\n",
       "0   total_bill   9.443197\n",
       "1         size  12.048233\n",
       "2   sex_Female   1.479481\n",
       "3    smoker_No   2.635550\n",
       "4      day_Fri   2.559699\n",
       "5      day_Sat  17.730443\n",
       "6      day_Sun  15.810322\n",
       "7  time_Dinner  33.150259"
      ]
     },
     "execution_count": 19,
     "metadata": {},
     "output_type": "execute_result"
    }
   ],
   "source": [
    "calc_vif(X_dummies)"
   ]
  },
  {
   "cell_type": "markdown",
   "metadata": {},
   "source": [
    "<b>Interpretation</b>:\n",
    "\n",
    "- The results that indicated very high multicollinearity are size, day_sat, day_sun, and time_dinner because <b>vif are higher than 10</b>\n",
    "- The results that indicated high multicollinearity are Total Bill because <b>vif are higher than 4</b>\n",
    "- The results that indicated low multicollinearity are sex_female, smoker_no, and day_fri, because <b>vif are lower than 4</b>\n",
    " \n",
    "\n",
    "-------------"
   ]
  },
  {
   "cell_type": "markdown",
   "metadata": {},
   "source": [
    "### Diagnostic Summary:\n",
    "1. <b>Normality accepted</b> means:\n",
    "> <b>F-test</b> and <b>T-test</b> result on multi linear regression are <b>valid</b>\n",
    "2. <b>Gauss-Markov Assumption</b>:\n",
    "> - <i><b>Error term means accepted</b></i> means:\n",
    ">> <b>No bias</b> in prediction result and regression parameter estimate (β)\n",
    "> - <i><b>Uncorellated error accepted</b></i> means:\n",
    ">> <b>R-square</b> is not overestimate and <b>p-value</b> is not underestimate, resulting both value are <b>unbiased</b>\n",
    "> - <i><b>Constant variance unaccepted</b></i> means:\n",
    ">> - <b>Unstable</b> prediction result and regression parameter estimate (β)\n",
    ">> - <b>Solution</b>: Change regression model\n",
    "3. <b>Multicollinearity</b> condition unaccepted means:\n",
    "> - <b>Unstable</b> coefficient, resulting bias on the prediction result\n",
    "> - <b>All</b> of the <b>dependent variable</b> should have <b>constant value</b> when <b>one variable</b> are calculated\n",
    "> - <b>Solution</b>: Feature Selection(select one important variable) or PCA"
   ]
  },
  {
   "cell_type": "code",
   "execution_count": null,
   "metadata": {},
   "outputs": [],
   "source": []
  }
 ],
 "metadata": {
  "kernelspec": {
   "display_name": "Python 3",
   "language": "python",
   "name": "python3"
  },
  "language_info": {
   "codemirror_mode": {
    "name": "ipython",
    "version": 3
   },
   "file_extension": ".py",
   "mimetype": "text/x-python",
   "name": "python",
   "nbconvert_exporter": "python",
   "pygments_lexer": "ipython3",
   "version": "3.8.5"
  }
 },
 "nbformat": 4,
 "nbformat_minor": 4
}
