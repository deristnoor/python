{
 "cells": [
  {
   "cell_type": "markdown",
   "source": [
    "# Module 03\n",
    "\n",
    "## Session 07 Imbalance Classification"
   ],
   "metadata": {}
  },
  {
   "cell_type": "markdown",
   "source": [
    "Analyze data bankloan.csv\n",
    "* build a logistic regression model:\n",
    "    - target: default\n",
    "    - features: employ, debtinc, creddebt, othdebt\n",
    "* random state 2020, ratio 80:20\n",
    "* model evaluation using f1 score and stratified 5-fold CV\n",
    "* Logistic regression with SMOTE optimize the k neighbor optimize c, solver\n",
    "* combine the result (before and after)"
   ],
   "metadata": {}
  },
  {
   "cell_type": "markdown",
   "source": [
    "# Library"
   ],
   "metadata": {}
  },
  {
   "cell_type": "code",
   "execution_count": 3,
   "source": [
    "import pandas as pd\n",
    "import numpy as np\n",
    "\n",
    "import seaborn as sns\n",
    "import matplotlib.pyplot as plt\n",
    "\n",
    "from sklearn.model_selection import train_test_split, cross_val_score, StratifiedKFold, GridSearchCV\n",
    "from imblearn.over_sampling import SMOTE\n",
    "from imblearn.pipeline import Pipeline\n",
    "\n",
    "from sklearn.linear_model import LogisticRegression\n",
    "\n",
    "from sklearn.metrics import plot_roc_curve\n",
    "from sklearn.metrics import classification_report\n",
    "\n",
    "import warnings\n",
    "warnings.filterwarnings('ignore')"
   ],
   "outputs": [],
   "metadata": {}
  },
  {
   "cell_type": "markdown",
   "source": [
    "# Data"
   ],
   "metadata": {}
  },
  {
   "cell_type": "code",
   "execution_count": 4,
   "source": [
    "bankloan = pd.read_csv('./datasets/bankloan.csv')\n",
    "bankloan.head()"
   ],
   "outputs": [
    {
     "output_type": "execute_result",
     "data": {
      "text/plain": [
       "   age  ed  employ  address  income  debtinc   creddebt   othdebt  default\n",
       "0   41   3      17       12     176      9.3  11.359392  5.008608        1\n",
       "1   27   1      10        6      31     17.3   1.362202  4.000798        0\n",
       "2   40   1      15       14      55      5.5   0.856075  2.168925        0\n",
       "3   41   1      15       14     120      2.9   2.658720  0.821280        0\n",
       "4   24   2       2        0      28     17.3   1.787436  3.056564        1"
      ],
      "text/html": [
       "<div>\n",
       "<style scoped>\n",
       "    .dataframe tbody tr th:only-of-type {\n",
       "        vertical-align: middle;\n",
       "    }\n",
       "\n",
       "    .dataframe tbody tr th {\n",
       "        vertical-align: top;\n",
       "    }\n",
       "\n",
       "    .dataframe thead th {\n",
       "        text-align: right;\n",
       "    }\n",
       "</style>\n",
       "<table border=\"1\" class=\"dataframe\">\n",
       "  <thead>\n",
       "    <tr style=\"text-align: right;\">\n",
       "      <th></th>\n",
       "      <th>age</th>\n",
       "      <th>ed</th>\n",
       "      <th>employ</th>\n",
       "      <th>address</th>\n",
       "      <th>income</th>\n",
       "      <th>debtinc</th>\n",
       "      <th>creddebt</th>\n",
       "      <th>othdebt</th>\n",
       "      <th>default</th>\n",
       "    </tr>\n",
       "  </thead>\n",
       "  <tbody>\n",
       "    <tr>\n",
       "      <th>0</th>\n",
       "      <td>41</td>\n",
       "      <td>3</td>\n",
       "      <td>17</td>\n",
       "      <td>12</td>\n",
       "      <td>176</td>\n",
       "      <td>9.3</td>\n",
       "      <td>11.359392</td>\n",
       "      <td>5.008608</td>\n",
       "      <td>1</td>\n",
       "    </tr>\n",
       "    <tr>\n",
       "      <th>1</th>\n",
       "      <td>27</td>\n",
       "      <td>1</td>\n",
       "      <td>10</td>\n",
       "      <td>6</td>\n",
       "      <td>31</td>\n",
       "      <td>17.3</td>\n",
       "      <td>1.362202</td>\n",
       "      <td>4.000798</td>\n",
       "      <td>0</td>\n",
       "    </tr>\n",
       "    <tr>\n",
       "      <th>2</th>\n",
       "      <td>40</td>\n",
       "      <td>1</td>\n",
       "      <td>15</td>\n",
       "      <td>14</td>\n",
       "      <td>55</td>\n",
       "      <td>5.5</td>\n",
       "      <td>0.856075</td>\n",
       "      <td>2.168925</td>\n",
       "      <td>0</td>\n",
       "    </tr>\n",
       "    <tr>\n",
       "      <th>3</th>\n",
       "      <td>41</td>\n",
       "      <td>1</td>\n",
       "      <td>15</td>\n",
       "      <td>14</td>\n",
       "      <td>120</td>\n",
       "      <td>2.9</td>\n",
       "      <td>2.658720</td>\n",
       "      <td>0.821280</td>\n",
       "      <td>0</td>\n",
       "    </tr>\n",
       "    <tr>\n",
       "      <th>4</th>\n",
       "      <td>24</td>\n",
       "      <td>2</td>\n",
       "      <td>2</td>\n",
       "      <td>0</td>\n",
       "      <td>28</td>\n",
       "      <td>17.3</td>\n",
       "      <td>1.787436</td>\n",
       "      <td>3.056564</td>\n",
       "      <td>1</td>\n",
       "    </tr>\n",
       "  </tbody>\n",
       "</table>\n",
       "</div>"
      ]
     },
     "metadata": {},
     "execution_count": 4
    }
   ],
   "metadata": {}
  },
  {
   "cell_type": "markdown",
   "source": [
    "# Data Splitting"
   ],
   "metadata": {}
  },
  {
   "cell_type": "code",
   "execution_count": 5,
   "source": [
    "X = bankloan[['employ', 'debtinc', 'creddebt', 'othdebt']]\n",
    "y = bankloan['default']"
   ],
   "outputs": [],
   "metadata": {}
  },
  {
   "cell_type": "code",
   "execution_count": 6,
   "source": [
    "X_trainval, X_test, y_trainval, y_test = train_test_split(\n",
    "    X,\n",
    "    y,\n",
    "    stratify=y,\n",
    "    test_size=0.2,\n",
    "    random_state=2020\n",
    ")"
   ],
   "outputs": [],
   "metadata": {}
  },
  {
   "cell_type": "markdown",
   "source": [
    "# Model"
   ],
   "metadata": {}
  },
  {
   "cell_type": "code",
   "execution_count": 10,
   "source": [
    "smote = SMOTE()\n",
    "model = LogisticRegression()\n",
    "pipe_model = Pipeline(\n",
    "    [\n",
    "        ('balance', smote),\n",
    "        ('clf', model)\n",
    "    ]\n",
    ")\n",
    "\n",
    "skf = StratifiedKFold(n_splits=5)\n",
    "\n",
    "params = {\n",
    "    'balance__k_neighbors':[2,5,10,15,20],\n",
    "    'clf__C':[100,10,1,0.1,0.01, 0.01],\n",
    "    'clf__solver':['lbfgs', 'liblinear', 'newton-cg']\n",
    "}\n",
    "\n",
    "grid_search = GridSearchCV(\n",
    "    pipe_model,\n",
    "    param_grid=params,\n",
    "    cv=skf,\n",
    "    scoring='f1',\n",
    "    n_jobs=-1\n",
    ")"
   ],
   "outputs": [],
   "metadata": {}
  },
  {
   "cell_type": "code",
   "execution_count": 11,
   "source": [
    "grid_search.fit(X_trainval, y_trainval)"
   ],
   "outputs": [
    {
     "output_type": "execute_result",
     "data": {
      "text/plain": [
       "GridSearchCV(cv=StratifiedKFold(n_splits=5, random_state=None, shuffle=False),\n",
       "             estimator=Pipeline(steps=[('balance', SMOTE()),\n",
       "                                       ('clf', LogisticRegression())]),\n",
       "             n_jobs=-1,\n",
       "             param_grid={'balance__k_neighbors': [2, 5, 10, 15, 20],\n",
       "                         'clf__C': [100, 10, 1, 0.1, 0.01, 0.01],\n",
       "                         'clf__solver': ['lbfgs', 'liblinear', 'newton-cg']},\n",
       "             scoring='f1')"
      ]
     },
     "metadata": {},
     "execution_count": 11
    }
   ],
   "metadata": {}
  },
  {
   "cell_type": "code",
   "execution_count": 13,
   "source": [
    "print('best score: ', grid_search.best_score_ )\n",
    "print('best params: ', grid_search.best_params_)"
   ],
   "outputs": [
    {
     "output_type": "stream",
     "name": "stdout",
     "text": [
      "best score:  0.6189702603021059\n",
      "best params:  {'balance__k_neighbors': 20, 'clf__C': 100, 'clf__solver': 'newton-cg'}\n"
     ]
    }
   ],
   "metadata": {}
  },
  {
   "cell_type": "code",
   "execution_count": 15,
   "source": [
    "tuning_result = pd.DataFrame(grid_search.cv_results_)\n",
    "tuning_result.head()"
   ],
   "outputs": [
    {
     "output_type": "execute_result",
     "data": {
      "text/plain": [
       "   mean_fit_time  std_fit_time  mean_score_time  std_score_time  \\\n",
       "0       0.011887      0.001659         0.001830        0.000567   \n",
       "1       0.006750      0.001746         0.001473        0.000312   \n",
       "2       0.011208      0.002753         0.001444        0.000412   \n",
       "3       0.010565      0.003611         0.001578        0.000435   \n",
       "4       0.007373      0.002980         0.001447        0.000532   \n",
       "\n",
       "  param_balance__k_neighbors param_clf__C param_clf__solver  \\\n",
       "0                          2          100             lbfgs   \n",
       "1                          2          100         liblinear   \n",
       "2                          2          100         newton-cg   \n",
       "3                          2           10             lbfgs   \n",
       "4                          2           10         liblinear   \n",
       "\n",
       "                                              params  split0_test_score  \\\n",
       "0  {'balance__k_neighbors': 2, 'clf__C': 100, 'cl...           0.647887   \n",
       "1  {'balance__k_neighbors': 2, 'clf__C': 100, 'cl...           0.648649   \n",
       "2  {'balance__k_neighbors': 2, 'clf__C': 100, 'cl...           0.638889   \n",
       "3  {'balance__k_neighbors': 2, 'clf__C': 10, 'clf...           0.630137   \n",
       "4  {'balance__k_neighbors': 2, 'clf__C': 10, 'clf...           0.637681   \n",
       "\n",
       "   split1_test_score  split2_test_score  split3_test_score  split4_test_score  \\\n",
       "0           0.567164           0.625000           0.612903           0.605263   \n",
       "1           0.588235           0.625000           0.603175           0.621622   \n",
       "2           0.579710           0.607595           0.580645           0.605263   \n",
       "3           0.575758           0.609756           0.625000           0.605263   \n",
       "4           0.553846           0.609756           0.580645           0.613333   \n",
       "\n",
       "   mean_test_score  std_test_score  rank_test_score  \n",
       "0         0.611644        0.026506               16  \n",
       "1         0.617336        0.020518                3  \n",
       "2         0.602420        0.021701               63  \n",
       "3         0.609183        0.019090               24  \n",
       "4         0.599052        0.028959               72  "
      ],
      "text/html": [
       "<div>\n",
       "<style scoped>\n",
       "    .dataframe tbody tr th:only-of-type {\n",
       "        vertical-align: middle;\n",
       "    }\n",
       "\n",
       "    .dataframe tbody tr th {\n",
       "        vertical-align: top;\n",
       "    }\n",
       "\n",
       "    .dataframe thead th {\n",
       "        text-align: right;\n",
       "    }\n",
       "</style>\n",
       "<table border=\"1\" class=\"dataframe\">\n",
       "  <thead>\n",
       "    <tr style=\"text-align: right;\">\n",
       "      <th></th>\n",
       "      <th>mean_fit_time</th>\n",
       "      <th>std_fit_time</th>\n",
       "      <th>mean_score_time</th>\n",
       "      <th>std_score_time</th>\n",
       "      <th>param_balance__k_neighbors</th>\n",
       "      <th>param_clf__C</th>\n",
       "      <th>param_clf__solver</th>\n",
       "      <th>params</th>\n",
       "      <th>split0_test_score</th>\n",
       "      <th>split1_test_score</th>\n",
       "      <th>split2_test_score</th>\n",
       "      <th>split3_test_score</th>\n",
       "      <th>split4_test_score</th>\n",
       "      <th>mean_test_score</th>\n",
       "      <th>std_test_score</th>\n",
       "      <th>rank_test_score</th>\n",
       "    </tr>\n",
       "  </thead>\n",
       "  <tbody>\n",
       "    <tr>\n",
       "      <th>0</th>\n",
       "      <td>0.011887</td>\n",
       "      <td>0.001659</td>\n",
       "      <td>0.001830</td>\n",
       "      <td>0.000567</td>\n",
       "      <td>2</td>\n",
       "      <td>100</td>\n",
       "      <td>lbfgs</td>\n",
       "      <td>{'balance__k_neighbors': 2, 'clf__C': 100, 'cl...</td>\n",
       "      <td>0.647887</td>\n",
       "      <td>0.567164</td>\n",
       "      <td>0.625000</td>\n",
       "      <td>0.612903</td>\n",
       "      <td>0.605263</td>\n",
       "      <td>0.611644</td>\n",
       "      <td>0.026506</td>\n",
       "      <td>16</td>\n",
       "    </tr>\n",
       "    <tr>\n",
       "      <th>1</th>\n",
       "      <td>0.006750</td>\n",
       "      <td>0.001746</td>\n",
       "      <td>0.001473</td>\n",
       "      <td>0.000312</td>\n",
       "      <td>2</td>\n",
       "      <td>100</td>\n",
       "      <td>liblinear</td>\n",
       "      <td>{'balance__k_neighbors': 2, 'clf__C': 100, 'cl...</td>\n",
       "      <td>0.648649</td>\n",
       "      <td>0.588235</td>\n",
       "      <td>0.625000</td>\n",
       "      <td>0.603175</td>\n",
       "      <td>0.621622</td>\n",
       "      <td>0.617336</td>\n",
       "      <td>0.020518</td>\n",
       "      <td>3</td>\n",
       "    </tr>\n",
       "    <tr>\n",
       "      <th>2</th>\n",
       "      <td>0.011208</td>\n",
       "      <td>0.002753</td>\n",
       "      <td>0.001444</td>\n",
       "      <td>0.000412</td>\n",
       "      <td>2</td>\n",
       "      <td>100</td>\n",
       "      <td>newton-cg</td>\n",
       "      <td>{'balance__k_neighbors': 2, 'clf__C': 100, 'cl...</td>\n",
       "      <td>0.638889</td>\n",
       "      <td>0.579710</td>\n",
       "      <td>0.607595</td>\n",
       "      <td>0.580645</td>\n",
       "      <td>0.605263</td>\n",
       "      <td>0.602420</td>\n",
       "      <td>0.021701</td>\n",
       "      <td>63</td>\n",
       "    </tr>\n",
       "    <tr>\n",
       "      <th>3</th>\n",
       "      <td>0.010565</td>\n",
       "      <td>0.003611</td>\n",
       "      <td>0.001578</td>\n",
       "      <td>0.000435</td>\n",
       "      <td>2</td>\n",
       "      <td>10</td>\n",
       "      <td>lbfgs</td>\n",
       "      <td>{'balance__k_neighbors': 2, 'clf__C': 10, 'clf...</td>\n",
       "      <td>0.630137</td>\n",
       "      <td>0.575758</td>\n",
       "      <td>0.609756</td>\n",
       "      <td>0.625000</td>\n",
       "      <td>0.605263</td>\n",
       "      <td>0.609183</td>\n",
       "      <td>0.019090</td>\n",
       "      <td>24</td>\n",
       "    </tr>\n",
       "    <tr>\n",
       "      <th>4</th>\n",
       "      <td>0.007373</td>\n",
       "      <td>0.002980</td>\n",
       "      <td>0.001447</td>\n",
       "      <td>0.000532</td>\n",
       "      <td>2</td>\n",
       "      <td>10</td>\n",
       "      <td>liblinear</td>\n",
       "      <td>{'balance__k_neighbors': 2, 'clf__C': 10, 'clf...</td>\n",
       "      <td>0.637681</td>\n",
       "      <td>0.553846</td>\n",
       "      <td>0.609756</td>\n",
       "      <td>0.580645</td>\n",
       "      <td>0.613333</td>\n",
       "      <td>0.599052</td>\n",
       "      <td>0.028959</td>\n",
       "      <td>72</td>\n",
       "    </tr>\n",
       "  </tbody>\n",
       "</table>\n",
       "</div>"
      ]
     },
     "metadata": {},
     "execution_count": 15
    }
   ],
   "metadata": {}
  },
  {
   "cell_type": "code",
   "execution_count": 16,
   "source": [
    "tuning_result[tuning_result['rank_test_score'] == 1]"
   ],
   "outputs": [
    {
     "output_type": "execute_result",
     "data": {
      "text/plain": [
       "    mean_fit_time  std_fit_time  mean_score_time  std_score_time  \\\n",
       "74       0.007551      0.001408         0.001836        0.001316   \n",
       "\n",
       "   param_balance__k_neighbors param_clf__C param_clf__solver  \\\n",
       "74                         20          100         newton-cg   \n",
       "\n",
       "                                               params  split0_test_score  \\\n",
       "74  {'balance__k_neighbors': 20, 'clf__C': 100, 'c...           0.647887   \n",
       "\n",
       "    split1_test_score  split2_test_score  split3_test_score  \\\n",
       "74            0.59375              0.625           0.622951   \n",
       "\n",
       "    split4_test_score  mean_test_score  std_test_score  rank_test_score  \n",
       "74           0.605263          0.61897        0.018506                1  "
      ],
      "text/html": [
       "<div>\n",
       "<style scoped>\n",
       "    .dataframe tbody tr th:only-of-type {\n",
       "        vertical-align: middle;\n",
       "    }\n",
       "\n",
       "    .dataframe tbody tr th {\n",
       "        vertical-align: top;\n",
       "    }\n",
       "\n",
       "    .dataframe thead th {\n",
       "        text-align: right;\n",
       "    }\n",
       "</style>\n",
       "<table border=\"1\" class=\"dataframe\">\n",
       "  <thead>\n",
       "    <tr style=\"text-align: right;\">\n",
       "      <th></th>\n",
       "      <th>mean_fit_time</th>\n",
       "      <th>std_fit_time</th>\n",
       "      <th>mean_score_time</th>\n",
       "      <th>std_score_time</th>\n",
       "      <th>param_balance__k_neighbors</th>\n",
       "      <th>param_clf__C</th>\n",
       "      <th>param_clf__solver</th>\n",
       "      <th>params</th>\n",
       "      <th>split0_test_score</th>\n",
       "      <th>split1_test_score</th>\n",
       "      <th>split2_test_score</th>\n",
       "      <th>split3_test_score</th>\n",
       "      <th>split4_test_score</th>\n",
       "      <th>mean_test_score</th>\n",
       "      <th>std_test_score</th>\n",
       "      <th>rank_test_score</th>\n",
       "    </tr>\n",
       "  </thead>\n",
       "  <tbody>\n",
       "    <tr>\n",
       "      <th>74</th>\n",
       "      <td>0.007551</td>\n",
       "      <td>0.001408</td>\n",
       "      <td>0.001836</td>\n",
       "      <td>0.001316</td>\n",
       "      <td>20</td>\n",
       "      <td>100</td>\n",
       "      <td>newton-cg</td>\n",
       "      <td>{'balance__k_neighbors': 20, 'clf__C': 100, 'c...</td>\n",
       "      <td>0.647887</td>\n",
       "      <td>0.59375</td>\n",
       "      <td>0.625</td>\n",
       "      <td>0.622951</td>\n",
       "      <td>0.605263</td>\n",
       "      <td>0.61897</td>\n",
       "      <td>0.018506</td>\n",
       "      <td>1</td>\n",
       "    </tr>\n",
       "  </tbody>\n",
       "</table>\n",
       "</div>"
      ]
     },
     "metadata": {},
     "execution_count": 16
    }
   ],
   "metadata": {}
  },
  {
   "cell_type": "code",
   "execution_count": 20,
   "source": [
    "tuning_result[(tuning_result['param_balance__k_neighbors']==10)&(tuning_result['param_clf__C']==1)&(tuning_result['param_clf__solver']=='lbfgs')]"
   ],
   "outputs": [
    {
     "output_type": "execute_result",
     "data": {
      "text/plain": [
       "    mean_fit_time  std_fit_time  mean_score_time  std_score_time  \\\n",
       "42       0.008003      0.003683         0.001306        0.000356   \n",
       "\n",
       "   param_balance__k_neighbors param_clf__C param_clf__solver  \\\n",
       "42                         10            1             lbfgs   \n",
       "\n",
       "                                               params  split0_test_score  \\\n",
       "42  {'balance__k_neighbors': 10, 'clf__C': 1, 'clf...           0.631579   \n",
       "\n",
       "    split1_test_score  split2_test_score  split3_test_score  \\\n",
       "42           0.606061                0.6           0.580645   \n",
       "\n",
       "    split4_test_score  mean_test_score  std_test_score  rank_test_score  \n",
       "42           0.605263          0.60471        0.016281               51  "
      ],
      "text/html": [
       "<div>\n",
       "<style scoped>\n",
       "    .dataframe tbody tr th:only-of-type {\n",
       "        vertical-align: middle;\n",
       "    }\n",
       "\n",
       "    .dataframe tbody tr th {\n",
       "        vertical-align: top;\n",
       "    }\n",
       "\n",
       "    .dataframe thead th {\n",
       "        text-align: right;\n",
       "    }\n",
       "</style>\n",
       "<table border=\"1\" class=\"dataframe\">\n",
       "  <thead>\n",
       "    <tr style=\"text-align: right;\">\n",
       "      <th></th>\n",
       "      <th>mean_fit_time</th>\n",
       "      <th>std_fit_time</th>\n",
       "      <th>mean_score_time</th>\n",
       "      <th>std_score_time</th>\n",
       "      <th>param_balance__k_neighbors</th>\n",
       "      <th>param_clf__C</th>\n",
       "      <th>param_clf__solver</th>\n",
       "      <th>params</th>\n",
       "      <th>split0_test_score</th>\n",
       "      <th>split1_test_score</th>\n",
       "      <th>split2_test_score</th>\n",
       "      <th>split3_test_score</th>\n",
       "      <th>split4_test_score</th>\n",
       "      <th>mean_test_score</th>\n",
       "      <th>std_test_score</th>\n",
       "      <th>rank_test_score</th>\n",
       "    </tr>\n",
       "  </thead>\n",
       "  <tbody>\n",
       "    <tr>\n",
       "      <th>42</th>\n",
       "      <td>0.008003</td>\n",
       "      <td>0.003683</td>\n",
       "      <td>0.001306</td>\n",
       "      <td>0.000356</td>\n",
       "      <td>10</td>\n",
       "      <td>1</td>\n",
       "      <td>lbfgs</td>\n",
       "      <td>{'balance__k_neighbors': 10, 'clf__C': 1, 'clf...</td>\n",
       "      <td>0.631579</td>\n",
       "      <td>0.606061</td>\n",
       "      <td>0.6</td>\n",
       "      <td>0.580645</td>\n",
       "      <td>0.605263</td>\n",
       "      <td>0.60471</td>\n",
       "      <td>0.016281</td>\n",
       "      <td>51</td>\n",
       "    </tr>\n",
       "  </tbody>\n",
       "</table>\n",
       "</div>"
      ]
     },
     "metadata": {},
     "execution_count": 20
    }
   ],
   "metadata": {}
  },
  {
   "cell_type": "markdown",
   "source": [
    "# compare"
   ],
   "metadata": {}
  },
  {
   "cell_type": "code",
   "execution_count": 21,
   "source": [
    "smote = SMOTE()\n",
    "model = LogisticRegression()\n",
    "pipe_model = Pipeline(\n",
    "    [\n",
    "        ('balance', smote),\n",
    "        ('clf', model)\n",
    "    ]\n",
    ")"
   ],
   "outputs": [],
   "metadata": {}
  },
  {
   "cell_type": "code",
   "execution_count": 22,
   "source": [
    "pipe_model.fit(X_trainval, y_trainval)\n",
    "y_pred = pipe_model.predict(X_test)\n",
    "print(classification_report(y_test, y_pred))"
   ],
   "outputs": [
    {
     "output_type": "stream",
     "name": "stdout",
     "text": [
      "              precision    recall  f1-score   support\n",
      "\n",
      "           0       0.94      0.72      0.81       103\n",
      "           1       0.52      0.86      0.65        37\n",
      "\n",
      "    accuracy                           0.76       140\n",
      "   macro avg       0.73      0.79      0.73       140\n",
      "weighted avg       0.83      0.76      0.77       140\n",
      "\n"
     ]
    }
   ],
   "metadata": {}
  },
  {
   "cell_type": "code",
   "execution_count": 23,
   "source": [
    "pipe_model_2 = grid_search.best_estimator_ "
   ],
   "outputs": [],
   "metadata": {}
  },
  {
   "cell_type": "code",
   "execution_count": 24,
   "source": [
    "pipe_model_2.fit(X_trainval, y_trainval)\n",
    "y_pred_2 = pipe_model.predict(X_test)\n",
    "print(classification_report(y_test, y_pred_2))"
   ],
   "outputs": [
    {
     "output_type": "stream",
     "name": "stdout",
     "text": [
      "              precision    recall  f1-score   support\n",
      "\n",
      "           0       0.94      0.72      0.81       103\n",
      "           1       0.52      0.86      0.65        37\n",
      "\n",
      "    accuracy                           0.76       140\n",
      "   macro avg       0.73      0.79      0.73       140\n",
      "weighted avg       0.83      0.76      0.77       140\n",
      "\n"
     ]
    }
   ],
   "metadata": {}
  },
  {
   "cell_type": "code",
   "execution_count": null,
   "source": [],
   "outputs": [],
   "metadata": {}
  }
 ],
 "metadata": {
  "interpreter": {
   "hash": "d67bad7ed20ede399f2d12cb2c71d03b1fe8487b42e1aa838ec8118f3a1ba848"
  },
  "kernelspec": {
   "name": "python3",
   "display_name": "Python 3.8.10 64-bit ('base': conda)"
  },
  "language_info": {
   "codemirror_mode": {
    "name": "ipython",
    "version": 3
   },
   "file_extension": ".py",
   "mimetype": "text/x-python",
   "name": "python",
   "nbconvert_exporter": "python",
   "pygments_lexer": "ipython3",
   "version": "3.8.10"
  }
 },
 "nbformat": 4,
 "nbformat_minor": 2
}