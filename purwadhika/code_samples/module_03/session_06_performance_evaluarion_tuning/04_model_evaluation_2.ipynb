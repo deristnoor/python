{
 "cells": [
  {
   "cell_type": "markdown",
   "source": [
    "# Module 03\n",
    "\n",
    "## Session 06 Model Performance, Evaluation Method and Hyperparameter Tuning"
   ],
   "metadata": {}
  },
  {
   "cell_type": "markdown",
   "source": [
    "# Model Evaluation 2"
   ],
   "metadata": {}
  },
  {
   "cell_type": "markdown",
   "source": [
    "Analyze tips data from seaborn:\n",
    "* total bill, sex, smoker, day and time as feature\n",
    "* tips as Target\n",
    "\n",
    "Preprocess\n",
    "* one hot encoding: smoker, day, time, sex\n",
    "* no treatment: numerical\n",
    "\n",
    "Random state 2020, splitting 80:20\n",
    "\n",
    "model\n",
    "* model linear regression and tree (criterion mse, max_depth=5) compute R2 using 5-fold CV\n",
    "* model decision tree(criterion mse, max_depth 5) compute mse in test set\n",
    "* hyperparameter tuning (randomized search) for decision tree (optimize criterion, min sample leaf, max depth) optimized by mse and using cv-5 fold\n",
    "* compare the result before and after tuning in test set"
   ],
   "metadata": {}
  },
  {
   "cell_type": "markdown",
   "source": [
    "# Library"
   ],
   "metadata": {}
  },
  {
   "cell_type": "code",
   "execution_count": 48,
   "source": [
    "import pandas as pd\n",
    "import numpy as np\n",
    "\n",
    "from sklearn.tree import DecisionTreeRegressor\n",
    "from sklearn.linear_model import LinearRegression\n",
    "\n",
    "from sklearn.model_selection import train_test_split\n",
    "from sklearn.metrics import mean_squared_error, r2_score\n",
    "\n",
    "import matplotlib.pyplot as plt\n",
    "import seaborn as sns\n",
    "\n",
    "from sklearn.model_selection import cross_val_score, RandomizedSearchCV"
   ],
   "outputs": [],
   "metadata": {}
  },
  {
   "cell_type": "markdown",
   "source": [
    "# Data"
   ],
   "metadata": {}
  },
  {
   "cell_type": "code",
   "execution_count": 2,
   "source": [
    "tips = sns.load_dataset('tips')"
   ],
   "outputs": [],
   "metadata": {}
  },
  {
   "cell_type": "code",
   "execution_count": 3,
   "source": [
    "tips"
   ],
   "outputs": [
    {
     "output_type": "execute_result",
     "data": {
      "text/plain": [
       "     total_bill   tip     sex smoker   day    time  size\n",
       "0         16.99  1.01  Female     No   Sun  Dinner     2\n",
       "1         10.34  1.66    Male     No   Sun  Dinner     3\n",
       "2         21.01  3.50    Male     No   Sun  Dinner     3\n",
       "3         23.68  3.31    Male     No   Sun  Dinner     2\n",
       "4         24.59  3.61  Female     No   Sun  Dinner     4\n",
       "..          ...   ...     ...    ...   ...     ...   ...\n",
       "239       29.03  5.92    Male     No   Sat  Dinner     3\n",
       "240       27.18  2.00  Female    Yes   Sat  Dinner     2\n",
       "241       22.67  2.00    Male    Yes   Sat  Dinner     2\n",
       "242       17.82  1.75    Male     No   Sat  Dinner     2\n",
       "243       18.78  3.00  Female     No  Thur  Dinner     2\n",
       "\n",
       "[244 rows x 7 columns]"
      ],
      "text/html": [
       "<div>\n",
       "<style scoped>\n",
       "    .dataframe tbody tr th:only-of-type {\n",
       "        vertical-align: middle;\n",
       "    }\n",
       "\n",
       "    .dataframe tbody tr th {\n",
       "        vertical-align: top;\n",
       "    }\n",
       "\n",
       "    .dataframe thead th {\n",
       "        text-align: right;\n",
       "    }\n",
       "</style>\n",
       "<table border=\"1\" class=\"dataframe\">\n",
       "  <thead>\n",
       "    <tr style=\"text-align: right;\">\n",
       "      <th></th>\n",
       "      <th>total_bill</th>\n",
       "      <th>tip</th>\n",
       "      <th>sex</th>\n",
       "      <th>smoker</th>\n",
       "      <th>day</th>\n",
       "      <th>time</th>\n",
       "      <th>size</th>\n",
       "    </tr>\n",
       "  </thead>\n",
       "  <tbody>\n",
       "    <tr>\n",
       "      <th>0</th>\n",
       "      <td>16.99</td>\n",
       "      <td>1.01</td>\n",
       "      <td>Female</td>\n",
       "      <td>No</td>\n",
       "      <td>Sun</td>\n",
       "      <td>Dinner</td>\n",
       "      <td>2</td>\n",
       "    </tr>\n",
       "    <tr>\n",
       "      <th>1</th>\n",
       "      <td>10.34</td>\n",
       "      <td>1.66</td>\n",
       "      <td>Male</td>\n",
       "      <td>No</td>\n",
       "      <td>Sun</td>\n",
       "      <td>Dinner</td>\n",
       "      <td>3</td>\n",
       "    </tr>\n",
       "    <tr>\n",
       "      <th>2</th>\n",
       "      <td>21.01</td>\n",
       "      <td>3.50</td>\n",
       "      <td>Male</td>\n",
       "      <td>No</td>\n",
       "      <td>Sun</td>\n",
       "      <td>Dinner</td>\n",
       "      <td>3</td>\n",
       "    </tr>\n",
       "    <tr>\n",
       "      <th>3</th>\n",
       "      <td>23.68</td>\n",
       "      <td>3.31</td>\n",
       "      <td>Male</td>\n",
       "      <td>No</td>\n",
       "      <td>Sun</td>\n",
       "      <td>Dinner</td>\n",
       "      <td>2</td>\n",
       "    </tr>\n",
       "    <tr>\n",
       "      <th>4</th>\n",
       "      <td>24.59</td>\n",
       "      <td>3.61</td>\n",
       "      <td>Female</td>\n",
       "      <td>No</td>\n",
       "      <td>Sun</td>\n",
       "      <td>Dinner</td>\n",
       "      <td>4</td>\n",
       "    </tr>\n",
       "    <tr>\n",
       "      <th>...</th>\n",
       "      <td>...</td>\n",
       "      <td>...</td>\n",
       "      <td>...</td>\n",
       "      <td>...</td>\n",
       "      <td>...</td>\n",
       "      <td>...</td>\n",
       "      <td>...</td>\n",
       "    </tr>\n",
       "    <tr>\n",
       "      <th>239</th>\n",
       "      <td>29.03</td>\n",
       "      <td>5.92</td>\n",
       "      <td>Male</td>\n",
       "      <td>No</td>\n",
       "      <td>Sat</td>\n",
       "      <td>Dinner</td>\n",
       "      <td>3</td>\n",
       "    </tr>\n",
       "    <tr>\n",
       "      <th>240</th>\n",
       "      <td>27.18</td>\n",
       "      <td>2.00</td>\n",
       "      <td>Female</td>\n",
       "      <td>Yes</td>\n",
       "      <td>Sat</td>\n",
       "      <td>Dinner</td>\n",
       "      <td>2</td>\n",
       "    </tr>\n",
       "    <tr>\n",
       "      <th>241</th>\n",
       "      <td>22.67</td>\n",
       "      <td>2.00</td>\n",
       "      <td>Male</td>\n",
       "      <td>Yes</td>\n",
       "      <td>Sat</td>\n",
       "      <td>Dinner</td>\n",
       "      <td>2</td>\n",
       "    </tr>\n",
       "    <tr>\n",
       "      <th>242</th>\n",
       "      <td>17.82</td>\n",
       "      <td>1.75</td>\n",
       "      <td>Male</td>\n",
       "      <td>No</td>\n",
       "      <td>Sat</td>\n",
       "      <td>Dinner</td>\n",
       "      <td>2</td>\n",
       "    </tr>\n",
       "    <tr>\n",
       "      <th>243</th>\n",
       "      <td>18.78</td>\n",
       "      <td>3.00</td>\n",
       "      <td>Female</td>\n",
       "      <td>No</td>\n",
       "      <td>Thur</td>\n",
       "      <td>Dinner</td>\n",
       "      <td>2</td>\n",
       "    </tr>\n",
       "  </tbody>\n",
       "</table>\n",
       "<p>244 rows × 7 columns</p>\n",
       "</div>"
      ]
     },
     "metadata": {},
     "execution_count": 3
    }
   ],
   "metadata": {}
  },
  {
   "cell_type": "markdown",
   "source": [
    "# Data Splitting"
   ],
   "metadata": {}
  },
  {
   "cell_type": "code",
   "execution_count": 5,
   "source": [
    "X = tips[['total_bill','sex', 'smoker', 'day', 'time']]\n",
    "X = pd.get_dummies(X, drop_first=True)\n",
    "y = tips['tip']"
   ],
   "outputs": [],
   "metadata": {}
  },
  {
   "cell_type": "code",
   "execution_count": 6,
   "source": [
    "X"
   ],
   "outputs": [
    {
     "output_type": "execute_result",
     "data": {
      "text/plain": [
       "     total_bill  sex_Female  smoker_No  day_Fri  day_Sat  day_Sun  time_Dinner\n",
       "0         16.99           1          1        0        0        1            1\n",
       "1         10.34           0          1        0        0        1            1\n",
       "2         21.01           0          1        0        0        1            1\n",
       "3         23.68           0          1        0        0        1            1\n",
       "4         24.59           1          1        0        0        1            1\n",
       "..          ...         ...        ...      ...      ...      ...          ...\n",
       "239       29.03           0          1        0        1        0            1\n",
       "240       27.18           1          0        0        1        0            1\n",
       "241       22.67           0          0        0        1        0            1\n",
       "242       17.82           0          1        0        1        0            1\n",
       "243       18.78           1          1        0        0        0            1\n",
       "\n",
       "[244 rows x 7 columns]"
      ],
      "text/html": [
       "<div>\n",
       "<style scoped>\n",
       "    .dataframe tbody tr th:only-of-type {\n",
       "        vertical-align: middle;\n",
       "    }\n",
       "\n",
       "    .dataframe tbody tr th {\n",
       "        vertical-align: top;\n",
       "    }\n",
       "\n",
       "    .dataframe thead th {\n",
       "        text-align: right;\n",
       "    }\n",
       "</style>\n",
       "<table border=\"1\" class=\"dataframe\">\n",
       "  <thead>\n",
       "    <tr style=\"text-align: right;\">\n",
       "      <th></th>\n",
       "      <th>total_bill</th>\n",
       "      <th>sex_Female</th>\n",
       "      <th>smoker_No</th>\n",
       "      <th>day_Fri</th>\n",
       "      <th>day_Sat</th>\n",
       "      <th>day_Sun</th>\n",
       "      <th>time_Dinner</th>\n",
       "    </tr>\n",
       "  </thead>\n",
       "  <tbody>\n",
       "    <tr>\n",
       "      <th>0</th>\n",
       "      <td>16.99</td>\n",
       "      <td>1</td>\n",
       "      <td>1</td>\n",
       "      <td>0</td>\n",
       "      <td>0</td>\n",
       "      <td>1</td>\n",
       "      <td>1</td>\n",
       "    </tr>\n",
       "    <tr>\n",
       "      <th>1</th>\n",
       "      <td>10.34</td>\n",
       "      <td>0</td>\n",
       "      <td>1</td>\n",
       "      <td>0</td>\n",
       "      <td>0</td>\n",
       "      <td>1</td>\n",
       "      <td>1</td>\n",
       "    </tr>\n",
       "    <tr>\n",
       "      <th>2</th>\n",
       "      <td>21.01</td>\n",
       "      <td>0</td>\n",
       "      <td>1</td>\n",
       "      <td>0</td>\n",
       "      <td>0</td>\n",
       "      <td>1</td>\n",
       "      <td>1</td>\n",
       "    </tr>\n",
       "    <tr>\n",
       "      <th>3</th>\n",
       "      <td>23.68</td>\n",
       "      <td>0</td>\n",
       "      <td>1</td>\n",
       "      <td>0</td>\n",
       "      <td>0</td>\n",
       "      <td>1</td>\n",
       "      <td>1</td>\n",
       "    </tr>\n",
       "    <tr>\n",
       "      <th>4</th>\n",
       "      <td>24.59</td>\n",
       "      <td>1</td>\n",
       "      <td>1</td>\n",
       "      <td>0</td>\n",
       "      <td>0</td>\n",
       "      <td>1</td>\n",
       "      <td>1</td>\n",
       "    </tr>\n",
       "    <tr>\n",
       "      <th>...</th>\n",
       "      <td>...</td>\n",
       "      <td>...</td>\n",
       "      <td>...</td>\n",
       "      <td>...</td>\n",
       "      <td>...</td>\n",
       "      <td>...</td>\n",
       "      <td>...</td>\n",
       "    </tr>\n",
       "    <tr>\n",
       "      <th>239</th>\n",
       "      <td>29.03</td>\n",
       "      <td>0</td>\n",
       "      <td>1</td>\n",
       "      <td>0</td>\n",
       "      <td>1</td>\n",
       "      <td>0</td>\n",
       "      <td>1</td>\n",
       "    </tr>\n",
       "    <tr>\n",
       "      <th>240</th>\n",
       "      <td>27.18</td>\n",
       "      <td>1</td>\n",
       "      <td>0</td>\n",
       "      <td>0</td>\n",
       "      <td>1</td>\n",
       "      <td>0</td>\n",
       "      <td>1</td>\n",
       "    </tr>\n",
       "    <tr>\n",
       "      <th>241</th>\n",
       "      <td>22.67</td>\n",
       "      <td>0</td>\n",
       "      <td>0</td>\n",
       "      <td>0</td>\n",
       "      <td>1</td>\n",
       "      <td>0</td>\n",
       "      <td>1</td>\n",
       "    </tr>\n",
       "    <tr>\n",
       "      <th>242</th>\n",
       "      <td>17.82</td>\n",
       "      <td>0</td>\n",
       "      <td>1</td>\n",
       "      <td>0</td>\n",
       "      <td>1</td>\n",
       "      <td>0</td>\n",
       "      <td>1</td>\n",
       "    </tr>\n",
       "    <tr>\n",
       "      <th>243</th>\n",
       "      <td>18.78</td>\n",
       "      <td>1</td>\n",
       "      <td>1</td>\n",
       "      <td>0</td>\n",
       "      <td>0</td>\n",
       "      <td>0</td>\n",
       "      <td>1</td>\n",
       "    </tr>\n",
       "  </tbody>\n",
       "</table>\n",
       "<p>244 rows × 7 columns</p>\n",
       "</div>"
      ]
     },
     "metadata": {},
     "execution_count": 6
    }
   ],
   "metadata": {}
  },
  {
   "cell_type": "code",
   "execution_count": 7,
   "source": [
    "X_train, X_test, y_train, y_test = train_test_split(\n",
    "    X,\n",
    "    y,\n",
    "    test_size=0.2,\n",
    "    random_state=2020\n",
    ")"
   ],
   "outputs": [],
   "metadata": {}
  },
  {
   "cell_type": "markdown",
   "source": [
    "# Modeling"
   ],
   "metadata": {}
  },
  {
   "cell_type": "code",
   "execution_count": 13,
   "source": [
    "from sklearn.metrics import SCORERS"
   ],
   "outputs": [],
   "metadata": {}
  },
  {
   "cell_type": "code",
   "execution_count": 14,
   "source": [
    "SCORERS"
   ],
   "outputs": [
    {
     "output_type": "execute_result",
     "data": {
      "text/plain": [
       "{'explained_variance': make_scorer(explained_variance_score),\n",
       " 'r2': make_scorer(r2_score),\n",
       " 'max_error': make_scorer(max_error, greater_is_better=False),\n",
       " 'neg_median_absolute_error': make_scorer(median_absolute_error, greater_is_better=False),\n",
       " 'neg_mean_absolute_error': make_scorer(mean_absolute_error, greater_is_better=False),\n",
       " 'neg_mean_absolute_percentage_error': make_scorer(mean_absolute_percentage_error, greater_is_better=False),\n",
       " 'neg_mean_squared_error': make_scorer(mean_squared_error, greater_is_better=False),\n",
       " 'neg_mean_squared_log_error': make_scorer(mean_squared_log_error, greater_is_better=False),\n",
       " 'neg_root_mean_squared_error': make_scorer(mean_squared_error, greater_is_better=False, squared=False),\n",
       " 'neg_mean_poisson_deviance': make_scorer(mean_poisson_deviance, greater_is_better=False),\n",
       " 'neg_mean_gamma_deviance': make_scorer(mean_gamma_deviance, greater_is_better=False),\n",
       " 'accuracy': make_scorer(accuracy_score),\n",
       " 'top_k_accuracy': make_scorer(top_k_accuracy_score, needs_threshold=True),\n",
       " 'roc_auc': make_scorer(roc_auc_score, needs_threshold=True),\n",
       " 'roc_auc_ovr': make_scorer(roc_auc_score, needs_proba=True, multi_class=ovr),\n",
       " 'roc_auc_ovo': make_scorer(roc_auc_score, needs_proba=True, multi_class=ovo),\n",
       " 'roc_auc_ovr_weighted': make_scorer(roc_auc_score, needs_proba=True, multi_class=ovr, average=weighted),\n",
       " 'roc_auc_ovo_weighted': make_scorer(roc_auc_score, needs_proba=True, multi_class=ovo, average=weighted),\n",
       " 'balanced_accuracy': make_scorer(balanced_accuracy_score),\n",
       " 'average_precision': make_scorer(average_precision_score, needs_threshold=True),\n",
       " 'neg_log_loss': make_scorer(log_loss, greater_is_better=False, needs_proba=True),\n",
       " 'neg_brier_score': make_scorer(brier_score_loss, greater_is_better=False, needs_proba=True),\n",
       " 'adjusted_rand_score': make_scorer(adjusted_rand_score),\n",
       " 'rand_score': make_scorer(rand_score),\n",
       " 'homogeneity_score': make_scorer(homogeneity_score),\n",
       " 'completeness_score': make_scorer(completeness_score),\n",
       " 'v_measure_score': make_scorer(v_measure_score),\n",
       " 'mutual_info_score': make_scorer(mutual_info_score),\n",
       " 'adjusted_mutual_info_score': make_scorer(adjusted_mutual_info_score),\n",
       " 'normalized_mutual_info_score': make_scorer(normalized_mutual_info_score),\n",
       " 'fowlkes_mallows_score': make_scorer(fowlkes_mallows_score),\n",
       " 'precision': make_scorer(precision_score, average=binary),\n",
       " 'precision_macro': make_scorer(precision_score, pos_label=None, average=macro),\n",
       " 'precision_micro': make_scorer(precision_score, pos_label=None, average=micro),\n",
       " 'precision_samples': make_scorer(precision_score, pos_label=None, average=samples),\n",
       " 'precision_weighted': make_scorer(precision_score, pos_label=None, average=weighted),\n",
       " 'recall': make_scorer(recall_score, average=binary),\n",
       " 'recall_macro': make_scorer(recall_score, pos_label=None, average=macro),\n",
       " 'recall_micro': make_scorer(recall_score, pos_label=None, average=micro),\n",
       " 'recall_samples': make_scorer(recall_score, pos_label=None, average=samples),\n",
       " 'recall_weighted': make_scorer(recall_score, pos_label=None, average=weighted),\n",
       " 'f1': make_scorer(f1_score, average=binary),\n",
       " 'f1_macro': make_scorer(f1_score, pos_label=None, average=macro),\n",
       " 'f1_micro': make_scorer(f1_score, pos_label=None, average=micro),\n",
       " 'f1_samples': make_scorer(f1_score, pos_label=None, average=samples),\n",
       " 'f1_weighted': make_scorer(f1_score, pos_label=None, average=weighted),\n",
       " 'jaccard': make_scorer(jaccard_score, average=binary),\n",
       " 'jaccard_macro': make_scorer(jaccard_score, pos_label=None, average=macro),\n",
       " 'jaccard_micro': make_scorer(jaccard_score, pos_label=None, average=micro),\n",
       " 'jaccard_samples': make_scorer(jaccard_score, pos_label=None, average=samples),\n",
       " 'jaccard_weighted': make_scorer(jaccard_score, pos_label=None, average=weighted)}"
      ]
     },
     "metadata": {},
     "execution_count": 14
    }
   ],
   "metadata": {}
  },
  {
   "cell_type": "code",
   "execution_count": 9,
   "source": [
    "tree = DecisionTreeRegressor(criterion='mse', max_depth=5, random_state=2020)\n",
    "linreg = LinearRegression()"
   ],
   "outputs": [],
   "metadata": {}
  },
  {
   "cell_type": "code",
   "execution_count": 21,
   "source": [
    "tree_cv = cross_val_score(tree, X_train, y_train, scoring='r2')"
   ],
   "outputs": [],
   "metadata": {}
  },
  {
   "cell_type": "code",
   "execution_count": 23,
   "source": [
    "print('score cv: ', tree_cv)\n",
    "print('mean score cv: ', tree_cv.mean())\n",
    "print('std score cv: ', tree_cv.std())"
   ],
   "outputs": [
    {
     "output_type": "stream",
     "name": "stdout",
     "text": [
      "score cv:  [0.11865437 0.09663697 0.13388799 0.60844872 0.41722998]\n",
      "mean score cv:  0.27497160666626597\n",
      "std score cv:  0.2037583555823742\n"
     ]
    }
   ],
   "metadata": {}
  },
  {
   "cell_type": "code",
   "execution_count": 22,
   "source": [
    "linreg_cv = cross_val_score(linreg, X_train, y_train, scoring='r2')"
   ],
   "outputs": [],
   "metadata": {}
  },
  {
   "cell_type": "code",
   "execution_count": 24,
   "source": [
    "print('score cv: ', linreg_cv)\n",
    "print('mean score cv: ', linreg_cv.mean())\n",
    "print('std score cv: ', linreg_cv.std())"
   ],
   "outputs": [
    {
     "output_type": "stream",
     "name": "stdout",
     "text": [
      "score cv:  [0.27243371 0.18984475 0.31816682 0.46456813 0.44769515]\n",
      "mean score cv:  0.33854171153933316\n",
      "std score cv:  0.10458807015801658\n"
     ]
    }
   ],
   "metadata": {}
  },
  {
   "cell_type": "markdown",
   "source": [
    "# Modeling Tree in Test Set"
   ],
   "metadata": {}
  },
  {
   "cell_type": "code",
   "execution_count": 25,
   "source": [
    "tree = DecisionTreeRegressor(criterion='mse', max_depth=5, random_state=2020)"
   ],
   "outputs": [],
   "metadata": {}
  },
  {
   "cell_type": "code",
   "execution_count": 26,
   "source": [
    "tree.fit(X_train, y_train)"
   ],
   "outputs": [
    {
     "output_type": "execute_result",
     "data": {
      "text/plain": [
       "DecisionTreeRegressor(max_depth=5, random_state=2020)"
      ]
     },
     "metadata": {},
     "execution_count": 26
    }
   ],
   "metadata": {}
  },
  {
   "cell_type": "code",
   "execution_count": 27,
   "source": [
    "y_pred = tree.predict(X_test)\n",
    "print('mse: ', mean_squared_error(y_test, y_pred))"
   ],
   "outputs": [
    {
     "output_type": "stream",
     "name": "stdout",
     "text": [
      "mse:  1.1723927020084088\n"
     ]
    }
   ],
   "metadata": {}
  },
  {
   "cell_type": "markdown",
   "source": [
    "# Hyperparameter Tuning for Tree"
   ],
   "metadata": {}
  },
  {
   "cell_type": "code",
   "execution_count": 37,
   "source": [
    "hyperparam = {\n",
    "    'min_samples_leaf': [1,5,10,15,20,50,100],\n",
    "    'max_depth':[2,3,4,5,6,7],\n",
    "    'criterion':['mse','mae']\n",
    "}\n",
    "\n",
    "tree = DecisionTreeRegressor(criterion='mse', max_depth=5, random_state=2020)\n",
    "\n",
    "random_search = RandomizedSearchCV(\n",
    "    tree,\n",
    "    param_distributions=hyperparam,\n",
    "    n_iter=72,\n",
    "    cv=5,\n",
    "    scoring='r2',\n",
    "    random_state=2020,\n",
    "    n_jobs=-1\n",
    ")"
   ],
   "outputs": [],
   "metadata": {}
  },
  {
   "cell_type": "code",
   "execution_count": 38,
   "source": [
    "random_search.fit(X_train, y_train)"
   ],
   "outputs": [
    {
     "output_type": "execute_result",
     "data": {
      "text/plain": [
       "RandomizedSearchCV(cv=5,\n",
       "                   estimator=DecisionTreeRegressor(max_depth=5,\n",
       "                                                   random_state=2020),\n",
       "                   n_iter=72, n_jobs=-1,\n",
       "                   param_distributions={'criterion': ['mse', 'mae'],\n",
       "                                        'max_depth': [2, 3, 4, 5, 6, 7],\n",
       "                                        'min_samples_leaf': [1, 5, 10, 15, 20,\n",
       "                                                             50, 100]},\n",
       "                   random_state=2020, scoring='r2')"
      ]
     },
     "metadata": {},
     "execution_count": 38
    }
   ],
   "metadata": {}
  },
  {
   "cell_type": "code",
   "execution_count": 41,
   "source": [
    "random_search.best_score_"
   ],
   "outputs": [
    {
     "output_type": "execute_result",
     "data": {
      "text/plain": [
       "0.4335277785825589"
      ]
     },
     "metadata": {},
     "execution_count": 41
    }
   ],
   "metadata": {}
  },
  {
   "cell_type": "code",
   "execution_count": 42,
   "source": [
    "random_search.best_params_"
   ],
   "outputs": [
    {
     "output_type": "execute_result",
     "data": {
      "text/plain": [
       "{'min_samples_leaf': 1, 'max_depth': 5, 'criterion': 'mae'}"
      ]
     },
     "metadata": {},
     "execution_count": 42
    }
   ],
   "metadata": {}
  },
  {
   "cell_type": "code",
   "execution_count": 43,
   "source": [
    "cv_result = pd.DataFrame(random_search.cv_results_)"
   ],
   "outputs": [],
   "metadata": {}
  },
  {
   "cell_type": "code",
   "execution_count": 44,
   "source": [
    "cv_result"
   ],
   "outputs": [
    {
     "output_type": "execute_result",
     "data": {
      "text/plain": [
       "    mean_fit_time  std_fit_time  mean_score_time  std_score_time  \\\n",
       "0        0.003209      0.000563         0.001369        0.000704   \n",
       "1        0.001937      0.000615         0.001373        0.000478   \n",
       "2        0.002190      0.000473         0.001103        0.000591   \n",
       "3        0.001968      0.000755         0.000983        0.000544   \n",
       "4        0.002133      0.000994         0.000883        0.000593   \n",
       "..            ...           ...              ...             ...   \n",
       "67       0.000984      0.000047         0.000512        0.000012   \n",
       "68       0.001421      0.000110         0.000556        0.000060   \n",
       "69       0.000887      0.000074         0.000493        0.000018   \n",
       "70       0.000829      0.000084         0.000490        0.000022   \n",
       "71       0.000869      0.000042         0.000489        0.000021   \n",
       "\n",
       "   param_min_samples_leaf param_max_depth param_criterion  \\\n",
       "0                      50               5             mae   \n",
       "1                       1               3             mse   \n",
       "2                      20               6             mae   \n",
       "3                      20               3             mae   \n",
       "4                       1               7             mse   \n",
       "..                    ...             ...             ...   \n",
       "67                    100               6             mae   \n",
       "68                     20               7             mae   \n",
       "69                    100               4             mae   \n",
       "70                    100               3             mae   \n",
       "71                     20               3             mse   \n",
       "\n",
       "                                               params  split0_test_score  \\\n",
       "0   {'min_samples_leaf': 50, 'max_depth': 5, 'crit...           0.249158   \n",
       "1   {'min_samples_leaf': 1, 'max_depth': 3, 'crite...           0.401605   \n",
       "2   {'min_samples_leaf': 20, 'max_depth': 6, 'crit...           0.290600   \n",
       "3   {'min_samples_leaf': 20, 'max_depth': 3, 'crit...           0.290600   \n",
       "4   {'min_samples_leaf': 1, 'max_depth': 7, 'crite...           0.033806   \n",
       "..                                                ...                ...   \n",
       "67  {'min_samples_leaf': 100, 'max_depth': 6, 'cri...          -0.008075   \n",
       "68  {'min_samples_leaf': 20, 'max_depth': 7, 'crit...           0.290600   \n",
       "69  {'min_samples_leaf': 100, 'max_depth': 4, 'cri...          -0.008075   \n",
       "70  {'min_samples_leaf': 100, 'max_depth': 3, 'cri...          -0.008075   \n",
       "71  {'min_samples_leaf': 20, 'max_depth': 3, 'crit...           0.248798   \n",
       "\n",
       "    split1_test_score  split2_test_score  split3_test_score  \\\n",
       "0            0.169275           0.134417           0.209424   \n",
       "1            0.344567           0.172655           0.660094   \n",
       "2           -0.038291           0.238016           0.347737   \n",
       "3           -0.038291           0.238016           0.347737   \n",
       "4           -0.028286          -0.134957           0.527352   \n",
       "..                ...                ...                ...   \n",
       "67          -0.000119          -0.009128          -0.077183   \n",
       "68          -0.038291           0.238016           0.347737   \n",
       "69          -0.000119          -0.009128          -0.077183   \n",
       "70          -0.000119          -0.009128          -0.077183   \n",
       "71           0.265737           0.181435           0.434591   \n",
       "\n",
       "    split4_test_score  mean_test_score  std_test_score  rank_test_score  \n",
       "0            0.199847         0.192424        0.038636               55  \n",
       "1            0.557267         0.427238        0.169371                2  \n",
       "2            0.343542         0.236321        0.143018               38  \n",
       "3            0.343542         0.236321        0.143018               38  \n",
       "4            0.487819         0.177147        0.275434               61  \n",
       "..                ...              ...             ...              ...  \n",
       "67          -0.106279        -0.040157        0.043216               68  \n",
       "68           0.343542         0.236321        0.143018               38  \n",
       "69          -0.106279        -0.040157        0.043216               68  \n",
       "70          -0.106279        -0.040157        0.043216               68  \n",
       "71           0.361027         0.298318        0.089082               17  \n",
       "\n",
       "[72 rows x 16 columns]"
      ],
      "text/html": [
       "<div>\n",
       "<style scoped>\n",
       "    .dataframe tbody tr th:only-of-type {\n",
       "        vertical-align: middle;\n",
       "    }\n",
       "\n",
       "    .dataframe tbody tr th {\n",
       "        vertical-align: top;\n",
       "    }\n",
       "\n",
       "    .dataframe thead th {\n",
       "        text-align: right;\n",
       "    }\n",
       "</style>\n",
       "<table border=\"1\" class=\"dataframe\">\n",
       "  <thead>\n",
       "    <tr style=\"text-align: right;\">\n",
       "      <th></th>\n",
       "      <th>mean_fit_time</th>\n",
       "      <th>std_fit_time</th>\n",
       "      <th>mean_score_time</th>\n",
       "      <th>std_score_time</th>\n",
       "      <th>param_min_samples_leaf</th>\n",
       "      <th>param_max_depth</th>\n",
       "      <th>param_criterion</th>\n",
       "      <th>params</th>\n",
       "      <th>split0_test_score</th>\n",
       "      <th>split1_test_score</th>\n",
       "      <th>split2_test_score</th>\n",
       "      <th>split3_test_score</th>\n",
       "      <th>split4_test_score</th>\n",
       "      <th>mean_test_score</th>\n",
       "      <th>std_test_score</th>\n",
       "      <th>rank_test_score</th>\n",
       "    </tr>\n",
       "  </thead>\n",
       "  <tbody>\n",
       "    <tr>\n",
       "      <th>0</th>\n",
       "      <td>0.003209</td>\n",
       "      <td>0.000563</td>\n",
       "      <td>0.001369</td>\n",
       "      <td>0.000704</td>\n",
       "      <td>50</td>\n",
       "      <td>5</td>\n",
       "      <td>mae</td>\n",
       "      <td>{'min_samples_leaf': 50, 'max_depth': 5, 'crit...</td>\n",
       "      <td>0.249158</td>\n",
       "      <td>0.169275</td>\n",
       "      <td>0.134417</td>\n",
       "      <td>0.209424</td>\n",
       "      <td>0.199847</td>\n",
       "      <td>0.192424</td>\n",
       "      <td>0.038636</td>\n",
       "      <td>55</td>\n",
       "    </tr>\n",
       "    <tr>\n",
       "      <th>1</th>\n",
       "      <td>0.001937</td>\n",
       "      <td>0.000615</td>\n",
       "      <td>0.001373</td>\n",
       "      <td>0.000478</td>\n",
       "      <td>1</td>\n",
       "      <td>3</td>\n",
       "      <td>mse</td>\n",
       "      <td>{'min_samples_leaf': 1, 'max_depth': 3, 'crite...</td>\n",
       "      <td>0.401605</td>\n",
       "      <td>0.344567</td>\n",
       "      <td>0.172655</td>\n",
       "      <td>0.660094</td>\n",
       "      <td>0.557267</td>\n",
       "      <td>0.427238</td>\n",
       "      <td>0.169371</td>\n",
       "      <td>2</td>\n",
       "    </tr>\n",
       "    <tr>\n",
       "      <th>2</th>\n",
       "      <td>0.002190</td>\n",
       "      <td>0.000473</td>\n",
       "      <td>0.001103</td>\n",
       "      <td>0.000591</td>\n",
       "      <td>20</td>\n",
       "      <td>6</td>\n",
       "      <td>mae</td>\n",
       "      <td>{'min_samples_leaf': 20, 'max_depth': 6, 'crit...</td>\n",
       "      <td>0.290600</td>\n",
       "      <td>-0.038291</td>\n",
       "      <td>0.238016</td>\n",
       "      <td>0.347737</td>\n",
       "      <td>0.343542</td>\n",
       "      <td>0.236321</td>\n",
       "      <td>0.143018</td>\n",
       "      <td>38</td>\n",
       "    </tr>\n",
       "    <tr>\n",
       "      <th>3</th>\n",
       "      <td>0.001968</td>\n",
       "      <td>0.000755</td>\n",
       "      <td>0.000983</td>\n",
       "      <td>0.000544</td>\n",
       "      <td>20</td>\n",
       "      <td>3</td>\n",
       "      <td>mae</td>\n",
       "      <td>{'min_samples_leaf': 20, 'max_depth': 3, 'crit...</td>\n",
       "      <td>0.290600</td>\n",
       "      <td>-0.038291</td>\n",
       "      <td>0.238016</td>\n",
       "      <td>0.347737</td>\n",
       "      <td>0.343542</td>\n",
       "      <td>0.236321</td>\n",
       "      <td>0.143018</td>\n",
       "      <td>38</td>\n",
       "    </tr>\n",
       "    <tr>\n",
       "      <th>4</th>\n",
       "      <td>0.002133</td>\n",
       "      <td>0.000994</td>\n",
       "      <td>0.000883</td>\n",
       "      <td>0.000593</td>\n",
       "      <td>1</td>\n",
       "      <td>7</td>\n",
       "      <td>mse</td>\n",
       "      <td>{'min_samples_leaf': 1, 'max_depth': 7, 'crite...</td>\n",
       "      <td>0.033806</td>\n",
       "      <td>-0.028286</td>\n",
       "      <td>-0.134957</td>\n",
       "      <td>0.527352</td>\n",
       "      <td>0.487819</td>\n",
       "      <td>0.177147</td>\n",
       "      <td>0.275434</td>\n",
       "      <td>61</td>\n",
       "    </tr>\n",
       "    <tr>\n",
       "      <th>...</th>\n",
       "      <td>...</td>\n",
       "      <td>...</td>\n",
       "      <td>...</td>\n",
       "      <td>...</td>\n",
       "      <td>...</td>\n",
       "      <td>...</td>\n",
       "      <td>...</td>\n",
       "      <td>...</td>\n",
       "      <td>...</td>\n",
       "      <td>...</td>\n",
       "      <td>...</td>\n",
       "      <td>...</td>\n",
       "      <td>...</td>\n",
       "      <td>...</td>\n",
       "      <td>...</td>\n",
       "      <td>...</td>\n",
       "    </tr>\n",
       "    <tr>\n",
       "      <th>67</th>\n",
       "      <td>0.000984</td>\n",
       "      <td>0.000047</td>\n",
       "      <td>0.000512</td>\n",
       "      <td>0.000012</td>\n",
       "      <td>100</td>\n",
       "      <td>6</td>\n",
       "      <td>mae</td>\n",
       "      <td>{'min_samples_leaf': 100, 'max_depth': 6, 'cri...</td>\n",
       "      <td>-0.008075</td>\n",
       "      <td>-0.000119</td>\n",
       "      <td>-0.009128</td>\n",
       "      <td>-0.077183</td>\n",
       "      <td>-0.106279</td>\n",
       "      <td>-0.040157</td>\n",
       "      <td>0.043216</td>\n",
       "      <td>68</td>\n",
       "    </tr>\n",
       "    <tr>\n",
       "      <th>68</th>\n",
       "      <td>0.001421</td>\n",
       "      <td>0.000110</td>\n",
       "      <td>0.000556</td>\n",
       "      <td>0.000060</td>\n",
       "      <td>20</td>\n",
       "      <td>7</td>\n",
       "      <td>mae</td>\n",
       "      <td>{'min_samples_leaf': 20, 'max_depth': 7, 'crit...</td>\n",
       "      <td>0.290600</td>\n",
       "      <td>-0.038291</td>\n",
       "      <td>0.238016</td>\n",
       "      <td>0.347737</td>\n",
       "      <td>0.343542</td>\n",
       "      <td>0.236321</td>\n",
       "      <td>0.143018</td>\n",
       "      <td>38</td>\n",
       "    </tr>\n",
       "    <tr>\n",
       "      <th>69</th>\n",
       "      <td>0.000887</td>\n",
       "      <td>0.000074</td>\n",
       "      <td>0.000493</td>\n",
       "      <td>0.000018</td>\n",
       "      <td>100</td>\n",
       "      <td>4</td>\n",
       "      <td>mae</td>\n",
       "      <td>{'min_samples_leaf': 100, 'max_depth': 4, 'cri...</td>\n",
       "      <td>-0.008075</td>\n",
       "      <td>-0.000119</td>\n",
       "      <td>-0.009128</td>\n",
       "      <td>-0.077183</td>\n",
       "      <td>-0.106279</td>\n",
       "      <td>-0.040157</td>\n",
       "      <td>0.043216</td>\n",
       "      <td>68</td>\n",
       "    </tr>\n",
       "    <tr>\n",
       "      <th>70</th>\n",
       "      <td>0.000829</td>\n",
       "      <td>0.000084</td>\n",
       "      <td>0.000490</td>\n",
       "      <td>0.000022</td>\n",
       "      <td>100</td>\n",
       "      <td>3</td>\n",
       "      <td>mae</td>\n",
       "      <td>{'min_samples_leaf': 100, 'max_depth': 3, 'cri...</td>\n",
       "      <td>-0.008075</td>\n",
       "      <td>-0.000119</td>\n",
       "      <td>-0.009128</td>\n",
       "      <td>-0.077183</td>\n",
       "      <td>-0.106279</td>\n",
       "      <td>-0.040157</td>\n",
       "      <td>0.043216</td>\n",
       "      <td>68</td>\n",
       "    </tr>\n",
       "    <tr>\n",
       "      <th>71</th>\n",
       "      <td>0.000869</td>\n",
       "      <td>0.000042</td>\n",
       "      <td>0.000489</td>\n",
       "      <td>0.000021</td>\n",
       "      <td>20</td>\n",
       "      <td>3</td>\n",
       "      <td>mse</td>\n",
       "      <td>{'min_samples_leaf': 20, 'max_depth': 3, 'crit...</td>\n",
       "      <td>0.248798</td>\n",
       "      <td>0.265737</td>\n",
       "      <td>0.181435</td>\n",
       "      <td>0.434591</td>\n",
       "      <td>0.361027</td>\n",
       "      <td>0.298318</td>\n",
       "      <td>0.089082</td>\n",
       "      <td>17</td>\n",
       "    </tr>\n",
       "  </tbody>\n",
       "</table>\n",
       "<p>72 rows × 16 columns</p>\n",
       "</div>"
      ]
     },
     "metadata": {},
     "execution_count": 44
    }
   ],
   "metadata": {}
  },
  {
   "cell_type": "markdown",
   "source": [
    "# Comparison Before & After Tuning"
   ],
   "metadata": {}
  },
  {
   "cell_type": "code",
   "execution_count": 45,
   "source": [
    "tree_before = DecisionTreeRegressor(criterion='mse', max_depth=5, random_state=2020)\n",
    "tree_after = DecisionTreeRegressor(criterion='mae', max_depth=5, random_state=2020)\n",
    "logreg = LinearRegression()"
   ],
   "outputs": [],
   "metadata": {}
  },
  {
   "cell_type": "code",
   "execution_count": 47,
   "source": [
    "tree_before.fit(X_train, y_train)\n",
    "y_pred = tree_before.predict(X_test)\n",
    "print(mean_squared_error(y_test, y_pred))"
   ],
   "outputs": [
    {
     "output_type": "stream",
     "name": "stdout",
     "text": [
      "1.1723927020084088\n"
     ]
    }
   ],
   "metadata": {}
  },
  {
   "cell_type": "code",
   "execution_count": 49,
   "source": [
    "def final_eval(model):\n",
    "    model.fit(X_train, y_train)\n",
    "    y_pred = model.predict(X_test)\n",
    "    print(mean_squared_error(y_test, y_pred))\n",
    "    print(r2_score(y_test, y_pred))"
   ],
   "outputs": [],
   "metadata": {}
  },
  {
   "cell_type": "code",
   "execution_count": 50,
   "source": [
    "final_eval(tree_before)"
   ],
   "outputs": [
    {
     "output_type": "stream",
     "name": "stdout",
     "text": [
      "1.1723927020084088\n",
      "0.456139969823803\n"
     ]
    }
   ],
   "metadata": {}
  },
  {
   "cell_type": "code",
   "execution_count": 51,
   "source": [
    "final_eval(tree_after)"
   ],
   "outputs": [
    {
     "output_type": "stream",
     "name": "stdout",
     "text": [
      "1.2579158163265307\n",
      "0.4164667413448675\n"
     ]
    }
   ],
   "metadata": {}
  },
  {
   "cell_type": "code",
   "execution_count": 52,
   "source": [
    "final_eval(linreg)"
   ],
   "outputs": [
    {
     "output_type": "stream",
     "name": "stdout",
     "text": [
      "1.3375316267761348\n",
      "0.379533845908511\n"
     ]
    }
   ],
   "metadata": {}
  },
  {
   "cell_type": "code",
   "execution_count": null,
   "source": [],
   "outputs": [],
   "metadata": {}
  }
 ],
 "metadata": {
  "orig_nbformat": 4,
  "language_info": {
   "name": "python",
   "version": "3.9.6",
   "mimetype": "text/x-python",
   "codemirror_mode": {
    "name": "ipython",
    "version": 3
   },
   "pygments_lexer": "ipython3",
   "nbconvert_exporter": "python",
   "file_extension": ".py"
  },
  "kernelspec": {
   "name": "python3",
   "display_name": "Python 3.9.6 64-bit ('boost': conda)"
  },
  "interpreter": {
   "hash": "f650386ef5dbf2b2e7d43afee11ccb10cd09848d447df1eb5b276ca75a4c0133"
  }
 },
 "nbformat": 4,
 "nbformat_minor": 2
}