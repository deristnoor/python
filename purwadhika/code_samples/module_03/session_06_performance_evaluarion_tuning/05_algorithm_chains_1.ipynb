{
 "cells": [
  {
   "cell_type": "markdown",
   "source": [
    "# Module 03\n",
    "\n",
    "## Session 06 Model Performance, Evaluation Method and Hyperparameter Tuning"
   ],
   "metadata": {}
  },
  {
   "cell_type": "markdown",
   "source": [
    "# Algorithm Chains 1"
   ],
   "metadata": {}
  },
  {
   "cell_type": "markdown",
   "source": [
    "data: generate data\n",
    "* y ~ normal (mean = 0, std = 1, n = 100)\n",
    "* X ~ normal (mean = 0, std = 1, n = 100, dimension = 10000)\n",
    "* y and X uncorelated to each other (no relationship)\n",
    "\n",
    "information leakage\n",
    "* modeling X and u using ridge + percentile feature selection (f statistics)\n",
    "* do feature selection: apply fit and transform to X\n",
    "* compute R-square using cross validation\n",
    "\n",
    "no information leakage\n",
    "* modeling X and y using ridge + percentile feature selection (f statistics)\n",
    "* make pipeline: feature selection + regression\n",
    "* compute R-square using cross validation\n"
   ],
   "metadata": {}
  },
  {
   "cell_type": "markdown",
   "source": [
    "# Data"
   ],
   "metadata": {}
  },
  {
   "cell_type": "code",
   "execution_count": 1,
   "source": [
    "import pandas as pd\n",
    "import numpy as np"
   ],
   "outputs": [],
   "metadata": {}
  },
  {
   "cell_type": "code",
   "execution_count": 4,
   "source": [
    "rnd = np.random.RandomState(seed=2020)\n",
    "X = rnd.normal(size=(100,10000))\n",
    "y = rnd.normal(size=(100, ))"
   ],
   "outputs": [],
   "metadata": {}
  },
  {
   "cell_type": "markdown",
   "source": [
    "# Information Leakage"
   ],
   "metadata": {}
  },
  {
   "cell_type": "code",
   "execution_count": 5,
   "source": [
    "from sklearn.feature_selection import SelectPercentile, f_regression"
   ],
   "outputs": [],
   "metadata": {}
  },
  {
   "cell_type": "code",
   "execution_count": 6,
   "source": [
    "select = SelectPercentile(score_func=f_regression, percentile=5)\n",
    "X_selected = select.fit_transform(X,y)\n",
    "X_selected.shape"
   ],
   "outputs": [
    {
     "output_type": "execute_result",
     "data": {
      "text/plain": [
       "(100, 500)"
      ]
     },
     "metadata": {},
     "execution_count": 6
    }
   ],
   "metadata": {}
  },
  {
   "cell_type": "code",
   "execution_count": 7,
   "source": [
    "from sklearn.model_selection import cross_val_score\n",
    "from sklearn.linear_model import Ridge"
   ],
   "outputs": [],
   "metadata": {}
  },
  {
   "cell_type": "code",
   "execution_count": 8,
   "source": [
    "cv_score = cross_val_score(\n",
    "    Ridge(),\n",
    "    X_selected,\n",
    "    y,\n",
    "    cv=5\n",
    ")"
   ],
   "outputs": [],
   "metadata": {}
  },
  {
   "cell_type": "code",
   "execution_count": 9,
   "source": [
    "cv_score"
   ],
   "outputs": [
    {
     "output_type": "execute_result",
     "data": {
      "text/plain": [
       "array([0.92165345, 0.89445668, 0.92827414, 0.93088559, 0.91044624])"
      ]
     },
     "metadata": {},
     "execution_count": 9
    }
   ],
   "metadata": {}
  },
  {
   "cell_type": "markdown",
   "source": [
    "# No Information Leakage"
   ],
   "metadata": {}
  },
  {
   "cell_type": "code",
   "execution_count": 10,
   "source": [
    "from sklearn.pipeline import Pipeline"
   ],
   "outputs": [],
   "metadata": {}
  },
  {
   "cell_type": "code",
   "execution_count": 11,
   "source": [
    "select = SelectPercentile(score_func=f_regression, percentile=5)\n",
    "\n",
    "pipe_model = Pipeline(\n",
    "    [\n",
    "        ('select', select),\n",
    "        ('model', Ridge())\n",
    "    ]\n",
    ")"
   ],
   "outputs": [],
   "metadata": {}
  },
  {
   "cell_type": "code",
   "execution_count": 12,
   "source": [
    "cv_score = cross_val_score(\n",
    "    pipe_model,\n",
    "    X,\n",
    "    y,\n",
    "    cv=5\n",
    ")"
   ],
   "outputs": [],
   "metadata": {}
  },
  {
   "cell_type": "code",
   "execution_count": 13,
   "source": [
    "cv_score"
   ],
   "outputs": [
    {
     "output_type": "execute_result",
     "data": {
      "text/plain": [
       "array([-0.0330359 , -0.07840338, -0.06731106, -0.04544685, -0.07314928])"
      ]
     },
     "metadata": {},
     "execution_count": 13
    }
   ],
   "metadata": {}
  },
  {
   "cell_type": "code",
   "execution_count": null,
   "source": [],
   "outputs": [],
   "metadata": {}
  }
 ],
 "metadata": {
  "orig_nbformat": 4,
  "language_info": {
   "name": "python",
   "version": "3.9.6",
   "mimetype": "text/x-python",
   "codemirror_mode": {
    "name": "ipython",
    "version": 3
   },
   "pygments_lexer": "ipython3",
   "nbconvert_exporter": "python",
   "file_extension": ".py"
  },
  "kernelspec": {
   "name": "python3",
   "display_name": "Python 3.9.6 64-bit ('boost': conda)"
  },
  "interpreter": {
   "hash": "f650386ef5dbf2b2e7d43afee11ccb10cd09848d447df1eb5b276ca75a4c0133"
  }
 },
 "nbformat": 4,
 "nbformat_minor": 2
}