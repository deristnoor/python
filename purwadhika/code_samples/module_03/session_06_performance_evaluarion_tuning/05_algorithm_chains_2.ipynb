{
 "cells": [
  {
   "cell_type": "markdown",
   "source": [
    "# Module 03\n",
    "\n",
    "## Session 06 Model Performance, Evaluation Method and Hyperparameter Tuning"
   ],
   "metadata": {}
  },
  {
   "cell_type": "markdown",
   "source": [
    "# Algorithm Chains 2"
   ],
   "metadata": {}
  },
  {
   "cell_type": "markdown",
   "source": [
    "* data: adult.csv\n",
    "* target: income (>5k or <=50k)\n",
    "\n",
    "preprocess:\n",
    "1. missing value: simple imputer with constant\n",
    "2. one hot encoding: relationship, race, sex\n",
    "3. binary encoding: workcalss, marital status, occupation, native country\n",
    "4. ordinal encoding: education (already encoded)\n",
    "5. no treatment: numerical\n",
    "6. out: fnlwgt\n",
    "\n",
    "model:\n",
    "1. random state = 10\n",
    "2. data splitting 70:30\n",
    "3. model tree(max depth 5, criterion entropy) and compute f1 score using cv\n",
    "4. compute another metrics in another model too\n",
    "5. model logistic regression (solver liblinear) compute recall, precision, f1, make ROC and PRC in test set\n",
    "6. do hyperparameter tuning for logistic regression (optimize C and solver) optimized by f1 and using stratified CV 5 fold\n",
    "7. compare the result, before and after, in test set"
   ],
   "metadata": {}
  },
  {
   "cell_type": "markdown",
   "source": [
    "# Library"
   ],
   "metadata": {}
  },
  {
   "cell_type": "code",
   "execution_count": 54,
   "source": [
    "import pandas as pd\n",
    "import numpy as np\n",
    "\n",
    "import seaborn as sns\n",
    "import matplotlib.pyplot as plt\n",
    "\n",
    "from sklearn.tree import DecisionTreeClassifier\n",
    "from sklearn.linear_model import LogisticRegression\n",
    "from sklearn.neighbors import KNeighborsClassifier\n",
    "\n",
    "from sklearn.model_selection import train_test_split, StratifiedKFold, GridSearchCV, cross_val_score\n",
    "from sklearn.metrics import f1_score, recall_score, precision_score, classification_report, plot_roc_curve, plot_precision_recall_curve\n",
    "\n",
    "from sklearn.impute import SimpleImputer\n",
    "from sklearn.preprocessing import OneHotEncoder\n",
    "import category_encoders as ce\n",
    "from sklearn.compose import ColumnTransformer\n",
    "from sklearn.pipeline import Pipeline\n",
    "\n",
    "import warnings\n",
    "warnings.filterwarnings('ignore')"
   ],
   "outputs": [],
   "metadata": {}
  },
  {
   "cell_type": "markdown",
   "source": [
    "# Data"
   ],
   "metadata": {}
  },
  {
   "cell_type": "code",
   "execution_count": 2,
   "source": [
    "df_adult = pd.read_csv('datasets/adult.csv')"
   ],
   "outputs": [],
   "metadata": {}
  },
  {
   "cell_type": "code",
   "execution_count": 3,
   "source": [
    "df_adult.head()"
   ],
   "outputs": [
    {
     "output_type": "execute_result",
     "data": {
      "text/plain": [
       "   age workclass  fnlwgt     education  education.num marital.status  \\\n",
       "0   90         ?   77053       HS-grad              9        Widowed   \n",
       "1   82   Private  132870       HS-grad              9        Widowed   \n",
       "2   66         ?  186061  Some-college             10        Widowed   \n",
       "3   54   Private  140359       7th-8th              4       Divorced   \n",
       "4   41   Private  264663  Some-college             10      Separated   \n",
       "\n",
       "          occupation   relationship   race     sex  capital.gain  \\\n",
       "0                  ?  Not-in-family  White  Female             0   \n",
       "1    Exec-managerial  Not-in-family  White  Female             0   \n",
       "2                  ?      Unmarried  Black  Female             0   \n",
       "3  Machine-op-inspct      Unmarried  White  Female             0   \n",
       "4     Prof-specialty      Own-child  White  Female             0   \n",
       "\n",
       "   capital.loss  hours.per.week native.country income  \n",
       "0          4356              40  United-States  <=50K  \n",
       "1          4356              18  United-States  <=50K  \n",
       "2          4356              40  United-States  <=50K  \n",
       "3          3900              40  United-States  <=50K  \n",
       "4          3900              40  United-States  <=50K  "
      ],
      "text/html": [
       "<div>\n",
       "<style scoped>\n",
       "    .dataframe tbody tr th:only-of-type {\n",
       "        vertical-align: middle;\n",
       "    }\n",
       "\n",
       "    .dataframe tbody tr th {\n",
       "        vertical-align: top;\n",
       "    }\n",
       "\n",
       "    .dataframe thead th {\n",
       "        text-align: right;\n",
       "    }\n",
       "</style>\n",
       "<table border=\"1\" class=\"dataframe\">\n",
       "  <thead>\n",
       "    <tr style=\"text-align: right;\">\n",
       "      <th></th>\n",
       "      <th>age</th>\n",
       "      <th>workclass</th>\n",
       "      <th>fnlwgt</th>\n",
       "      <th>education</th>\n",
       "      <th>education.num</th>\n",
       "      <th>marital.status</th>\n",
       "      <th>occupation</th>\n",
       "      <th>relationship</th>\n",
       "      <th>race</th>\n",
       "      <th>sex</th>\n",
       "      <th>capital.gain</th>\n",
       "      <th>capital.loss</th>\n",
       "      <th>hours.per.week</th>\n",
       "      <th>native.country</th>\n",
       "      <th>income</th>\n",
       "    </tr>\n",
       "  </thead>\n",
       "  <tbody>\n",
       "    <tr>\n",
       "      <th>0</th>\n",
       "      <td>90</td>\n",
       "      <td>?</td>\n",
       "      <td>77053</td>\n",
       "      <td>HS-grad</td>\n",
       "      <td>9</td>\n",
       "      <td>Widowed</td>\n",
       "      <td>?</td>\n",
       "      <td>Not-in-family</td>\n",
       "      <td>White</td>\n",
       "      <td>Female</td>\n",
       "      <td>0</td>\n",
       "      <td>4356</td>\n",
       "      <td>40</td>\n",
       "      <td>United-States</td>\n",
       "      <td>&lt;=50K</td>\n",
       "    </tr>\n",
       "    <tr>\n",
       "      <th>1</th>\n",
       "      <td>82</td>\n",
       "      <td>Private</td>\n",
       "      <td>132870</td>\n",
       "      <td>HS-grad</td>\n",
       "      <td>9</td>\n",
       "      <td>Widowed</td>\n",
       "      <td>Exec-managerial</td>\n",
       "      <td>Not-in-family</td>\n",
       "      <td>White</td>\n",
       "      <td>Female</td>\n",
       "      <td>0</td>\n",
       "      <td>4356</td>\n",
       "      <td>18</td>\n",
       "      <td>United-States</td>\n",
       "      <td>&lt;=50K</td>\n",
       "    </tr>\n",
       "    <tr>\n",
       "      <th>2</th>\n",
       "      <td>66</td>\n",
       "      <td>?</td>\n",
       "      <td>186061</td>\n",
       "      <td>Some-college</td>\n",
       "      <td>10</td>\n",
       "      <td>Widowed</td>\n",
       "      <td>?</td>\n",
       "      <td>Unmarried</td>\n",
       "      <td>Black</td>\n",
       "      <td>Female</td>\n",
       "      <td>0</td>\n",
       "      <td>4356</td>\n",
       "      <td>40</td>\n",
       "      <td>United-States</td>\n",
       "      <td>&lt;=50K</td>\n",
       "    </tr>\n",
       "    <tr>\n",
       "      <th>3</th>\n",
       "      <td>54</td>\n",
       "      <td>Private</td>\n",
       "      <td>140359</td>\n",
       "      <td>7th-8th</td>\n",
       "      <td>4</td>\n",
       "      <td>Divorced</td>\n",
       "      <td>Machine-op-inspct</td>\n",
       "      <td>Unmarried</td>\n",
       "      <td>White</td>\n",
       "      <td>Female</td>\n",
       "      <td>0</td>\n",
       "      <td>3900</td>\n",
       "      <td>40</td>\n",
       "      <td>United-States</td>\n",
       "      <td>&lt;=50K</td>\n",
       "    </tr>\n",
       "    <tr>\n",
       "      <th>4</th>\n",
       "      <td>41</td>\n",
       "      <td>Private</td>\n",
       "      <td>264663</td>\n",
       "      <td>Some-college</td>\n",
       "      <td>10</td>\n",
       "      <td>Separated</td>\n",
       "      <td>Prof-specialty</td>\n",
       "      <td>Own-child</td>\n",
       "      <td>White</td>\n",
       "      <td>Female</td>\n",
       "      <td>0</td>\n",
       "      <td>3900</td>\n",
       "      <td>40</td>\n",
       "      <td>United-States</td>\n",
       "      <td>&lt;=50K</td>\n",
       "    </tr>\n",
       "  </tbody>\n",
       "</table>\n",
       "</div>"
      ]
     },
     "metadata": {},
     "execution_count": 3
    }
   ],
   "metadata": {}
  },
  {
   "cell_type": "markdown",
   "source": [
    "# EDA"
   ],
   "metadata": {}
  },
  {
   "cell_type": "code",
   "execution_count": 10,
   "source": [
    "df_adult.replace('?', np.nan, inplace=True)"
   ],
   "outputs": [],
   "metadata": {}
  },
  {
   "cell_type": "code",
   "execution_count": 11,
   "source": [
    "df_adult.isnull().sum()"
   ],
   "outputs": [
    {
     "output_type": "execute_result",
     "data": {
      "text/plain": [
       "age                  0\n",
       "workclass         1836\n",
       "fnlwgt               0\n",
       "education            0\n",
       "education.num        0\n",
       "marital.status       0\n",
       "occupation        1843\n",
       "relationship         0\n",
       "race                 0\n",
       "sex                  0\n",
       "capital.gain         0\n",
       "capital.loss         0\n",
       "hours.per.week       0\n",
       "native.country     583\n",
       "income               0\n",
       "dtype: int64"
      ]
     },
     "metadata": {},
     "execution_count": 11
    }
   ],
   "metadata": {}
  },
  {
   "cell_type": "markdown",
   "source": [
    "# Preprocessing"
   ],
   "metadata": {}
  },
  {
   "cell_type": "code",
   "execution_count": 12,
   "source": [
    "onehot = OneHotEncoder(drop='first')\n",
    "onehot_var = ['relationship', 'race', 'sex']\n",
    "\n",
    "imputer = SimpleImputer(strategy='constant', fill_value='Others')\n",
    "binary = ce.BinaryEncoder()\n",
    "\n",
    "binary_pipe = Pipeline(\n",
    "    [\n",
    "        ('imputer', imputer),\n",
    "        ('binary', binary)\n",
    "    ]\n",
    ")\n",
    "binary_var = ['workclass', 'marital.status', 'occupation', 'native.country']\n",
    "\n",
    "transformer = ColumnTransformer(\n",
    "    [\n",
    "        ('onehot', onehot, onehot_var),\n",
    "        ('binary', binary_pipe, binary_var)\n",
    "    ], remainder='passthrough'\n",
    ")"
   ],
   "outputs": [],
   "metadata": {}
  },
  {
   "cell_type": "markdown",
   "source": [
    "# Data Splitting"
   ],
   "metadata": {}
  },
  {
   "cell_type": "code",
   "execution_count": 29,
   "source": [
    "X = df_adult.drop(columns=['income', 'fnlwgt', 'education'])\n",
    "y = np.where(df_adult['income'] == '>50K', 1, 0)"
   ],
   "outputs": [],
   "metadata": {}
  },
  {
   "cell_type": "code",
   "execution_count": 31,
   "source": [
    "X_train, X_test, y_train, y_test = train_test_split(\n",
    "    X,\n",
    "    y,\n",
    "    stratify=y,\n",
    "    random_state=10,\n",
    ")"
   ],
   "outputs": [],
   "metadata": {}
  },
  {
   "cell_type": "markdown",
   "source": [
    "# Modeling (Benchmark)"
   ],
   "metadata": {}
  },
  {
   "cell_type": "code",
   "execution_count": 32,
   "source": [
    "skf = StratifiedKFold(n_splits=5)\n",
    "tree = DecisionTreeClassifier(criterion='entropy', max_depth=5, random_state=10)\n",
    "\n",
    "estimator = Pipeline(\n",
    "    [\n",
    "        ('transformer', transformer),\n",
    "        ('model', tree)\n",
    "    ]\n",
    ")"
   ],
   "outputs": [],
   "metadata": {}
  },
  {
   "cell_type": "code",
   "execution_count": 44,
   "source": [
    "tree_cv = cross_val_score(estimator, X_train, y_train, scoring='f1')"
   ],
   "outputs": [],
   "metadata": {}
  },
  {
   "cell_type": "code",
   "execution_count": 34,
   "source": [
    "tree_cv"
   ],
   "outputs": [
    {
     "output_type": "execute_result",
     "data": {
      "text/plain": [
       "array([0.6135094 , 0.61717172, 0.61113899, 0.61748358, 0.62020202])"
      ]
     },
     "metadata": {},
     "execution_count": 34
    }
   ],
   "metadata": {}
  },
  {
   "cell_type": "code",
   "execution_count": 35,
   "source": [
    "tree_cv.mean()"
   ],
   "outputs": [
    {
     "output_type": "execute_result",
     "data": {
      "text/plain": [
       "0.6159011394046097"
      ]
     },
     "metadata": {},
     "execution_count": 35
    }
   ],
   "metadata": {}
  },
  {
   "cell_type": "code",
   "execution_count": 36,
   "source": [
    "tree_cv.std()"
   ],
   "outputs": [
    {
     "output_type": "execute_result",
     "data": {
      "text/plain": [
       "0.003194200777543969"
      ]
     },
     "metadata": {},
     "execution_count": 36
    }
   ],
   "metadata": {}
  },
  {
   "cell_type": "code",
   "execution_count": 37,
   "source": [
    "print('cross val result: ', tree_cv)\n",
    "print('mean cross val result: ', tree_cv.mean())\n",
    "print('std cross val result: ', tree_cv.std())"
   ],
   "outputs": [
    {
     "output_type": "stream",
     "name": "stdout",
     "text": [
      "cross val result:  [0.6135094  0.61717172 0.61113899 0.61748358 0.62020202]\n",
      "mean cross val result:  0.6159011394046097\n",
      "std cross val result:  0.003194200777543969\n"
     ]
    }
   ],
   "metadata": {}
  },
  {
   "cell_type": "markdown",
   "source": [
    "# Another Model and Metrics"
   ],
   "metadata": {}
  },
  {
   "cell_type": "code",
   "execution_count": 39,
   "source": [
    "def model_evaluation_cv(model, metrics):\n",
    "    skf = StratifiedKFold(n_splits=5)\n",
    "    \n",
    "    estimator = Pipeline(\n",
    "        [\n",
    "            ('transformer', transformer),\n",
    "            ('model', model)\n",
    "        ]\n",
    "    )\n",
    "\n",
    "    model_cv = cross_val_score(estimator, X_train, y_train, scoring=metrics)\n",
    "\n",
    "    print('cross val result: ', model_cv)\n",
    "    print('mean cross val result: ', model_cv.mean())\n",
    "    print('std cross val result: ', model_cv.std())"
   ],
   "outputs": [],
   "metadata": {}
  },
  {
   "cell_type": "code",
   "execution_count": 47,
   "source": [
    "logreg = LogisticRegression(solver='liblinear')\n",
    "knn = KNeighborsClassifier(n_neighbors=5)"
   ],
   "outputs": [],
   "metadata": {}
  },
  {
   "cell_type": "code",
   "execution_count": 48,
   "source": [
    "model_evaluation_cv(logreg, 'f1')"
   ],
   "outputs": [
    {
     "output_type": "stream",
     "name": "stdout",
     "text": [
      "cross val result:  [0.64237776 0.65246212 0.63801337 0.63454198 0.66884633]\n",
      "mean cross val result:  0.6472483134886825\n",
      "std cross val result:  0.012362164275377705\n"
     ]
    }
   ],
   "metadata": {}
  },
  {
   "cell_type": "code",
   "execution_count": 45,
   "source": [
    "model_evaluation_cv(knn, 'f1')"
   ],
   "outputs": [
    {
     "output_type": "stream",
     "name": "stdout",
     "text": [
      "cross val result:  [0.65723131 0.6600346  0.65443425 0.667259   0.68693009]\n",
      "mean cross val result:  0.6651778507211802\n",
      "std cross val result:  0.011683462929397925\n"
     ]
    }
   ],
   "metadata": {}
  },
  {
   "cell_type": "code",
   "execution_count": 49,
   "source": [
    "model_evaluation_cv(logreg, 'recall')"
   ],
   "outputs": [
    {
     "output_type": "stream",
     "name": "stdout",
     "text": [
      "cross val result:  [0.56972789 0.58588435 0.56802721 0.56547619 0.60832625]\n",
      "mean cross val result:  0.5794883798889139\n",
      "std cross val result:  0.016096573580802676\n"
     ]
    }
   ],
   "metadata": {}
  },
  {
   "cell_type": "markdown",
   "source": [
    "# Benchmark Logistic Regression"
   ],
   "metadata": {}
  },
  {
   "cell_type": "code",
   "execution_count": 50,
   "source": [
    "logreg = LogisticRegression(solver='liblinear')\n",
    "\n",
    "estimator = Pipeline(\n",
    "    [\n",
    "        ('transformer', transformer),\n",
    "        ('model', logreg)\n",
    "    ]\n",
    ")"
   ],
   "outputs": [],
   "metadata": {}
  },
  {
   "cell_type": "code",
   "execution_count": 51,
   "source": [
    "estimator.fit(X_train, y_train)"
   ],
   "outputs": [
    {
     "output_type": "execute_result",
     "data": {
      "text/plain": [
       "Pipeline(steps=[('transformer',\n",
       "                 ColumnTransformer(remainder='passthrough',\n",
       "                                   transformers=[('onehot',\n",
       "                                                  OneHotEncoder(drop='first'),\n",
       "                                                  ['relationship', 'race',\n",
       "                                                   'sex']),\n",
       "                                                 ('binary',\n",
       "                                                  Pipeline(steps=[('imputer',\n",
       "                                                                   SimpleImputer(fill_value='Others',\n",
       "                                                                                 strategy='constant')),\n",
       "                                                                  ('binary',\n",
       "                                                                   BinaryEncoder())]),\n",
       "                                                  ['workclass',\n",
       "                                                   'marital.status',\n",
       "                                                   'occupation',\n",
       "                                                   'native.country'])])),\n",
       "                ('model', LogisticRegression(solver='liblinear'))])"
      ]
     },
     "metadata": {},
     "execution_count": 51
    }
   ],
   "metadata": {}
  },
  {
   "cell_type": "code",
   "execution_count": 53,
   "source": [
    "y_pred = estimator.predict(X_test)\n",
    "print(classification_report(y_test, y_pred))"
   ],
   "outputs": [
    {
     "output_type": "stream",
     "name": "stdout",
     "text": [
      "              precision    recall  f1-score   support\n",
      "\n",
      "           0       0.87      0.94      0.91      6181\n",
      "           1       0.75      0.57      0.65      1960\n",
      "\n",
      "    accuracy                           0.85      8141\n",
      "   macro avg       0.81      0.76      0.78      8141\n",
      "weighted avg       0.84      0.85      0.84      8141\n",
      "\n"
     ]
    }
   ],
   "metadata": {}
  },
  {
   "cell_type": "code",
   "execution_count": 55,
   "source": [
    "plot_roc_curve(estimator, X_test, y_test)"
   ],
   "outputs": [
    {
     "output_type": "execute_result",
     "data": {
      "text/plain": [
       "<sklearn.metrics._plot.roc_curve.RocCurveDisplay at 0x1439d4370>"
      ]
     },
     "metadata": {},
     "execution_count": 55
    },
    {
     "output_type": "display_data",
     "data": {
      "text/plain": [
       "<Figure size 432x288 with 1 Axes>"
      ],
      "image/svg+xml": "<?xml version=\"1.0\" encoding=\"utf-8\" standalone=\"no\"?>\n<!DOCTYPE svg PUBLIC \"-//W3C//DTD SVG 1.1//EN\"\n  \"http://www.w3.org/Graphics/SVG/1.1/DTD/svg11.dtd\">\n<svg height=\"262.19625pt\" version=\"1.1\" viewBox=\"0 0 385.78125 262.19625\" width=\"385.78125pt\" xmlns=\"http://www.w3.org/2000/svg\" xmlns:xlink=\"http://www.w3.org/1999/xlink\">\n <metadata>\n  <rdf:RDF xmlns:cc=\"http://creativecommons.org/ns#\" xmlns:dc=\"http://purl.org/dc/elements/1.1/\" xmlns:rdf=\"http://www.w3.org/1999/02/22-rdf-syntax-ns#\">\n   <cc:Work>\n    <dc:type rdf:resource=\"http://purl.org/dc/dcmitype/StillImage\"/>\n    <dc:date>2021-09-02T16:28:18.398656</dc:date>\n    <dc:format>image/svg+xml</dc:format>\n    <dc:creator>\n     <cc:Agent>\n      <dc:title>Matplotlib v3.4.2, https://matplotlib.org/</dc:title>\n     </cc:Agent>\n    </dc:creator>\n   </cc:Work>\n  </rdf:RDF>\n </metadata>\n <defs>\n  <style type=\"text/css\">*{stroke-linecap:butt;stroke-linejoin:round;}</style>\n </defs>\n <g id=\"figure_1\">\n  <g id=\"patch_1\">\n   <path d=\"M 0 262.19625 \nL 385.78125 262.19625 \nL 385.78125 0 \nL 0 0 \nz\n\" style=\"fill:none;\"/>\n  </g>\n  <g id=\"axes_1\">\n   <g id=\"patch_2\">\n    <path d=\"M 43.78125 224.64 \nL 378.58125 224.64 \nL 378.58125 7.2 \nL 43.78125 7.2 \nz\n\" style=\"fill:#ffffff;\"/>\n   </g>\n   <g id=\"matplotlib.axis_1\">\n    <g id=\"xtick_1\">\n     <g id=\"line2d_1\">\n      <defs>\n       <path d=\"M 0 0 \nL 0 3.5 \n\" id=\"m7c4dadb442\" style=\"stroke:#000000;stroke-width:0.8;\"/>\n      </defs>\n      <g>\n       <use style=\"stroke:#000000;stroke-width:0.8;\" x=\"58.999432\" xlink:href=\"#m7c4dadb442\" y=\"224.64\"/>\n      </g>\n     </g>\n     <g id=\"text_1\">\n      <!-- 0.0 -->\n      <g transform=\"translate(51.047869 239.238437)scale(0.1 -0.1)\">\n       <defs>\n        <path d=\"M 2034 4250 \nQ 1547 4250 1301 3770 \nQ 1056 3291 1056 2328 \nQ 1056 1369 1301 889 \nQ 1547 409 2034 409 \nQ 2525 409 2770 889 \nQ 3016 1369 3016 2328 \nQ 3016 3291 2770 3770 \nQ 2525 4250 2034 4250 \nz\nM 2034 4750 \nQ 2819 4750 3233 4129 \nQ 3647 3509 3647 2328 \nQ 3647 1150 3233 529 \nQ 2819 -91 2034 -91 \nQ 1250 -91 836 529 \nQ 422 1150 422 2328 \nQ 422 3509 836 4129 \nQ 1250 4750 2034 4750 \nz\n\" id=\"DejaVuSans-30\" transform=\"scale(0.015625)\"/>\n        <path d=\"M 684 794 \nL 1344 794 \nL 1344 0 \nL 684 0 \nL 684 794 \nz\n\" id=\"DejaVuSans-2e\" transform=\"scale(0.015625)\"/>\n       </defs>\n       <use xlink:href=\"#DejaVuSans-30\"/>\n       <use x=\"63.623047\" xlink:href=\"#DejaVuSans-2e\"/>\n       <use x=\"95.410156\" xlink:href=\"#DejaVuSans-30\"/>\n      </g>\n     </g>\n    </g>\n    <g id=\"xtick_2\">\n     <g id=\"line2d_2\">\n      <g>\n       <use style=\"stroke:#000000;stroke-width:0.8;\" x=\"119.872159\" xlink:href=\"#m7c4dadb442\" y=\"224.64\"/>\n      </g>\n     </g>\n     <g id=\"text_2\">\n      <!-- 0.2 -->\n      <g transform=\"translate(111.920597 239.238437)scale(0.1 -0.1)\">\n       <defs>\n        <path d=\"M 1228 531 \nL 3431 531 \nL 3431 0 \nL 469 0 \nL 469 531 \nQ 828 903 1448 1529 \nQ 2069 2156 2228 2338 \nQ 2531 2678 2651 2914 \nQ 2772 3150 2772 3378 \nQ 2772 3750 2511 3984 \nQ 2250 4219 1831 4219 \nQ 1534 4219 1204 4116 \nQ 875 4013 500 3803 \nL 500 4441 \nQ 881 4594 1212 4672 \nQ 1544 4750 1819 4750 \nQ 2544 4750 2975 4387 \nQ 3406 4025 3406 3419 \nQ 3406 3131 3298 2873 \nQ 3191 2616 2906 2266 \nQ 2828 2175 2409 1742 \nQ 1991 1309 1228 531 \nz\n\" id=\"DejaVuSans-32\" transform=\"scale(0.015625)\"/>\n       </defs>\n       <use xlink:href=\"#DejaVuSans-30\"/>\n       <use x=\"63.623047\" xlink:href=\"#DejaVuSans-2e\"/>\n       <use x=\"95.410156\" xlink:href=\"#DejaVuSans-32\"/>\n      </g>\n     </g>\n    </g>\n    <g id=\"xtick_3\">\n     <g id=\"line2d_3\">\n      <g>\n       <use style=\"stroke:#000000;stroke-width:0.8;\" x=\"180.744886\" xlink:href=\"#m7c4dadb442\" y=\"224.64\"/>\n      </g>\n     </g>\n     <g id=\"text_3\">\n      <!-- 0.4 -->\n      <g transform=\"translate(172.793324 239.238437)scale(0.1 -0.1)\">\n       <defs>\n        <path d=\"M 2419 4116 \nL 825 1625 \nL 2419 1625 \nL 2419 4116 \nz\nM 2253 4666 \nL 3047 4666 \nL 3047 1625 \nL 3713 1625 \nL 3713 1100 \nL 3047 1100 \nL 3047 0 \nL 2419 0 \nL 2419 1100 \nL 313 1100 \nL 313 1709 \nL 2253 4666 \nz\n\" id=\"DejaVuSans-34\" transform=\"scale(0.015625)\"/>\n       </defs>\n       <use xlink:href=\"#DejaVuSans-30\"/>\n       <use x=\"63.623047\" xlink:href=\"#DejaVuSans-2e\"/>\n       <use x=\"95.410156\" xlink:href=\"#DejaVuSans-34\"/>\n      </g>\n     </g>\n    </g>\n    <g id=\"xtick_4\">\n     <g id=\"line2d_4\">\n      <g>\n       <use style=\"stroke:#000000;stroke-width:0.8;\" x=\"241.617614\" xlink:href=\"#m7c4dadb442\" y=\"224.64\"/>\n      </g>\n     </g>\n     <g id=\"text_4\">\n      <!-- 0.6 -->\n      <g transform=\"translate(233.666051 239.238437)scale(0.1 -0.1)\">\n       <defs>\n        <path d=\"M 2113 2584 \nQ 1688 2584 1439 2293 \nQ 1191 2003 1191 1497 \nQ 1191 994 1439 701 \nQ 1688 409 2113 409 \nQ 2538 409 2786 701 \nQ 3034 994 3034 1497 \nQ 3034 2003 2786 2293 \nQ 2538 2584 2113 2584 \nz\nM 3366 4563 \nL 3366 3988 \nQ 3128 4100 2886 4159 \nQ 2644 4219 2406 4219 \nQ 1781 4219 1451 3797 \nQ 1122 3375 1075 2522 \nQ 1259 2794 1537 2939 \nQ 1816 3084 2150 3084 \nQ 2853 3084 3261 2657 \nQ 3669 2231 3669 1497 \nQ 3669 778 3244 343 \nQ 2819 -91 2113 -91 \nQ 1303 -91 875 529 \nQ 447 1150 447 2328 \nQ 447 3434 972 4092 \nQ 1497 4750 2381 4750 \nQ 2619 4750 2861 4703 \nQ 3103 4656 3366 4563 \nz\n\" id=\"DejaVuSans-36\" transform=\"scale(0.015625)\"/>\n       </defs>\n       <use xlink:href=\"#DejaVuSans-30\"/>\n       <use x=\"63.623047\" xlink:href=\"#DejaVuSans-2e\"/>\n       <use x=\"95.410156\" xlink:href=\"#DejaVuSans-36\"/>\n      </g>\n     </g>\n    </g>\n    <g id=\"xtick_5\">\n     <g id=\"line2d_5\">\n      <g>\n       <use style=\"stroke:#000000;stroke-width:0.8;\" x=\"302.490341\" xlink:href=\"#m7c4dadb442\" y=\"224.64\"/>\n      </g>\n     </g>\n     <g id=\"text_5\">\n      <!-- 0.8 -->\n      <g transform=\"translate(294.538778 239.238437)scale(0.1 -0.1)\">\n       <defs>\n        <path d=\"M 2034 2216 \nQ 1584 2216 1326 1975 \nQ 1069 1734 1069 1313 \nQ 1069 891 1326 650 \nQ 1584 409 2034 409 \nQ 2484 409 2743 651 \nQ 3003 894 3003 1313 \nQ 3003 1734 2745 1975 \nQ 2488 2216 2034 2216 \nz\nM 1403 2484 \nQ 997 2584 770 2862 \nQ 544 3141 544 3541 \nQ 544 4100 942 4425 \nQ 1341 4750 2034 4750 \nQ 2731 4750 3128 4425 \nQ 3525 4100 3525 3541 \nQ 3525 3141 3298 2862 \nQ 3072 2584 2669 2484 \nQ 3125 2378 3379 2068 \nQ 3634 1759 3634 1313 \nQ 3634 634 3220 271 \nQ 2806 -91 2034 -91 \nQ 1263 -91 848 271 \nQ 434 634 434 1313 \nQ 434 1759 690 2068 \nQ 947 2378 1403 2484 \nz\nM 1172 3481 \nQ 1172 3119 1398 2916 \nQ 1625 2713 2034 2713 \nQ 2441 2713 2670 2916 \nQ 2900 3119 2900 3481 \nQ 2900 3844 2670 4047 \nQ 2441 4250 2034 4250 \nQ 1625 4250 1398 4047 \nQ 1172 3844 1172 3481 \nz\n\" id=\"DejaVuSans-38\" transform=\"scale(0.015625)\"/>\n       </defs>\n       <use xlink:href=\"#DejaVuSans-30\"/>\n       <use x=\"63.623047\" xlink:href=\"#DejaVuSans-2e\"/>\n       <use x=\"95.410156\" xlink:href=\"#DejaVuSans-38\"/>\n      </g>\n     </g>\n    </g>\n    <g id=\"xtick_6\">\n     <g id=\"line2d_6\">\n      <g>\n       <use style=\"stroke:#000000;stroke-width:0.8;\" x=\"363.363068\" xlink:href=\"#m7c4dadb442\" y=\"224.64\"/>\n      </g>\n     </g>\n     <g id=\"text_6\">\n      <!-- 1.0 -->\n      <g transform=\"translate(355.411506 239.238437)scale(0.1 -0.1)\">\n       <defs>\n        <path d=\"M 794 531 \nL 1825 531 \nL 1825 4091 \nL 703 3866 \nL 703 4441 \nL 1819 4666 \nL 2450 4666 \nL 2450 531 \nL 3481 531 \nL 3481 0 \nL 794 0 \nL 794 531 \nz\n\" id=\"DejaVuSans-31\" transform=\"scale(0.015625)\"/>\n       </defs>\n       <use xlink:href=\"#DejaVuSans-31\"/>\n       <use x=\"63.623047\" xlink:href=\"#DejaVuSans-2e\"/>\n       <use x=\"95.410156\" xlink:href=\"#DejaVuSans-30\"/>\n      </g>\n     </g>\n    </g>\n    <g id=\"text_7\">\n     <!-- False Positive Rate (Positive label: 1) -->\n     <g transform=\"translate(119.815625 252.916562)scale(0.1 -0.1)\">\n      <defs>\n       <path d=\"M 628 4666 \nL 3309 4666 \nL 3309 4134 \nL 1259 4134 \nL 1259 2759 \nL 3109 2759 \nL 3109 2228 \nL 1259 2228 \nL 1259 0 \nL 628 0 \nL 628 4666 \nz\n\" id=\"DejaVuSans-46\" transform=\"scale(0.015625)\"/>\n       <path d=\"M 2194 1759 \nQ 1497 1759 1228 1600 \nQ 959 1441 959 1056 \nQ 959 750 1161 570 \nQ 1363 391 1709 391 \nQ 2188 391 2477 730 \nQ 2766 1069 2766 1631 \nL 2766 1759 \nL 2194 1759 \nz\nM 3341 1997 \nL 3341 0 \nL 2766 0 \nL 2766 531 \nQ 2569 213 2275 61 \nQ 1981 -91 1556 -91 \nQ 1019 -91 701 211 \nQ 384 513 384 1019 \nQ 384 1609 779 1909 \nQ 1175 2209 1959 2209 \nL 2766 2209 \nL 2766 2266 \nQ 2766 2663 2505 2880 \nQ 2244 3097 1772 3097 \nQ 1472 3097 1187 3025 \nQ 903 2953 641 2809 \nL 641 3341 \nQ 956 3463 1253 3523 \nQ 1550 3584 1831 3584 \nQ 2591 3584 2966 3190 \nQ 3341 2797 3341 1997 \nz\n\" id=\"DejaVuSans-61\" transform=\"scale(0.015625)\"/>\n       <path d=\"M 603 4863 \nL 1178 4863 \nL 1178 0 \nL 603 0 \nL 603 4863 \nz\n\" id=\"DejaVuSans-6c\" transform=\"scale(0.015625)\"/>\n       <path d=\"M 2834 3397 \nL 2834 2853 \nQ 2591 2978 2328 3040 \nQ 2066 3103 1784 3103 \nQ 1356 3103 1142 2972 \nQ 928 2841 928 2578 \nQ 928 2378 1081 2264 \nQ 1234 2150 1697 2047 \nL 1894 2003 \nQ 2506 1872 2764 1633 \nQ 3022 1394 3022 966 \nQ 3022 478 2636 193 \nQ 2250 -91 1575 -91 \nQ 1294 -91 989 -36 \nQ 684 19 347 128 \nL 347 722 \nQ 666 556 975 473 \nQ 1284 391 1588 391 \nQ 1994 391 2212 530 \nQ 2431 669 2431 922 \nQ 2431 1156 2273 1281 \nQ 2116 1406 1581 1522 \nL 1381 1569 \nQ 847 1681 609 1914 \nQ 372 2147 372 2553 \nQ 372 3047 722 3315 \nQ 1072 3584 1716 3584 \nQ 2034 3584 2315 3537 \nQ 2597 3491 2834 3397 \nz\n\" id=\"DejaVuSans-73\" transform=\"scale(0.015625)\"/>\n       <path d=\"M 3597 1894 \nL 3597 1613 \nL 953 1613 \nQ 991 1019 1311 708 \nQ 1631 397 2203 397 \nQ 2534 397 2845 478 \nQ 3156 559 3463 722 \nL 3463 178 \nQ 3153 47 2828 -22 \nQ 2503 -91 2169 -91 \nQ 1331 -91 842 396 \nQ 353 884 353 1716 \nQ 353 2575 817 3079 \nQ 1281 3584 2069 3584 \nQ 2775 3584 3186 3129 \nQ 3597 2675 3597 1894 \nz\nM 3022 2063 \nQ 3016 2534 2758 2815 \nQ 2500 3097 2075 3097 \nQ 1594 3097 1305 2825 \nQ 1016 2553 972 2059 \nL 3022 2063 \nz\n\" id=\"DejaVuSans-65\" transform=\"scale(0.015625)\"/>\n       <path id=\"DejaVuSans-20\" transform=\"scale(0.015625)\"/>\n       <path d=\"M 1259 4147 \nL 1259 2394 \nL 2053 2394 \nQ 2494 2394 2734 2622 \nQ 2975 2850 2975 3272 \nQ 2975 3691 2734 3919 \nQ 2494 4147 2053 4147 \nL 1259 4147 \nz\nM 628 4666 \nL 2053 4666 \nQ 2838 4666 3239 4311 \nQ 3641 3956 3641 3272 \nQ 3641 2581 3239 2228 \nQ 2838 1875 2053 1875 \nL 1259 1875 \nL 1259 0 \nL 628 0 \nL 628 4666 \nz\n\" id=\"DejaVuSans-50\" transform=\"scale(0.015625)\"/>\n       <path d=\"M 1959 3097 \nQ 1497 3097 1228 2736 \nQ 959 2375 959 1747 \nQ 959 1119 1226 758 \nQ 1494 397 1959 397 \nQ 2419 397 2687 759 \nQ 2956 1122 2956 1747 \nQ 2956 2369 2687 2733 \nQ 2419 3097 1959 3097 \nz\nM 1959 3584 \nQ 2709 3584 3137 3096 \nQ 3566 2609 3566 1747 \nQ 3566 888 3137 398 \nQ 2709 -91 1959 -91 \nQ 1206 -91 779 398 \nQ 353 888 353 1747 \nQ 353 2609 779 3096 \nQ 1206 3584 1959 3584 \nz\n\" id=\"DejaVuSans-6f\" transform=\"scale(0.015625)\"/>\n       <path d=\"M 603 3500 \nL 1178 3500 \nL 1178 0 \nL 603 0 \nL 603 3500 \nz\nM 603 4863 \nL 1178 4863 \nL 1178 4134 \nL 603 4134 \nL 603 4863 \nz\n\" id=\"DejaVuSans-69\" transform=\"scale(0.015625)\"/>\n       <path d=\"M 1172 4494 \nL 1172 3500 \nL 2356 3500 \nL 2356 3053 \nL 1172 3053 \nL 1172 1153 \nQ 1172 725 1289 603 \nQ 1406 481 1766 481 \nL 2356 481 \nL 2356 0 \nL 1766 0 \nQ 1100 0 847 248 \nQ 594 497 594 1153 \nL 594 3053 \nL 172 3053 \nL 172 3500 \nL 594 3500 \nL 594 4494 \nL 1172 4494 \nz\n\" id=\"DejaVuSans-74\" transform=\"scale(0.015625)\"/>\n       <path d=\"M 191 3500 \nL 800 3500 \nL 1894 563 \nL 2988 3500 \nL 3597 3500 \nL 2284 0 \nL 1503 0 \nL 191 3500 \nz\n\" id=\"DejaVuSans-76\" transform=\"scale(0.015625)\"/>\n       <path d=\"M 2841 2188 \nQ 3044 2119 3236 1894 \nQ 3428 1669 3622 1275 \nL 4263 0 \nL 3584 0 \nL 2988 1197 \nQ 2756 1666 2539 1819 \nQ 2322 1972 1947 1972 \nL 1259 1972 \nL 1259 0 \nL 628 0 \nL 628 4666 \nL 2053 4666 \nQ 2853 4666 3247 4331 \nQ 3641 3997 3641 3322 \nQ 3641 2881 3436 2590 \nQ 3231 2300 2841 2188 \nz\nM 1259 4147 \nL 1259 2491 \nL 2053 2491 \nQ 2509 2491 2742 2702 \nQ 2975 2913 2975 3322 \nQ 2975 3731 2742 3939 \nQ 2509 4147 2053 4147 \nL 1259 4147 \nz\n\" id=\"DejaVuSans-52\" transform=\"scale(0.015625)\"/>\n       <path d=\"M 1984 4856 \nQ 1566 4138 1362 3434 \nQ 1159 2731 1159 2009 \nQ 1159 1288 1364 580 \nQ 1569 -128 1984 -844 \nL 1484 -844 \nQ 1016 -109 783 600 \nQ 550 1309 550 2009 \nQ 550 2706 781 3412 \nQ 1013 4119 1484 4856 \nL 1984 4856 \nz\n\" id=\"DejaVuSans-28\" transform=\"scale(0.015625)\"/>\n       <path d=\"M 3116 1747 \nQ 3116 2381 2855 2742 \nQ 2594 3103 2138 3103 \nQ 1681 3103 1420 2742 \nQ 1159 2381 1159 1747 \nQ 1159 1113 1420 752 \nQ 1681 391 2138 391 \nQ 2594 391 2855 752 \nQ 3116 1113 3116 1747 \nz\nM 1159 2969 \nQ 1341 3281 1617 3432 \nQ 1894 3584 2278 3584 \nQ 2916 3584 3314 3078 \nQ 3713 2572 3713 1747 \nQ 3713 922 3314 415 \nQ 2916 -91 2278 -91 \nQ 1894 -91 1617 61 \nQ 1341 213 1159 525 \nL 1159 0 \nL 581 0 \nL 581 4863 \nL 1159 4863 \nL 1159 2969 \nz\n\" id=\"DejaVuSans-62\" transform=\"scale(0.015625)\"/>\n       <path d=\"M 750 794 \nL 1409 794 \nL 1409 0 \nL 750 0 \nL 750 794 \nz\nM 750 3309 \nL 1409 3309 \nL 1409 2516 \nL 750 2516 \nL 750 3309 \nz\n\" id=\"DejaVuSans-3a\" transform=\"scale(0.015625)\"/>\n       <path d=\"M 513 4856 \nL 1013 4856 \nQ 1481 4119 1714 3412 \nQ 1947 2706 1947 2009 \nQ 1947 1309 1714 600 \nQ 1481 -109 1013 -844 \nL 513 -844 \nQ 928 -128 1133 580 \nQ 1338 1288 1338 2009 \nQ 1338 2731 1133 3434 \nQ 928 4138 513 4856 \nz\n\" id=\"DejaVuSans-29\" transform=\"scale(0.015625)\"/>\n      </defs>\n      <use xlink:href=\"#DejaVuSans-46\"/>\n      <use x=\"48.394531\" xlink:href=\"#DejaVuSans-61\"/>\n      <use x=\"109.673828\" xlink:href=\"#DejaVuSans-6c\"/>\n      <use x=\"137.457031\" xlink:href=\"#DejaVuSans-73\"/>\n      <use x=\"189.556641\" xlink:href=\"#DejaVuSans-65\"/>\n      <use x=\"251.080078\" xlink:href=\"#DejaVuSans-20\"/>\n      <use x=\"282.867188\" xlink:href=\"#DejaVuSans-50\"/>\n      <use x=\"339.544922\" xlink:href=\"#DejaVuSans-6f\"/>\n      <use x=\"400.726562\" xlink:href=\"#DejaVuSans-73\"/>\n      <use x=\"452.826172\" xlink:href=\"#DejaVuSans-69\"/>\n      <use x=\"480.609375\" xlink:href=\"#DejaVuSans-74\"/>\n      <use x=\"519.818359\" xlink:href=\"#DejaVuSans-69\"/>\n      <use x=\"547.601562\" xlink:href=\"#DejaVuSans-76\"/>\n      <use x=\"606.78125\" xlink:href=\"#DejaVuSans-65\"/>\n      <use x=\"668.304688\" xlink:href=\"#DejaVuSans-20\"/>\n      <use x=\"700.091797\" xlink:href=\"#DejaVuSans-52\"/>\n      <use x=\"767.324219\" xlink:href=\"#DejaVuSans-61\"/>\n      <use x=\"828.603516\" xlink:href=\"#DejaVuSans-74\"/>\n      <use x=\"867.8125\" xlink:href=\"#DejaVuSans-65\"/>\n      <use x=\"929.335938\" xlink:href=\"#DejaVuSans-20\"/>\n      <use x=\"961.123047\" xlink:href=\"#DejaVuSans-28\"/>\n      <use x=\"1000.136719\" xlink:href=\"#DejaVuSans-50\"/>\n      <use x=\"1056.814453\" xlink:href=\"#DejaVuSans-6f\"/>\n      <use x=\"1117.996094\" xlink:href=\"#DejaVuSans-73\"/>\n      <use x=\"1170.095703\" xlink:href=\"#DejaVuSans-69\"/>\n      <use x=\"1197.878906\" xlink:href=\"#DejaVuSans-74\"/>\n      <use x=\"1237.087891\" xlink:href=\"#DejaVuSans-69\"/>\n      <use x=\"1264.871094\" xlink:href=\"#DejaVuSans-76\"/>\n      <use x=\"1324.050781\" xlink:href=\"#DejaVuSans-65\"/>\n      <use x=\"1385.574219\" xlink:href=\"#DejaVuSans-20\"/>\n      <use x=\"1417.361328\" xlink:href=\"#DejaVuSans-6c\"/>\n      <use x=\"1445.144531\" xlink:href=\"#DejaVuSans-61\"/>\n      <use x=\"1506.423828\" xlink:href=\"#DejaVuSans-62\"/>\n      <use x=\"1569.900391\" xlink:href=\"#DejaVuSans-65\"/>\n      <use x=\"1631.423828\" xlink:href=\"#DejaVuSans-6c\"/>\n      <use x=\"1659.207031\" xlink:href=\"#DejaVuSans-3a\"/>\n      <use x=\"1692.898438\" xlink:href=\"#DejaVuSans-20\"/>\n      <use x=\"1724.685547\" xlink:href=\"#DejaVuSans-31\"/>\n      <use x=\"1788.308594\" xlink:href=\"#DejaVuSans-29\"/>\n     </g>\n    </g>\n   </g>\n   <g id=\"matplotlib.axis_2\">\n    <g id=\"ytick_1\">\n     <g id=\"line2d_7\">\n      <defs>\n       <path d=\"M 0 0 \nL -3.5 0 \n\" id=\"me8339ec053\" style=\"stroke:#000000;stroke-width:0.8;\"/>\n      </defs>\n      <g>\n       <use style=\"stroke:#000000;stroke-width:0.8;\" x=\"43.78125\" xlink:href=\"#me8339ec053\" y=\"214.756364\"/>\n      </g>\n     </g>\n     <g id=\"text_8\">\n      <!-- 0.0 -->\n      <g transform=\"translate(20.878125 218.555582)scale(0.1 -0.1)\">\n       <use xlink:href=\"#DejaVuSans-30\"/>\n       <use x=\"63.623047\" xlink:href=\"#DejaVuSans-2e\"/>\n       <use x=\"95.410156\" xlink:href=\"#DejaVuSans-30\"/>\n      </g>\n     </g>\n    </g>\n    <g id=\"ytick_2\">\n     <g id=\"line2d_8\">\n      <g>\n       <use style=\"stroke:#000000;stroke-width:0.8;\" x=\"43.78125\" xlink:href=\"#me8339ec053\" y=\"175.221818\"/>\n      </g>\n     </g>\n     <g id=\"text_9\">\n      <!-- 0.2 -->\n      <g transform=\"translate(20.878125 179.021037)scale(0.1 -0.1)\">\n       <use xlink:href=\"#DejaVuSans-30\"/>\n       <use x=\"63.623047\" xlink:href=\"#DejaVuSans-2e\"/>\n       <use x=\"95.410156\" xlink:href=\"#DejaVuSans-32\"/>\n      </g>\n     </g>\n    </g>\n    <g id=\"ytick_3\">\n     <g id=\"line2d_9\">\n      <g>\n       <use style=\"stroke:#000000;stroke-width:0.8;\" x=\"43.78125\" xlink:href=\"#me8339ec053\" y=\"135.687273\"/>\n      </g>\n     </g>\n     <g id=\"text_10\">\n      <!-- 0.4 -->\n      <g transform=\"translate(20.878125 139.486491)scale(0.1 -0.1)\">\n       <use xlink:href=\"#DejaVuSans-30\"/>\n       <use x=\"63.623047\" xlink:href=\"#DejaVuSans-2e\"/>\n       <use x=\"95.410156\" xlink:href=\"#DejaVuSans-34\"/>\n      </g>\n     </g>\n    </g>\n    <g id=\"ytick_4\">\n     <g id=\"line2d_10\">\n      <g>\n       <use style=\"stroke:#000000;stroke-width:0.8;\" x=\"43.78125\" xlink:href=\"#me8339ec053\" y=\"96.152727\"/>\n      </g>\n     </g>\n     <g id=\"text_11\">\n      <!-- 0.6 -->\n      <g transform=\"translate(20.878125 99.951946)scale(0.1 -0.1)\">\n       <use xlink:href=\"#DejaVuSans-30\"/>\n       <use x=\"63.623047\" xlink:href=\"#DejaVuSans-2e\"/>\n       <use x=\"95.410156\" xlink:href=\"#DejaVuSans-36\"/>\n      </g>\n     </g>\n    </g>\n    <g id=\"ytick_5\">\n     <g id=\"line2d_11\">\n      <g>\n       <use style=\"stroke:#000000;stroke-width:0.8;\" x=\"43.78125\" xlink:href=\"#me8339ec053\" y=\"56.618182\"/>\n      </g>\n     </g>\n     <g id=\"text_12\">\n      <!-- 0.8 -->\n      <g transform=\"translate(20.878125 60.417401)scale(0.1 -0.1)\">\n       <use xlink:href=\"#DejaVuSans-30\"/>\n       <use x=\"63.623047\" xlink:href=\"#DejaVuSans-2e\"/>\n       <use x=\"95.410156\" xlink:href=\"#DejaVuSans-38\"/>\n      </g>\n     </g>\n    </g>\n    <g id=\"ytick_6\">\n     <g id=\"line2d_12\">\n      <g>\n       <use style=\"stroke:#000000;stroke-width:0.8;\" x=\"43.78125\" xlink:href=\"#me8339ec053\" y=\"17.083636\"/>\n      </g>\n     </g>\n     <g id=\"text_13\">\n      <!-- 1.0 -->\n      <g transform=\"translate(20.878125 20.882855)scale(0.1 -0.1)\">\n       <use xlink:href=\"#DejaVuSans-31\"/>\n       <use x=\"63.623047\" xlink:href=\"#DejaVuSans-2e\"/>\n       <use x=\"95.410156\" xlink:href=\"#DejaVuSans-30\"/>\n      </g>\n     </g>\n    </g>\n    <g id=\"text_14\">\n     <!-- True Positive Rate (Positive label: 1) -->\n     <g transform=\"translate(14.798438 205.348906)rotate(-90)scale(0.1 -0.1)\">\n      <defs>\n       <path d=\"M -19 4666 \nL 3928 4666 \nL 3928 4134 \nL 2272 4134 \nL 2272 0 \nL 1638 0 \nL 1638 4134 \nL -19 4134 \nL -19 4666 \nz\n\" id=\"DejaVuSans-54\" transform=\"scale(0.015625)\"/>\n       <path d=\"M 2631 2963 \nQ 2534 3019 2420 3045 \nQ 2306 3072 2169 3072 \nQ 1681 3072 1420 2755 \nQ 1159 2438 1159 1844 \nL 1159 0 \nL 581 0 \nL 581 3500 \nL 1159 3500 \nL 1159 2956 \nQ 1341 3275 1631 3429 \nQ 1922 3584 2338 3584 \nQ 2397 3584 2469 3576 \nQ 2541 3569 2628 3553 \nL 2631 2963 \nz\n\" id=\"DejaVuSans-72\" transform=\"scale(0.015625)\"/>\n       <path d=\"M 544 1381 \nL 544 3500 \nL 1119 3500 \nL 1119 1403 \nQ 1119 906 1312 657 \nQ 1506 409 1894 409 \nQ 2359 409 2629 706 \nQ 2900 1003 2900 1516 \nL 2900 3500 \nL 3475 3500 \nL 3475 0 \nL 2900 0 \nL 2900 538 \nQ 2691 219 2414 64 \nQ 2138 -91 1772 -91 \nQ 1169 -91 856 284 \nQ 544 659 544 1381 \nz\nM 1991 3584 \nL 1991 3584 \nz\n\" id=\"DejaVuSans-75\" transform=\"scale(0.015625)\"/>\n      </defs>\n      <use xlink:href=\"#DejaVuSans-54\"/>\n      <use x=\"46.333984\" xlink:href=\"#DejaVuSans-72\"/>\n      <use x=\"87.447266\" xlink:href=\"#DejaVuSans-75\"/>\n      <use x=\"150.826172\" xlink:href=\"#DejaVuSans-65\"/>\n      <use x=\"212.349609\" xlink:href=\"#DejaVuSans-20\"/>\n      <use x=\"244.136719\" xlink:href=\"#DejaVuSans-50\"/>\n      <use x=\"300.814453\" xlink:href=\"#DejaVuSans-6f\"/>\n      <use x=\"361.996094\" xlink:href=\"#DejaVuSans-73\"/>\n      <use x=\"414.095703\" xlink:href=\"#DejaVuSans-69\"/>\n      <use x=\"441.878906\" xlink:href=\"#DejaVuSans-74\"/>\n      <use x=\"481.087891\" xlink:href=\"#DejaVuSans-69\"/>\n      <use x=\"508.871094\" xlink:href=\"#DejaVuSans-76\"/>\n      <use x=\"568.050781\" xlink:href=\"#DejaVuSans-65\"/>\n      <use x=\"629.574219\" xlink:href=\"#DejaVuSans-20\"/>\n      <use x=\"661.361328\" xlink:href=\"#DejaVuSans-52\"/>\n      <use x=\"728.59375\" xlink:href=\"#DejaVuSans-61\"/>\n      <use x=\"789.873047\" xlink:href=\"#DejaVuSans-74\"/>\n      <use x=\"829.082031\" xlink:href=\"#DejaVuSans-65\"/>\n      <use x=\"890.605469\" xlink:href=\"#DejaVuSans-20\"/>\n      <use x=\"922.392578\" xlink:href=\"#DejaVuSans-28\"/>\n      <use x=\"961.40625\" xlink:href=\"#DejaVuSans-50\"/>\n      <use x=\"1018.083984\" xlink:href=\"#DejaVuSans-6f\"/>\n      <use x=\"1079.265625\" xlink:href=\"#DejaVuSans-73\"/>\n      <use x=\"1131.365234\" xlink:href=\"#DejaVuSans-69\"/>\n      <use x=\"1159.148438\" xlink:href=\"#DejaVuSans-74\"/>\n      <use x=\"1198.357422\" xlink:href=\"#DejaVuSans-69\"/>\n      <use x=\"1226.140625\" xlink:href=\"#DejaVuSans-76\"/>\n      <use x=\"1285.320312\" xlink:href=\"#DejaVuSans-65\"/>\n      <use x=\"1346.84375\" xlink:href=\"#DejaVuSans-20\"/>\n      <use x=\"1378.630859\" xlink:href=\"#DejaVuSans-6c\"/>\n      <use x=\"1406.414062\" xlink:href=\"#DejaVuSans-61\"/>\n      <use x=\"1467.693359\" xlink:href=\"#DejaVuSans-62\"/>\n      <use x=\"1531.169922\" xlink:href=\"#DejaVuSans-65\"/>\n      <use x=\"1592.693359\" xlink:href=\"#DejaVuSans-6c\"/>\n      <use x=\"1620.476562\" xlink:href=\"#DejaVuSans-3a\"/>\n      <use x=\"1654.167969\" xlink:href=\"#DejaVuSans-20\"/>\n      <use x=\"1685.955078\" xlink:href=\"#DejaVuSans-31\"/>\n      <use x=\"1749.578125\" xlink:href=\"#DejaVuSans-29\"/>\n     </g>\n    </g>\n   </g>\n   <g id=\"line2d_13\">\n    <path clip-path=\"url(#pae9d131b35)\" d=\"M 58.999432 214.756364 \nL 59.097915 200.435176 \nL 59.147157 200.435176 \nL 59.245641 190.753247 \nL 59.294883 190.753247 \nL 59.393366 189.744712 \nL 59.442608 189.744712 \nL 59.541092 183.592653 \nL 59.590334 183.592653 \nL 59.688817 182.483265 \nL 59.738059 182.483265 \nL 59.836543 179.054249 \nL 59.935026 178.953395 \nL 60.03351 178.146568 \nL 60.082752 178.146568 \nL 60.181235 176.028646 \nL 60.230477 176.028646 \nL 60.328961 175.221818 \nL 60.378203 175.221818 \nL 60.476686 171.389388 \nL 60.525928 171.389388 \nL 60.57517 169.473173 \nL 60.722895 169.473173 \nL 60.821379 167.758664 \nL 60.969104 167.758664 \nL 61.067588 164.833915 \nL 61.11683 164.833915 \nL 61.215313 163.82538 \nL 61.412281 163.724527 \nL 61.510764 162.211725 \nL 61.707731 162.110872 \nL 61.806215 160.396364 \nL 61.855457 160.396364 \nL 61.953941 158.984416 \nL 62.003182 158.984416 \nL 62.101666 158.681855 \nL 62.20015 158.581002 \nL 62.298633 156.362226 \nL 62.446359 156.261373 \nL 62.544842 154.950278 \nL 62.594084 154.849425 \nL 62.643326 153.941744 \nL 62.791051 153.840891 \nL 62.840293 153.336623 \nL 62.938777 153.336623 \nL 63.03726 152.630649 \nL 63.135744 152.630649 \nL 63.184986 151.823822 \nL 63.283469 151.823822 \nL 63.332711 150.714434 \nL 63.480437 150.613581 \nL 63.529678 149.907607 \nL 63.628162 149.907607 \nL 63.726646 149.100779 \nL 63.775888 149.100779 \nL 63.874371 148.596512 \nL 63.923613 148.596512 \nL 64.022097 147.386271 \nL 64.169822 147.285417 \nL 64.268306 145.873469 \nL 64.366789 145.873469 \nL 64.416031 144.562375 \nL 64.514515 144.562375 \nL 64.612998 143.25128 \nL 64.66224 143.25128 \nL 64.760724 142.041039 \nL 64.957691 141.940186 \nL 65.056175 141.536772 \nL 65.154658 141.435918 \nL 65.253142 140.629091 \nL 65.302384 140.326531 \nL 65.400867 139.822263 \nL 65.450109 139.822263 \nL 65.499351 138.914583 \nL 65.597835 138.914583 \nL 65.597835 138.712876 \nL 65.74556 138.712876 \nL 65.844044 137.603488 \nL 66.090253 137.502635 \nL 66.139494 137.099221 \nL 66.28722 136.998367 \nL 66.385704 136.79666 \nL 66.484187 136.393247 \nL 66.533429 136.393247 \nL 66.631913 135.384712 \nL 66.681154 135.384712 \nL 66.779638 133.670204 \nL 66.82888 133.670204 \nL 66.927363 132.863377 \nL 66.976605 132.863377 \nL 66.976605 131.955696 \nL 67.124331 131.955696 \nL 67.222814 131.148868 \nL 67.321298 131.148868 \nL 67.37054 130.644601 \nL 67.518265 130.644601 \nL 67.616749 130.140334 \nL 67.665991 130.039481 \nL 67.764474 128.425826 \nL 67.9122 128.425826 \nL 67.961441 127.316438 \nL 68.059925 127.215584 \nL 68.158409 126.50961 \nL 68.306134 126.408757 \nL 68.355376 126.005343 \nL 68.404618 126.005343 \nL 68.503101 126.005343 \nL 68.601585 125.400223 \nL 68.798552 125.400223 \nL 68.847794 124.189981 \nL 69.044761 124.189981 \nL 69.143245 123.484007 \nL 69.192487 123.484007 \nL 69.192487 123.282301 \nL 69.29097 123.282301 \nL 69.340212 123.282301 \nL 69.389454 122.576327 \nL 69.537179 122.576327 \nL 69.537179 122.475473 \nL 69.734147 121.870353 \nL 69.881872 121.870353 \nL 69.931114 121.265232 \nL 70.423532 121.265232 \nL 70.522016 120.458404 \nL 70.571258 120.155844 \nL 70.866708 120.054991 \nL 70.91595 119.349017 \nL 71.112917 119.349017 \nL 71.162159 118.945603 \nL 71.359126 118.84475 \nL 71.45761 117.634508 \nL 71.556094 117.533655 \nL 71.654577 117.130241 \nL 71.802303 117.029388 \nL 71.900786 116.323414 \nL 71.99927 116.323414 \nL 72.097754 115.516586 \nL 72.146995 115.516586 \nL 72.196237 115.113173 \nL 72.294721 115.113173 \nL 72.393205 114.810612 \nL 72.442446 114.810612 \nL 72.54093 113.802078 \nL 72.590172 113.802078 \nL 72.688655 113.297811 \nL 72.787139 113.297811 \nL 72.885623 112.793544 \nL 72.984106 112.793544 \nL 73.08259 112.08757 \nL 73.279557 111.986716 \nL 73.378041 111.280742 \nL 73.476524 111.280742 \nL 73.575008 110.776475 \nL 73.62425 110.776475 \nL 73.722733 110.272208 \nL 73.771975 110.272208 \nL 73.870459 109.667087 \nL 73.919701 109.667087 \nL 74.018184 109.364527 \nL 74.067426 109.364527 \nL 74.067426 109.16282 \nL 74.510602 109.061967 \nL 74.609086 108.86026 \nL 74.658328 108.86026 \nL 74.756811 108.053432 \nL 74.855295 108.053432 \nL 74.855295 107.750872 \nL 75.003021 107.750872 \nL 75.101504 107.448312 \nL 75.24923 107.347458 \nL 75.24923 107.044898 \nL 75.446197 106.944045 \nL 75.54468 106.439777 \nL 75.593922 106.439777 \nL 75.593922 106.238071 \nL 75.889373 106.238071 \nL 75.987857 105.733803 \nL 76.037099 105.733803 \nL 76.08634 104.926976 \nL 76.184824 104.926976 \nL 76.283308 103.918442 \nL 76.480275 103.817588 \nL 76.529517 103.010761 \nL 76.677242 102.909907 \nL 76.775726 102.304787 \nL 76.874209 102.203933 \nL 76.972693 102.002226 \nL 77.071177 101.901373 \nL 77.120418 101.699666 \nL 77.366627 101.598813 \nL 77.465111 101.397106 \nL 77.612837 101.296252 \nL 77.71132 100.691132 \nL 77.859046 100.691132 \nL 77.908287 100.388571 \nL 78.056013 100.388571 \nL 78.056013 100.086011 \nL 78.25298 99.985158 \nL 78.351464 99.480891 \nL 78.548431 99.380037 \nL 78.548431 98.87577 \nL 78.745398 98.774917 \nL 78.745398 98.674063 \nL 79.040849 98.57321 \nL 79.090091 98.371503 \nL 79.434784 98.270649 \nL 79.434784 98.169796 \nL 79.582509 98.169796 \nL 79.680993 97.564675 \nL 79.87796 97.463822 \nL 79.976443 96.556141 \nL 80.271894 96.455288 \nL 80.271894 96.253581 \nL 80.567345 96.152727 \nL 80.665829 95.850167 \nL 80.912038 95.850167 \nL 81.010522 95.04334 \nL 81.404456 94.942486 \nL 81.404456 94.841633 \nL 81.650665 94.740779 \nL 81.749149 94.438219 \nL 81.847632 94.438219 \nL 81.847632 94.236512 \nL 82.34005 94.135659 \nL 82.438534 93.833098 \nL 82.537018 93.833098 \nL 82.635501 93.530538 \nL 82.783227 93.429685 \nL 82.832469 92.824564 \nL 82.930952 92.824564 \nL 82.930952 92.522004 \nL 83.226403 92.42115 \nL 83.324887 91.715176 \nL 83.620338 91.715176 \nL 83.718821 91.210909 \nL 83.817305 91.210909 \nL 83.817305 90.908349 \nL 84.014272 90.807495 \nL 84.112756 90.202375 \nL 84.50669 90.101521 \nL 84.605174 88.89128 \nL 84.654416 88.89128 \nL 84.654416 88.58872 \nL 84.900625 88.487866 \nL 84.900625 88.28616 \nL 85.196075 88.185306 \nL 85.294559 87.983599 \nL 85.442285 87.882746 \nL 85.442285 87.781892 \nL 85.639252 87.781892 \nL 85.737735 87.378479 \nL 85.885461 87.378479 \nL 85.983944 86.874212 \nL 86.230154 86.773358 \nL 86.328637 86.369944 \nL 86.722572 86.269091 \nL 86.821055 85.563117 \nL 86.968781 85.462263 \nL 87.018023 85.05885 \nL 87.411957 84.957996 \nL 87.461199 84.756289 \nL 87.707408 84.655436 \nL 87.707408 84.453729 \nL 88.002859 84.453729 \nL 88.002859 84.352876 \nL 88.052101 84.252022 \nL 88.544519 84.151169 \nL 88.643002 83.747755 \nL 88.987695 83.142635 \nL 89.381629 83.041781 \nL 89.480113 82.638367 \nL 89.578597 82.537514 \nL 89.578597 82.43666 \nL 89.775564 82.335807 \nL 89.874048 82.1341 \nL 90.071015 82.033247 \nL 90.071015 81.932393 \nL 90.169498 81.932393 \nL 90.415708 81.327273 \nL 90.514191 80.923859 \nL 90.809642 80.823006 \nL 90.908126 80.217885 \nL 91.154335 80.117032 \nL 91.252818 79.612764 \nL 91.548269 79.612764 \nL 91.646753 79.108497 \nL 91.745236 79.007644 \nL 91.84372 78.60423 \nL 92.040687 78.503377 \nL 92.139171 78.30167 \nL 92.434622 78.200816 \nL 92.533105 77.999109 \nL 92.730073 77.898256 \nL 92.828556 77.595696 \nL 93.025524 77.494842 \nL 93.124007 77.192282 \nL 93.222491 76.788868 \nL 93.4687 76.688015 \nL 93.616425 76.587161 \nL 93.714909 76.082894 \nL 94.01036 75.982041 \nL 94.059602 75.881187 \nL 94.404294 75.780334 \nL 94.502778 75.477774 \nL 94.798229 75.37692 \nL 94.896712 75.07436 \nL 95.044438 74.973506 \nL 95.044438 74.872653 \nL 95.536856 74.7718 \nL 95.536856 74.469239 \nL 95.733823 74.469239 \nL 95.733823 74.267532 \nL 95.881549 74.267532 \nL 95.93079 73.964972 \nL 96.176999 73.864119 \nL 96.275483 73.359852 \nL 96.47245 73.258998 \nL 96.570934 72.855584 \nL 96.718659 72.754731 \nL 96.718659 72.653878 \nL 97.358803 72.653878 \nL 97.457287 72.14961 \nL 97.703496 72.048757 \nL 97.703496 71.947904 \nL 98.146672 71.84705 \nL 98.195914 71.746197 \nL 98.540606 71.645343 \nL 98.589848 71.342783 \nL 98.737574 71.241929 \nL 98.737574 70.939369 \nL 98.885299 70.939369 \nL 98.885299 70.838516 \nL 99.082266 70.435102 \nL 99.377717 70.334249 \nL 99.476201 70.132542 \nL 99.820893 70.031688 \nL 99.820893 69.829981 \nL 100.116344 69.729128 \nL 100.214828 69.527421 \nL 100.510279 69.527421 \nL 100.608762 69.224861 \nL 100.658004 69.224861 \nL 100.756488 68.922301 \nL 100.854972 68.821447 \nL 100.904213 68.720594 \nL 101.150422 68.720594 \nL 101.150422 68.61974 \nL 101.298148 68.216327 \nL 101.544357 68.216327 \nL 101.593599 67.913766 \nL 101.642841 67.913766 \nL 101.839808 67.812913 \nL 101.88905 67.611206 \nL 102.036775 67.510353 \nL 102.036775 67.207792 \nL 102.1845 67.207792 \nL 102.1845 67.106939 \nL 103.26782 64.888163 \nL 103.710997 64.78731 \nL 103.80948 64.585603 \nL 104.154173 64.585603 \nL 104.252657 63.677922 \nL 104.942042 63.577069 \nL 104.991284 63.476215 \nL 105.335976 63.375362 \nL 105.335976 63.173655 \nL 105.680669 63.173655 \nL 105.680669 62.770241 \nL 105.877636 62.669388 \nL 105.97612 62.366827 \nL 106.074604 62.366827 \nL 106.074604 62.265974 \nL 106.123845 62.165121 \nL 106.271571 62.165121 \nL 106.320813 61.86256 \nL 106.616263 61.761707 \nL 106.665505 61.56 \nL 107.207165 61.459147 \nL 107.256407 60.954879 \nL 107.699583 60.854026 \nL 107.798067 60.652319 \nL 107.847309 60.551466 \nL 108.585936 60.450612 \nL 108.68442 60.148052 \nL 108.733661 60.047199 \nL 109.078354 60.047199 \nL 109.176838 59.542931 \nL 109.52153 59.442078 \nL 109.570772 59.341224 \nL 109.816981 59.240371 \nL 109.816981 59.038664 \nL 109.964707 59.038664 \nL 110.013948 58.534397 \nL 110.112432 58.534397 \nL 110.161674 58.130983 \nL 110.358641 58.03013 \nL 110.555608 57.72757 \nL 110.555608 57.324156 \nL 110.851059 57.223302 \nL 110.851059 57.021596 \nL 111.097268 57.021596 \nL 111.097268 56.819889 \nL 111.195752 56.819889 \nL 111.638928 56.113915 \nL 112.131346 56.013061 \nL 112.279072 55.710501 \nL 112.525281 55.609647 \nL 112.525281 55.508794 \nL 112.919215 55.407941 \nL 112.919215 55.206234 \nL 113.510117 55.206234 \nL 113.559359 54.80282 \nL 113.608601 54.80282 \nL 113.904052 54.298553 \nL 114.199502 54.197699 \nL 114.199502 54.096846 \nL 114.691921 53.995993 \nL 114.691921 53.895139 \nL 115.085855 53.794286 \nL 115.135097 53.390872 \nL 115.627515 53.290019 \nL 115.725999 53.088312 \nL 116.021449 52.987458 \nL 116.119933 52.684898 \nL 116.415384 52.584045 \nL 116.415384 52.483191 \nL 116.563109 52.483191 \nL 116.563109 52.281484 \nL 116.760077 52.281484 \nL 116.760077 52.079777 \nL 117.301737 51.978924 \nL 117.40022 51.57551 \nL 117.892638 51.474657 \nL 117.892638 51.373803 \nL 118.089606 51.27295 \nL 118.089606 51.172096 \nL 118.188089 51.172096 \nL 118.828233 51.172096 \nL 118.828233 50.97039 \nL 119.172925 50.869536 \nL 119.271409 50.667829 \nL 119.320651 50.667829 \nL 119.320651 50.264416 \nL 119.665343 50.163562 \nL 119.665343 50.062709 \nL 119.763827 50.062709 \nL 119.911553 49.961855 \nL 120.403971 49.760148 \nL 121.241081 49.659295 \nL 121.487291 49.255881 \nL 122.324401 49.155028 \nL 122.324401 49.054174 \nL 122.57061 49.054174 \nL 122.669094 48.549907 \nL 123.161512 48.449054 \nL 123.210754 48.247347 \nL 123.506205 48.146494 \nL 123.555447 47.944787 \nL 123.752414 47.843933 \nL 123.850897 47.440519 \nL 123.949381 47.440519 \nL 123.949381 47.238813 \nL 124.047865 47.238813 \nL 124.097107 47.238813 \nL 124.097107 47.037106 \nL 124.244832 47.037106 \nL 124.244832 46.936252 \nL 124.491041 46.431985 \nL 124.638766 46.431985 \nL 124.73725 46.129425 \nL 125.032701 46.028571 \nL 125.081943 45.826865 \nL 125.968295 45.726011 \nL 126.017537 45.524304 \nL 127.44555 45.423451 \nL 127.44555 45.322597 \nL 127.544033 45.322597 \nL 127.741001 44.51577 \nL 128.28266 44.414917 \nL 128.28266 44.314063 \nL 128.52887 44.314063 \nL 128.52887 44.112356 \nL 128.873562 44.011503 \nL 128.873562 43.910649 \nL 128.972046 43.910649 \nL 129.316739 43.809796 \nL 129.316739 43.608089 \nL 129.612189 43.608089 \nL 129.710673 43.204675 \nL 129.809157 43.204675 \nL 129.809157 42.902115 \nL 129.90764 42.902115 \nL 130.153849 42.801262 \nL 130.252333 42.498701 \nL 131.040202 42.397848 \nL 131.089444 41.994434 \nL 131.434136 41.893581 \nL 131.828071 41.490167 \nL 132.172764 41.389314 \nL 132.222005 41.187607 \nL 132.911391 41.086753 \nL 133.009874 40.885046 \nL 133.206842 40.784193 \nL 133.206842 40.68334 \nL 133.256083 40.68334 \nL 133.453051 40.68334 \nL 133.453051 40.481633 \nL 133.650018 40.380779 \nL 133.650018 40.279926 \nL 133.945469 40.179072 \nL 133.994711 39.977365 \nL 135.127272 39.876512 \nL 135.422723 39.069685 \nL 136.210592 38.968831 \nL 136.210592 38.767124 \nL 136.407559 38.767124 \nL 136.407559 38.565417 \nL 136.70301 38.565417 \nL 136.752252 38.162004 \nL 137.638605 38.06115 \nL 137.638605 37.960297 \nL 137.983297 37.75859 \nL 138.721925 37.657737 \nL 138.820408 37.45603 \nL 139.214343 37.355176 \nL 139.41131 37.052616 \nL 139.805244 36.951763 \nL 139.805244 36.850909 \nL 140.49463 36.750056 \nL 140.937806 36.447495 \nL 142.168851 36.346642 \nL 142.267335 36.144935 \nL 142.710511 36.044082 \nL 142.710511 35.943228 \nL 143.596864 35.842375 \nL 143.596864 35.741521 \nL 144.237007 35.640668 \nL 144.335491 35.438961 \nL 145.812745 35.338108 \nL 145.861987 35.035547 \nL 146.157438 34.934694 \nL 146.157438 34.83384 \nL 146.452889 34.732987 \nL 146.452889 34.632134 \nL 146.551373 34.632134 \nL 146.600614 34.53128 \nL 147.339241 34.430427 \nL 147.339241 34.329573 \nL 147.683934 34.329573 \nL 147.782418 34.027013 \nL 148.225594 33.92616 \nL 148.225594 33.825306 \nL 149.555123 33.724453 \nL 149.555123 33.522746 \nL 150.539959 33.421892 \nL 150.539959 33.321039 \nL 151.081619 33.220186 \nL 151.130861 33.018479 \nL 151.180103 33.018479 \nL 152.017214 32.917625 \nL 152.017214 32.615065 \nL 153.248259 32.514212 \nL 153.248259 32.413358 \nL 154.577788 32.312505 \nL 154.577788 32.110798 \nL 155.759591 32.009944 \nL 155.858075 31.808237 \nL 156.399735 31.707384 \nL 156.399735 31.606531 \nL 156.793669 31.505677 \nL 156.793669 31.404824 \nL 157.384571 31.30397 \nL 157.483055 31.102263 \nL 157.827747 31.102263 \nL 157.876989 30.799703 \nL 158.418649 30.69885 \nL 158.517133 30.396289 \nL 159.25576 30.295436 \nL 159.354243 30.194583 \nL 159.354243 29.992876 \nL 159.79742 29.892022 \nL 159.846662 29.690315 \nL 159.895903 29.690315 \nL 160.043629 29.690315 \nL 160.043629 29.488609 \nL 160.092871 29.488609 \nL 161.274674 29.488609 \nL 161.274674 29.286902 \nL 161.373158 29.286902 \nL 161.619367 29.186048 \nL 161.619367 29.085195 \nL 163.539797 28.984341 \nL 163.539797 28.883488 \nL 163.982974 28.782635 \nL 163.982974 28.681781 \nL 164.672359 28.580928 \nL 164.672359 28.480074 \nL 165.312503 28.379221 \nL 165.312503 28.278367 \nL 165.952646 28.177514 \nL 166.05113 27.975807 \nL 166.789757 27.874954 \nL 166.789757 27.572393 \nL 166.838999 27.572393 \nL 167.823835 27.47154 \nL 167.873077 27.269833 \nL 169.153364 27.16898 \nL 169.251848 26.866419 \nL 170.630618 26.765566 \nL 170.630618 26.664712 \nL 170.827586 26.664712 \nL 170.827586 26.463006 \nL 171.467729 26.362152 \nL 171.467729 26.261299 \nL 172.895742 26.160445 \nL 172.895742 25.958738 \nL 174.372996 25.857885 \nL 174.372996 25.757032 \nL 174.619205 25.656178 \nL 174.717689 25.353618 \nL 176.342668 25.252764 \nL 176.342668 25.151911 \nL 177.179779 25.051058 \nL 177.229021 24.849351 \nL 177.918406 24.748497 \nL 177.918406 24.647644 \nL 178.952484 24.54679 \nL 178.952484 24.445937 \nL 180.380497 24.345083 \nL 180.380497 24.143377 \nL 181.26685 24.042523 \nL 181.316091 23.840816 \nL 184.172116 23.739963 \nL 184.221358 23.538256 \nL 185.600129 23.437403 \nL 185.600129 23.336549 \nL 186.732691 23.235696 \nL 186.732691 23.134842 \nL 187.963736 23.033989 \nL 187.963736 22.933135 \nL 189.834925 22.832282 \nL 189.834925 22.731429 \nL 191.410663 22.630575 \nL 191.410663 22.529722 \nL 192.346257 22.428868 \nL 192.346257 22.328015 \nL 192.986401 22.227161 \nL 192.986401 22.126308 \nL 194.562139 22.025455 \nL 194.562139 21.924601 \nL 195.546975 21.823748 \nL 195.546975 21.622041 \nL 203.524148 21.521187 \nL 203.524148 21.420334 \nL 204.558226 21.319481 \nL 204.558226 21.218627 \nL 205.789272 21.117774 \nL 205.789272 20.916067 \nL 206.872592 20.815213 \nL 206.872592 20.71436 \nL 208.793022 20.613506 \nL 208.891506 20.4118 \nL 211.008904 20.310946 \nL 211.008904 20.210093 \nL 214.258863 20.109239 \nL 214.258863 20.008386 \nL 221.546651 19.907532 \nL 221.546651 19.806679 \nL 228.58823 19.705826 \nL 228.58823 19.604972 \nL 236.614646 19.504119 \nL 236.614646 19.403265 \nL 239.864605 19.302412 \nL 239.864605 19.201558 \nL 247.250877 19.100705 \nL 247.250877 18.999852 \nL 250.500836 18.898998 \nL 250.500836 18.798145 \nL 258.773461 18.697291 \nL 258.773461 18.596438 \nL 266.849118 18.495584 \nL 266.89836 18.293878 \nL 271.034672 18.193024 \nL 271.034672 18.092171 \nL 276.943689 17.991317 \nL 276.943689 17.890464 \nL 294.276807 17.78961 \nL 294.276807 17.688757 \nL 306.094842 17.587904 \nL 306.094842 17.48705 \nL 332.242243 17.386197 \nL 332.242243 17.285343 \nL 332.291485 17.285343 \nL 359.669932 17.18449 \nL 359.669932 17.083636 \nL 359.768416 17.083636 \nL 363.363068 17.083636 \nL 363.363068 17.083636 \n\" style=\"fill:none;stroke:#1f77b4;stroke-linecap:square;stroke-width:1.5;\"/>\n   </g>\n   <g id=\"patch_3\">\n    <path d=\"M 43.78125 224.64 \nL 43.78125 7.2 \n\" style=\"fill:none;stroke:#000000;stroke-linecap:square;stroke-linejoin:miter;stroke-width:0.8;\"/>\n   </g>\n   <g id=\"patch_4\">\n    <path d=\"M 378.58125 224.64 \nL 378.58125 7.2 \n\" style=\"fill:none;stroke:#000000;stroke-linecap:square;stroke-linejoin:miter;stroke-width:0.8;\"/>\n   </g>\n   <g id=\"patch_5\">\n    <path d=\"M 43.78125 224.64 \nL 378.58125 224.64 \n\" style=\"fill:none;stroke:#000000;stroke-linecap:square;stroke-linejoin:miter;stroke-width:0.8;\"/>\n   </g>\n   <g id=\"patch_6\">\n    <path d=\"M 43.78125 7.2 \nL 378.58125 7.2 \n\" style=\"fill:none;stroke:#000000;stroke-linecap:square;stroke-linejoin:miter;stroke-width:0.8;\"/>\n   </g>\n   <g id=\"legend_1\">\n    <g id=\"patch_7\">\n     <path d=\"M 231.325 219.64 \nL 371.58125 219.64 \nQ 373.58125 219.64 373.58125 217.64 \nL 373.58125 203.961875 \nQ 373.58125 201.961875 371.58125 201.961875 \nL 231.325 201.961875 \nQ 229.325 201.961875 229.325 203.961875 \nL 229.325 217.64 \nQ 229.325 219.64 231.325 219.64 \nz\n\" style=\"fill:#ffffff;opacity:0.8;stroke:#cccccc;stroke-linejoin:miter;\"/>\n    </g>\n    <g id=\"line2d_14\">\n     <path d=\"M 233.325 210.060312 \nL 253.325 210.060312 \n\" style=\"fill:none;stroke:#1f77b4;stroke-linecap:square;stroke-width:1.5;\"/>\n    </g>\n    <g id=\"line2d_15\"/>\n    <g id=\"text_15\">\n     <!-- Pipeline (AUC = 0.90) -->\n     <g transform=\"translate(261.325 213.560312)scale(0.1 -0.1)\">\n      <defs>\n       <path d=\"M 1159 525 \nL 1159 -1331 \nL 581 -1331 \nL 581 3500 \nL 1159 3500 \nL 1159 2969 \nQ 1341 3281 1617 3432 \nQ 1894 3584 2278 3584 \nQ 2916 3584 3314 3078 \nQ 3713 2572 3713 1747 \nQ 3713 922 3314 415 \nQ 2916 -91 2278 -91 \nQ 1894 -91 1617 61 \nQ 1341 213 1159 525 \nz\nM 3116 1747 \nQ 3116 2381 2855 2742 \nQ 2594 3103 2138 3103 \nQ 1681 3103 1420 2742 \nQ 1159 2381 1159 1747 \nQ 1159 1113 1420 752 \nQ 1681 391 2138 391 \nQ 2594 391 2855 752 \nQ 3116 1113 3116 1747 \nz\n\" id=\"DejaVuSans-70\" transform=\"scale(0.015625)\"/>\n       <path d=\"M 3513 2113 \nL 3513 0 \nL 2938 0 \nL 2938 2094 \nQ 2938 2591 2744 2837 \nQ 2550 3084 2163 3084 \nQ 1697 3084 1428 2787 \nQ 1159 2491 1159 1978 \nL 1159 0 \nL 581 0 \nL 581 3500 \nL 1159 3500 \nL 1159 2956 \nQ 1366 3272 1645 3428 \nQ 1925 3584 2291 3584 \nQ 2894 3584 3203 3211 \nQ 3513 2838 3513 2113 \nz\n\" id=\"DejaVuSans-6e\" transform=\"scale(0.015625)\"/>\n       <path d=\"M 2188 4044 \nL 1331 1722 \nL 3047 1722 \nL 2188 4044 \nz\nM 1831 4666 \nL 2547 4666 \nL 4325 0 \nL 3669 0 \nL 3244 1197 \nL 1141 1197 \nL 716 0 \nL 50 0 \nL 1831 4666 \nz\n\" id=\"DejaVuSans-41\" transform=\"scale(0.015625)\"/>\n       <path d=\"M 556 4666 \nL 1191 4666 \nL 1191 1831 \nQ 1191 1081 1462 751 \nQ 1734 422 2344 422 \nQ 2950 422 3222 751 \nQ 3494 1081 3494 1831 \nL 3494 4666 \nL 4128 4666 \nL 4128 1753 \nQ 4128 841 3676 375 \nQ 3225 -91 2344 -91 \nQ 1459 -91 1007 375 \nQ 556 841 556 1753 \nL 556 4666 \nz\n\" id=\"DejaVuSans-55\" transform=\"scale(0.015625)\"/>\n       <path d=\"M 4122 4306 \nL 4122 3641 \nQ 3803 3938 3442 4084 \nQ 3081 4231 2675 4231 \nQ 1875 4231 1450 3742 \nQ 1025 3253 1025 2328 \nQ 1025 1406 1450 917 \nQ 1875 428 2675 428 \nQ 3081 428 3442 575 \nQ 3803 722 4122 1019 \nL 4122 359 \nQ 3791 134 3420 21 \nQ 3050 -91 2638 -91 \nQ 1578 -91 968 557 \nQ 359 1206 359 2328 \nQ 359 3453 968 4101 \nQ 1578 4750 2638 4750 \nQ 3056 4750 3426 4639 \nQ 3797 4528 4122 4306 \nz\n\" id=\"DejaVuSans-43\" transform=\"scale(0.015625)\"/>\n       <path d=\"M 678 2906 \nL 4684 2906 \nL 4684 2381 \nL 678 2381 \nL 678 2906 \nz\nM 678 1631 \nL 4684 1631 \nL 4684 1100 \nL 678 1100 \nL 678 1631 \nz\n\" id=\"DejaVuSans-3d\" transform=\"scale(0.015625)\"/>\n       <path d=\"M 703 97 \nL 703 672 \nQ 941 559 1184 500 \nQ 1428 441 1663 441 \nQ 2288 441 2617 861 \nQ 2947 1281 2994 2138 \nQ 2813 1869 2534 1725 \nQ 2256 1581 1919 1581 \nQ 1219 1581 811 2004 \nQ 403 2428 403 3163 \nQ 403 3881 828 4315 \nQ 1253 4750 1959 4750 \nQ 2769 4750 3195 4129 \nQ 3622 3509 3622 2328 \nQ 3622 1225 3098 567 \nQ 2575 -91 1691 -91 \nQ 1453 -91 1209 -44 \nQ 966 3 703 97 \nz\nM 1959 2075 \nQ 2384 2075 2632 2365 \nQ 2881 2656 2881 3163 \nQ 2881 3666 2632 3958 \nQ 2384 4250 1959 4250 \nQ 1534 4250 1286 3958 \nQ 1038 3666 1038 3163 \nQ 1038 2656 1286 2365 \nQ 1534 2075 1959 2075 \nz\n\" id=\"DejaVuSans-39\" transform=\"scale(0.015625)\"/>\n      </defs>\n      <use xlink:href=\"#DejaVuSans-50\"/>\n      <use x=\"58.052734\" xlink:href=\"#DejaVuSans-69\"/>\n      <use x=\"85.835938\" xlink:href=\"#DejaVuSans-70\"/>\n      <use x=\"149.3125\" xlink:href=\"#DejaVuSans-65\"/>\n      <use x=\"210.835938\" xlink:href=\"#DejaVuSans-6c\"/>\n      <use x=\"238.619141\" xlink:href=\"#DejaVuSans-69\"/>\n      <use x=\"266.402344\" xlink:href=\"#DejaVuSans-6e\"/>\n      <use x=\"329.78125\" xlink:href=\"#DejaVuSans-65\"/>\n      <use x=\"391.304688\" xlink:href=\"#DejaVuSans-20\"/>\n      <use x=\"423.091797\" xlink:href=\"#DejaVuSans-28\"/>\n      <use x=\"462.105469\" xlink:href=\"#DejaVuSans-41\"/>\n      <use x=\"530.513672\" xlink:href=\"#DejaVuSans-55\"/>\n      <use x=\"603.707031\" xlink:href=\"#DejaVuSans-43\"/>\n      <use x=\"673.53125\" xlink:href=\"#DejaVuSans-20\"/>\n      <use x=\"705.318359\" xlink:href=\"#DejaVuSans-3d\"/>\n      <use x=\"789.107422\" xlink:href=\"#DejaVuSans-20\"/>\n      <use x=\"820.894531\" xlink:href=\"#DejaVuSans-30\"/>\n      <use x=\"884.517578\" xlink:href=\"#DejaVuSans-2e\"/>\n      <use x=\"916.304688\" xlink:href=\"#DejaVuSans-39\"/>\n      <use x=\"979.927734\" xlink:href=\"#DejaVuSans-30\"/>\n      <use x=\"1043.550781\" xlink:href=\"#DejaVuSans-29\"/>\n     </g>\n    </g>\n   </g>\n  </g>\n </g>\n <defs>\n  <clipPath id=\"pae9d131b35\">\n   <rect height=\"217.44\" width=\"334.8\" x=\"43.78125\" y=\"7.2\"/>\n  </clipPath>\n </defs>\n</svg>\n",
      "image/png": "[encoded data removed]"
     },
     "metadata": {
      "needs_background": "light"
     }
    }
   ],
   "metadata": {}
  },
  {
   "cell_type": "code",
   "execution_count": 56,
   "source": [
    "plot_precision_recall_curve(estimator, X_test, y_test)"
   ],
   "outputs": [
    {
     "output_type": "execute_result",
     "data": {
      "text/plain": [
       "<sklearn.metrics._plot.precision_recall_curve.PrecisionRecallDisplay at 0x137056040>"
      ]
     },
     "metadata": {},
     "execution_count": 56
    },
    {
     "output_type": "display_data",
     "data": {
      "text/plain": [
       "<Figure size 432x288 with 1 Axes>"
      ],
      "image/svg+xml": "<?xml version=\"1.0\" encoding=\"utf-8\" standalone=\"no\"?>\n<!DOCTYPE svg PUBLIC \"-//W3C//DTD SVG 1.1//EN\"\n  \"http://www.w3.org/Graphics/SVG/1.1/DTD/svg11.dtd\">\n<svg height=\"262.19625pt\" version=\"1.1\" viewBox=\"0 0 385.78125 262.19625\" width=\"385.78125pt\" xmlns=\"http://www.w3.org/2000/svg\" xmlns:xlink=\"http://www.w3.org/1999/xlink\">\n <metadata>\n  <rdf:RDF xmlns:cc=\"http://creativecommons.org/ns#\" xmlns:dc=\"http://purl.org/dc/elements/1.1/\" xmlns:rdf=\"http://www.w3.org/1999/02/22-rdf-syntax-ns#\">\n   <cc:Work>\n    <dc:type rdf:resource=\"http://purl.org/dc/dcmitype/StillImage\"/>\n    <dc:date>2021-09-02T16:28:33.665357</dc:date>\n    <dc:format>image/svg+xml</dc:format>\n    <dc:creator>\n     <cc:Agent>\n      <dc:title>Matplotlib v3.4.2, https://matplotlib.org/</dc:title>\n     </cc:Agent>\n    </dc:creator>\n   </cc:Work>\n  </rdf:RDF>\n </metadata>\n <defs>\n  <style type=\"text/css\">*{stroke-linecap:butt;stroke-linejoin:round;}</style>\n </defs>\n <g id=\"figure_1\">\n  <g id=\"patch_1\">\n   <path d=\"M 0 262.19625 \nL 385.78125 262.19625 \nL 385.78125 0 \nL 0 0 \nz\n\" style=\"fill:none;\"/>\n  </g>\n  <g id=\"axes_1\">\n   <g id=\"patch_2\">\n    <path d=\"M 43.78125 224.64 \nL 378.58125 224.64 \nL 378.58125 7.2 \nL 43.78125 7.2 \nz\n\" style=\"fill:#ffffff;\"/>\n   </g>\n   <g id=\"matplotlib.axis_1\">\n    <g id=\"xtick_1\">\n     <g id=\"line2d_1\">\n      <defs>\n       <path d=\"M 0 0 \nL 0 3.5 \n\" id=\"m53009b8f38\" style=\"stroke:#000000;stroke-width:0.8;\"/>\n      </defs>\n      <g>\n       <use style=\"stroke:#000000;stroke-width:0.8;\" x=\"58.999432\" xlink:href=\"#m53009b8f38\" y=\"224.64\"/>\n      </g>\n     </g>\n     <g id=\"text_1\">\n      <!-- 0.0 -->\n      <g transform=\"translate(51.047869 239.238437)scale(0.1 -0.1)\">\n       <defs>\n        <path d=\"M 2034 4250 \nQ 1547 4250 1301 3770 \nQ 1056 3291 1056 2328 \nQ 1056 1369 1301 889 \nQ 1547 409 2034 409 \nQ 2525 409 2770 889 \nQ 3016 1369 3016 2328 \nQ 3016 3291 2770 3770 \nQ 2525 4250 2034 4250 \nz\nM 2034 4750 \nQ 2819 4750 3233 4129 \nQ 3647 3509 3647 2328 \nQ 3647 1150 3233 529 \nQ 2819 -91 2034 -91 \nQ 1250 -91 836 529 \nQ 422 1150 422 2328 \nQ 422 3509 836 4129 \nQ 1250 4750 2034 4750 \nz\n\" id=\"DejaVuSans-30\" transform=\"scale(0.015625)\"/>\n        <path d=\"M 684 794 \nL 1344 794 \nL 1344 0 \nL 684 0 \nL 684 794 \nz\n\" id=\"DejaVuSans-2e\" transform=\"scale(0.015625)\"/>\n       </defs>\n       <use xlink:href=\"#DejaVuSans-30\"/>\n       <use x=\"63.623047\" xlink:href=\"#DejaVuSans-2e\"/>\n       <use x=\"95.410156\" xlink:href=\"#DejaVuSans-30\"/>\n      </g>\n     </g>\n    </g>\n    <g id=\"xtick_2\">\n     <g id=\"line2d_2\">\n      <g>\n       <use style=\"stroke:#000000;stroke-width:0.8;\" x=\"119.872159\" xlink:href=\"#m53009b8f38\" y=\"224.64\"/>\n      </g>\n     </g>\n     <g id=\"text_2\">\n      <!-- 0.2 -->\n      <g transform=\"translate(111.920597 239.238437)scale(0.1 -0.1)\">\n       <defs>\n        <path d=\"M 1228 531 \nL 3431 531 \nL 3431 0 \nL 469 0 \nL 469 531 \nQ 828 903 1448 1529 \nQ 2069 2156 2228 2338 \nQ 2531 2678 2651 2914 \nQ 2772 3150 2772 3378 \nQ 2772 3750 2511 3984 \nQ 2250 4219 1831 4219 \nQ 1534 4219 1204 4116 \nQ 875 4013 500 3803 \nL 500 4441 \nQ 881 4594 1212 4672 \nQ 1544 4750 1819 4750 \nQ 2544 4750 2975 4387 \nQ 3406 4025 3406 3419 \nQ 3406 3131 3298 2873 \nQ 3191 2616 2906 2266 \nQ 2828 2175 2409 1742 \nQ 1991 1309 1228 531 \nz\n\" id=\"DejaVuSans-32\" transform=\"scale(0.015625)\"/>\n       </defs>\n       <use xlink:href=\"#DejaVuSans-30\"/>\n       <use x=\"63.623047\" xlink:href=\"#DejaVuSans-2e\"/>\n       <use x=\"95.410156\" xlink:href=\"#DejaVuSans-32\"/>\n      </g>\n     </g>\n    </g>\n    <g id=\"xtick_3\">\n     <g id=\"line2d_3\">\n      <g>\n       <use style=\"stroke:#000000;stroke-width:0.8;\" x=\"180.744886\" xlink:href=\"#m53009b8f38\" y=\"224.64\"/>\n      </g>\n     </g>\n     <g id=\"text_3\">\n      <!-- 0.4 -->\n      <g transform=\"translate(172.793324 239.238437)scale(0.1 -0.1)\">\n       <defs>\n        <path d=\"M 2419 4116 \nL 825 1625 \nL 2419 1625 \nL 2419 4116 \nz\nM 2253 4666 \nL 3047 4666 \nL 3047 1625 \nL 3713 1625 \nL 3713 1100 \nL 3047 1100 \nL 3047 0 \nL 2419 0 \nL 2419 1100 \nL 313 1100 \nL 313 1709 \nL 2253 4666 \nz\n\" id=\"DejaVuSans-34\" transform=\"scale(0.015625)\"/>\n       </defs>\n       <use xlink:href=\"#DejaVuSans-30\"/>\n       <use x=\"63.623047\" xlink:href=\"#DejaVuSans-2e\"/>\n       <use x=\"95.410156\" xlink:href=\"#DejaVuSans-34\"/>\n      </g>\n     </g>\n    </g>\n    <g id=\"xtick_4\">\n     <g id=\"line2d_4\">\n      <g>\n       <use style=\"stroke:#000000;stroke-width:0.8;\" x=\"241.617614\" xlink:href=\"#m53009b8f38\" y=\"224.64\"/>\n      </g>\n     </g>\n     <g id=\"text_4\">\n      <!-- 0.6 -->\n      <g transform=\"translate(233.666051 239.238437)scale(0.1 -0.1)\">\n       <defs>\n        <path d=\"M 2113 2584 \nQ 1688 2584 1439 2293 \nQ 1191 2003 1191 1497 \nQ 1191 994 1439 701 \nQ 1688 409 2113 409 \nQ 2538 409 2786 701 \nQ 3034 994 3034 1497 \nQ 3034 2003 2786 2293 \nQ 2538 2584 2113 2584 \nz\nM 3366 4563 \nL 3366 3988 \nQ 3128 4100 2886 4159 \nQ 2644 4219 2406 4219 \nQ 1781 4219 1451 3797 \nQ 1122 3375 1075 2522 \nQ 1259 2794 1537 2939 \nQ 1816 3084 2150 3084 \nQ 2853 3084 3261 2657 \nQ 3669 2231 3669 1497 \nQ 3669 778 3244 343 \nQ 2819 -91 2113 -91 \nQ 1303 -91 875 529 \nQ 447 1150 447 2328 \nQ 447 3434 972 4092 \nQ 1497 4750 2381 4750 \nQ 2619 4750 2861 4703 \nQ 3103 4656 3366 4563 \nz\n\" id=\"DejaVuSans-36\" transform=\"scale(0.015625)\"/>\n       </defs>\n       <use xlink:href=\"#DejaVuSans-30\"/>\n       <use x=\"63.623047\" xlink:href=\"#DejaVuSans-2e\"/>\n       <use x=\"95.410156\" xlink:href=\"#DejaVuSans-36\"/>\n      </g>\n     </g>\n    </g>\n    <g id=\"xtick_5\">\n     <g id=\"line2d_5\">\n      <g>\n       <use style=\"stroke:#000000;stroke-width:0.8;\" x=\"302.490341\" xlink:href=\"#m53009b8f38\" y=\"224.64\"/>\n      </g>\n     </g>\n     <g id=\"text_5\">\n      <!-- 0.8 -->\n      <g transform=\"translate(294.538778 239.238437)scale(0.1 -0.1)\">\n       <defs>\n        <path d=\"M 2034 2216 \nQ 1584 2216 1326 1975 \nQ 1069 1734 1069 1313 \nQ 1069 891 1326 650 \nQ 1584 409 2034 409 \nQ 2484 409 2743 651 \nQ 3003 894 3003 1313 \nQ 3003 1734 2745 1975 \nQ 2488 2216 2034 2216 \nz\nM 1403 2484 \nQ 997 2584 770 2862 \nQ 544 3141 544 3541 \nQ 544 4100 942 4425 \nQ 1341 4750 2034 4750 \nQ 2731 4750 3128 4425 \nQ 3525 4100 3525 3541 \nQ 3525 3141 3298 2862 \nQ 3072 2584 2669 2484 \nQ 3125 2378 3379 2068 \nQ 3634 1759 3634 1313 \nQ 3634 634 3220 271 \nQ 2806 -91 2034 -91 \nQ 1263 -91 848 271 \nQ 434 634 434 1313 \nQ 434 1759 690 2068 \nQ 947 2378 1403 2484 \nz\nM 1172 3481 \nQ 1172 3119 1398 2916 \nQ 1625 2713 2034 2713 \nQ 2441 2713 2670 2916 \nQ 2900 3119 2900 3481 \nQ 2900 3844 2670 4047 \nQ 2441 4250 2034 4250 \nQ 1625 4250 1398 4047 \nQ 1172 3844 1172 3481 \nz\n\" id=\"DejaVuSans-38\" transform=\"scale(0.015625)\"/>\n       </defs>\n       <use xlink:href=\"#DejaVuSans-30\"/>\n       <use x=\"63.623047\" xlink:href=\"#DejaVuSans-2e\"/>\n       <use x=\"95.410156\" xlink:href=\"#DejaVuSans-38\"/>\n      </g>\n     </g>\n    </g>\n    <g id=\"xtick_6\">\n     <g id=\"line2d_6\">\n      <g>\n       <use style=\"stroke:#000000;stroke-width:0.8;\" x=\"363.363068\" xlink:href=\"#m53009b8f38\" y=\"224.64\"/>\n      </g>\n     </g>\n     <g id=\"text_6\">\n      <!-- 1.0 -->\n      <g transform=\"translate(355.411506 239.238437)scale(0.1 -0.1)\">\n       <defs>\n        <path d=\"M 794 531 \nL 1825 531 \nL 1825 4091 \nL 703 3866 \nL 703 4441 \nL 1819 4666 \nL 2450 4666 \nL 2450 531 \nL 3481 531 \nL 3481 0 \nL 794 0 \nL 794 531 \nz\n\" id=\"DejaVuSans-31\" transform=\"scale(0.015625)\"/>\n       </defs>\n       <use xlink:href=\"#DejaVuSans-31\"/>\n       <use x=\"63.623047\" xlink:href=\"#DejaVuSans-2e\"/>\n       <use x=\"95.410156\" xlink:href=\"#DejaVuSans-30\"/>\n      </g>\n     </g>\n    </g>\n    <g id=\"text_7\">\n     <!-- Recall (Positive label: 1) -->\n     <g transform=\"translate(151.364844 252.916562)scale(0.1 -0.1)\">\n      <defs>\n       <path d=\"M 2841 2188 \nQ 3044 2119 3236 1894 \nQ 3428 1669 3622 1275 \nL 4263 0 \nL 3584 0 \nL 2988 1197 \nQ 2756 1666 2539 1819 \nQ 2322 1972 1947 1972 \nL 1259 1972 \nL 1259 0 \nL 628 0 \nL 628 4666 \nL 2053 4666 \nQ 2853 4666 3247 4331 \nQ 3641 3997 3641 3322 \nQ 3641 2881 3436 2590 \nQ 3231 2300 2841 2188 \nz\nM 1259 4147 \nL 1259 2491 \nL 2053 2491 \nQ 2509 2491 2742 2702 \nQ 2975 2913 2975 3322 \nQ 2975 3731 2742 3939 \nQ 2509 4147 2053 4147 \nL 1259 4147 \nz\n\" id=\"DejaVuSans-52\" transform=\"scale(0.015625)\"/>\n       <path d=\"M 3597 1894 \nL 3597 1613 \nL 953 1613 \nQ 991 1019 1311 708 \nQ 1631 397 2203 397 \nQ 2534 397 2845 478 \nQ 3156 559 3463 722 \nL 3463 178 \nQ 3153 47 2828 -22 \nQ 2503 -91 2169 -91 \nQ 1331 -91 842 396 \nQ 353 884 353 1716 \nQ 353 2575 817 3079 \nQ 1281 3584 2069 3584 \nQ 2775 3584 3186 3129 \nQ 3597 2675 3597 1894 \nz\nM 3022 2063 \nQ 3016 2534 2758 2815 \nQ 2500 3097 2075 3097 \nQ 1594 3097 1305 2825 \nQ 1016 2553 972 2059 \nL 3022 2063 \nz\n\" id=\"DejaVuSans-65\" transform=\"scale(0.015625)\"/>\n       <path d=\"M 3122 3366 \nL 3122 2828 \nQ 2878 2963 2633 3030 \nQ 2388 3097 2138 3097 \nQ 1578 3097 1268 2742 \nQ 959 2388 959 1747 \nQ 959 1106 1268 751 \nQ 1578 397 2138 397 \nQ 2388 397 2633 464 \nQ 2878 531 3122 666 \nL 3122 134 \nQ 2881 22 2623 -34 \nQ 2366 -91 2075 -91 \nQ 1284 -91 818 406 \nQ 353 903 353 1747 \nQ 353 2603 823 3093 \nQ 1294 3584 2113 3584 \nQ 2378 3584 2631 3529 \nQ 2884 3475 3122 3366 \nz\n\" id=\"DejaVuSans-63\" transform=\"scale(0.015625)\"/>\n       <path d=\"M 2194 1759 \nQ 1497 1759 1228 1600 \nQ 959 1441 959 1056 \nQ 959 750 1161 570 \nQ 1363 391 1709 391 \nQ 2188 391 2477 730 \nQ 2766 1069 2766 1631 \nL 2766 1759 \nL 2194 1759 \nz\nM 3341 1997 \nL 3341 0 \nL 2766 0 \nL 2766 531 \nQ 2569 213 2275 61 \nQ 1981 -91 1556 -91 \nQ 1019 -91 701 211 \nQ 384 513 384 1019 \nQ 384 1609 779 1909 \nQ 1175 2209 1959 2209 \nL 2766 2209 \nL 2766 2266 \nQ 2766 2663 2505 2880 \nQ 2244 3097 1772 3097 \nQ 1472 3097 1187 3025 \nQ 903 2953 641 2809 \nL 641 3341 \nQ 956 3463 1253 3523 \nQ 1550 3584 1831 3584 \nQ 2591 3584 2966 3190 \nQ 3341 2797 3341 1997 \nz\n\" id=\"DejaVuSans-61\" transform=\"scale(0.015625)\"/>\n       <path d=\"M 603 4863 \nL 1178 4863 \nL 1178 0 \nL 603 0 \nL 603 4863 \nz\n\" id=\"DejaVuSans-6c\" transform=\"scale(0.015625)\"/>\n       <path id=\"DejaVuSans-20\" transform=\"scale(0.015625)\"/>\n       <path d=\"M 1984 4856 \nQ 1566 4138 1362 3434 \nQ 1159 2731 1159 2009 \nQ 1159 1288 1364 580 \nQ 1569 -128 1984 -844 \nL 1484 -844 \nQ 1016 -109 783 600 \nQ 550 1309 550 2009 \nQ 550 2706 781 3412 \nQ 1013 4119 1484 4856 \nL 1984 4856 \nz\n\" id=\"DejaVuSans-28\" transform=\"scale(0.015625)\"/>\n       <path d=\"M 1259 4147 \nL 1259 2394 \nL 2053 2394 \nQ 2494 2394 2734 2622 \nQ 2975 2850 2975 3272 \nQ 2975 3691 2734 3919 \nQ 2494 4147 2053 4147 \nL 1259 4147 \nz\nM 628 4666 \nL 2053 4666 \nQ 2838 4666 3239 4311 \nQ 3641 3956 3641 3272 \nQ 3641 2581 3239 2228 \nQ 2838 1875 2053 1875 \nL 1259 1875 \nL 1259 0 \nL 628 0 \nL 628 4666 \nz\n\" id=\"DejaVuSans-50\" transform=\"scale(0.015625)\"/>\n       <path d=\"M 1959 3097 \nQ 1497 3097 1228 2736 \nQ 959 2375 959 1747 \nQ 959 1119 1226 758 \nQ 1494 397 1959 397 \nQ 2419 397 2687 759 \nQ 2956 1122 2956 1747 \nQ 2956 2369 2687 2733 \nQ 2419 3097 1959 3097 \nz\nM 1959 3584 \nQ 2709 3584 3137 3096 \nQ 3566 2609 3566 1747 \nQ 3566 888 3137 398 \nQ 2709 -91 1959 -91 \nQ 1206 -91 779 398 \nQ 353 888 353 1747 \nQ 353 2609 779 3096 \nQ 1206 3584 1959 3584 \nz\n\" id=\"DejaVuSans-6f\" transform=\"scale(0.015625)\"/>\n       <path d=\"M 2834 3397 \nL 2834 2853 \nQ 2591 2978 2328 3040 \nQ 2066 3103 1784 3103 \nQ 1356 3103 1142 2972 \nQ 928 2841 928 2578 \nQ 928 2378 1081 2264 \nQ 1234 2150 1697 2047 \nL 1894 2003 \nQ 2506 1872 2764 1633 \nQ 3022 1394 3022 966 \nQ 3022 478 2636 193 \nQ 2250 -91 1575 -91 \nQ 1294 -91 989 -36 \nQ 684 19 347 128 \nL 347 722 \nQ 666 556 975 473 \nQ 1284 391 1588 391 \nQ 1994 391 2212 530 \nQ 2431 669 2431 922 \nQ 2431 1156 2273 1281 \nQ 2116 1406 1581 1522 \nL 1381 1569 \nQ 847 1681 609 1914 \nQ 372 2147 372 2553 \nQ 372 3047 722 3315 \nQ 1072 3584 1716 3584 \nQ 2034 3584 2315 3537 \nQ 2597 3491 2834 3397 \nz\n\" id=\"DejaVuSans-73\" transform=\"scale(0.015625)\"/>\n       <path d=\"M 603 3500 \nL 1178 3500 \nL 1178 0 \nL 603 0 \nL 603 3500 \nz\nM 603 4863 \nL 1178 4863 \nL 1178 4134 \nL 603 4134 \nL 603 4863 \nz\n\" id=\"DejaVuSans-69\" transform=\"scale(0.015625)\"/>\n       <path d=\"M 1172 4494 \nL 1172 3500 \nL 2356 3500 \nL 2356 3053 \nL 1172 3053 \nL 1172 1153 \nQ 1172 725 1289 603 \nQ 1406 481 1766 481 \nL 2356 481 \nL 2356 0 \nL 1766 0 \nQ 1100 0 847 248 \nQ 594 497 594 1153 \nL 594 3053 \nL 172 3053 \nL 172 3500 \nL 594 3500 \nL 594 4494 \nL 1172 4494 \nz\n\" id=\"DejaVuSans-74\" transform=\"scale(0.015625)\"/>\n       <path d=\"M 191 3500 \nL 800 3500 \nL 1894 563 \nL 2988 3500 \nL 3597 3500 \nL 2284 0 \nL 1503 0 \nL 191 3500 \nz\n\" id=\"DejaVuSans-76\" transform=\"scale(0.015625)\"/>\n       <path d=\"M 3116 1747 \nQ 3116 2381 2855 2742 \nQ 2594 3103 2138 3103 \nQ 1681 3103 1420 2742 \nQ 1159 2381 1159 1747 \nQ 1159 1113 1420 752 \nQ 1681 391 2138 391 \nQ 2594 391 2855 752 \nQ 3116 1113 3116 1747 \nz\nM 1159 2969 \nQ 1341 3281 1617 3432 \nQ 1894 3584 2278 3584 \nQ 2916 3584 3314 3078 \nQ 3713 2572 3713 1747 \nQ 3713 922 3314 415 \nQ 2916 -91 2278 -91 \nQ 1894 -91 1617 61 \nQ 1341 213 1159 525 \nL 1159 0 \nL 581 0 \nL 581 4863 \nL 1159 4863 \nL 1159 2969 \nz\n\" id=\"DejaVuSans-62\" transform=\"scale(0.015625)\"/>\n       <path d=\"M 750 794 \nL 1409 794 \nL 1409 0 \nL 750 0 \nL 750 794 \nz\nM 750 3309 \nL 1409 3309 \nL 1409 2516 \nL 750 2516 \nL 750 3309 \nz\n\" id=\"DejaVuSans-3a\" transform=\"scale(0.015625)\"/>\n       <path d=\"M 513 4856 \nL 1013 4856 \nQ 1481 4119 1714 3412 \nQ 1947 2706 1947 2009 \nQ 1947 1309 1714 600 \nQ 1481 -109 1013 -844 \nL 513 -844 \nQ 928 -128 1133 580 \nQ 1338 1288 1338 2009 \nQ 1338 2731 1133 3434 \nQ 928 4138 513 4856 \nz\n\" id=\"DejaVuSans-29\" transform=\"scale(0.015625)\"/>\n      </defs>\n      <use xlink:href=\"#DejaVuSans-52\"/>\n      <use x=\"64.982422\" xlink:href=\"#DejaVuSans-65\"/>\n      <use x=\"126.505859\" xlink:href=\"#DejaVuSans-63\"/>\n      <use x=\"181.486328\" xlink:href=\"#DejaVuSans-61\"/>\n      <use x=\"242.765625\" xlink:href=\"#DejaVuSans-6c\"/>\n      <use x=\"270.548828\" xlink:href=\"#DejaVuSans-6c\"/>\n      <use x=\"298.332031\" xlink:href=\"#DejaVuSans-20\"/>\n      <use x=\"330.119141\" xlink:href=\"#DejaVuSans-28\"/>\n      <use x=\"369.132812\" xlink:href=\"#DejaVuSans-50\"/>\n      <use x=\"425.810547\" xlink:href=\"#DejaVuSans-6f\"/>\n      <use x=\"486.992188\" xlink:href=\"#DejaVuSans-73\"/>\n      <use x=\"539.091797\" xlink:href=\"#DejaVuSans-69\"/>\n      <use x=\"566.875\" xlink:href=\"#DejaVuSans-74\"/>\n      <use x=\"606.083984\" xlink:href=\"#DejaVuSans-69\"/>\n      <use x=\"633.867188\" xlink:href=\"#DejaVuSans-76\"/>\n      <use x=\"693.046875\" xlink:href=\"#DejaVuSans-65\"/>\n      <use x=\"754.570312\" xlink:href=\"#DejaVuSans-20\"/>\n      <use x=\"786.357422\" xlink:href=\"#DejaVuSans-6c\"/>\n      <use x=\"814.140625\" xlink:href=\"#DejaVuSans-61\"/>\n      <use x=\"875.419922\" xlink:href=\"#DejaVuSans-62\"/>\n      <use x=\"938.896484\" xlink:href=\"#DejaVuSans-65\"/>\n      <use x=\"1000.419922\" xlink:href=\"#DejaVuSans-6c\"/>\n      <use x=\"1028.203125\" xlink:href=\"#DejaVuSans-3a\"/>\n      <use x=\"1061.894531\" xlink:href=\"#DejaVuSans-20\"/>\n      <use x=\"1093.681641\" xlink:href=\"#DejaVuSans-31\"/>\n      <use x=\"1157.304688\" xlink:href=\"#DejaVuSans-29\"/>\n     </g>\n    </g>\n   </g>\n   <g id=\"matplotlib.axis_2\">\n    <g id=\"ytick_1\">\n     <g id=\"line2d_7\">\n      <defs>\n       <path d=\"M 0 0 \nL -3.5 0 \n\" id=\"mba569fa2e9\" style=\"stroke:#000000;stroke-width:0.8;\"/>\n      </defs>\n      <g>\n       <use style=\"stroke:#000000;stroke-width:0.8;\" x=\"43.78125\" xlink:href=\"#mba569fa2e9\" y=\"199.848357\"/>\n      </g>\n     </g>\n     <g id=\"text_8\">\n      <!-- 0.3 -->\n      <g transform=\"translate(20.878125 203.647575)scale(0.1 -0.1)\">\n       <defs>\n        <path d=\"M 2597 2516 \nQ 3050 2419 3304 2112 \nQ 3559 1806 3559 1356 \nQ 3559 666 3084 287 \nQ 2609 -91 1734 -91 \nQ 1441 -91 1130 -33 \nQ 819 25 488 141 \nL 488 750 \nQ 750 597 1062 519 \nQ 1375 441 1716 441 \nQ 2309 441 2620 675 \nQ 2931 909 2931 1356 \nQ 2931 1769 2642 2001 \nQ 2353 2234 1838 2234 \nL 1294 2234 \nL 1294 2753 \nL 1863 2753 \nQ 2328 2753 2575 2939 \nQ 2822 3125 2822 3475 \nQ 2822 3834 2567 4026 \nQ 2313 4219 1838 4219 \nQ 1578 4219 1281 4162 \nQ 984 4106 628 3988 \nL 628 4550 \nQ 988 4650 1302 4700 \nQ 1616 4750 1894 4750 \nQ 2613 4750 3031 4423 \nQ 3450 4097 3450 3541 \nQ 3450 3153 3228 2886 \nQ 3006 2619 2597 2516 \nz\n\" id=\"DejaVuSans-33\" transform=\"scale(0.015625)\"/>\n       </defs>\n       <use xlink:href=\"#DejaVuSans-30\"/>\n       <use x=\"63.623047\" xlink:href=\"#DejaVuSans-2e\"/>\n       <use x=\"95.410156\" xlink:href=\"#DejaVuSans-33\"/>\n      </g>\n     </g>\n    </g>\n    <g id=\"ytick_2\">\n     <g id=\"line2d_8\">\n      <g>\n       <use style=\"stroke:#000000;stroke-width:0.8;\" x=\"43.78125\" xlink:href=\"#mba569fa2e9\" y=\"173.739111\"/>\n      </g>\n     </g>\n     <g id=\"text_9\">\n      <!-- 0.4 -->\n      <g transform=\"translate(20.878125 177.53833)scale(0.1 -0.1)\">\n       <use xlink:href=\"#DejaVuSans-30\"/>\n       <use x=\"63.623047\" xlink:href=\"#DejaVuSans-2e\"/>\n       <use x=\"95.410156\" xlink:href=\"#DejaVuSans-34\"/>\n      </g>\n     </g>\n    </g>\n    <g id=\"ytick_3\">\n     <g id=\"line2d_9\">\n      <g>\n       <use style=\"stroke:#000000;stroke-width:0.8;\" x=\"43.78125\" xlink:href=\"#mba569fa2e9\" y=\"147.629865\"/>\n      </g>\n     </g>\n     <g id=\"text_10\">\n      <!-- 0.5 -->\n      <g transform=\"translate(20.878125 151.429084)scale(0.1 -0.1)\">\n       <defs>\n        <path d=\"M 691 4666 \nL 3169 4666 \nL 3169 4134 \nL 1269 4134 \nL 1269 2991 \nQ 1406 3038 1543 3061 \nQ 1681 3084 1819 3084 \nQ 2600 3084 3056 2656 \nQ 3513 2228 3513 1497 \nQ 3513 744 3044 326 \nQ 2575 -91 1722 -91 \nQ 1428 -91 1123 -41 \nQ 819 9 494 109 \nL 494 744 \nQ 775 591 1075 516 \nQ 1375 441 1709 441 \nQ 2250 441 2565 725 \nQ 2881 1009 2881 1497 \nQ 2881 1984 2565 2268 \nQ 2250 2553 1709 2553 \nQ 1456 2553 1204 2497 \nQ 953 2441 691 2322 \nL 691 4666 \nz\n\" id=\"DejaVuSans-35\" transform=\"scale(0.015625)\"/>\n       </defs>\n       <use xlink:href=\"#DejaVuSans-30\"/>\n       <use x=\"63.623047\" xlink:href=\"#DejaVuSans-2e\"/>\n       <use x=\"95.410156\" xlink:href=\"#DejaVuSans-35\"/>\n      </g>\n     </g>\n    </g>\n    <g id=\"ytick_4\">\n     <g id=\"line2d_10\">\n      <g>\n       <use style=\"stroke:#000000;stroke-width:0.8;\" x=\"43.78125\" xlink:href=\"#mba569fa2e9\" y=\"121.520619\"/>\n      </g>\n     </g>\n     <g id=\"text_11\">\n      <!-- 0.6 -->\n      <g transform=\"translate(20.878125 125.319838)scale(0.1 -0.1)\">\n       <use xlink:href=\"#DejaVuSans-30\"/>\n       <use x=\"63.623047\" xlink:href=\"#DejaVuSans-2e\"/>\n       <use x=\"95.410156\" xlink:href=\"#DejaVuSans-36\"/>\n      </g>\n     </g>\n    </g>\n    <g id=\"ytick_5\">\n     <g id=\"line2d_11\">\n      <g>\n       <use style=\"stroke:#000000;stroke-width:0.8;\" x=\"43.78125\" xlink:href=\"#mba569fa2e9\" y=\"95.411374\"/>\n      </g>\n     </g>\n     <g id=\"text_12\">\n      <!-- 0.7 -->\n      <g transform=\"translate(20.878125 99.210592)scale(0.1 -0.1)\">\n       <defs>\n        <path d=\"M 525 4666 \nL 3525 4666 \nL 3525 4397 \nL 1831 0 \nL 1172 0 \nL 2766 4134 \nL 525 4134 \nL 525 4666 \nz\n\" id=\"DejaVuSans-37\" transform=\"scale(0.015625)\"/>\n       </defs>\n       <use xlink:href=\"#DejaVuSans-30\"/>\n       <use x=\"63.623047\" xlink:href=\"#DejaVuSans-2e\"/>\n       <use x=\"95.410156\" xlink:href=\"#DejaVuSans-37\"/>\n      </g>\n     </g>\n    </g>\n    <g id=\"ytick_6\">\n     <g id=\"line2d_12\">\n      <g>\n       <use style=\"stroke:#000000;stroke-width:0.8;\" x=\"43.78125\" xlink:href=\"#mba569fa2e9\" y=\"69.302128\"/>\n      </g>\n     </g>\n     <g id=\"text_13\">\n      <!-- 0.8 -->\n      <g transform=\"translate(20.878125 73.101347)scale(0.1 -0.1)\">\n       <use xlink:href=\"#DejaVuSans-30\"/>\n       <use x=\"63.623047\" xlink:href=\"#DejaVuSans-2e\"/>\n       <use x=\"95.410156\" xlink:href=\"#DejaVuSans-38\"/>\n      </g>\n     </g>\n    </g>\n    <g id=\"ytick_7\">\n     <g id=\"line2d_13\">\n      <g>\n       <use style=\"stroke:#000000;stroke-width:0.8;\" x=\"43.78125\" xlink:href=\"#mba569fa2e9\" y=\"43.192882\"/>\n      </g>\n     </g>\n     <g id=\"text_14\">\n      <!-- 0.9 -->\n      <g transform=\"translate(20.878125 46.992101)scale(0.1 -0.1)\">\n       <defs>\n        <path d=\"M 703 97 \nL 703 672 \nQ 941 559 1184 500 \nQ 1428 441 1663 441 \nQ 2288 441 2617 861 \nQ 2947 1281 2994 2138 \nQ 2813 1869 2534 1725 \nQ 2256 1581 1919 1581 \nQ 1219 1581 811 2004 \nQ 403 2428 403 3163 \nQ 403 3881 828 4315 \nQ 1253 4750 1959 4750 \nQ 2769 4750 3195 4129 \nQ 3622 3509 3622 2328 \nQ 3622 1225 3098 567 \nQ 2575 -91 1691 -91 \nQ 1453 -91 1209 -44 \nQ 966 3 703 97 \nz\nM 1959 2075 \nQ 2384 2075 2632 2365 \nQ 2881 2656 2881 3163 \nQ 2881 3666 2632 3958 \nQ 2384 4250 1959 4250 \nQ 1534 4250 1286 3958 \nQ 1038 3666 1038 3163 \nQ 1038 2656 1286 2365 \nQ 1534 2075 1959 2075 \nz\n\" id=\"DejaVuSans-39\" transform=\"scale(0.015625)\"/>\n       </defs>\n       <use xlink:href=\"#DejaVuSans-30\"/>\n       <use x=\"63.623047\" xlink:href=\"#DejaVuSans-2e\"/>\n       <use x=\"95.410156\" xlink:href=\"#DejaVuSans-39\"/>\n      </g>\n     </g>\n    </g>\n    <g id=\"ytick_8\">\n     <g id=\"line2d_14\">\n      <g>\n       <use style=\"stroke:#000000;stroke-width:0.8;\" x=\"43.78125\" xlink:href=\"#mba569fa2e9\" y=\"17.083636\"/>\n      </g>\n     </g>\n     <g id=\"text_15\">\n      <!-- 1.0 -->\n      <g transform=\"translate(20.878125 20.882855)scale(0.1 -0.1)\">\n       <use xlink:href=\"#DejaVuSans-31\"/>\n       <use x=\"63.623047\" xlink:href=\"#DejaVuSans-2e\"/>\n       <use x=\"95.410156\" xlink:href=\"#DejaVuSans-30\"/>\n      </g>\n     </g>\n    </g>\n    <g id=\"text_16\">\n     <!-- Precision (Positive label: 1) -->\n     <g transform=\"translate(14.798438 183.12625)rotate(-90)scale(0.1 -0.1)\">\n      <defs>\n       <path d=\"M 2631 2963 \nQ 2534 3019 2420 3045 \nQ 2306 3072 2169 3072 \nQ 1681 3072 1420 2755 \nQ 1159 2438 1159 1844 \nL 1159 0 \nL 581 0 \nL 581 3500 \nL 1159 3500 \nL 1159 2956 \nQ 1341 3275 1631 3429 \nQ 1922 3584 2338 3584 \nQ 2397 3584 2469 3576 \nQ 2541 3569 2628 3553 \nL 2631 2963 \nz\n\" id=\"DejaVuSans-72\" transform=\"scale(0.015625)\"/>\n       <path d=\"M 3513 2113 \nL 3513 0 \nL 2938 0 \nL 2938 2094 \nQ 2938 2591 2744 2837 \nQ 2550 3084 2163 3084 \nQ 1697 3084 1428 2787 \nQ 1159 2491 1159 1978 \nL 1159 0 \nL 581 0 \nL 581 3500 \nL 1159 3500 \nL 1159 2956 \nQ 1366 3272 1645 3428 \nQ 1925 3584 2291 3584 \nQ 2894 3584 3203 3211 \nQ 3513 2838 3513 2113 \nz\n\" id=\"DejaVuSans-6e\" transform=\"scale(0.015625)\"/>\n      </defs>\n      <use xlink:href=\"#DejaVuSans-50\"/>\n      <use x=\"58.552734\" xlink:href=\"#DejaVuSans-72\"/>\n      <use x=\"97.416016\" xlink:href=\"#DejaVuSans-65\"/>\n      <use x=\"158.939453\" xlink:href=\"#DejaVuSans-63\"/>\n      <use x=\"213.919922\" xlink:href=\"#DejaVuSans-69\"/>\n      <use x=\"241.703125\" xlink:href=\"#DejaVuSans-73\"/>\n      <use x=\"293.802734\" xlink:href=\"#DejaVuSans-69\"/>\n      <use x=\"321.585938\" xlink:href=\"#DejaVuSans-6f\"/>\n      <use x=\"382.767578\" xlink:href=\"#DejaVuSans-6e\"/>\n      <use x=\"446.146484\" xlink:href=\"#DejaVuSans-20\"/>\n      <use x=\"477.933594\" xlink:href=\"#DejaVuSans-28\"/>\n      <use x=\"516.947266\" xlink:href=\"#DejaVuSans-50\"/>\n      <use x=\"573.625\" xlink:href=\"#DejaVuSans-6f\"/>\n      <use x=\"634.806641\" xlink:href=\"#DejaVuSans-73\"/>\n      <use x=\"686.90625\" xlink:href=\"#DejaVuSans-69\"/>\n      <use x=\"714.689453\" xlink:href=\"#DejaVuSans-74\"/>\n      <use x=\"753.898438\" xlink:href=\"#DejaVuSans-69\"/>\n      <use x=\"781.681641\" xlink:href=\"#DejaVuSans-76\"/>\n      <use x=\"840.861328\" xlink:href=\"#DejaVuSans-65\"/>\n      <use x=\"902.384766\" xlink:href=\"#DejaVuSans-20\"/>\n      <use x=\"934.171875\" xlink:href=\"#DejaVuSans-6c\"/>\n      <use x=\"961.955078\" xlink:href=\"#DejaVuSans-61\"/>\n      <use x=\"1023.234375\" xlink:href=\"#DejaVuSans-62\"/>\n      <use x=\"1086.710938\" xlink:href=\"#DejaVuSans-65\"/>\n      <use x=\"1148.234375\" xlink:href=\"#DejaVuSans-6c\"/>\n      <use x=\"1176.017578\" xlink:href=\"#DejaVuSans-3a\"/>\n      <use x=\"1209.708984\" xlink:href=\"#DejaVuSans-20\"/>\n      <use x=\"1241.496094\" xlink:href=\"#DejaVuSans-31\"/>\n      <use x=\"1305.119141\" xlink:href=\"#DejaVuSans-29\"/>\n     </g>\n    </g>\n   </g>\n   <g id=\"line2d_15\">\n    <path clip-path=\"url(#p994ff50a82)\" d=\"M 363.363068 214.731857 \nL 363.207781 214.731857 \nL 363.207781 214.6224 \nL 363.207781 212.331588 \nL 363.052493 212.331588 \nL 363.052493 212.220858 \nL 363.052493 210.077115 \nL 362.897205 210.077115 \nL 362.897205 209.966517 \nL 362.897205 208.095455 \nL 362.741918 208.095455 \nL 362.741918 207.986863 \nL 362.741918 204.947409 \nL 362.58663 204.947409 \nL 362.58663 204.858692 \nL 362.58663 203.089928 \nL 362.431343 203.089928 \nL 362.431343 202.984545 \nL 362.431343 202.392573 \nL 362.276055 202.392573 \nL 362.276055 202.284805 \nL 362.276055 201.242846 \nL 362.120768 201.242846 \nL 362.120768 201.142769 \nL 362.120768 198.268211 \nL 361.96548 198.268211 \nL 361.96548 198.158597 \nL 361.96548 198.032704 \nL 361.810192 198.032704 \nL 361.810192 197.922265 \nL 361.810192 196.793375 \nL 361.654905 196.793375 \nL 361.654905 196.691835 \nL 361.654905 195.754779 \nL 361.189042 195.759263 \nL 361.189042 195.654424 \nL 361.189042 194.014106 \nL 361.033755 194.014106 \nL 361.033755 193.903802 \nL 361.033755 193.566825 \nL 360.878467 193.566825 \nL 360.878467 193.469195 \nL 360.878467 192.250288 \nL 360.723179 192.250288 \nL 360.723179 192.148852 \nL 360.723179 191.190044 \nL 360.567892 191.190044 \nL 360.567892 191.08548 \nL 360.567892 190.422277 \nL 360.412604 190.422277 \nL 360.412604 190.315404 \nL 360.412604 190.254432 \nL 360.257317 190.254432 \nL 360.257317 190.147007 \nL 360.257317 188.732448 \nL 360.102029 188.732448 \nL 360.102029 188.63625 \nL 360.102029 187.966137 \nL 359.946742 187.966137 \nL 359.946742 187.867834 \nL 359.946742 187.754868 \nL 359.791454 187.754868 \nL 359.791454 187.655942 \nL 359.791454 186.953855 \nL 359.636167 186.953855 \nL 359.636167 186.852698 \nL 359.636167 186.405034 \nL 359.480879 186.405034 \nL 359.480879 186.302316 \nL 359.480879 184.252706 \nL 359.325591 184.252706 \nL 359.325591 184.16142 \nL 359.325591 183.313645 \nL 359.170304 183.313645 \nL 359.170304 183.219985 \nL 359.170304 181.750469 \nL 359.015016 181.750469 \nL 359.015016 181.65282 \nL 359.015016 181.337809 \nL 358.859729 181.337809 \nL 358.859729 181.239056 \nL 358.859729 179.008207 \nL 358.704441 179.008207 \nL 358.704441 178.903351 \nL 358.704441 178.609122 \nL 358.549154 178.609122 \nL 358.549154 178.503157 \nL 358.549154 177.76793 \nL 358.393866 177.76793 \nL 358.393866 177.659669 \nL 358.393866 177.458555 \nL 358.238578 177.458555 \nL 358.238578 177.349407 \nL 358.238578 176.964031 \nL 357.928003 176.955467 \nL 357.928003 176.865273 \nL 357.928003 176.722121 \nL 357.772716 176.722121 \nL 357.772716 176.631342 \nL 357.772716 176.219145 \nL 357.462141 176.189339 \nL 357.462141 176.117989 \nL 357.462141 175.826572 \nL 357.151565 175.858956 \nL 357.151565 175.724118 \nL 357.151565 175.556336 \nL 356.996278 175.556336 \nL 356.996278 175.462599 \nL 356.996278 175.399391 \nL 356.685703 175.410788 \nL 356.685703 175.295469 \nL 356.685703 175.01982 \nL 356.530415 175.01982 \nL 356.530415 174.92467 \nL 356.530415 172.077865 \nL 356.375128 172.077865 \nL 356.375128 171.998125 \nL 356.375128 171.522498 \nL 356.064552 171.555449 \nL 356.064552 171.428953 \nL 356.064552 171.246128 \nL 355.59869 171.151708 \nL 355.59869 171.138834 \nL 355.59869 170.491664 \nL 355.443402 170.491664 \nL 355.443402 170.385112 \nL 355.443402 170.315133 \nL 355.132827 170.254861 \nL 355.132827 170.217873 \nL 355.132827 170.194459 \nL 354.977539 170.194459 \nL 354.977539 170.086992 \nL 354.977539 169.875283 \nL 354.822252 169.875283 \nL 354.822252 169.766954 \nL 354.822252 169.411359 \nL 354.666964 169.411359 \nL 354.666964 169.301797 \nL 354.666964 169.182444 \nL 354.511677 169.182444 \nL 354.511677 169.072241 \nL 354.511677 168.95232 \nL 354.356389 168.95232 \nL 354.356389 168.841472 \nL 354.356389 168.333613 \nL 354.201102 168.333613 \nL 354.201102 168.245471 \nL 354.201102 167.952518 \nL 354.045814 167.952518 \nL 354.045814 167.863515 \nL 354.045814 167.789875 \nL 353.890526 167.789875 \nL 353.890526 167.700475 \nL 353.890526 167.453768 \nL 353.735239 167.453768 \nL 353.735239 167.363597 \nL 353.735239 167.28921 \nL 353.424664 167.223497 \nL 353.424664 167.182529 \nL 353.424664 166.657441 \nL 353.114089 166.666018 \nL 353.114089 166.548754 \nL 353.114089 166.397361 \nL 352.958801 166.397361 \nL 352.958801 166.304654 \nL 352.958801 165.256738 \nL 352.492938 165.272861 \nL 352.492938 165.151645 \nL 352.492938 164.866164 \nL 352.182363 164.900106 \nL 352.182363 164.777759 \nL 352.182363 164.332547 \nL 352.027076 164.332547 \nL 352.027076 164.234959 \nL 352.027076 164.208602 \nL 351.871788 164.208602 \nL 351.871788 164.110684 \nL 351.871788 163.925427 \nL 351.7165 163.925427 \nL 351.7165 163.85338 \nL 351.7165 163.720447 \nL 351.561213 163.720447 \nL 351.561213 163.621322 \nL 351.561213 163.461031 \nL 351.09535 163.422239 \nL 351.09535 163.375974 \nL 351.09535 163.13395 \nL 350.784775 163.033279 \nL 350.784775 163.040509 \nL 350.784775 162.878156 \nL 350.629487 162.878156 \nL 350.629487 162.776792 \nL 350.629487 162.203616 \nL 349.85305 162.14876 \nL 349.85305 162.100572 \nL 349.85305 161.546909 \nL 349.697762 161.546909 \nL 349.697762 161.442136 \nL 349.697762 161.386349 \nL 349.387187 161.420839 \nL 349.387187 161.287682 \nL 349.387187 160.781793 \nL 349.076612 160.675058 \nL 349.076612 160.681343 \nL 349.076612 160.539647 \nL 348.921324 160.539647 \nL 348.921324 160.432225 \nL 348.921324 160.375316 \nL 348.300174 160.336786 \nL 348.300174 160.285825 \nL 348.300174 159.596072 \nL 347.834311 159.607752 \nL 347.834311 159.497704 \nL 347.834311 158.973352 \nL 347.368449 158.925901 \nL 347.368449 158.872774 \nL 347.368449 158.54898 \nL 347.213161 158.54898 \nL 347.213161 158.465718 \nL 347.213161 158.376934 \nL 346.592011 158.392899 \nL 346.592011 158.279433 \nL 346.592011 158.070969 \nL 346.281436 158.046305 \nL 346.281436 157.961797 \nL 346.281436 157.782015 \nL 345.815573 157.671883 \nL 345.815573 157.707003 \nL 345.815573 157.405303 \nL 345.660285 157.405303 \nL 345.660285 157.319355 \nL 345.660285 157.198012 \nL 345.504998 157.198012 \nL 345.504998 157.111609 \nL 345.504998 157.050727 \nL 345.194423 156.994495 \nL 345.194423 156.968689 \nL 345.194423 156.846442 \nL 345.039135 156.846442 \nL 345.039135 156.759202 \nL 345.039135 156.081068 \nL 344.883847 156.081068 \nL 344.883847 155.992257 \nL 344.883847 155.71209 \nL 344.573272 155.716211 \nL 344.573272 155.626571 \nL 344.573272 155.563982 \nL 344.262697 155.599354 \nL 344.262697 155.478001 \nL 344.262697 154.847 \nL 343.641547 154.794603 \nL 343.641547 154.766482 \nL 343.641547 154.639059 \nL 343.020397 154.649931 \nL 343.020397 154.557635 \nL 343.020397 154.365333 \nL 342.865109 154.365333 \nL 342.865109 154.272404 \nL 342.865109 154.175831 \nL 342.399246 154.182641 \nL 342.399246 154.089184 \nL 342.399246 154.056861 \nL 342.243959 154.056861 \nL 342.243959 153.963094 \nL 342.243959 153.898264 \nL 341.778096 153.93727 \nL 341.778096 153.810579 \nL 341.778096 153.745483 \nL 341.312233 153.719286 \nL 341.312233 153.657183 \nL 341.312233 153.395314 \nL 341.156946 153.395314 \nL 341.156946 153.299812 \nL 341.156946 153.266932 \nL 340.846371 153.204058 \nL 340.846371 153.174034 \nL 340.846371 153.141052 \nL 340.691083 153.141052 \nL 340.691083 153.044861 \nL 340.691083 152.912482 \nL 340.380508 152.882122 \nL 340.380508 152.818507 \nL 340.380508 152.35175 \nL 340.22522 152.35175 \nL 340.22522 152.25374 \nL 340.22522 152.153055 \nL 339.914645 152.189064 \nL 339.914645 152.056933 \nL 339.914645 151.481819 \nL 339.759358 151.481819 \nL 339.759358 151.381798 \nL 339.759358 151.347732 \nL 339.448782 151.349731 \nL 339.448782 151.249316 \nL 339.448782 150.562297 \nL 338.827632 150.601649 \nL 338.827632 150.464745 \nL 338.827632 150.082272 \nL 338.361769 150.084945 \nL 338.361769 150.016386 \nL 338.361769 149.771137 \nL 338.051194 149.702027 \nL 338.051194 149.667974 \nL 338.051194 149.137825 \nL 337.585332 149.068391 \nL 337.585332 149.033588 \nL 337.585332 148.28151 \nL 337.274756 148.281872 \nL 337.274756 148.173959 \nL 337.274756 148.029311 \nL 336.808894 148.065746 \nL 336.808894 147.9211 \nL 336.808894 147.81204 \nL 336.653606 147.81204 \nL 336.653606 147.702837 \nL 336.653606 147.447078 \nL 336.343031 147.336996 \nL 336.343031 147.336832 \nL 336.343031 147.263368 \nL 336.032456 147.299925 \nL 336.032456 147.152481 \nL 336.032456 147.115614 \nL 335.721881 147.078417 \nL 335.721881 147.041156 \nL 335.721881 146.967194 \nL 335.256018 146.96682 \nL 335.256018 146.891899 \nL 335.256018 145.995251 \nL 334.790155 145.918027 \nL 334.790155 145.917051 \nL 334.790155 145.728163 \nL 334.634868 145.728163 \nL 334.634868 145.651326 \nL 334.634868 145.499566 \nL 334.324293 145.460329 \nL 334.324293 145.421024 \nL 334.324293 144.885876 \nL 334.013718 144.845882 \nL 334.013718 144.805819 \nL 334.013718 144.613199 \nL 333.703142 144.572842 \nL 333.703142 144.532414 \nL 333.703142 144.066757 \nL 333.547855 144.066757 \nL 333.547855 143.986715 \nL 333.547855 143.556244 \nL 333.081992 143.512169 \nL 333.081992 142.996221 \nL 332.771417 142.914098 \nL 332.771417 142.911327 \nL 332.771417 142.791975 \nL 332.616129 142.791975 \nL 332.616129 142.709395 \nL 332.616129 142.669493 \nL 332.150267 142.623668 \nL 332.150267 142.58069 \nL 332.150267 142.460481 \nL 331.994979 142.460481 \nL 331.994979 142.377117 \nL 331.994979 142.336928 \nL 331.529116 142.250106 \nL 331.529116 142.246915 \nL 331.529116 141.639365 \nL 331.063254 141.550697 \nL 331.063254 141.547066 \nL 331.063254 140.973339 \nL 330.286816 140.920095 \nL 330.286816 140.870699 \nL 330.286816 140.74659 \nL 329.665666 140.692626 \nL 329.665666 140.646885 \nL 329.665666 140.271805 \nL 329.510378 140.271805 \nL 329.510378 140.18366 \nL 329.510378 140.099876 \nL 328.11279 140.020976 \nL 328.11279 140.016329 \nL 328.11279 139.210114 \nL 327.646927 139.157009 \nL 327.646927 139.108991 \nL 327.646927 139.023305 \nL 327.025777 138.964401 \nL 327.025777 138.959047 \nL 327.025777 138.786802 \nL 326.559914 138.689451 \nL 326.559914 138.683906 \nL 326.559914 138.64064 \nL 326.404627 138.64064 \nL 326.404627 138.548388 \nL 326.404627 138.418179 \nL 326.249339 138.418179 \nL 326.249339 138.32545 \nL 326.249339 138.107478 \nL 325.783476 138.051856 \nL 325.783476 138.002081 \nL 325.783476 137.870544 \nL 325.162326 137.776548 \nL 325.162326 137.448901 \nL 324.385888 137.467584 \nL 324.385888 137.372367 \nL 324.385888 136.881917 \nL 323.60945 136.809743 \nL 323.60945 136.577893 \nL 323.143588 136.654004 \nL 323.143588 136.692096 \nL 323.143588 136.601892 \nL 322.522437 136.625968 \nL 322.522437 136.528427 \nL 322.522437 136.392446 \nL 322.056575 136.378043 \nL 322.056575 136.325349 \nL 322.056575 136.097513 \nL 321.901287 136.097513 \nL 321.901287 135.998696 \nL 321.901287 135.95295 \nL 321.435424 135.892064 \nL 321.435424 135.884493 \nL 321.435424 135.700713 \nL 321.124849 135.693005 \nL 321.124849 135.593089 \nL 321.124849 135.269457 \nL 319.882549 135.330188 \nL 319.882549 135.391156 \nL 319.882549 135.298137 \nL 319.727261 135.298137 \nL 319.727261 135.196891 \nL 319.727261 134.446836 \nL 319.571974 134.446836 \nL 319.571974 134.343808 \nL 319.571974 134.012506 \nL 319.261398 134.003538 \nL 319.261398 133.947037 \nL 319.261398 133.326389 \nL 318.950823 133.220885 \nL 318.950823 133.211326 \nL 318.640248 133.153623 \nL 318.640248 133.144005 \nL 318.640248 132.99931 \nL 318.174385 132.941242 \nL 318.174385 132.970059 \nL 318.174385 132.824756 \nL 316.932085 132.755295 \nL 316.932085 132.745319 \nL 316.932085 132.647714 \nL 315.845072 132.636176 \nL 315.845072 132.576996 \nL 315.845072 132.52789 \nL 315.379209 132.507489 \nL 315.379209 132.448018 \nL 315.379209 132.300071 \nL 315.068634 132.289689 \nL 315.068634 132.229835 \nL 315.068634 132.130822 \nL 314.913346 132.130822 \nL 314.913346 132.021077 \nL 314.913346 131.87199 \nL 314.136909 131.928734 \nL 314.136909 131.768276 \nL 314.136909 131.71829 \nL 313.826333 131.65736 \nL 313.826333 131.646435 \nL 313.826333 130.840219 \nL 313.049896 130.793903 \nL 313.049896 130.731406 \nL 313.049896 129.706417 \nL 312.739321 129.693948 \nL 312.739321 129.474429 \nL 312.584033 129.474429 \nL 312.584033 129.409875 \nL 312.584033 129.35795 \nL 312.428745 129.35795 \nL 312.428745 129.293183 \nL 312.428745 129.241144 \nL 312.273458 129.241144 \nL 312.273458 129.176164 \nL 312.273458 129.071823 \nL 311.652308 129.111048 \nL 311.652308 129.228889 \nL 311.652308 129.176645 \nL 311.186445 129.098355 \nL 311.186445 128.822747 \nL 310.87587 128.822747 \nL 310.87587 128.743502 \nL 310.87587 128.108069 \nL 310.565295 128.094224 \nL 310.565295 128.027077 \nL 310.565295 127.973757 \nL 310.410007 127.973757 \nL 310.410007 127.906386 \nL 310.410007 127.852947 \nL 310.254719 127.852947 \nL 310.254719 127.785351 \nL 310.254719 127.517179 \nL 309.633569 127.527891 \nL 309.633569 127.459632 \nL 309.633569 127.297746 \nL 309.478282 127.297746 \nL 309.478282 127.229092 \nL 309.478282 127.01237 \nL 309.167706 127.01237 \nL 309.167706 126.92836 \nL 309.167706 126.873954 \nL 308.701844 126.789512 \nL 308.701844 126.774481 \nL 308.701844 126.555772 \nL 308.080693 126.510008 \nL 308.080693 126.49471 \nL 308.080693 126.274642 \nL 307.614831 126.188406 \nL 307.614831 126.172812 \nL 307.614831 126.006809 \nL 307.459543 126.006809 \nL 307.459543 125.935594 \nL 307.459543 125.713345 \nL 306.683105 125.760746 \nL 306.683105 125.688921 \nL 306.683105 125.40923 \nL 306.527818 125.40923 \nL 306.527818 125.392916 \nL 306.527818 125.168235 \nL 306.37253 125.168235 \nL 306.37253 125.095385 \nL 306.37253 124.926173 \nL 306.061955 124.852895 \nL 306.061955 124.836079 \nL 306.061955 124.666079 \nL 305.440805 124.615048 \nL 305.440805 124.597988 \nL 305.440805 124.541044 \nL 304.664367 124.529492 \nL 304.664367 124.455116 \nL 304.664367 123.880887 \nL 304.198504 123.903064 \nL 304.198504 123.827539 \nL 304.198504 123.538063 \nL 303.887929 123.519976 \nL 303.887929 123.443736 \nL 303.887929 123.327352 \nL 303.422066 123.290738 \nL 303.422066 123.272389 \nL 303.422066 123.097027 \nL 303.266779 123.097027 \nL 303.266779 123.019904 \nL 303.266779 122.72627 \nL 303.111491 122.72627 \nL 303.111491 122.648491 \nL 303.111491 122.589535 \nL 302.179766 122.494252 \nL 302.179766 122.356434 \nL 301.869191 122.396568 \nL 301.869191 122.258338 \nL 301.869191 122.13918 \nL 301.403328 122.040405 \nL 301.403328 122.080603 \nL 301.403328 121.901045 \nL 300.937465 121.981489 \nL 300.937465 122.021757 \nL 300.316315 121.962638 \nL 300.316315 121.942871 \nL 300.316315 121.82246 \nL 298.763439 121.824215 \nL 298.763439 121.743516 \nL 298.763439 121.682789 \nL 298.297577 121.642435 \nL 298.297577 121.622212 \nL 298.297577 121.500285 \nL 298.142289 121.500285 \nL 298.142289 121.418829 \nL 298.142289 121.357691 \nL 297.987001 121.357691 \nL 297.987001 121.398376 \nL 297.987001 121.09193 \nL 297.210564 121.131845 \nL 297.210564 120.987778 \nL 297.210564 120.740626 \nL 296.589413 120.677058 \nL 296.589413 120.655802 \nL 296.589413 120.15732 \nL 296.434126 120.15732 \nL 296.434126 120.072978 \nL 296.434126 119.82212 \nL 295.968263 119.714972 \nL 295.968263 119.75578 \nL 295.968263 119.376935 \nL 295.812975 119.376935 \nL 295.812975 119.291019 \nL 295.812975 119.227592 \nL 295.036538 119.327443 \nL 295.036538 119.368357 \nL 295.036538 119.177482 \nL 294.88125 119.177482 \nL 294.88125 119.090878 \nL 294.88125 118.707078 \nL 294.415387 118.660485 \nL 294.415387 118.637132 \nL 294.415387 118.379499 \nL 293.949525 118.396797 \nL 293.949525 118.308474 \nL 293.949525 118.24375 \nL 293.638949 118.219937 \nL 293.638949 118.196084 \nL 293.638949 118.131184 \nL 293.017799 118.059207 \nL 293.017799 118.035136 \nL 293.017799 117.904675 \nL 292.551936 117.986877 \nL 292.551936 118.028029 \nL 292.396649 118.028029 \nL 292.396649 117.938461 \nL 292.396649 117.610642 \nL 292.086074 117.651791 \nL 292.086074 117.627229 \nL 292.086074 117.495578 \nL 291.930786 117.495578 \nL 291.930786 117.404876 \nL 291.930786 117.272772 \nL 291.775499 117.272772 \nL 291.775499 117.181609 \nL 291.775499 117.115356 \nL 291.620211 117.115356 \nL 291.620211 117.023848 \nL 291.620211 116.357103 \nL 290.843773 116.439317 \nL 290.843773 116.495862 \nL 290.222623 116.552595 \nL 290.222623 116.392212 \nL 290.222623 116.122459 \nL 289.912048 116.028524 \nL 289.912048 116.069837 \nL 289.912048 115.934354 \nL 289.75676 115.934354 \nL 289.75676 115.839947 \nL 289.75676 115.499619 \nL 289.601473 115.499619 \nL 289.601473 115.404348 \nL 289.601473 115.335985 \nL 288.825035 115.432858 \nL 288.825035 115.474268 \nL 288.825035 115.33714 \nL 288.359172 115.282615 \nL 288.359172 115.255283 \nL 288.359172 115.186424 \nL 287.272159 115.090317 \nL 287.272159 115.131951 \nL 287.272159 114.993308 \nL 286.185146 114.895719 \nL 286.185146 114.937519 \nL 286.185146 114.72797 \nL 285.719283 114.811605 \nL 285.719283 114.853477 \nL 285.719283 114.783472 \nL 285.408708 114.685152 \nL 285.408708 114.727059 \nL 285.408708 114.656849 \nL 285.098133 114.628497 \nL 285.098133 114.600096 \nL 285.098133 114.388667 \nL 284.63227 114.401964 \nL 284.63227 114.302513 \nL 284.63227 114.089874 \nL 283.855833 114.044653 \nL 283.855833 114.015487 \nL 283.855833 113.729866 \nL 283.545257 113.628713 \nL 283.545257 113.670781 \nL 283.545257 113.59907 \nL 282.924107 113.509828 \nL 282.924107 113.4079 \nL 282.613532 113.450073 \nL 282.613532 113.347887 \nL 282.613532 113.058334 \nL 282.302957 112.955317 \nL 282.302957 112.997496 \nL 282.302957 112.779198 \nL 282.147669 112.779198 \nL 282.147669 112.675493 \nL 282.147669 112.602457 \nL 281.837094 112.644629 \nL 281.837094 112.540516 \nL 281.837094 112.393936 \nL 281.681807 112.393936 \nL 281.681807 112.28926 \nL 281.681807 112.215729 \nL 281.371231 112.110629 \nL 281.371231 112.152826 \nL 281.371231 112.00525 \nL 281.215944 112.00525 \nL 281.215944 111.899589 \nL 281.215944 111.751458 \nL 281.060656 111.751458 \nL 281.060656 111.645222 \nL 281.060656 111.570911 \nL 280.439506 111.623149 \nL 280.439506 111.51636 \nL 280.439506 111.441726 \nL 279.973643 111.484001 \nL 279.973643 111.568665 \nL 279.973643 111.493919 \nL 279.663068 111.386572 \nL 279.663068 111.428956 \nL 279.663068 111.35398 \nL 279.352493 111.35398 \nL 279.352493 111.288618 \nL 279.352493 111.138133 \nL 279.197205 111.138133 \nL 279.197205 111.029771 \nL 279.197205 110.954276 \nL 279.041918 110.954276 \nL 279.041918 110.845469 \nL 279.041918 110.618117 \nL 278.88663 110.618117 \nL 278.88663 110.508557 \nL 278.88663 110.280127 \nL 278.576055 110.246172 \nL 278.576055 110.212156 \nL 278.576055 109.982593 \nL 277.799617 109.998677 \nL 277.799617 109.964264 \nL 277.799617 109.036198 \nL 277.489042 109.000677 \nL 277.489042 108.965091 \nL 277.489042 108.887113 \nL 276.712604 108.822087 \nL 276.712604 108.78617 \nL 276.712604 108.629255 \nL 275.780879 108.684382 \nL 275.780879 108.569267 \nL 275.780879 108.332165 \nL 275.315016 108.295507 \nL 275.315016 108.221985 \nL 275.315016 108.14253 \nL 275.004441 108.185121 \nL 275.004441 108.068549 \nL 275.004441 107.909048 \nL 274.538578 107.99429 \nL 274.538578 108.036971 \nL 274.538578 107.71686 \nL 274.383291 107.71686 \nL 274.383291 107.679277 \nL 274.383291 107.276972 \nL 274.228003 107.276972 \nL 274.228003 107.23885 \nL 274.228003 107.158066 \nL 273.762141 107.081415 \nL 273.762141 107.124048 \nL 273.762141 107.042981 \nL 273.451565 107.004473 \nL 273.451565 106.965893 \nL 273.451565 106.640088 \nL 273.296278 106.640088 \nL 273.296278 106.60105 \nL 273.296278 106.519309 \nL 272.985703 106.561938 \nL 272.985703 106.440816 \nL 272.985703 106.358803 \nL 272.830415 106.358803 \nL 272.830415 106.319347 \nL 272.830415 106.072545 \nL 272.675128 106.072545 \nL 272.675128 106.03272 \nL 272.675128 105.619311 \nL 272.364552 105.578916 \nL 272.364552 105.538444 \nL 272.364552 105.455325 \nL 271.89869 105.540503 \nL 271.89869 105.583153 \nL 271.588115 105.625845 \nL 271.588115 105.334907 \nL 271.432827 105.334907 \nL 271.432827 105.293963 \nL 271.432827 105.042559 \nL 270.345814 105.046626 \nL 270.345814 105.005122 \nL 270.345814 104.920689 \nL 270.190526 104.920689 \nL 270.190526 104.879002 \nL 270.190526 104.709683 \nL 269.724664 104.62565 \nL 269.724664 104.66852 \nL 269.724664 104.583509 \nL 269.569376 104.583509 \nL 269.569376 104.541286 \nL 269.569376 104.370806 \nL 269.414089 104.370806 \nL 269.414089 104.32829 \nL 269.414089 104.24282 \nL 269.258801 104.24282 \nL 269.258801 104.200116 \nL 269.258801 104.114456 \nL 269.103513 104.114456 \nL 269.103513 104.071562 \nL 269.103513 103.813757 \nL 268.948226 103.813757 \nL 268.948226 103.77046 \nL 268.948226 103.684249 \nL 268.637651 103.64076 \nL 268.637651 103.597185 \nL 268.637651 103.424077 \nL 267.861213 103.335075 \nL 267.861213 103.378008 \nL 267.861213 103.290957 \nL 267.084775 103.288489 \nL 267.084775 103.244147 \nL 267.084775 102.805721 \nL 266.618912 102.891745 \nL 266.618912 102.934821 \nL 266.618912 102.758699 \nL 266.15305 102.668324 \nL 266.15305 102.71144 \nL 266.15305 102.445853 \nL 265.221324 102.484005 \nL 265.221324 102.349125 \nL 265.221324 102.081232 \nL 264.755462 101.988512 \nL 264.755462 102.031742 \nL 264.755462 101.94201 \nL 263.513161 101.885182 \nL 263.513161 101.838265 \nL 263.513161 101.65722 \nL 263.202586 101.609972 \nL 263.202586 101.562626 \nL 263.202586 101.380738 \nL 263.047298 101.380738 \nL 263.047298 101.333058 \nL 263.047298 101.241855 \nL 262.736723 101.28528 \nL 262.736723 101.145962 \nL 262.736723 100.962796 \nL 261.960285 100.952983 \nL 261.960285 100.904488 \nL 261.960285 100.812351 \nL 261.804998 100.812351 \nL 261.804998 100.763633 \nL 261.804998 100.300899 \nL 261.64971 100.300899 \nL 261.64971 100.251469 \nL 261.64971 100.158509 \nL 261.339135 100.108853 \nL 261.339135 100.059093 \nL 261.339135 99.965789 \nL 261.02856 99.9158 \nL 261.02856 99.865707 \nL 261.02856 99.772056 \nL 260.252122 99.852283 \nL 260.252122 99.895891 \nL 260.252122 99.707832 \nL 260.096834 99.707832 \nL 260.096834 99.657228 \nL 260.096834 99.27941 \nL 259.941547 99.27941 \nL 259.941547 99.228191 \nL 259.941547 98.848259 \nL 259.630972 98.796419 \nL 259.630972 98.83986 \nL 259.630972 98.265984 \nL 259.165109 98.256612 \nL 259.165109 98.203806 \nL 259.165109 97.914617 \nL 258.854534 97.861303 \nL 258.854534 97.807874 \nL 258.854534 97.614034 \nL 258.699246 97.614034 \nL 258.699246 97.560225 \nL 258.699246 97.170757 \nL 257.922808 97.148224 \nL 257.922808 97.093561 \nL 257.922808 96.995467 \nL 256.680508 97.004094 \nL 256.680508 96.948886 \nL 256.680508 96.354049 \nL 256.059358 96.285024 \nL 256.059358 96.328493 \nL 256.059358 96.228632 \nL 255.90407 96.228632 \nL 255.90407 96.172116 \nL 255.90407 95.871448 \nL 255.593495 95.914858 \nL 255.593495 95.857809 \nL 255.593495 95.757191 \nL 255.127632 95.844124 \nL 255.127632 95.887662 \nL 255.127632 95.584857 \nL 254.817057 95.527157 \nL 254.817057 95.570665 \nL 254.817057 95.46933 \nL 254.506482 95.512853 \nL 254.506482 95.454913 \nL 254.506482 95.1497 \nL 254.195907 95.19319 \nL 254.195907 95.1347 \nL 254.195907 94.930299 \nL 254.040619 94.930299 \nL 254.040619 94.871384 \nL 254.040619 94.768864 \nL 253.730044 94.709669 \nL 253.730044 94.753157 \nL 253.730044 94.237924 \nL 253.264181 94.22125 \nL 253.264181 94.161072 \nL 253.264181 93.849534 \nL 252.798319 93.936275 \nL 252.798319 93.979719 \nL 252.798319 93.875536 \nL 252.021881 93.962503 \nL 252.021881 94.093323 \nL 252.021881 93.988849 \nL 251.556018 94.076242 \nL 251.556018 94.120012 \nL 251.556018 94.015316 \nL 251.090155 94.102938 \nL 251.090155 94.146823 \nL 250.934868 94.146823 \nL 250.934868 94.085804 \nL 250.934868 93.55923 \nL 250.77958 93.55923 \nL 250.77958 93.497294 \nL 250.77958 93.391461 \nL 250.003142 93.460683 \nL 250.003142 93.504603 \nL 250.003142 93.398348 \nL 249.692567 93.335869 \nL 249.692567 93.379818 \nL 249.692567 93.059733 \nL 249.226705 93.147566 \nL 249.226705 93.191559 \nL 249.226705 92.977333 \nL 248.916129 93.021304 \nL 248.916129 92.957953 \nL 248.916129 92.850455 \nL 248.450267 92.938505 \nL 248.450267 92.982607 \nL 248.450267 92.334321 \nL 248.294979 92.334321 \nL 248.294979 92.269724 \nL 248.294979 92.16107 \nL 247.829116 92.248931 \nL 247.829116 92.292939 \nL 247.363254 92.381109 \nL 247.363254 92.425272 \nL 247.363254 92.097862 \nL 247.207966 92.097862 \nL 247.207966 92.03253 \nL 247.207966 91.81328 \nL 246.742103 91.901404 \nL 246.742103 91.945545 \nL 246.742103 91.725544 \nL 246.276241 91.813825 \nL 246.276241 91.858044 \nL 245.65509 91.770025 \nL 245.65509 91.814375 \nL 245.65509 91.59278 \nL 245.499803 91.59278 \nL 245.499803 91.526069 \nL 245.499803 91.414902 \nL 245.189228 91.459199 \nL 245.189228 91.39217 \nL 245.189228 91.280657 \nL 245.03394 91.280657 \nL 245.03394 91.213294 \nL 245.03394 91.101474 \nL 244.723365 91.14577 \nL 244.723365 91.078084 \nL 244.723365 90.741172 \nL 244.568077 90.741172 \nL 244.568077 90.672797 \nL 244.568077 90.107687 \nL 244.257502 90.151731 \nL 244.257502 90.082313 \nL 244.257502 89.968661 \nL 244.102215 89.968661 \nL 244.102215 89.898895 \nL 244.102215 89.784926 \nL 243.79164 89.828961 \nL 243.79164 89.758856 \nL 243.79164 89.644526 \nL 243.636352 89.644526 \nL 243.636352 89.57407 \nL 243.636352 89.344627 \nL 243.325777 89.273634 \nL 243.325777 89.317625 \nL 243.325777 88.508562 \nL 242.394051 88.611423 \nL 242.394051 88.655386 \nL 242.394051 88.538829 \nL 242.083476 88.538829 \nL 242.083476 88.510039 \nL 242.083476 88.041438 \nL 241.772901 87.967736 \nL 241.772901 88.0116 \nL 241.772901 87.893851 \nL 241.462326 87.819783 \nL 241.462326 87.863664 \nL 241.462326 87.271528 \nL 241.151751 87.271528 \nL 241.151751 87.240026 \nL 241.151751 86.762686 \nL 240.220026 86.861169 \nL 240.220026 86.904972 \nL 239.598875 86.79598 \nL 239.598875 86.839907 \nL 239.598875 86.719267 \nL 239.443588 86.719267 \nL 239.443588 86.642359 \nL 239.443588 86.400218 \nL 239.133013 86.444062 \nL 239.133013 86.366562 \nL 239.133013 86.24501 \nL 238.511862 86.332778 \nL 238.511862 86.420769 \nL 238.511862 86.054591 \nL 238.201287 85.976101 \nL 238.201287 86.020038 \nL 238.201287 85.281922 \nL 237.890712 85.201989 \nL 237.890712 85.245683 \nL 237.890712 85.121851 \nL 237.735424 85.121851 \nL 237.735424 85.041506 \nL 237.735424 84.543737 \nL 237.424849 84.462335 \nL 237.424849 84.505833 \nL 237.424849 84.130018 \nL 236.958987 84.216865 \nL 236.958987 84.260374 \nL 236.648411 84.303938 \nL 236.648411 84.221697 \nL 236.648411 83.96948 \nL 236.337836 83.886589 \nL 236.337836 83.930109 \nL 236.337836 83.803482 \nL 235.561398 83.723727 \nL 235.561398 83.767368 \nL 235.561398 83.384674 \nL 235.095536 83.471797 \nL 235.095536 83.515445 \nL 235.095536 83.13074 \nL 234.629673 83.089188 \nL 234.629673 83.132785 \nL 234.629673 82.745538 \nL 234.16381 82.832565 \nL 234.16381 82.876165 \nL 234.16381 82.74657 \nL 233.697948 82.703948 \nL 233.697948 82.747608 \nL 233.697948 82.617496 \nL 233.54266 82.617496 \nL 233.54266 82.530812 \nL 233.54266 82.400295 \nL 233.387372 82.400295 \nL 233.387372 82.313148 \nL 233.387372 82.182224 \nL 233.076797 82.225768 \nL 233.076797 82.138154 \nL 233.076797 81.611524 \nL 232.766222 81.52273 \nL 232.766222 81.566094 \nL 232.766222 81.433697 \nL 232.455647 81.344423 \nL 232.455647 81.387784 \nL 232.455647 81.121854 \nL 232.145072 81.031857 \nL 232.145072 81.075153 \nL 232.145072 80.941615 \nL 231.679209 81.028261 \nL 231.679209 81.071672 \nL 231.679209 80.93777 \nL 231.213346 80.890438 \nL 231.213346 80.933904 \nL 231.213346 80.799451 \nL 231.058059 80.799451 \nL 231.058059 80.708215 \nL 231.058059 80.573332 \nL 230.592196 80.660186 \nL 230.592196 80.703701 \nL 230.126333 80.790912 \nL 230.126333 80.834607 \nL 229.815758 80.742855 \nL 229.815758 80.786607 \nL 229.815758 80.514908 \nL 229.660471 80.514908 \nL 229.660471 80.422399 \nL 229.660471 80.286017 \nL 229.194608 80.373314 \nL 229.194608 80.417052 \nL 229.194608 80.280289 \nL 228.573458 80.324024 \nL 228.573458 80.455592 \nL 228.107595 80.406269 \nL 228.107595 80.450304 \nL 228.107595 80.17492 \nL 227.17587 80.257056 \nL 227.17587 80.301264 \nL 226.399432 80.339885 \nL 226.399432 80.245244 \nL 226.399432 80.105954 \nL 226.088857 80.150336 \nL 226.088857 80.05516 \nL 226.088857 79.354095 \nL 225.622994 79.301413 \nL 225.622994 79.345571 \nL 225.622994 79.204356 \nL 224.846556 79.097751 \nL 224.846556 79.142015 \nL 224.846556 78.714903 \nL 224.380693 78.8032 \nL 224.380693 78.847444 \nL 224.380693 78.704453 \nL 224.225406 78.704453 \nL 224.225406 78.605422 \nL 224.225406 78.46195 \nL 224.070118 78.46195 \nL 224.070118 78.362356 \nL 224.070118 78.218398 \nL 223.759543 78.262475 \nL 223.759543 78.162305 \nL 223.759543 77.873059 \nL 223.29368 77.961096 \nL 223.29368 78.00521 \nL 223.29368 77.714686 \nL 222.827818 77.802813 \nL 222.827818 77.846972 \nL 222.67253 77.846972 \nL 222.67253 77.745322 \nL 222.67253 77.599235 \nL 222.206667 77.687579 \nL 222.206667 77.731848 \nL 221.896092 77.629583 \nL 221.896092 77.673907 \nL 221.896092 77.379915 \nL 221.740805 77.379915 \nL 221.740805 77.276758 \nL 221.740805 76.981318 \nL 221.585517 76.981318 \nL 221.585517 76.87727 \nL 221.585517 76.133372 \nL 221.119654 76.071192 \nL 221.119654 76.114918 \nL 221.119654 75.814902 \nL 220.653792 75.751733 \nL 220.653792 75.795418 \nL 220.653792 75.644612 \nL 219.722066 75.560524 \nL 219.722066 75.60436 \nL 219.722066 75.452393 \nL 219.100916 75.431612 \nL 219.100916 75.475549 \nL 219.100916 75.322798 \nL 218.635053 75.366719 \nL 218.635053 75.45476 \nL 218.635053 75.148071 \nL 218.324478 75.192026 \nL 218.324478 75.082188 \nL 218.324478 74.928096 \nL 217.858615 75.016005 \nL 217.858615 75.06006 \nL 217.392753 75.148372 \nL 217.392753 75.192628 \nL 217.392753 74.88273 \nL 217.237465 74.88273 \nL 217.237465 74.926885 \nL 217.237465 74.615869 \nL 217.082178 74.615869 \nL 217.082178 74.34778 \nL 216.92689 74.34778 \nL 216.92689 74.391728 \nL 216.92689 74.235211 \nL 216.461027 74.323137 \nL 216.461027 74.367201 \nL 216.461027 74.210183 \nL 215.995165 74.298342 \nL 215.995165 74.342523 \nL 215.995165 74.027235 \nL 215.529302 74.115451 \nL 215.529302 74.159662 \nL 215.529302 73.842866 \nL 215.218727 73.886968 \nL 215.218727 73.772193 \nL 215.218727 73.613 \nL 215.063439 73.613 \nL 215.063439 73.657061 \nL 215.063439 73.497529 \nL 214.908152 73.497529 \nL 214.908152 73.541568 \nL 214.908152 73.381698 \nL 214.442289 73.469801 \nL 214.442289 73.513956 \nL 214.442289 73.353563 \nL 213.976426 73.441898 \nL 213.976426 73.48617 \nL 213.510564 73.574923 \nL 213.510564 73.619405 \nL 213.199988 73.663956 \nL 213.199988 73.547199 \nL 213.199988 73.385564 \nL 212.734126 73.312574 \nL 212.734126 73.35713 \nL 212.734126 73.03202 \nL 212.423551 73.076459 \nL 212.423551 72.957838 \nL 212.423551 72.794447 \nL 211.8024 72.763897 \nL 211.8024 72.808405 \nL 211.8024 72.644111 \nL 211.336538 72.733151 \nL 211.336538 72.777777 \nL 211.336538 72.612931 \nL 210.5601 72.62627 \nL 210.5601 72.505199 \nL 210.5601 72.339068 \nL 210.404812 72.339068 \nL 210.404812 72.383736 \nL 210.404812 72.217238 \nL 209.317799 72.151182 \nL 209.317799 71.859768 \nL 208.851936 71.949345 \nL 208.851936 71.994243 \nL 208.851936 71.65624 \nL 208.696649 71.65624 \nL 208.696649 71.701009 \nL 208.696649 71.531489 \nL 208.541361 71.531489 \nL 208.541361 71.576228 \nL 208.541361 71.406327 \nL 208.075499 71.495821 \nL 208.075499 71.540678 \nL 207.609636 71.630616 \nL 207.609636 71.675696 \nL 207.609636 71.504893 \nL 207.143773 71.595069 \nL 207.143773 71.640269 \nL 206.67791 71.559286 \nL 206.67791 71.604607 \nL 206.67791 71.260321 \nL 206.522623 71.260321 \nL 206.522623 71.305506 \nL 206.522623 70.959858 \nL 206.367335 70.959858 \nL 206.367335 71.004905 \nL 206.367335 70.83154 \nL 205.901473 70.921645 \nL 205.901473 70.966811 \nL 205.901473 70.269137 \nL 205.43561 70.358826 \nL 205.43561 70.403784 \nL 204.81446 70.3633 \nL 204.81446 70.408452 \nL 204.81446 70.055705 \nL 204.659172 70.055705 \nL 204.659172 70.100711 \nL 204.659172 69.391162 \nL 204.038022 69.346797 \nL 204.038022 69.391543 \nL 204.038022 69.212636 \nL 203.416872 69.257344 \nL 203.416872 69.391928 \nL 203.416872 69.212251 \nL 202.951009 69.302128 \nL 202.951009 69.347183 \nL 202.951009 67.529699 \nL 202.485146 67.61766 \nL 202.485146 67.661756 \nL 202.329859 67.661756 \nL 202.329859 67.705929 \nL 202.329859 67.521952 \nL 202.019283 67.521952 \nL 202.019283 67.42574 \nL 202.019283 67.055678 \nL 201.398133 66.957812 \nL 201.398133 66.672752 \nL 200.93227 66.573261 \nL 200.93227 66.617135 \nL 200.93227 66.052977 \nL 199.845257 66.126048 \nL 199.845257 66.169953 \nL 199.845257 65.599021 \nL 199.224107 65.538633 \nL 199.224107 65.582325 \nL 199.224107 65.390454 \nL 199.06882 65.390454 \nL 199.06882 65.434091 \nL 199.06882 65.241739 \nL 198.602957 65.328982 \nL 198.602957 65.372722 \nL 198.447669 65.372722 \nL 198.447669 65.416541 \nL 198.447669 64.641461 \nL 197.981807 64.728245 \nL 197.981807 64.771756 \nL 196.584218 64.882532 \nL 196.584218 64.97064 \nL 196.584218 64.181721 \nL 196.428931 64.181721 \nL 196.428931 64.22533 \nL 196.428931 64.027044 \nL 195.963068 64.114218 \nL 195.963068 64.157927 \nL 195.963068 63.95884 \nL 195.652493 64.002486 \nL 195.652493 64.046213 \nL 195.652493 63.445848 \nL 195.497205 63.445848 \nL 195.497205 63.2882 \nL 195.031343 63.331504 \nL 195.031343 63.418354 \nL 195.031343 63.014294 \nL 194.876055 63.014294 \nL 194.876055 63.057544 \nL 194.876055 62.854793 \nL 194.410192 62.941235 \nL 194.410192 62.984579 \nL 194.410192 62.780992 \nL 194.099617 62.824266 \nL 194.099617 62.867622 \nL 194.099617 62.663344 \nL 193.633755 62.749998 \nL 193.633755 62.382804 \nL 193.167892 62.469336 \nL 193.167892 62.512726 \nL 192.857317 62.556198 \nL 192.857317 62.599754 \nL 192.857317 62.393066 \nL 192.391454 62.480116 \nL 192.391454 62.523766 \nL 191.925591 62.5675 \nL 191.925591 62.655222 \nL 191.925591 62.02992 \nL 191.459729 62.117025 \nL 191.459729 62.160705 \nL 190.993866 62.248318 \nL 190.993866 62.292253 \nL 190.528003 62.380379 \nL 190.528003 62.42457 \nL 190.062141 62.513214 \nL 190.062141 62.557665 \nL 189.906853 62.557665 \nL 189.906853 62.602204 \nL 189.906853 62.179095 \nL 189.44099 62.267778 \nL 189.44099 62.312251 \nL 189.285703 62.312251 \nL 189.285703 62.143972 \nL 189.130415 62.143972 \nL 189.130415 62.188454 \nL 189.130415 61.761179 \nL 188.664552 61.849737 \nL 188.664552 61.894147 \nL 188.509265 61.894147 \nL 188.509265 61.938646 \nL 188.509265 61.292519 \nL 188.19869 61.336595 \nL 188.19869 61.38076 \nL 188.19869 61.164181 \nL 187.732827 61.25243 \nL 187.732827 61.296688 \nL 187.732827 60.861187 \nL 187.577539 60.861187 \nL 187.577539 60.905185 \nL 187.577539 60.686602 \nL 187.111677 60.774511 \nL 187.111677 60.818599 \nL 186.956389 60.818599 \nL 186.956389 60.643045 \nL 186.490526 60.731312 \nL 186.490526 60.775579 \nL 186.490526 60.112098 \nL 186.024664 60.199822 \nL 186.024664 60.243818 \nL 185.558801 60.33208 \nL 185.558801 60.376347 \nL 185.092938 60.465152 \nL 185.092938 60.509692 \nL 185.092938 60.285985 \nL 184.937651 60.285985 \nL 184.937651 59.881266 \nL 184.471788 59.969691 \nL 184.471788 60.01404 \nL 184.005925 60.103015 \nL 184.005925 60.147641 \nL 183.850638 60.147641 \nL 183.850638 60.19236 \nL 183.850638 59.965766 \nL 183.384775 60.055103 \nL 183.384775 60.099912 \nL 182.918912 60.18981 \nL 182.918912 60.2349 \nL 182.45305 60.325364 \nL 182.45305 60.370738 \nL 182.297762 60.370738 \nL 182.297762 60.416208 \nL 182.297762 60.187228 \nL 181.831899 60.278068 \nL 181.831899 60.323632 \nL 181.521324 60.369292 \nL 181.521324 60.415048 \nL 181.521324 60.184613 \nL 181.210749 60.230271 \nL 181.210749 60.276026 \nL 181.210749 60.04471 \nL 180.744886 60.136116 \nL 180.744886 60.181965 \nL 180.589599 60.181965 \nL 180.589599 60.227912 \nL 180.589599 59.99531 \nL 180.279024 60.041156 \nL 180.279024 60.0871 \nL 180.279024 59.8536 \nL 179.813161 59.945381 \nL 179.813161 59.991419 \nL 179.657873 59.991419 \nL 179.657873 60.037557 \nL 179.657873 59.802747 \nL 179.502586 59.802747 \nL 179.502586 59.84878 \nL 179.502586 59.377231 \nL 179.036723 59.468776 \nL 179.036723 59.514697 \nL 179.036723 59.277537 \nL 178.726148 59.32335 \nL 178.726148 58.892559 \nL 178.57086 58.892559 \nL 178.57086 58.938152 \nL 178.57086 58.458944 \nL 178.260285 58.504212 \nL 178.260285 58.54958 \nL 178.260285 58.308761 \nL 177.94971 58.354014 \nL 177.94971 58.399366 \nL 177.94971 57.429049 \nL 177.794423 57.429049 \nL 177.794423 57.47363 \nL 177.794423 57.22949 \nL 177.32856 57.318505 \nL 177.32856 57.363161 \nL 177.32856 57.117813 \nL 177.173272 57.117813 \nL 177.173272 57.162345 \nL 177.173272 56.916227 \nL 176.70741 57.005139 \nL 176.70741 57.049744 \nL 176.241547 57.139254 \nL 176.241547 57.18416 \nL 176.086259 57.18416 \nL 176.086259 57.229166 \nL 176.086259 56.482723 \nL 175.775684 56.527142 \nL 175.775684 56.57166 \nL 175.775684 56.070293 \nL 175.309821 56.158698 \nL 175.309821 56.203051 \nL 175.309821 55.950809 \nL 174.843959 56.039345 \nL 174.843959 56.083764 \nL 174.378096 56.172907 \nL 174.378096 56.217632 \nL 174.378096 55.963384 \nL 174.222808 55.963384 \nL 174.222808 56.007971 \nL 174.222808 55.752898 \nL 173.756946 55.841895 \nL 173.756946 55.886548 \nL 173.756946 55.630158 \nL 173.291083 55.674669 \nL 173.291083 55.764 \nL 173.135795 55.764 \nL 173.135795 55.550855 \nL 172.669933 55.640313 \nL 172.669933 55.685199 \nL 172.359358 55.730189 \nL 172.359358 55.775284 \nL 172.359358 55.255048 \nL 171.893495 55.344547 \nL 171.893495 55.389455 \nL 171.893495 55.127661 \nL 171.738207 55.127661 \nL 171.738207 55.172418 \nL 171.738207 54.909752 \nL 171.427632 54.954358 \nL 171.427632 54.99907 \nL 171.427632 54.735267 \nL 171.272345 54.735267 \nL 171.272345 54.779825 \nL 171.272345 54.515138 \nL 171.117057 54.515138 \nL 171.117057 54.559541 \nL 171.117057 54.027753 \nL 170.961769 54.027753 \nL 170.961769 54.071735 \nL 170.961769 53.536879 \nL 170.495907 53.580431 \nL 170.495907 53.667849 \nL 170.340619 53.667849 \nL 170.340619 53.711715 \nL 170.340619 53.44225 \nL 170.185332 53.44225 \nL 170.185332 53.48595 \nL 170.185332 53.215565 \nL 169.719469 53.302735 \nL 169.719469 53.346478 \nL 169.253606 53.434281 \nL 169.253606 53.478343 \nL 169.098319 53.478343 \nL 169.098319 53.522511 \nL 169.098319 53.249542 \nL 168.632456 53.337644 \nL 168.632456 53.381856 \nL 168.632456 53.107382 \nL 168.321881 53.151421 \nL 168.321881 53.195567 \nL 168.321881 52.919856 \nL 167.856018 53.007906 \nL 167.856018 53.052093 \nL 167.390155 53.140794 \nL 167.390155 53.185309 \nL 167.07958 53.229935 \nL 167.07958 53.27467 \nL 167.07958 52.716602 \nL 166.613718 52.805241 \nL 166.613718 52.849726 \nL 166.147855 52.93903 \nL 166.147855 52.983849 \nL 165.681992 53.073825 \nL 165.681992 53.118982 \nL 165.681992 52.836247 \nL 165.216129 52.926304 \nL 165.216129 52.971503 \nL 165.060842 52.971503 \nL 165.060842 53.016815 \nL 165.060842 52.446792 \nL 164.905554 52.446792 \nL 164.905554 52.491612 \nL 164.905554 52.205211 \nL 164.439692 52.294578 \nL 164.439692 52.339433 \nL 163.973829 52.429486 \nL 163.973829 52.474686 \nL 163.818541 52.474686 \nL 163.818541 52.520001 \nL 163.818541 52.230698 \nL 163.352679 52.32105 \nL 163.352679 52.366401 \nL 162.886816 52.457453 \nL 162.886816 52.503156 \nL 162.886816 51.918511 \nL 162.731528 51.918511 \nL 162.731528 51.963692 \nL 162.731528 51.66991 \nL 162.420953 51.714886 \nL 162.420953 51.759978 \nL 162.420953 51.168814 \nL 161.95509 51.258042 \nL 161.95509 51.302831 \nL 161.489228 51.392763 \nL 161.489228 51.437907 \nL 161.023365 51.528552 \nL 161.023365 51.574053 \nL 160.868077 51.574053 \nL 160.868077 51.619676 \nL 160.868077 51.319601 \nL 160.71279 51.319601 \nL 160.71279 51.365007 \nL 160.71279 50.761786 \nL 160.246927 50.851594 \nL 160.246927 50.896678 \nL 160.09164 50.896678 \nL 160.09164 50.941883 \nL 160.09164 50.637687 \nL 159.625777 50.727765 \nL 159.625777 50.772986 \nL 159.625777 50.160039 \nL 159.159914 50.249435 \nL 159.159914 50.294314 \nL 158.849339 50.339315 \nL 158.849339 50.384438 \nL 158.849339 49.764597 \nL 158.383476 49.853767 \nL 158.383476 49.898535 \nL 158.228189 49.898535 \nL 158.228189 49.943426 \nL 158.228189 49.630778 \nL 157.762326 49.720194 \nL 157.762326 49.765086 \nL 157.762326 49.45047 \nL 157.607038 49.45047 \nL 157.607038 49.495114 \nL 157.607038 48.862525 \nL 157.141176 48.950677 \nL 157.141176 48.994937 \nL 156.830601 49.03932 \nL 156.830601 49.083826 \nL 156.830601 48.764311 \nL 156.364738 48.852928 \nL 156.364738 48.897423 \nL 155.898875 48.986788 \nL 155.898875 49.031659 \nL 155.898875 48.385271 \nL 155.433013 48.473819 \nL 155.433013 48.518281 \nL 154.96715 48.607584 \nL 154.96715 48.652426 \nL 154.96715 48.325469 \nL 154.656575 48.370036 \nL 154.656575 48.414731 \nL 154.656575 47.756389 \nL 154.346 47.800396 \nL 154.346 47.513117 \nL 154.190712 47.513117 \nL 154.190712 47.556964 \nL 154.190712 47.22418 \nL 153.724849 47.311417 \nL 153.724849 47.355226 \nL 153.569562 47.355226 \nL 153.569562 47.399161 \nL 153.569562 46.727321 \nL 153.103699 46.813872 \nL 153.103699 46.857338 \nL 152.948411 46.857338 \nL 152.948411 46.90093 \nL 152.948411 46.561817 \nL 152.793124 46.561817 \nL 152.793124 46.605104 \nL 152.793124 46.264558 \nL 152.637836 46.264558 \nL 152.637836 46.307534 \nL 152.637836 45.622546 \nL 152.171974 45.707106 \nL 152.171974 45.749574 \nL 152.171974 45.404215 \nL 151.706111 45.488628 \nL 151.706111 45.531024 \nL 151.240248 45.616195 \nL 151.240248 45.658973 \nL 151.084961 45.658973 \nL 151.084961 45.352293 \nL 150.619098 45.437568 \nL 150.619098 45.480399 \nL 150.619098 45.128363 \nL 150.46381 45.128363 \nL 150.46381 45.170855 \nL 150.46381 44.817281 \nL 149.997948 44.901706 \nL 149.997948 44.944112 \nL 149.532085 45.029312 \nL 149.532085 45.072108 \nL 149.066222 45.158094 \nL 149.066222 45.201286 \nL 149.066222 44.482228 \nL 148.910935 44.482228 \nL 148.910935 44.524575 \nL 148.910935 44.162885 \nL 148.445072 44.204868 \nL 148.445072 44.289227 \nL 147.979209 44.331603 \nL 147.979209 44.416753 \nL 147.513346 44.502437 \nL 147.513346 44.54548 \nL 147.358059 44.54548 \nL 147.358059 44.588659 \nL 147.358059 44.220805 \nL 146.892196 44.306547 \nL 146.892196 44.349621 \nL 146.581621 44.392832 \nL 146.581621 44.43618 \nL 146.581621 44.064574 \nL 146.115758 44.150638 \nL 146.115758 44.193876 \nL 145.649896 44.280767 \nL 145.649896 44.324422 \nL 145.494608 44.324422 \nL 145.494608 44.368218 \nL 145.494608 43.991716 \nL 145.339321 43.991716 \nL 145.339321 44.035116 \nL 145.339321 43.656859 \nL 145.184033 43.656859 \nL 145.184033 43.699858 \nL 145.184033 42.938571 \nL 144.873458 42.980612 \nL 144.873458 43.022789 \nL 144.873458 42.639179 \nL 144.407595 42.72283 \nL 144.407595 42.764862 \nL 144.252308 42.764862 \nL 144.252308 42.807031 \nL 144.252308 42.419911 \nL 143.786445 42.503529 \nL 143.786445 42.545545 \nL 143.631157 42.545545 \nL 143.631157 42.587701 \nL 143.631157 42.197007 \nL 143.165295 42.280579 \nL 143.165295 42.322574 \nL 142.699432 42.406985 \nL 142.699432 42.449403 \nL 142.699432 42.053888 \nL 142.233569 42.137963 \nL 142.233569 42.180213 \nL 141.767706 42.265142 \nL 141.767706 42.307823 \nL 141.612419 42.307823 \nL 141.612419 42.350648 \nL 141.612419 41.949585 \nL 141.146556 42.034451 \nL 141.146556 42.077102 \nL 140.680693 42.162843 \nL 140.680693 42.205935 \nL 140.525406 42.205935 \nL 140.525406 42.249174 \nL 140.525406 41.842404 \nL 140.059543 41.928074 \nL 140.059543 41.971132 \nL 140.059543 41.14955 \nL 139.904256 41.14955 \nL 139.904256 41.191477 \nL 139.904256 40.362859 \nL 139.438393 40.44454 \nL 139.438393 40.485597 \nL 138.97253 40.568143 \nL 138.97253 40.609635 \nL 138.97253 40.189164 \nL 138.817243 40.189164 \nL 138.817243 40.230131 \nL 138.817243 39.807491 \nL 138.35138 39.888503 \nL 138.35138 39.929226 \nL 137.885517 40.01111 \nL 137.885517 40.052273 \nL 137.574942 40.093583 \nL 137.574942 40.135043 \nL 137.574942 38.841341 \nL 137.419654 38.841341 \nL 137.419654 38.880829 \nL 137.419654 38.445747 \nL 137.109079 38.484657 \nL 137.109079 38.52371 \nL 137.109079 38.085589 \nL 136.643217 38.16266 \nL 136.643217 38.201409 \nL 136.332641 38.2403 \nL 136.332641 38.279334 \nL 136.332641 37.835902 \nL 135.866779 37.912905 \nL 135.866779 37.951621 \nL 135.866779 37.504275 \nL 135.400916 37.580614 \nL 135.400916 37.618998 \nL 134.935053 37.696199 \nL 134.935053 37.735017 \nL 134.469191 37.813094 \nL 134.469191 37.852355 \nL 134.003328 37.931323 \nL 134.003328 37.971033 \nL 133.537465 38.050908 \nL 133.537465 38.091075 \nL 133.071603 38.171873 \nL 133.071603 38.212506 \nL 132.916315 38.212506 \nL 132.916315 38.253295 \nL 132.916315 37.789228 \nL 132.450452 37.829355 \nL 132.450452 37.910078 \nL 131.98459 37.991431 \nL 131.98459 38.032346 \nL 131.674014 38.073422 \nL 131.674014 38.114659 \nL 131.674014 37.642098 \nL 131.363439 37.682647 \nL 131.363439 37.723356 \nL 131.363439 36.289245 \nL 131.208152 36.289245 \nL 131.208152 36.327503 \nL 131.208152 35.844771 \nL 130.742289 35.919966 \nL 130.742289 35.95779 \nL 130.431714 35.995766 \nL 130.431714 36.033895 \nL 130.431714 35.544719 \nL 129.965851 35.619612 \nL 129.965851 35.657287 \nL 129.499988 35.733098 \nL 129.499988 35.771236 \nL 129.034126 35.847981 \nL 129.034126 35.886591 \nL 128.723551 35.92536 \nL 128.723551 35.964289 \nL 128.723551 34.453613 \nL 128.568263 34.453613 \nL 128.568263 34.4898 \nL 128.568263 33.981061 \nL 127.947113 34.087557 \nL 127.947113 34.123355 \nL 127.325962 34.231658 \nL 127.325962 34.268066 \nL 126.704812 34.378222 \nL 126.704812 34.415256 \nL 126.238949 34.4898 \nL 126.238949 34.527313 \nL 125.773087 34.602827 \nL 125.773087 34.64083 \nL 125.773087 34.111405 \nL 125.307224 34.185762 \nL 125.307224 34.223185 \nL 124.996649 34.260772 \nL 124.996649 34.298524 \nL 124.996649 33.761348 \nL 124.841361 33.761348 \nL 124.841361 33.798165 \nL 124.841361 33.257505 \nL 124.220211 33.365571 \nL 124.220211 33.401915 \nL 123.599061 33.511926 \nL 123.599061 33.548926 \nL 123.133198 33.62343 \nL 123.133198 33.660935 \nL 122.667335 33.736458 \nL 122.667335 33.774478 \nL 122.201473 33.851042 \nL 122.201473 33.889588 \nL 121.73561 33.967213 \nL 121.73561 34.006296 \nL 121.269747 34.085006 \nL 121.269747 34.124636 \nL 120.803885 34.204453 \nL 120.803885 34.244643 \nL 120.338022 34.325591 \nL 120.338022 34.366352 \nL 119.872159 34.448455 \nL 119.872159 34.4898 \nL 119.872159 33.90821 \nL 119.406296 33.988903 \nL 119.406296 34.029541 \nL 119.251009 34.029541 \nL 119.251009 34.070375 \nL 119.251009 33.480747 \nL 119.095721 33.480747 \nL 119.095721 33.52045 \nL 119.095721 32.926625 \nL 118.629859 33.003908 \nL 118.629859 33.042833 \nL 118.629859 32.442016 \nL 118.163996 32.517673 \nL 118.163996 32.555782 \nL 117.698133 32.632567 \nL 117.698133 32.671246 \nL 117.387558 32.710118 \nL 117.387558 32.749184 \nL 117.387558 32.134079 \nL 116.921695 32.2099 \nL 116.921695 32.248097 \nL 116.455833 32.325074 \nL 116.455833 32.363857 \nL 115.98997 32.442016 \nL 115.98997 32.481397 \nL 115.679395 32.52098 \nL 115.679395 32.560767 \nL 115.679395 31.926102 \nL 115.36882 31.964554 \nL 115.36882 32.003205 \nL 115.36882 31.36213 \nL 115.058244 31.399411 \nL 115.058244 31.436887 \nL 115.058244 30.789277 \nL 114.592382 30.861602 \nL 114.592382 30.898052 \nL 114.592382 30.242142 \nL 114.126519 30.312321 \nL 114.126519 30.347692 \nL 114.126519 29.683272 \nL 113.971231 29.683272 \nL 113.971231 29.717142 \nL 113.971231 29.047442 \nL 113.350081 29.144973 \nL 113.350081 29.177837 \nL 112.728931 29.277515 \nL 112.728931 29.311107 \nL 112.107781 29.413002 \nL 112.107781 29.447346 \nL 111.641918 29.516611 \nL 111.641918 29.551535 \nL 111.641918 28.851184 \nL 111.020768 28.951475 \nL 111.020768 28.985287 \nL 110.399617 29.087887 \nL 110.399617 29.122482 \nL 110.24433 29.122482 \nL 110.24433 29.157276 \nL 110.24433 28.435482 \nL 109.623179 28.53506 \nL 109.623179 28.568642 \nL 109.002029 28.67058 \nL 109.002029 28.704962 \nL 108.691454 28.73955 \nL 108.691454 28.774343 \nL 108.691454 28.027632 \nL 108.070304 28.126822 \nL 108.070304 28.160286 \nL 108.070304 27.40036 \nL 107.449154 27.495299 \nL 107.449154 27.527335 \nL 107.293866 27.527335 \nL 107.293866 27.559568 \nL 107.293866 26.783666 \nL 106.983291 26.81379 \nL 106.983291 26.844102 \nL 106.983291 26.05869 \nL 106.362141 26.143627 \nL 106.362141 26.172298 \nL 105.74099 26.25941 \nL 105.74099 26.288819 \nL 105.11984 26.37819 \nL 105.11984 26.408367 \nL 104.49869 26.500086 \nL 104.49869 26.531061 \nL 104.343402 26.531061 \nL 104.343402 26.56224 \nL 104.343402 25.729082 \nL 103.722252 25.815826 \nL 103.722252 25.845128 \nL 103.101102 25.934228 \nL 103.101102 25.964332 \nL 102.479951 26.055886 \nL 102.479951 26.086825 \nL 102.479951 25.214543 \nL 101.858801 25.299833 \nL 101.858801 25.328661 \nL 101.237651 25.416374 \nL 101.237651 25.446028 \nL 100.6165 25.53627 \nL 100.6165 25.566785 \nL 99.99535 25.659666 \nL 99.99535 25.69108 \nL 99.3742 25.786718 \nL 99.3742 25.819072 \nL 98.75305 25.917592 \nL 98.75305 25.950927 \nL 98.131899 26.052461 \nL 98.131899 26.086825 \nL 97.510749 26.191513 \nL 97.510749 26.226952 \nL 97.510749 25.242776 \nL 96.889599 25.339524 \nL 96.889599 25.372286 \nL 96.734311 25.372286 \nL 96.734311 25.405308 \nL 96.734311 24.394225 \nL 96.579024 24.394225 \nL 96.579024 24.423585 \nL 96.579024 23.400389 \nL 95.957873 23.477737 \nL 95.957873 23.503943 \nL 95.957873 22.455909 \nL 95.181436 22.545822 \nL 95.181436 22.568772 \nL 95.181436 21.49026 \nL 94.24971 21.58523 \nL 94.24971 21.604718 \nL 93.317985 21.704742 \nL 93.317985 21.72528 \nL 92.386259 21.830772 \nL 92.386259 21.852448 \nL 91.609821 21.94117 \nL 91.609821 21.963869 \nL 90.833384 22.056826 \nL 90.833384 22.080621 \nL 90.056946 22.178123 \nL 90.056946 22.203096 \nL 89.280508 22.305486 \nL 89.280508 22.331726 \nL 88.50407 22.439379 \nL 88.50407 22.466986 \nL 87.88292 22.551541 \nL 87.88292 22.58032 \nL 87.261769 22.668502 \nL 87.261769 22.698528 \nL 86.640619 22.790575 \nL 86.640619 22.821932 \nL 86.019469 22.918105 \nL 86.019469 22.950883 \nL 85.398319 23.051464 \nL 85.398319 23.085762 \nL 84.777168 23.191062 \nL 84.777168 23.226988 \nL 84.156018 23.337348 \nL 84.156018 23.375021 \nL 83.690155 23.451745 \nL 83.690155 23.490813 \nL 83.224293 23.570405 \nL 83.224293 23.610948 \nL 82.75843 23.693572 \nL 82.75843 23.735673 \nL 82.292567 23.821506 \nL 82.292567 23.865259 \nL 82.13728 23.865259 \nL 82.13728 23.909583 \nL 82.13728 22.236777 \nL 81.516129 22.340531 \nL 81.516129 22.376051 \nL 81.050267 22.44855 \nL 81.050267 22.485549 \nL 81.050267 20.70992 \nL 80.273829 20.813529 \nL 80.273829 20.840362 \nL 79.652679 20.923231 \nL 79.652679 20.951673 \nL 79.031528 21.039583 \nL 79.031528 21.069781 \nL 78.410378 21.163206 \nL 78.410378 21.195329 \nL 77.789228 21.294805 \nL 77.789228 21.329042 \nL 77.168077 21.435177 \nL 77.168077 21.471745 \nL 76.702215 21.546755 \nL 76.702215 21.58523 \nL 76.236352 21.664206 \nL 76.236352 21.704742 \nL 75.770489 21.788005 \nL 75.770489 21.830772 \nL 75.304627 21.918682 \nL 75.304627 21.963869 \nL 74.838764 22.056826 \nL 74.838764 22.104645 \nL 74.372901 22.203096 \nL 74.372901 22.253784 \nL 73.907038 22.358231 \nL 73.907038 22.412054 \nL 73.441176 22.523063 \nL 73.441176 22.58032 \nL 73.130601 22.638795 \nL 73.130601 22.698528 \nL 72.820026 22.759559 \nL 72.820026 22.821932 \nL 72.50945 22.885691 \nL 72.50945 22.950883 \nL 72.198875 23.017556 \nL 72.198875 23.085762 \nL 71.8883 23.155554 \nL 71.8883 23.226988 \nL 71.577725 23.300123 \nL 71.577725 23.375021 \nL 71.26715 23.451745 \nL 71.26715 23.530364 \nL 70.956575 23.610948 \nL 70.956575 23.693572 \nL 70.956575 20.430976 \nL 70.490712 20.519063 \nL 70.490712 20.564869 \nL 70.024849 20.660245 \nL 70.024849 20.70992 \nL 69.558987 20.813529 \nL 69.558987 20.867585 \nL 69.248411 20.923231 \nL 69.248411 20.980539 \nL 68.937836 21.039583 \nL 68.937836 21.100443 \nL 68.627261 21.163206 \nL 68.627261 21.227961 \nL 68.316686 21.294805 \nL 68.316686 21.363841 \nL 68.006111 21.435177 \nL 68.006111 21.508932 \nL 67.695536 21.58523 \nL 67.695536 21.664206 \nL 67.384961 21.746002 \nL 67.384961 21.830772 \nL 67.074385 21.918682 \nL 67.074385 22.009909 \nL 66.76381 22.104645 \nL 66.76381 22.203096 \nL 66.453235 22.305486 \nL 66.453235 22.412054 \nL 66.14266 22.523063 \nL 66.14266 22.638795 \nL 65.987372 22.638795 \nL 65.987372 22.759559 \nL 65.832085 22.759559 \nL 65.832085 22.885691 \nL 65.676797 22.885691 \nL 65.676797 23.017556 \nL 65.52151 23.017556 \nL 65.52151 23.155554 \nL 65.366222 23.155554 \nL 65.366222 23.300123 \nL 65.210935 23.300123 \nL 65.210935 23.451745 \nL 65.055647 23.451745 \nL 65.055647 23.610948 \nL 65.055647 17.083636 \nL 58.999432 17.083636 \nL 58.999432 17.083636 \n\" style=\"fill:none;stroke:#1f77b4;stroke-linecap:square;stroke-width:1.5;\"/>\n   </g>\n   <g id=\"patch_3\">\n    <path d=\"M 43.78125 224.64 \nL 43.78125 7.2 \n\" style=\"fill:none;stroke:#000000;stroke-linecap:square;stroke-linejoin:miter;stroke-width:0.8;\"/>\n   </g>\n   <g id=\"patch_4\">\n    <path d=\"M 378.58125 224.64 \nL 378.58125 7.2 \n\" style=\"fill:none;stroke:#000000;stroke-linecap:square;stroke-linejoin:miter;stroke-width:0.8;\"/>\n   </g>\n   <g id=\"patch_5\">\n    <path d=\"M 43.78125 224.64 \nL 378.58125 224.64 \n\" style=\"fill:none;stroke:#000000;stroke-linecap:square;stroke-linejoin:miter;stroke-width:0.8;\"/>\n   </g>\n   <g id=\"patch_6\">\n    <path d=\"M 43.78125 7.2 \nL 378.58125 7.2 \n\" style=\"fill:none;stroke:#000000;stroke-linecap:square;stroke-linejoin:miter;stroke-width:0.8;\"/>\n   </g>\n   <g id=\"legend_1\">\n    <g id=\"patch_7\">\n     <path d=\"M 50.78125 219.64 \nL 182.765625 219.64 \nQ 184.765625 219.64 184.765625 217.64 \nL 184.765625 203.961875 \nQ 184.765625 201.961875 182.765625 201.961875 \nL 50.78125 201.961875 \nQ 48.78125 201.961875 48.78125 203.961875 \nL 48.78125 217.64 \nQ 48.78125 219.64 50.78125 219.64 \nz\n\" style=\"fill:#ffffff;opacity:0.8;stroke:#cccccc;stroke-linejoin:miter;\"/>\n    </g>\n    <g id=\"line2d_16\">\n     <path d=\"M 52.78125 210.060312 \nL 72.78125 210.060312 \n\" style=\"fill:none;stroke:#1f77b4;stroke-linecap:square;stroke-width:1.5;\"/>\n    </g>\n    <g id=\"line2d_17\"/>\n    <g id=\"text_17\">\n     <!-- Pipeline (AP = 0.76) -->\n     <g transform=\"translate(80.78125 213.560312)scale(0.1 -0.1)\">\n      <defs>\n       <path d=\"M 1159 525 \nL 1159 -1331 \nL 581 -1331 \nL 581 3500 \nL 1159 3500 \nL 1159 2969 \nQ 1341 3281 1617 3432 \nQ 1894 3584 2278 3584 \nQ 2916 3584 3314 3078 \nQ 3713 2572 3713 1747 \nQ 3713 922 3314 415 \nQ 2916 -91 2278 -91 \nQ 1894 -91 1617 61 \nQ 1341 213 1159 525 \nz\nM 3116 1747 \nQ 3116 2381 2855 2742 \nQ 2594 3103 2138 3103 \nQ 1681 3103 1420 2742 \nQ 1159 2381 1159 1747 \nQ 1159 1113 1420 752 \nQ 1681 391 2138 391 \nQ 2594 391 2855 752 \nQ 3116 1113 3116 1747 \nz\n\" id=\"DejaVuSans-70\" transform=\"scale(0.015625)\"/>\n       <path d=\"M 2188 4044 \nL 1331 1722 \nL 3047 1722 \nL 2188 4044 \nz\nM 1831 4666 \nL 2547 4666 \nL 4325 0 \nL 3669 0 \nL 3244 1197 \nL 1141 1197 \nL 716 0 \nL 50 0 \nL 1831 4666 \nz\n\" id=\"DejaVuSans-41\" transform=\"scale(0.015625)\"/>\n       <path d=\"M 678 2906 \nL 4684 2906 \nL 4684 2381 \nL 678 2381 \nL 678 2906 \nz\nM 678 1631 \nL 4684 1631 \nL 4684 1100 \nL 678 1100 \nL 678 1631 \nz\n\" id=\"DejaVuSans-3d\" transform=\"scale(0.015625)\"/>\n      </defs>\n      <use xlink:href=\"#DejaVuSans-50\"/>\n      <use x=\"58.052734\" xlink:href=\"#DejaVuSans-69\"/>\n      <use x=\"85.835938\" xlink:href=\"#DejaVuSans-70\"/>\n      <use x=\"149.3125\" xlink:href=\"#DejaVuSans-65\"/>\n      <use x=\"210.835938\" xlink:href=\"#DejaVuSans-6c\"/>\n      <use x=\"238.619141\" xlink:href=\"#DejaVuSans-69\"/>\n      <use x=\"266.402344\" xlink:href=\"#DejaVuSans-6e\"/>\n      <use x=\"329.78125\" xlink:href=\"#DejaVuSans-65\"/>\n      <use x=\"391.304688\" xlink:href=\"#DejaVuSans-20\"/>\n      <use x=\"423.091797\" xlink:href=\"#DejaVuSans-28\"/>\n      <use x=\"462.105469\" xlink:href=\"#DejaVuSans-41\"/>\n      <use x=\"530.513672\" xlink:href=\"#DejaVuSans-50\"/>\n      <use x=\"590.816406\" xlink:href=\"#DejaVuSans-20\"/>\n      <use x=\"622.603516\" xlink:href=\"#DejaVuSans-3d\"/>\n      <use x=\"706.392578\" xlink:href=\"#DejaVuSans-20\"/>\n      <use x=\"738.179688\" xlink:href=\"#DejaVuSans-30\"/>\n      <use x=\"801.802734\" xlink:href=\"#DejaVuSans-2e\"/>\n      <use x=\"833.589844\" xlink:href=\"#DejaVuSans-37\"/>\n      <use x=\"897.212891\" xlink:href=\"#DejaVuSans-36\"/>\n      <use x=\"960.835938\" xlink:href=\"#DejaVuSans-29\"/>\n     </g>\n    </g>\n   </g>\n  </g>\n </g>\n <defs>\n  <clipPath id=\"p994ff50a82\">\n   <rect height=\"217.44\" width=\"334.8\" x=\"43.78125\" y=\"7.2\"/>\n  </clipPath>\n </defs>\n</svg>\n",
      "image/png": "[encoded data removed]"
     },
     "metadata": {
      "needs_background": "light"
     }
    }
   ],
   "metadata": {}
  },
  {
   "cell_type": "markdown",
   "source": [
    "# Hyperparameter Tuning"
   ],
   "metadata": {}
  },
  {
   "cell_type": "code",
   "execution_count": 59,
   "source": [
    "logreg = LogisticRegression(solver='liblinear', C=1)\n",
    "\n",
    "estimator = Pipeline(\n",
    "    [\n",
    "        ('transformer', transformer),\n",
    "        ('model', logreg)\n",
    "    ]\n",
    ")\n",
    "\n",
    "hyperparam_space = {\n",
    "    'model__C':[1000,100,10,1,0.1,0.01,0.001],\n",
    "    'model__solver':['liblinear', 'newton-cg']\n",
    "}\n",
    "\n",
    "skf = StratifiedKFold(n_splits=5)\n",
    "\n",
    "grid_search = GridSearchCV(\n",
    "    estimator,\n",
    "    param_grid=hyperparam_space,\n",
    "    cv=skf,\n",
    "    scoring='f1',\n",
    "    n_jobs=-1\n",
    ")"
   ],
   "outputs": [],
   "metadata": {}
  },
  {
   "cell_type": "code",
   "execution_count": 60,
   "source": [
    "grid_search.fit(X_train, y_train)"
   ],
   "outputs": [
    {
     "output_type": "stream",
     "name": "stderr",
     "text": [
      "/opt/homebrew/Caskroom/miniforge/base/envs/boost/lib/python3.9/site-packages/category_encoders/utils.py:21: FutureWarning: is_categorical is deprecated and will be removed in a future version.  Use is_categorical_dtype instead\n",
      "  elif pd.api.types.is_categorical(cols):\n",
      "/opt/homebrew/Caskroom/miniforge/base/envs/boost/lib/python3.9/site-packages/category_encoders/utils.py:21: FutureWarning: is_categorical is deprecated and will be removed in a future version.  Use is_categorical_dtype instead\n",
      "  elif pd.api.types.is_categorical(cols):\n",
      "/opt/homebrew/Caskroom/miniforge/base/envs/boost/lib/python3.9/site-packages/category_encoders/utils.py:21: FutureWarning: is_categorical is deprecated and will be removed in a future version.  Use is_categorical_dtype instead\n",
      "  elif pd.api.types.is_categorical(cols):\n",
      "/opt/homebrew/Caskroom/miniforge/base/envs/boost/lib/python3.9/site-packages/category_encoders/utils.py:21: FutureWarning: is_categorical is deprecated and will be removed in a future version.  Use is_categorical_dtype instead\n",
      "  elif pd.api.types.is_categorical(cols):\n",
      "/opt/homebrew/Caskroom/miniforge/base/envs/boost/lib/python3.9/site-packages/category_encoders/utils.py:21: FutureWarning: is_categorical is deprecated and will be removed in a future version.  Use is_categorical_dtype instead\n",
      "  elif pd.api.types.is_categorical(cols):\n",
      "/opt/homebrew/Caskroom/miniforge/base/envs/boost/lib/python3.9/site-packages/category_encoders/utils.py:21: FutureWarning: is_categorical is deprecated and will be removed in a future version.  Use is_categorical_dtype instead\n",
      "  elif pd.api.types.is_categorical(cols):\n",
      "/opt/homebrew/Caskroom/miniforge/base/envs/boost/lib/python3.9/site-packages/category_encoders/utils.py:21: FutureWarning: is_categorical is deprecated and will be removed in a future version.  Use is_categorical_dtype instead\n",
      "  elif pd.api.types.is_categorical(cols):\n",
      "/opt/homebrew/Caskroom/miniforge/base/envs/boost/lib/python3.9/site-packages/category_encoders/utils.py:21: FutureWarning: is_categorical is deprecated and will be removed in a future version.  Use is_categorical_dtype instead\n",
      "  elif pd.api.types.is_categorical(cols):\n",
      "/opt/homebrew/Caskroom/miniforge/base/envs/boost/lib/python3.9/site-packages/category_encoders/utils.py:21: FutureWarning: is_categorical is deprecated and will be removed in a future version.  Use is_categorical_dtype instead\n",
      "  elif pd.api.types.is_categorical(cols):\n",
      "/opt/homebrew/Caskroom/miniforge/base/envs/boost/lib/python3.9/site-packages/category_encoders/utils.py:21: FutureWarning: is_categorical is deprecated and will be removed in a future version.  Use is_categorical_dtype instead\n",
      "  elif pd.api.types.is_categorical(cols):\n",
      "/opt/homebrew/Caskroom/miniforge/base/envs/boost/lib/python3.9/site-packages/category_encoders/utils.py:21: FutureWarning: is_categorical is deprecated and will be removed in a future version.  Use is_categorical_dtype instead\n",
      "  elif pd.api.types.is_categorical(cols):\n",
      "/opt/homebrew/Caskroom/miniforge/base/envs/boost/lib/python3.9/site-packages/category_encoders/utils.py:21: FutureWarning: is_categorical is deprecated and will be removed in a future version.  Use is_categorical_dtype instead\n",
      "  elif pd.api.types.is_categorical(cols):\n",
      "/opt/homebrew/Caskroom/miniforge/base/envs/boost/lib/python3.9/site-packages/category_encoders/utils.py:21: FutureWarning: is_categorical is deprecated and will be removed in a future version.  Use is_categorical_dtype instead\n",
      "  elif pd.api.types.is_categorical(cols):\n",
      "/opt/homebrew/Caskroom/miniforge/base/envs/boost/lib/python3.9/site-packages/category_encoders/utils.py:21: FutureWarning: is_categorical is deprecated and will be removed in a future version.  Use is_categorical_dtype instead\n",
      "  elif pd.api.types.is_categorical(cols):\n",
      "/opt/homebrew/Caskroom/miniforge/base/envs/boost/lib/python3.9/site-packages/category_encoders/utils.py:21: FutureWarning: is_categorical is deprecated and will be removed in a future version.  Use is_categorical_dtype instead\n",
      "  elif pd.api.types.is_categorical(cols):\n",
      "/opt/homebrew/Caskroom/miniforge/base/envs/boost/lib/python3.9/site-packages/category_encoders/utils.py:21: FutureWarning: is_categorical is deprecated and will be removed in a future version.  Use is_categorical_dtype instead\n",
      "  elif pd.api.types.is_categorical(cols):\n",
      "/opt/homebrew/Caskroom/miniforge/base/envs/boost/lib/python3.9/site-packages/category_encoders/utils.py:21: FutureWarning: is_categorical is deprecated and will be removed in a future version.  Use is_categorical_dtype instead\n",
      "  elif pd.api.types.is_categorical(cols):\n",
      "/opt/homebrew/Caskroom/miniforge/base/envs/boost/lib/python3.9/site-packages/category_encoders/utils.py:21: FutureWarning: is_categorical is deprecated and will be removed in a future version.  Use is_categorical_dtype instead\n",
      "  elif pd.api.types.is_categorical(cols):\n",
      "/opt/homebrew/Caskroom/miniforge/base/envs/boost/lib/python3.9/site-packages/scipy/optimize/linesearch.py:478: LineSearchWarning: The line search algorithm did not converge\n",
      "  warn('The line search algorithm did not converge', LineSearchWarning)\n",
      "/opt/homebrew/Caskroom/miniforge/base/envs/boost/lib/python3.9/site-packages/scipy/optimize/linesearch.py:327: LineSearchWarning: The line search algorithm did not converge\n",
      "  warn('The line search algorithm did not converge', LineSearchWarning)\n",
      "/opt/homebrew/Caskroom/miniforge/base/envs/boost/lib/python3.9/site-packages/scipy/optimize/linesearch.py:478: LineSearchWarning: The line search algorithm did not converge\n",
      "  warn('The line search algorithm did not converge', LineSearchWarning)\n",
      "/opt/homebrew/Caskroom/miniforge/base/envs/boost/lib/python3.9/site-packages/scipy/optimize/linesearch.py:327: LineSearchWarning: The line search algorithm did not converge\n",
      "  warn('The line search algorithm did not converge', LineSearchWarning)\n",
      "/opt/homebrew/Caskroom/miniforge/base/envs/boost/lib/python3.9/site-packages/scipy/optimize/linesearch.py:478: LineSearchWarning: The line search algorithm did not converge\n",
      "  warn('The line search algorithm did not converge', LineSearchWarning)\n",
      "/opt/homebrew/Caskroom/miniforge/base/envs/boost/lib/python3.9/site-packages/scipy/optimize/linesearch.py:327: LineSearchWarning: The line search algorithm did not converge\n",
      "  warn('The line search algorithm did not converge', LineSearchWarning)\n",
      "/opt/homebrew/Caskroom/miniforge/base/envs/boost/lib/python3.9/site-packages/scipy/optimize/linesearch.py:478: LineSearchWarning: The line search algorithm did not converge\n",
      "  warn('The line search algorithm did not converge', LineSearchWarning)\n",
      "/opt/homebrew/Caskroom/miniforge/base/envs/boost/lib/python3.9/site-packages/scipy/optimize/linesearch.py:327: LineSearchWarning: The line search algorithm did not converge\n",
      "  warn('The line search algorithm did not converge', LineSearchWarning)\n",
      "/opt/homebrew/Caskroom/miniforge/base/envs/boost/lib/python3.9/site-packages/scipy/optimize/linesearch.py:478: LineSearchWarning: The line search algorithm did not converge\n",
      "  warn('The line search algorithm did not converge', LineSearchWarning)\n",
      "/opt/homebrew/Caskroom/miniforge/base/envs/boost/lib/python3.9/site-packages/scipy/optimize/linesearch.py:327: LineSearchWarning: The line search algorithm did not converge\n",
      "  warn('The line search algorithm did not converge', LineSearchWarning)\n",
      "/opt/homebrew/Caskroom/miniforge/base/envs/boost/lib/python3.9/site-packages/scipy/optimize/linesearch.py:478: LineSearchWarning: The line search algorithm did not converge\n",
      "  warn('The line search algorithm did not converge', LineSearchWarning)\n",
      "/opt/homebrew/Caskroom/miniforge/base/envs/boost/lib/python3.9/site-packages/scipy/optimize/linesearch.py:327: LineSearchWarning: The line search algorithm did not converge\n",
      "  warn('The line search algorithm did not converge', LineSearchWarning)\n",
      "/opt/homebrew/Caskroom/miniforge/base/envs/boost/lib/python3.9/site-packages/scipy/optimize/linesearch.py:478: LineSearchWarning: The line search algorithm did not converge\n",
      "  warn('The line search algorithm did not converge', LineSearchWarning)\n",
      "/opt/homebrew/Caskroom/miniforge/base/envs/boost/lib/python3.9/site-packages/scipy/optimize/linesearch.py:327: LineSearchWarning: The line search algorithm did not converge\n",
      "  warn('The line search algorithm did not converge', LineSearchWarning)\n",
      "/opt/homebrew/Caskroom/miniforge/base/envs/boost/lib/python3.9/site-packages/scipy/optimize/linesearch.py:478: LineSearchWarning: The line search algorithm did not converge\n",
      "  warn('The line search algorithm did not converge', LineSearchWarning)\n",
      "/opt/homebrew/Caskroom/miniforge/base/envs/boost/lib/python3.9/site-packages/scipy/optimize/linesearch.py:327: LineSearchWarning: The line search algorithm did not converge\n",
      "  warn('The line search algorithm did not converge', LineSearchWarning)\n",
      "/opt/homebrew/Caskroom/miniforge/base/envs/boost/lib/python3.9/site-packages/scipy/optimize/linesearch.py:478: LineSearchWarning: The line search algorithm did not converge\n",
      "  warn('The line search algorithm did not converge', LineSearchWarning)\n",
      "/opt/homebrew/Caskroom/miniforge/base/envs/boost/lib/python3.9/site-packages/scipy/optimize/linesearch.py:327: LineSearchWarning: The line search algorithm did not converge\n",
      "  warn('The line search algorithm did not converge', LineSearchWarning)\n",
      "/opt/homebrew/Caskroom/miniforge/base/envs/boost/lib/python3.9/site-packages/scipy/optimize/linesearch.py:478: LineSearchWarning: The line search algorithm did not converge\n",
      "  warn('The line search algorithm did not converge', LineSearchWarning)\n",
      "/opt/homebrew/Caskroom/miniforge/base/envs/boost/lib/python3.9/site-packages/scipy/optimize/linesearch.py:327: LineSearchWarning: The line search algorithm did not converge\n",
      "  warn('The line search algorithm did not converge', LineSearchWarning)\n",
      "/opt/homebrew/Caskroom/miniforge/base/envs/boost/lib/python3.9/site-packages/scipy/optimize/linesearch.py:478: LineSearchWarning: The line search algorithm did not converge\n",
      "  warn('The line search algorithm did not converge', LineSearchWarning)\n",
      "/opt/homebrew/Caskroom/miniforge/base/envs/boost/lib/python3.9/site-packages/scipy/optimize/linesearch.py:327: LineSearchWarning: The line search algorithm did not converge\n",
      "  warn('The line search algorithm did not converge', LineSearchWarning)\n",
      "/opt/homebrew/Caskroom/miniforge/base/envs/boost/lib/python3.9/site-packages/sklearn/utils/optimize.py:202: ConvergenceWarning: newton-cg failed to converge. Increase the number of iterations.\n",
      "  warnings.warn(\"newton-cg failed to converge. Increase the \"\n",
      "/opt/homebrew/Caskroom/miniforge/base/envs/boost/lib/python3.9/site-packages/scipy/optimize/linesearch.py:478: LineSearchWarning: The line search algorithm did not converge\n",
      "  warn('The line search algorithm did not converge', LineSearchWarning)\n",
      "/opt/homebrew/Caskroom/miniforge/base/envs/boost/lib/python3.9/site-packages/scipy/optimize/linesearch.py:327: LineSearchWarning: The line search algorithm did not converge\n",
      "  warn('The line search algorithm did not converge', LineSearchWarning)\n",
      "/opt/homebrew/Caskroom/miniforge/base/envs/boost/lib/python3.9/site-packages/scipy/optimize/linesearch.py:478: LineSearchWarning: The line search algorithm did not converge\n",
      "  warn('The line search algorithm did not converge', LineSearchWarning)\n",
      "/opt/homebrew/Caskroom/miniforge/base/envs/boost/lib/python3.9/site-packages/scipy/optimize/linesearch.py:327: LineSearchWarning: The line search algorithm did not converge\n",
      "  warn('The line search algorithm did not converge', LineSearchWarning)\n",
      "/opt/homebrew/Caskroom/miniforge/base/envs/boost/lib/python3.9/site-packages/category_encoders/utils.py:21: FutureWarning: is_categorical is deprecated and will be removed in a future version.  Use is_categorical_dtype instead\n",
      "  elif pd.api.types.is_categorical(cols):\n",
      "/opt/homebrew/Caskroom/miniforge/base/envs/boost/lib/python3.9/site-packages/scipy/optimize/linesearch.py:478: LineSearchWarning: The line search algorithm did not converge\n",
      "  warn('The line search algorithm did not converge', LineSearchWarning)\n",
      "/opt/homebrew/Caskroom/miniforge/base/envs/boost/lib/python3.9/site-packages/scipy/optimize/linesearch.py:327: LineSearchWarning: The line search algorithm did not converge\n",
      "  warn('The line search algorithm did not converge', LineSearchWarning)\n",
      "/opt/homebrew/Caskroom/miniforge/base/envs/boost/lib/python3.9/site-packages/scipy/optimize/linesearch.py:478: LineSearchWarning: The line search algorithm did not converge\n",
      "  warn('The line search algorithm did not converge', LineSearchWarning)\n",
      "/opt/homebrew/Caskroom/miniforge/base/envs/boost/lib/python3.9/site-packages/scipy/optimize/linesearch.py:327: LineSearchWarning: The line search algorithm did not converge\n",
      "  warn('The line search algorithm did not converge', LineSearchWarning)\n",
      "/opt/homebrew/Caskroom/miniforge/base/envs/boost/lib/python3.9/site-packages/scipy/optimize/linesearch.py:478: LineSearchWarning: The line search algorithm did not converge\n",
      "  warn('The line search algorithm did not converge', LineSearchWarning)\n",
      "/opt/homebrew/Caskroom/miniforge/base/envs/boost/lib/python3.9/site-packages/scipy/optimize/linesearch.py:327: LineSearchWarning: The line search algorithm did not converge\n",
      "  warn('The line search algorithm did not converge', LineSearchWarning)\n",
      "/opt/homebrew/Caskroom/miniforge/base/envs/boost/lib/python3.9/site-packages/scipy/optimize/linesearch.py:478: LineSearchWarning: The line search algorithm did not converge\n",
      "  warn('The line search algorithm did not converge', LineSearchWarning)\n",
      "/opt/homebrew/Caskroom/miniforge/base/envs/boost/lib/python3.9/site-packages/scipy/optimize/linesearch.py:327: LineSearchWarning: The line search algorithm did not converge\n",
      "  warn('The line search algorithm did not converge', LineSearchWarning)\n",
      "/opt/homebrew/Caskroom/miniforge/base/envs/boost/lib/python3.9/site-packages/category_encoders/utils.py:21: FutureWarning: is_categorical is deprecated and will be removed in a future version.  Use is_categorical_dtype instead\n",
      "  elif pd.api.types.is_categorical(cols):\n",
      "/opt/homebrew/Caskroom/miniforge/base/envs/boost/lib/python3.9/site-packages/sklearn/utils/optimize.py:202: ConvergenceWarning: newton-cg failed to converge. Increase the number of iterations.\n",
      "  warnings.warn(\"newton-cg failed to converge. Increase the \"\n",
      "/opt/homebrew/Caskroom/miniforge/base/envs/boost/lib/python3.9/site-packages/sklearn/utils/optimize.py:202: ConvergenceWarning: newton-cg failed to converge. Increase the number of iterations.\n",
      "  warnings.warn(\"newton-cg failed to converge. Increase the \"\n",
      "/opt/homebrew/Caskroom/miniforge/base/envs/boost/lib/python3.9/site-packages/category_encoders/utils.py:21: FutureWarning: is_categorical is deprecated and will be removed in a future version.  Use is_categorical_dtype instead\n",
      "  elif pd.api.types.is_categorical(cols):\n",
      "/opt/homebrew/Caskroom/miniforge/base/envs/boost/lib/python3.9/site-packages/category_encoders/utils.py:21: FutureWarning: is_categorical is deprecated and will be removed in a future version.  Use is_categorical_dtype instead\n",
      "  elif pd.api.types.is_categorical(cols):\n",
      "/opt/homebrew/Caskroom/miniforge/base/envs/boost/lib/python3.9/site-packages/sklearn/utils/optimize.py:202: ConvergenceWarning: newton-cg failed to converge. Increase the number of iterations.\n",
      "  warnings.warn(\"newton-cg failed to converge. Increase the \"\n",
      "/opt/homebrew/Caskroom/miniforge/base/envs/boost/lib/python3.9/site-packages/sklearn/utils/optimize.py:202: ConvergenceWarning: newton-cg failed to converge. Increase the number of iterations.\n",
      "  warnings.warn(\"newton-cg failed to converge. Increase the \"\n",
      "/opt/homebrew/Caskroom/miniforge/base/envs/boost/lib/python3.9/site-packages/category_encoders/utils.py:21: FutureWarning: is_categorical is deprecated and will be removed in a future version.  Use is_categorical_dtype instead\n",
      "  elif pd.api.types.is_categorical(cols):\n",
      "/opt/homebrew/Caskroom/miniforge/base/envs/boost/lib/python3.9/site-packages/category_encoders/utils.py:21: FutureWarning: is_categorical is deprecated and will be removed in a future version.  Use is_categorical_dtype instead\n",
      "  elif pd.api.types.is_categorical(cols):\n",
      "/opt/homebrew/Caskroom/miniforge/base/envs/boost/lib/python3.9/site-packages/category_encoders/utils.py:21: FutureWarning: is_categorical is deprecated and will be removed in a future version.  Use is_categorical_dtype instead\n",
      "  elif pd.api.types.is_categorical(cols):\n",
      "/opt/homebrew/Caskroom/miniforge/base/envs/boost/lib/python3.9/site-packages/category_encoders/utils.py:21: FutureWarning: is_categorical is deprecated and will be removed in a future version.  Use is_categorical_dtype instead\n",
      "  elif pd.api.types.is_categorical(cols):\n",
      "/opt/homebrew/Caskroom/miniforge/base/envs/boost/lib/python3.9/site-packages/category_encoders/utils.py:21: FutureWarning: is_categorical is deprecated and will be removed in a future version.  Use is_categorical_dtype instead\n",
      "  elif pd.api.types.is_categorical(cols):\n",
      "/opt/homebrew/Caskroom/miniforge/base/envs/boost/lib/python3.9/site-packages/category_encoders/utils.py:21: FutureWarning: is_categorical is deprecated and will be removed in a future version.  Use is_categorical_dtype instead\n",
      "  elif pd.api.types.is_categorical(cols):\n",
      "/opt/homebrew/Caskroom/miniforge/base/envs/boost/lib/python3.9/site-packages/category_encoders/utils.py:21: FutureWarning: is_categorical is deprecated and will be removed in a future version.  Use is_categorical_dtype instead\n",
      "  elif pd.api.types.is_categorical(cols):\n",
      "/opt/homebrew/Caskroom/miniforge/base/envs/boost/lib/python3.9/site-packages/category_encoders/utils.py:21: FutureWarning: is_categorical is deprecated and will be removed in a future version.  Use is_categorical_dtype instead\n",
      "  elif pd.api.types.is_categorical(cols):\n",
      "/opt/homebrew/Caskroom/miniforge/base/envs/boost/lib/python3.9/site-packages/scipy/optimize/linesearch.py:437: LineSearchWarning: Rounding errors prevent the line search from converging\n",
      "  warn(msg, LineSearchWarning)\n",
      "/opt/homebrew/Caskroom/miniforge/base/envs/boost/lib/python3.9/site-packages/scipy/optimize/linesearch.py:327: LineSearchWarning: The line search algorithm did not converge\n",
      "  warn('The line search algorithm did not converge', LineSearchWarning)\n",
      "/opt/homebrew/Caskroom/miniforge/base/envs/boost/lib/python3.9/site-packages/sklearn/utils/optimize.py:195: UserWarning: Line Search failed\n",
      "  warnings.warn('Line Search failed')\n",
      "/opt/homebrew/Caskroom/miniforge/base/envs/boost/lib/python3.9/site-packages/category_encoders/utils.py:21: FutureWarning: is_categorical is deprecated and will be removed in a future version.  Use is_categorical_dtype instead\n",
      "  elif pd.api.types.is_categorical(cols):\n",
      "/opt/homebrew/Caskroom/miniforge/base/envs/boost/lib/python3.9/site-packages/category_encoders/utils.py:21: FutureWarning: is_categorical is deprecated and will be removed in a future version.  Use is_categorical_dtype instead\n",
      "  elif pd.api.types.is_categorical(cols):\n",
      "/opt/homebrew/Caskroom/miniforge/base/envs/boost/lib/python3.9/site-packages/category_encoders/utils.py:21: FutureWarning: is_categorical is deprecated and will be removed in a future version.  Use is_categorical_dtype instead\n",
      "  elif pd.api.types.is_categorical(cols):\n",
      "/opt/homebrew/Caskroom/miniforge/base/envs/boost/lib/python3.9/site-packages/category_encoders/utils.py:21: FutureWarning: is_categorical is deprecated and will be removed in a future version.  Use is_categorical_dtype instead\n",
      "  elif pd.api.types.is_categorical(cols):\n",
      "/opt/homebrew/Caskroom/miniforge/base/envs/boost/lib/python3.9/site-packages/category_encoders/utils.py:21: FutureWarning: is_categorical is deprecated and will be removed in a future version.  Use is_categorical_dtype instead\n",
      "  elif pd.api.types.is_categorical(cols):\n",
      "/opt/homebrew/Caskroom/miniforge/base/envs/boost/lib/python3.9/site-packages/category_encoders/utils.py:21: FutureWarning: is_categorical is deprecated and will be removed in a future version.  Use is_categorical_dtype instead\n",
      "  elif pd.api.types.is_categorical(cols):\n",
      "/opt/homebrew/Caskroom/miniforge/base/envs/boost/lib/python3.9/site-packages/category_encoders/utils.py:21: FutureWarning: is_categorical is deprecated and will be removed in a future version.  Use is_categorical_dtype instead\n",
      "  elif pd.api.types.is_categorical(cols):\n",
      "/opt/homebrew/Caskroom/miniforge/base/envs/boost/lib/python3.9/site-packages/category_encoders/utils.py:21: FutureWarning: is_categorical is deprecated and will be removed in a future version.  Use is_categorical_dtype instead\n",
      "  elif pd.api.types.is_categorical(cols):\n",
      "/opt/homebrew/Caskroom/miniforge/base/envs/boost/lib/python3.9/site-packages/category_encoders/utils.py:21: FutureWarning: is_categorical is deprecated and will be removed in a future version.  Use is_categorical_dtype instead\n",
      "  elif pd.api.types.is_categorical(cols):\n",
      "/opt/homebrew/Caskroom/miniforge/base/envs/boost/lib/python3.9/site-packages/category_encoders/utils.py:21: FutureWarning: is_categorical is deprecated and will be removed in a future version.  Use is_categorical_dtype instead\n",
      "  elif pd.api.types.is_categorical(cols):\n",
      "/opt/homebrew/Caskroom/miniforge/base/envs/boost/lib/python3.9/site-packages/category_encoders/utils.py:21: FutureWarning: is_categorical is deprecated and will be removed in a future version.  Use is_categorical_dtype instead\n",
      "  elif pd.api.types.is_categorical(cols):\n",
      "/opt/homebrew/Caskroom/miniforge/base/envs/boost/lib/python3.9/site-packages/category_encoders/utils.py:21: FutureWarning: is_categorical is deprecated and will be removed in a future version.  Use is_categorical_dtype instead\n",
      "  elif pd.api.types.is_categorical(cols):\n",
      "/opt/homebrew/Caskroom/miniforge/base/envs/boost/lib/python3.9/site-packages/category_encoders/utils.py:21: FutureWarning: is_categorical is deprecated and will be removed in a future version.  Use is_categorical_dtype instead\n",
      "  elif pd.api.types.is_categorical(cols):\n",
      "/opt/homebrew/Caskroom/miniforge/base/envs/boost/lib/python3.9/site-packages/category_encoders/utils.py:21: FutureWarning: is_categorical is deprecated and will be removed in a future version.  Use is_categorical_dtype instead\n",
      "  elif pd.api.types.is_categorical(cols):\n",
      "/opt/homebrew/Caskroom/miniforge/base/envs/boost/lib/python3.9/site-packages/category_encoders/utils.py:21: FutureWarning: is_categorical is deprecated and will be removed in a future version.  Use is_categorical_dtype instead\n",
      "  elif pd.api.types.is_categorical(cols):\n",
      "/opt/homebrew/Caskroom/miniforge/base/envs/boost/lib/python3.9/site-packages/category_encoders/utils.py:21: FutureWarning: is_categorical is deprecated and will be removed in a future version.  Use is_categorical_dtype instead\n",
      "  elif pd.api.types.is_categorical(cols):\n",
      "/opt/homebrew/Caskroom/miniforge/base/envs/boost/lib/python3.9/site-packages/category_encoders/utils.py:21: FutureWarning: is_categorical is deprecated and will be removed in a future version.  Use is_categorical_dtype instead\n",
      "  elif pd.api.types.is_categorical(cols):\n",
      "/opt/homebrew/Caskroom/miniforge/base/envs/boost/lib/python3.9/site-packages/category_encoders/utils.py:21: FutureWarning: is_categorical is deprecated and will be removed in a future version.  Use is_categorical_dtype instead\n",
      "  elif pd.api.types.is_categorical(cols):\n",
      "/opt/homebrew/Caskroom/miniforge/base/envs/boost/lib/python3.9/site-packages/category_encoders/utils.py:21: FutureWarning: is_categorical is deprecated and will be removed in a future version.  Use is_categorical_dtype instead\n",
      "  elif pd.api.types.is_categorical(cols):\n",
      "/opt/homebrew/Caskroom/miniforge/base/envs/boost/lib/python3.9/site-packages/category_encoders/utils.py:21: FutureWarning: is_categorical is deprecated and will be removed in a future version.  Use is_categorical_dtype instead\n",
      "  elif pd.api.types.is_categorical(cols):\n",
      "/opt/homebrew/Caskroom/miniforge/base/envs/boost/lib/python3.9/site-packages/category_encoders/utils.py:21: FutureWarning: is_categorical is deprecated and will be removed in a future version.  Use is_categorical_dtype instead\n",
      "  elif pd.api.types.is_categorical(cols):\n",
      "/opt/homebrew/Caskroom/miniforge/base/envs/boost/lib/python3.9/site-packages/category_encoders/utils.py:21: FutureWarning: is_categorical is deprecated and will be removed in a future version.  Use is_categorical_dtype instead\n",
      "  elif pd.api.types.is_categorical(cols):\n",
      "/opt/homebrew/Caskroom/miniforge/base/envs/boost/lib/python3.9/site-packages/category_encoders/utils.py:21: FutureWarning: is_categorical is deprecated and will be removed in a future version.  Use is_categorical_dtype instead\n",
      "  elif pd.api.types.is_categorical(cols):\n",
      "/opt/homebrew/Caskroom/miniforge/base/envs/boost/lib/python3.9/site-packages/category_encoders/utils.py:21: FutureWarning: is_categorical is deprecated and will be removed in a future version.  Use is_categorical_dtype instead\n",
      "  elif pd.api.types.is_categorical(cols):\n",
      "/opt/homebrew/Caskroom/miniforge/base/envs/boost/lib/python3.9/site-packages/category_encoders/utils.py:21: FutureWarning: is_categorical is deprecated and will be removed in a future version.  Use is_categorical_dtype instead\n",
      "  elif pd.api.types.is_categorical(cols):\n",
      "/opt/homebrew/Caskroom/miniforge/base/envs/boost/lib/python3.9/site-packages/category_encoders/utils.py:21: FutureWarning: is_categorical is deprecated and will be removed in a future version.  Use is_categorical_dtype instead\n",
      "  elif pd.api.types.is_categorical(cols):\n",
      "/opt/homebrew/Caskroom/miniforge/base/envs/boost/lib/python3.9/site-packages/category_encoders/utils.py:21: FutureWarning: is_categorical is deprecated and will be removed in a future version.  Use is_categorical_dtype instead\n",
      "  elif pd.api.types.is_categorical(cols):\n",
      "/opt/homebrew/Caskroom/miniforge/base/envs/boost/lib/python3.9/site-packages/category_encoders/utils.py:21: FutureWarning: is_categorical is deprecated and will be removed in a future version.  Use is_categorical_dtype instead\n",
      "  elif pd.api.types.is_categorical(cols):\n",
      "/opt/homebrew/Caskroom/miniforge/base/envs/boost/lib/python3.9/site-packages/category_encoders/utils.py:21: FutureWarning: is_categorical is deprecated and will be removed in a future version.  Use is_categorical_dtype instead\n",
      "  elif pd.api.types.is_categorical(cols):\n",
      "/opt/homebrew/Caskroom/miniforge/base/envs/boost/lib/python3.9/site-packages/category_encoders/utils.py:21: FutureWarning: is_categorical is deprecated and will be removed in a future version.  Use is_categorical_dtype instead\n",
      "  elif pd.api.types.is_categorical(cols):\n",
      "/opt/homebrew/Caskroom/miniforge/base/envs/boost/lib/python3.9/site-packages/category_encoders/utils.py:21: FutureWarning: is_categorical is deprecated and will be removed in a future version.  Use is_categorical_dtype instead\n",
      "  elif pd.api.types.is_categorical(cols):\n",
      "/opt/homebrew/Caskroom/miniforge/base/envs/boost/lib/python3.9/site-packages/category_encoders/utils.py:21: FutureWarning: is_categorical is deprecated and will be removed in a future version.  Use is_categorical_dtype instead\n",
      "  elif pd.api.types.is_categorical(cols):\n",
      "/opt/homebrew/Caskroom/miniforge/base/envs/boost/lib/python3.9/site-packages/category_encoders/utils.py:21: FutureWarning: is_categorical is deprecated and will be removed in a future version.  Use is_categorical_dtype instead\n",
      "  elif pd.api.types.is_categorical(cols):\n",
      "/opt/homebrew/Caskroom/miniforge/base/envs/boost/lib/python3.9/site-packages/category_encoders/utils.py:21: FutureWarning: is_categorical is deprecated and will be removed in a future version.  Use is_categorical_dtype instead\n",
      "  elif pd.api.types.is_categorical(cols):\n",
      "/opt/homebrew/Caskroom/miniforge/base/envs/boost/lib/python3.9/site-packages/category_encoders/utils.py:21: FutureWarning: is_categorical is deprecated and will be removed in a future version.  Use is_categorical_dtype instead\n",
      "  elif pd.api.types.is_categorical(cols):\n",
      "/opt/homebrew/Caskroom/miniforge/base/envs/boost/lib/python3.9/site-packages/category_encoders/utils.py:21: FutureWarning: is_categorical is deprecated and will be removed in a future version.  Use is_categorical_dtype instead\n",
      "  elif pd.api.types.is_categorical(cols):\n",
      "/opt/homebrew/Caskroom/miniforge/base/envs/boost/lib/python3.9/site-packages/category_encoders/utils.py:21: FutureWarning: is_categorical is deprecated and will be removed in a future version.  Use is_categorical_dtype instead\n",
      "  elif pd.api.types.is_categorical(cols):\n",
      "/opt/homebrew/Caskroom/miniforge/base/envs/boost/lib/python3.9/site-packages/category_encoders/utils.py:21: FutureWarning: is_categorical is deprecated and will be removed in a future version.  Use is_categorical_dtype instead\n",
      "  elif pd.api.types.is_categorical(cols):\n",
      "/opt/homebrew/Caskroom/miniforge/base/envs/boost/lib/python3.9/site-packages/category_encoders/utils.py:21: FutureWarning: is_categorical is deprecated and will be removed in a future version.  Use is_categorical_dtype instead\n",
      "  elif pd.api.types.is_categorical(cols):\n",
      "/opt/homebrew/Caskroom/miniforge/base/envs/boost/lib/python3.9/site-packages/category_encoders/utils.py:21: FutureWarning: is_categorical is deprecated and will be removed in a future version.  Use is_categorical_dtype instead\n",
      "  elif pd.api.types.is_categorical(cols):\n"
     ]
    },
    {
     "output_type": "execute_result",
     "data": {
      "text/plain": [
       "GridSearchCV(cv=StratifiedKFold(n_splits=5, random_state=None, shuffle=False),\n",
       "             estimator=Pipeline(steps=[('transformer',\n",
       "                                        ColumnTransformer(remainder='passthrough',\n",
       "                                                          transformers=[('onehot',\n",
       "                                                                         OneHotEncoder(drop='first'),\n",
       "                                                                         ['relationship',\n",
       "                                                                          'race',\n",
       "                                                                          'sex']),\n",
       "                                                                        ('binary',\n",
       "                                                                         Pipeline(steps=[('imputer',\n",
       "                                                                                          SimpleImputer(fill_value='Others',\n",
       "                                                                                                        strategy='constant')),\n",
       "                                                                                         ('binary',\n",
       "                                                                                          BinaryEncoder())]),\n",
       "                                                                         ['workclass',\n",
       "                                                                          'marital.status',\n",
       "                                                                          'occupation',\n",
       "                                                                          'native.country'])])),\n",
       "                                       ('model',\n",
       "                                        LogisticRegression(C=1,\n",
       "                                                           solver='liblinear'))]),\n",
       "             n_jobs=-1,\n",
       "             param_grid={'model__C': [1000, 100, 10, 1, 0.1, 0.01, 0.001],\n",
       "                         'model__solver': ['liblinear', 'newton-cg']},\n",
       "             scoring='f1')"
      ]
     },
     "metadata": {},
     "execution_count": 60
    }
   ],
   "metadata": {}
  },
  {
   "cell_type": "code",
   "execution_count": 61,
   "source": [
    "print('score: ', grid_search.best_score_)\n",
    "print('model: ', grid_search.best_params_)"
   ],
   "outputs": [
    {
     "output_type": "stream",
     "name": "stdout",
     "text": [
      "score:  0.6518301336287953\n",
      "model:  {'model__C': 100, 'model__solver': 'newton-cg'}\n"
     ]
    }
   ],
   "metadata": {}
  },
  {
   "cell_type": "code",
   "execution_count": 62,
   "source": [
    "cv_result = pd.DataFrame(grid_search.cv_results_)"
   ],
   "outputs": [],
   "metadata": {}
  },
  {
   "cell_type": "code",
   "execution_count": 63,
   "source": [
    "cv_result"
   ],
   "outputs": [
    {
     "output_type": "execute_result",
     "data": {
      "text/plain": [
       "    mean_fit_time  std_fit_time  mean_score_time  std_score_time  \\\n",
       "0        0.352687      0.059685         0.034448        0.008793   \n",
       "1        6.006636      0.585791         0.035663        0.008676   \n",
       "2        0.456145      0.039472         0.037530        0.009458   \n",
       "3        5.171437      0.614301         0.038303        0.013639   \n",
       "4        0.427624      0.055609         0.031423        0.005257   \n",
       "5        3.343602      0.181001         0.030996        0.006781   \n",
       "6        0.496062      0.036625         0.029470        0.004456   \n",
       "7        2.244493      0.103874         0.030286        0.008296   \n",
       "8        0.390902      0.009264         0.032680        0.005902   \n",
       "9        1.728895      0.071739         0.031520        0.005827   \n",
       "10       0.341658      0.027680         0.028426        0.006450   \n",
       "11       1.517634      0.141222         0.028898        0.003926   \n",
       "12       0.371138      0.023579         0.031020        0.004447   \n",
       "13       1.131859      0.080737         0.017862        0.005864   \n",
       "\n",
       "   param_model__C param_model__solver  \\\n",
       "0            1000           liblinear   \n",
       "1            1000           newton-cg   \n",
       "2             100           liblinear   \n",
       "3             100           newton-cg   \n",
       "4              10           liblinear   \n",
       "5              10           newton-cg   \n",
       "6               1           liblinear   \n",
       "7               1           newton-cg   \n",
       "8             0.1           liblinear   \n",
       "9             0.1           newton-cg   \n",
       "10           0.01           liblinear   \n",
       "11           0.01           newton-cg   \n",
       "12          0.001           liblinear   \n",
       "13          0.001           newton-cg   \n",
       "\n",
       "                                               params  split0_test_score  \\\n",
       "0    {'model__C': 1000, 'model__solver': 'liblinear'}           0.636015   \n",
       "1    {'model__C': 1000, 'model__solver': 'newton-cg'}           0.648034   \n",
       "2     {'model__C': 100, 'model__solver': 'liblinear'}           0.641798   \n",
       "3     {'model__C': 100, 'model__solver': 'newton-cg'}           0.648034   \n",
       "4      {'model__C': 10, 'model__solver': 'liblinear'}           0.642070   \n",
       "5      {'model__C': 10, 'model__solver': 'newton-cg'}           0.647727   \n",
       "6       {'model__C': 1, 'model__solver': 'liblinear'}           0.642378   \n",
       "7       {'model__C': 1, 'model__solver': 'newton-cg'}           0.647421   \n",
       "8     {'model__C': 0.1, 'model__solver': 'liblinear'}           0.632801   \n",
       "9     {'model__C': 0.1, 'model__solver': 'newton-cg'}           0.646947   \n",
       "10   {'model__C': 0.01, 'model__solver': 'liblinear'}           0.604769   \n",
       "11   {'model__C': 0.01, 'model__solver': 'newton-cg'}           0.634550   \n",
       "12  {'model__C': 0.001, 'model__solver': 'liblinear'}           0.429274   \n",
       "13  {'model__C': 0.001, 'model__solver': 'newton-cg'}           0.573397   \n",
       "\n",
       "    split1_test_score  split2_test_score  split3_test_score  \\\n",
       "0            0.650786           0.637972           0.634193   \n",
       "1            0.657210           0.641545           0.641671   \n",
       "2            0.648880           0.638663           0.634193   \n",
       "3            0.657210           0.641545           0.641975   \n",
       "4            0.649524           0.638663           0.634193   \n",
       "5            0.656575           0.641847           0.642280   \n",
       "6            0.652462           0.638013           0.634542   \n",
       "7            0.655939           0.641171           0.641940   \n",
       "8            0.649499           0.643163           0.628407   \n",
       "9            0.658107           0.637750           0.640267   \n",
       "10           0.634538           0.616683           0.613454   \n",
       "11           0.644628           0.628099           0.631011   \n",
       "12           0.412137           0.415423           0.425109   \n",
       "13           0.572790           0.564157           0.562232   \n",
       "\n",
       "    split4_test_score  mean_test_score  std_test_score  rank_test_score  \n",
       "0            0.664158         0.644625        0.011373               10  \n",
       "1            0.670386         0.651769        0.010924                2  \n",
       "2            0.681924         0.649092        0.017099                6  \n",
       "3            0.670386         0.651830        0.010868                1  \n",
       "4            0.663529         0.645596        0.010272                8  \n",
       "5            0.670074         0.651701        0.010611                3  \n",
       "6            0.668846         0.647248        0.012362                7  \n",
       "7            0.669460         0.651186        0.010550                4  \n",
       "8            0.670444         0.644863        0.014799                9  \n",
       "9            0.666355         0.649885        0.010837                5  \n",
       "10           0.617409         0.617371        0.009689               12  \n",
       "11           0.651610         0.637980        0.008808               11  \n",
       "12           0.444991         0.425387        0.011613               14  \n",
       "13           0.585954         0.571706        0.008412               13  "
      ],
      "text/html": [
       "<div>\n",
       "<style scoped>\n",
       "    .dataframe tbody tr th:only-of-type {\n",
       "        vertical-align: middle;\n",
       "    }\n",
       "\n",
       "    .dataframe tbody tr th {\n",
       "        vertical-align: top;\n",
       "    }\n",
       "\n",
       "    .dataframe thead th {\n",
       "        text-align: right;\n",
       "    }\n",
       "</style>\n",
       "<table border=\"1\" class=\"dataframe\">\n",
       "  <thead>\n",
       "    <tr style=\"text-align: right;\">\n",
       "      <th></th>\n",
       "      <th>mean_fit_time</th>\n",
       "      <th>std_fit_time</th>\n",
       "      <th>mean_score_time</th>\n",
       "      <th>std_score_time</th>\n",
       "      <th>param_model__C</th>\n",
       "      <th>param_model__solver</th>\n",
       "      <th>params</th>\n",
       "      <th>split0_test_score</th>\n",
       "      <th>split1_test_score</th>\n",
       "      <th>split2_test_score</th>\n",
       "      <th>split3_test_score</th>\n",
       "      <th>split4_test_score</th>\n",
       "      <th>mean_test_score</th>\n",
       "      <th>std_test_score</th>\n",
       "      <th>rank_test_score</th>\n",
       "    </tr>\n",
       "  </thead>\n",
       "  <tbody>\n",
       "    <tr>\n",
       "      <th>0</th>\n",
       "      <td>0.352687</td>\n",
       "      <td>0.059685</td>\n",
       "      <td>0.034448</td>\n",
       "      <td>0.008793</td>\n",
       "      <td>1000</td>\n",
       "      <td>liblinear</td>\n",
       "      <td>{'model__C': 1000, 'model__solver': 'liblinear'}</td>\n",
       "      <td>0.636015</td>\n",
       "      <td>0.650786</td>\n",
       "      <td>0.637972</td>\n",
       "      <td>0.634193</td>\n",
       "      <td>0.664158</td>\n",
       "      <td>0.644625</td>\n",
       "      <td>0.011373</td>\n",
       "      <td>10</td>\n",
       "    </tr>\n",
       "    <tr>\n",
       "      <th>1</th>\n",
       "      <td>6.006636</td>\n",
       "      <td>0.585791</td>\n",
       "      <td>0.035663</td>\n",
       "      <td>0.008676</td>\n",
       "      <td>1000</td>\n",
       "      <td>newton-cg</td>\n",
       "      <td>{'model__C': 1000, 'model__solver': 'newton-cg'}</td>\n",
       "      <td>0.648034</td>\n",
       "      <td>0.657210</td>\n",
       "      <td>0.641545</td>\n",
       "      <td>0.641671</td>\n",
       "      <td>0.670386</td>\n",
       "      <td>0.651769</td>\n",
       "      <td>0.010924</td>\n",
       "      <td>2</td>\n",
       "    </tr>\n",
       "    <tr>\n",
       "      <th>2</th>\n",
       "      <td>0.456145</td>\n",
       "      <td>0.039472</td>\n",
       "      <td>0.037530</td>\n",
       "      <td>0.009458</td>\n",
       "      <td>100</td>\n",
       "      <td>liblinear</td>\n",
       "      <td>{'model__C': 100, 'model__solver': 'liblinear'}</td>\n",
       "      <td>0.641798</td>\n",
       "      <td>0.648880</td>\n",
       "      <td>0.638663</td>\n",
       "      <td>0.634193</td>\n",
       "      <td>0.681924</td>\n",
       "      <td>0.649092</td>\n",
       "      <td>0.017099</td>\n",
       "      <td>6</td>\n",
       "    </tr>\n",
       "    <tr>\n",
       "      <th>3</th>\n",
       "      <td>5.171437</td>\n",
       "      <td>0.614301</td>\n",
       "      <td>0.038303</td>\n",
       "      <td>0.013639</td>\n",
       "      <td>100</td>\n",
       "      <td>newton-cg</td>\n",
       "      <td>{'model__C': 100, 'model__solver': 'newton-cg'}</td>\n",
       "      <td>0.648034</td>\n",
       "      <td>0.657210</td>\n",
       "      <td>0.641545</td>\n",
       "      <td>0.641975</td>\n",
       "      <td>0.670386</td>\n",
       "      <td>0.651830</td>\n",
       "      <td>0.010868</td>\n",
       "      <td>1</td>\n",
       "    </tr>\n",
       "    <tr>\n",
       "      <th>4</th>\n",
       "      <td>0.427624</td>\n",
       "      <td>0.055609</td>\n",
       "      <td>0.031423</td>\n",
       "      <td>0.005257</td>\n",
       "      <td>10</td>\n",
       "      <td>liblinear</td>\n",
       "      <td>{'model__C': 10, 'model__solver': 'liblinear'}</td>\n",
       "      <td>0.642070</td>\n",
       "      <td>0.649524</td>\n",
       "      <td>0.638663</td>\n",
       "      <td>0.634193</td>\n",
       "      <td>0.663529</td>\n",
       "      <td>0.645596</td>\n",
       "      <td>0.010272</td>\n",
       "      <td>8</td>\n",
       "    </tr>\n",
       "    <tr>\n",
       "      <th>5</th>\n",
       "      <td>3.343602</td>\n",
       "      <td>0.181001</td>\n",
       "      <td>0.030996</td>\n",
       "      <td>0.006781</td>\n",
       "      <td>10</td>\n",
       "      <td>newton-cg</td>\n",
       "      <td>{'model__C': 10, 'model__solver': 'newton-cg'}</td>\n",
       "      <td>0.647727</td>\n",
       "      <td>0.656575</td>\n",
       "      <td>0.641847</td>\n",
       "      <td>0.642280</td>\n",
       "      <td>0.670074</td>\n",
       "      <td>0.651701</td>\n",
       "      <td>0.010611</td>\n",
       "      <td>3</td>\n",
       "    </tr>\n",
       "    <tr>\n",
       "      <th>6</th>\n",
       "      <td>0.496062</td>\n",
       "      <td>0.036625</td>\n",
       "      <td>0.029470</td>\n",
       "      <td>0.004456</td>\n",
       "      <td>1</td>\n",
       "      <td>liblinear</td>\n",
       "      <td>{'model__C': 1, 'model__solver': 'liblinear'}</td>\n",
       "      <td>0.642378</td>\n",
       "      <td>0.652462</td>\n",
       "      <td>0.638013</td>\n",
       "      <td>0.634542</td>\n",
       "      <td>0.668846</td>\n",
       "      <td>0.647248</td>\n",
       "      <td>0.012362</td>\n",
       "      <td>7</td>\n",
       "    </tr>\n",
       "    <tr>\n",
       "      <th>7</th>\n",
       "      <td>2.244493</td>\n",
       "      <td>0.103874</td>\n",
       "      <td>0.030286</td>\n",
       "      <td>0.008296</td>\n",
       "      <td>1</td>\n",
       "      <td>newton-cg</td>\n",
       "      <td>{'model__C': 1, 'model__solver': 'newton-cg'}</td>\n",
       "      <td>0.647421</td>\n",
       "      <td>0.655939</td>\n",
       "      <td>0.641171</td>\n",
       "      <td>0.641940</td>\n",
       "      <td>0.669460</td>\n",
       "      <td>0.651186</td>\n",
       "      <td>0.010550</td>\n",
       "      <td>4</td>\n",
       "    </tr>\n",
       "    <tr>\n",
       "      <th>8</th>\n",
       "      <td>0.390902</td>\n",
       "      <td>0.009264</td>\n",
       "      <td>0.032680</td>\n",
       "      <td>0.005902</td>\n",
       "      <td>0.1</td>\n",
       "      <td>liblinear</td>\n",
       "      <td>{'model__C': 0.1, 'model__solver': 'liblinear'}</td>\n",
       "      <td>0.632801</td>\n",
       "      <td>0.649499</td>\n",
       "      <td>0.643163</td>\n",
       "      <td>0.628407</td>\n",
       "      <td>0.670444</td>\n",
       "      <td>0.644863</td>\n",
       "      <td>0.014799</td>\n",
       "      <td>9</td>\n",
       "    </tr>\n",
       "    <tr>\n",
       "      <th>9</th>\n",
       "      <td>1.728895</td>\n",
       "      <td>0.071739</td>\n",
       "      <td>0.031520</td>\n",
       "      <td>0.005827</td>\n",
       "      <td>0.1</td>\n",
       "      <td>newton-cg</td>\n",
       "      <td>{'model__C': 0.1, 'model__solver': 'newton-cg'}</td>\n",
       "      <td>0.646947</td>\n",
       "      <td>0.658107</td>\n",
       "      <td>0.637750</td>\n",
       "      <td>0.640267</td>\n",
       "      <td>0.666355</td>\n",
       "      <td>0.649885</td>\n",
       "      <td>0.010837</td>\n",
       "      <td>5</td>\n",
       "    </tr>\n",
       "    <tr>\n",
       "      <th>10</th>\n",
       "      <td>0.341658</td>\n",
       "      <td>0.027680</td>\n",
       "      <td>0.028426</td>\n",
       "      <td>0.006450</td>\n",
       "      <td>0.01</td>\n",
       "      <td>liblinear</td>\n",
       "      <td>{'model__C': 0.01, 'model__solver': 'liblinear'}</td>\n",
       "      <td>0.604769</td>\n",
       "      <td>0.634538</td>\n",
       "      <td>0.616683</td>\n",
       "      <td>0.613454</td>\n",
       "      <td>0.617409</td>\n",
       "      <td>0.617371</td>\n",
       "      <td>0.009689</td>\n",
       "      <td>12</td>\n",
       "    </tr>\n",
       "    <tr>\n",
       "      <th>11</th>\n",
       "      <td>1.517634</td>\n",
       "      <td>0.141222</td>\n",
       "      <td>0.028898</td>\n",
       "      <td>0.003926</td>\n",
       "      <td>0.01</td>\n",
       "      <td>newton-cg</td>\n",
       "      <td>{'model__C': 0.01, 'model__solver': 'newton-cg'}</td>\n",
       "      <td>0.634550</td>\n",
       "      <td>0.644628</td>\n",
       "      <td>0.628099</td>\n",
       "      <td>0.631011</td>\n",
       "      <td>0.651610</td>\n",
       "      <td>0.637980</td>\n",
       "      <td>0.008808</td>\n",
       "      <td>11</td>\n",
       "    </tr>\n",
       "    <tr>\n",
       "      <th>12</th>\n",
       "      <td>0.371138</td>\n",
       "      <td>0.023579</td>\n",
       "      <td>0.031020</td>\n",
       "      <td>0.004447</td>\n",
       "      <td>0.001</td>\n",
       "      <td>liblinear</td>\n",
       "      <td>{'model__C': 0.001, 'model__solver': 'liblinear'}</td>\n",
       "      <td>0.429274</td>\n",
       "      <td>0.412137</td>\n",
       "      <td>0.415423</td>\n",
       "      <td>0.425109</td>\n",
       "      <td>0.444991</td>\n",
       "      <td>0.425387</td>\n",
       "      <td>0.011613</td>\n",
       "      <td>14</td>\n",
       "    </tr>\n",
       "    <tr>\n",
       "      <th>13</th>\n",
       "      <td>1.131859</td>\n",
       "      <td>0.080737</td>\n",
       "      <td>0.017862</td>\n",
       "      <td>0.005864</td>\n",
       "      <td>0.001</td>\n",
       "      <td>newton-cg</td>\n",
       "      <td>{'model__C': 0.001, 'model__solver': 'newton-cg'}</td>\n",
       "      <td>0.573397</td>\n",
       "      <td>0.572790</td>\n",
       "      <td>0.564157</td>\n",
       "      <td>0.562232</td>\n",
       "      <td>0.585954</td>\n",
       "      <td>0.571706</td>\n",
       "      <td>0.008412</td>\n",
       "      <td>13</td>\n",
       "    </tr>\n",
       "  </tbody>\n",
       "</table>\n",
       "</div>"
      ]
     },
     "metadata": {},
     "execution_count": 63
    }
   ],
   "metadata": {}
  },
  {
   "cell_type": "code",
   "execution_count": 65,
   "source": [
    "cv_result[(cv_result['param_model__C'] == 100)&(cv_result['param_model__solver'] == 'newton-cg')]"
   ],
   "outputs": [
    {
     "output_type": "execute_result",
     "data": {
      "text/plain": [
       "   mean_fit_time  std_fit_time  mean_score_time  std_score_time  \\\n",
       "3       5.171437      0.614301         0.038303        0.013639   \n",
       "\n",
       "  param_model__C param_model__solver  \\\n",
       "3            100           newton-cg   \n",
       "\n",
       "                                            params  split0_test_score  \\\n",
       "3  {'model__C': 100, 'model__solver': 'newton-cg'}           0.648034   \n",
       "\n",
       "   split1_test_score  split2_test_score  split3_test_score  split4_test_score  \\\n",
       "3            0.65721           0.641545           0.641975           0.670386   \n",
       "\n",
       "   mean_test_score  std_test_score  rank_test_score  \n",
       "3          0.65183        0.010868                1  "
      ],
      "text/html": [
       "<div>\n",
       "<style scoped>\n",
       "    .dataframe tbody tr th:only-of-type {\n",
       "        vertical-align: middle;\n",
       "    }\n",
       "\n",
       "    .dataframe tbody tr th {\n",
       "        vertical-align: top;\n",
       "    }\n",
       "\n",
       "    .dataframe thead th {\n",
       "        text-align: right;\n",
       "    }\n",
       "</style>\n",
       "<table border=\"1\" class=\"dataframe\">\n",
       "  <thead>\n",
       "    <tr style=\"text-align: right;\">\n",
       "      <th></th>\n",
       "      <th>mean_fit_time</th>\n",
       "      <th>std_fit_time</th>\n",
       "      <th>mean_score_time</th>\n",
       "      <th>std_score_time</th>\n",
       "      <th>param_model__C</th>\n",
       "      <th>param_model__solver</th>\n",
       "      <th>params</th>\n",
       "      <th>split0_test_score</th>\n",
       "      <th>split1_test_score</th>\n",
       "      <th>split2_test_score</th>\n",
       "      <th>split3_test_score</th>\n",
       "      <th>split4_test_score</th>\n",
       "      <th>mean_test_score</th>\n",
       "      <th>std_test_score</th>\n",
       "      <th>rank_test_score</th>\n",
       "    </tr>\n",
       "  </thead>\n",
       "  <tbody>\n",
       "    <tr>\n",
       "      <th>3</th>\n",
       "      <td>5.171437</td>\n",
       "      <td>0.614301</td>\n",
       "      <td>0.038303</td>\n",
       "      <td>0.013639</td>\n",
       "      <td>100</td>\n",
       "      <td>newton-cg</td>\n",
       "      <td>{'model__C': 100, 'model__solver': 'newton-cg'}</td>\n",
       "      <td>0.648034</td>\n",
       "      <td>0.65721</td>\n",
       "      <td>0.641545</td>\n",
       "      <td>0.641975</td>\n",
       "      <td>0.670386</td>\n",
       "      <td>0.65183</td>\n",
       "      <td>0.010868</td>\n",
       "      <td>1</td>\n",
       "    </tr>\n",
       "  </tbody>\n",
       "</table>\n",
       "</div>"
      ]
     },
     "metadata": {},
     "execution_count": 65
    }
   ],
   "metadata": {}
  },
  {
   "cell_type": "markdown",
   "source": [
    "# Comparison Before & After Tuning"
   ],
   "metadata": {}
  },
  {
   "cell_type": "code",
   "execution_count": 67,
   "source": [
    "logreg = LogisticRegression(solver='liblinear')\n",
    "\n",
    "estimator = Pipeline(\n",
    "    [\n",
    "        ('transformer', transformer),\n",
    "        ('model', logreg)\n",
    "    ]\n",
    ")\n",
    "\n",
    "estimator.fit(X_train, y_train)\n",
    "\n",
    "y_pred = estimator.predict(X_test)\n",
    "print(classification_report(y_test, y_pred))\n",
    "print(f1_score(y_test, y_pred))"
   ],
   "outputs": [
    {
     "output_type": "stream",
     "name": "stdout",
     "text": [
      "              precision    recall  f1-score   support\n",
      "\n",
      "           0       0.87      0.94      0.91      6181\n",
      "           1       0.75      0.57      0.65      1960\n",
      "\n",
      "    accuracy                           0.85      8141\n",
      "   macro avg       0.81      0.76      0.78      8141\n",
      "weighted avg       0.84      0.85      0.84      8141\n",
      "\n",
      "0.6498988146863255\n"
     ]
    }
   ],
   "metadata": {}
  },
  {
   "cell_type": "code",
   "execution_count": 68,
   "source": [
    "estimator = grid_search.best_estimator_\n",
    "\n",
    "estimator.fit(X_train, y_train)\n",
    "\n",
    "y_pred = estimator.predict(X_test)\n",
    "print(classification_report(y_test, y_pred))\n",
    "print(f1_score(y_test, y_pred))"
   ],
   "outputs": [
    {
     "output_type": "stream",
     "name": "stdout",
     "text": [
      "              precision    recall  f1-score   support\n",
      "\n",
      "           0       0.88      0.94      0.91      6181\n",
      "           1       0.75      0.58      0.65      1960\n",
      "\n",
      "    accuracy                           0.85      8141\n",
      "   macro avg       0.81      0.76      0.78      8141\n",
      "weighted avg       0.85      0.85      0.85      8141\n",
      "\n",
      "0.6543778801843317\n"
     ]
    }
   ],
   "metadata": {}
  },
  {
   "cell_type": "code",
   "execution_count": null,
   "source": [],
   "outputs": [],
   "metadata": {}
  }
 ],
 "metadata": {
  "orig_nbformat": 4,
  "language_info": {
   "name": "python",
   "version": "3.9.6",
   "mimetype": "text/x-python",
   "codemirror_mode": {
    "name": "ipython",
    "version": 3
   },
   "pygments_lexer": "ipython3",
   "nbconvert_exporter": "python",
   "file_extension": ".py"
  },
  "kernelspec": {
   "name": "python3",
   "display_name": "Python 3.9.6 64-bit ('boost': conda)"
  },
  "interpreter": {
   "hash": "f650386ef5dbf2b2e7d43afee11ccb10cd09848d447df1eb5b276ca75a4c0133"
  }
 },
 "nbformat": 4,
 "nbformat_minor": 2
}