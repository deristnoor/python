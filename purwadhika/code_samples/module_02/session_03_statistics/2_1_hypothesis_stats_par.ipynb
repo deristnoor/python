{
 "cells": [
  {
   "cell_type": "markdown",
   "metadata": {},
   "source": [
    "# Hypothesis Testing\n",
    "------------\n",
    "Uji hipotesis adalah metode pengambilan keputusan yang didasarkan dari analisis data, baik dari percobaan yang terkontrol, maupun dari observasi (tidak terkontrol). Dalam statistik, sebuah hasil bisa dikatakan signifikan secara statistik jika kejadian tersebut hampir tidak mungkin disebabkan oleh faktor yang kebetulan, sesuai dengnan batas probabilitas yang sudah ditentukan sebelumnya.\n",
    "\n",
    "Uji hipotesis kadang disebut juga \"konfirmasi analisis data\". Keputusan dari uji hipotesis hampir selalu dibuat berdasarkan pengujian hipotesis nol. Ini adalah pengujian untuk menjawab pertanyaan yang mengasumsikan hipotesis nol adalah benar.\n",
    "\n",
    "-----------------------\n",
    "## 1. Import Libraries\n",
    "Pada sesi ini, kita menggunakan library pandas untuk membuka dataset. Sedangkan numpy atau disingkat np digunakan untuk membantu analisis data. Library lain yang dipakai untuk uji berbagai jenis uji hipotesis akan di-import saat akan melakukan pengujian dibawah nanti."
   ]
  },
  {
   "cell_type": "code",
   "execution_count": 1,
   "metadata": {},
   "outputs": [],
   "source": [
    "import pandas as pd\n",
    "import numpy as np"
   ]
  },
  {
   "cell_type": "markdown",
   "metadata": {},
   "source": [
    "------------------------\n",
    "## 2. Intro to Dataset: <mark>Amazon Best Selling Boooks</mark>\n",
    "Datasets <mark>Amazon Best Selling Boooks</mark> adalah data publik dan legal. Anda dapat membaca deskripsi dan mengunduhnya di website Kaggle. Dataset inin berisi tentang 50 buku penjualan terbaik di Amazon dari tahub 2009 sampai tahun 2019. Data telah dikategorikan ke dalam buku fiksi dan non-fiksi menggunakan Goodreads.\n",
    "\n",
    "Mari kita buka dataset menggunakan pandas <i>(pd.read_csv)</i>, lalu simpan dataset ke dalam variabel dengan nama df. Data dapat kita lihat sekilas (5 baris awal) terlebih dahulu dengan <i>df.head()</i>"
   ]
  },
  {
   "cell_type": "code",
   "execution_count": 2,
   "metadata": {},
   "outputs": [
    {
     "data": {
      "text/html": [
       "<div>\n",
       "<style scoped>\n",
       "    .dataframe tbody tr th:only-of-type {\n",
       "        vertical-align: middle;\n",
       "    }\n",
       "\n",
       "    .dataframe tbody tr th {\n",
       "        vertical-align: top;\n",
       "    }\n",
       "\n",
       "    .dataframe thead th {\n",
       "        text-align: right;\n",
       "    }\n",
       "</style>\n",
       "<table border=\"1\" class=\"dataframe\">\n",
       "  <thead>\n",
       "    <tr style=\"text-align: right;\">\n",
       "      <th></th>\n",
       "      <th>Name</th>\n",
       "      <th>Author</th>\n",
       "      <th>User Rating</th>\n",
       "      <th>Reviews</th>\n",
       "      <th>Price</th>\n",
       "      <th>Year</th>\n",
       "      <th>Genre</th>\n",
       "    </tr>\n",
       "  </thead>\n",
       "  <tbody>\n",
       "    <tr>\n",
       "      <th>0</th>\n",
       "      <td>10-Day Green Smoothie Cleanse</td>\n",
       "      <td>JJ Smith</td>\n",
       "      <td>4.7</td>\n",
       "      <td>17350</td>\n",
       "      <td>8</td>\n",
       "      <td>2016</td>\n",
       "      <td>Non Fiction</td>\n",
       "    </tr>\n",
       "    <tr>\n",
       "      <th>1</th>\n",
       "      <td>11/22/63: A Novel</td>\n",
       "      <td>Stephen King</td>\n",
       "      <td>4.6</td>\n",
       "      <td>2052</td>\n",
       "      <td>22</td>\n",
       "      <td>2011</td>\n",
       "      <td>Fiction</td>\n",
       "    </tr>\n",
       "    <tr>\n",
       "      <th>2</th>\n",
       "      <td>12 Rules for Life: An Antidote to Chaos</td>\n",
       "      <td>Jordan B. Peterson</td>\n",
       "      <td>4.7</td>\n",
       "      <td>18979</td>\n",
       "      <td>15</td>\n",
       "      <td>2018</td>\n",
       "      <td>Non Fiction</td>\n",
       "    </tr>\n",
       "    <tr>\n",
       "      <th>3</th>\n",
       "      <td>1984 (Signet Classics)</td>\n",
       "      <td>George Orwell</td>\n",
       "      <td>4.7</td>\n",
       "      <td>21424</td>\n",
       "      <td>6</td>\n",
       "      <td>2017</td>\n",
       "      <td>Fiction</td>\n",
       "    </tr>\n",
       "    <tr>\n",
       "      <th>4</th>\n",
       "      <td>5,000 Awesome Facts (About Everything!) (Natio...</td>\n",
       "      <td>National Geographic Kids</td>\n",
       "      <td>4.8</td>\n",
       "      <td>7665</td>\n",
       "      <td>12</td>\n",
       "      <td>2019</td>\n",
       "      <td>Non Fiction</td>\n",
       "    </tr>\n",
       "  </tbody>\n",
       "</table>\n",
       "</div>"
      ],
      "text/plain": [
       "                                                Name  \\\n",
       "0                      10-Day Green Smoothie Cleanse   \n",
       "1                                  11/22/63: A Novel   \n",
       "2            12 Rules for Life: An Antidote to Chaos   \n",
       "3                             1984 (Signet Classics)   \n",
       "4  5,000 Awesome Facts (About Everything!) (Natio...   \n",
       "\n",
       "                     Author  User Rating  Reviews  Price  Year        Genre  \n",
       "0                  JJ Smith          4.7    17350      8  2016  Non Fiction  \n",
       "1              Stephen King          4.6     2052     22  2011      Fiction  \n",
       "2        Jordan B. Peterson          4.7    18979     15  2018  Non Fiction  \n",
       "3             George Orwell          4.7    21424      6  2017      Fiction  \n",
       "4  National Geographic Kids          4.8     7665     12  2019  Non Fiction  "
      ]
     },
     "execution_count": 2,
     "metadata": {},
     "output_type": "execute_result"
    }
   ],
   "source": [
    "df = pd.read_csv('./datasets/bestsellers with categories.csv')\n",
    "df.head()"
   ]
  },
  {
   "cell_type": "markdown",
   "metadata": {},
   "source": [
    "### Data Info\n",
    "Gambaran awal mengenai dataset dapat kita lihat menggunakan <i>(df.info())</i>. Melalui cara ini kita dapat melihat kolom apa saja di dataset, jumlah baris data yang terisi(tidak kosong), dan tipe datanya.\n",
    "\n",
    "-----------------------"
   ]
  },
  {
   "cell_type": "code",
   "execution_count": 3,
   "metadata": {},
   "outputs": [
    {
     "name": "stdout",
     "output_type": "stream",
     "text": [
      "<class 'pandas.core.frame.DataFrame'>\n",
      "RangeIndex: 550 entries, 0 to 549\n",
      "Data columns (total 7 columns):\n",
      " #   Column       Non-Null Count  Dtype  \n",
      "---  ------       --------------  -----  \n",
      " 0   Name         550 non-null    object \n",
      " 1   Author       550 non-null    object \n",
      " 2   User Rating  550 non-null    float64\n",
      " 3   Reviews      550 non-null    int64  \n",
      " 4   Price        550 non-null    int64  \n",
      " 5   Year         550 non-null    int64  \n",
      " 6   Genre        550 non-null    object \n",
      "dtypes: float64(1), int64(3), object(3)\n",
      "memory usage: 30.2+ KB\n"
     ]
    }
   ],
   "source": [
    "df.info()"
   ]
  },
  {
   "cell_type": "markdown",
   "metadata": {},
   "source": [
    "-----------\n",
    "# Hypotesis Testing: <mark>Numerical</mark>\n",
    "Kita akan mempraktikkan beberapa uji hipotesis diantaranya <i>One sample T-test</i>,<i>Two Sample Independent T-test</i>,<i>T-test Paired</i>, dan <i>One-Way Annova F-test for more than two population mean</i>.\n",
    "\n",
    "Berikut ini contoh praktik uji hipotesis untuk jenis data numerikal:\n",
    "## a). One Sample T-test\n",
    "T-test adalah uji hipotesis statistik. One Sample T-test digunakan untuk membandingkan mean (rata-rata) pengukuran dari satu kelompok A dengan nilai teoritis yang diharapkan.\n",
    "\n",
    "Pada dataset ini, kita ingin membuktikan hipotesis apakah harga buku 10 atau diatasnya.\n",
    "\n",
    "\n",
    "<b>Hypothesis</b>:\n",
    "\n",
    "<b>H<sub>0</sub></b>: Rata-rata harga buku = 10\n",
    "\n",
    "<b>H<sub>a</sub></b>: Rata-rata harga buku > 10"
   ]
  },
  {
   "cell_type": "code",
   "execution_count": 6,
   "metadata": {},
   "outputs": [
    {
     "name": "stdout",
     "output_type": "stream",
     "text": [
      "p-value: 2.5008144800630206e-11\n",
      "Tolak H0\n"
     ]
    }
   ],
   "source": [
    "# import library\n",
    "from scipy.stats import ttest_1samp\n",
    "\n",
    "# one sample t-test\n",
    "tset, pval = ttest_1samp(df['Price'], 10)\n",
    "print('p-value:', pval/2)\n",
    "\n",
    "# conclusion\n",
    "if pval/2 < 0.05:\n",
    "    print('Tolak H0')\n",
    "else:\n",
    "    print('Terima H0')"
   ]
  },
  {
   "cell_type": "markdown",
   "metadata": {},
   "source": [
    "<b>Conclusion</b>: P-value lebih rendah dari tingkat signifikansi 0.05, artinya kita memiliki cukup bukti untuk menolak hipotesis nol. Jadi, rata-rata harga buku lebih tinggi dari 10 dengan tingkat signifikasi 5%.\n",
    "\n",
    "Kita dapat cek rata-rata harga buku menggunakan pandas seperti code dibawah ini. Kita dapati memang harga buku diatas 10, yaitu 13.1."
   ]
  },
  {
   "cell_type": "code",
   "execution_count": 7,
   "metadata": {},
   "outputs": [
    {
     "data": {
      "text/plain": [
       "13.1"
      ]
     },
     "execution_count": 7,
     "metadata": {},
     "output_type": "execute_result"
    }
   ],
   "source": [
    "df['Price'].mean()"
   ]
  },
  {
   "cell_type": "markdown",
   "metadata": {},
   "source": [
    "## b). Two Sample Independent T-test\n",
    "Two Sample Independet T-test digunakan untuk membandingkan mean (rata-rata) dari pengukuran dua kelompok A dan B. Mereka ingin memutuskan apakah rata-rata dalam kelompok A berbeda dengan nilai teoritis atau mean dalam kelompok B.\n",
    "\n",
    "Pada dataset ini, kita ingin membuktikan hipotesis apakah rata-rata harga buku antara buku fiksi dan non-fiksi adalah sama atau berbeda."
   ]
  },
  {
   "cell_type": "code",
   "execution_count": 8,
   "metadata": {},
   "outputs": [
    {
     "data": {
      "text/html": [
       "<div>\n",
       "<style scoped>\n",
       "    .dataframe tbody tr th:only-of-type {\n",
       "        vertical-align: middle;\n",
       "    }\n",
       "\n",
       "    .dataframe tbody tr th {\n",
       "        vertical-align: top;\n",
       "    }\n",
       "\n",
       "    .dataframe thead th {\n",
       "        text-align: right;\n",
       "    }\n",
       "</style>\n",
       "<table border=\"1\" class=\"dataframe\">\n",
       "  <thead>\n",
       "    <tr style=\"text-align: right;\">\n",
       "      <th></th>\n",
       "      <th>Price</th>\n",
       "      <th>Genre</th>\n",
       "    </tr>\n",
       "  </thead>\n",
       "  <tbody>\n",
       "    <tr>\n",
       "      <th>0</th>\n",
       "      <td>8</td>\n",
       "      <td>Non Fiction</td>\n",
       "    </tr>\n",
       "    <tr>\n",
       "      <th>1</th>\n",
       "      <td>22</td>\n",
       "      <td>Fiction</td>\n",
       "    </tr>\n",
       "    <tr>\n",
       "      <th>2</th>\n",
       "      <td>15</td>\n",
       "      <td>Non Fiction</td>\n",
       "    </tr>\n",
       "    <tr>\n",
       "      <th>3</th>\n",
       "      <td>6</td>\n",
       "      <td>Fiction</td>\n",
       "    </tr>\n",
       "    <tr>\n",
       "      <th>4</th>\n",
       "      <td>12</td>\n",
       "      <td>Non Fiction</td>\n",
       "    </tr>\n",
       "  </tbody>\n",
       "</table>\n",
       "</div>"
      ],
      "text/plain": [
       "   Price        Genre\n",
       "0      8  Non Fiction\n",
       "1     22      Fiction\n",
       "2     15  Non Fiction\n",
       "3      6      Fiction\n",
       "4     12  Non Fiction"
      ]
     },
     "execution_count": 8,
     "metadata": {},
     "output_type": "execute_result"
    }
   ],
   "source": [
    "df[['Price', 'Genre']].head()"
   ]
  },
  {
   "cell_type": "markdown",
   "metadata": {},
   "source": [
    "<b>Hypothesis</b>:\n",
    "\n",
    "<b>H<sub>0</sub></b>: Rata-rata harga buku non-fiksi = rata-rata harga buku fiksi\n",
    "\n",
    "<b>H<sub>a</sub></b>: Rata-rata harga buku non-fiksi > rata-rata harga buku fiksi\n",
    "\n",
    "#### a). Non-Equal Variance Assumption"
   ]
  },
  {
   "cell_type": "code",
   "execution_count": 10,
   "metadata": {},
   "outputs": [
    {
     "name": "stdout",
     "output_type": "stream",
     "text": [
      "T-statistic: 4.537208093329263\n",
      "P-value: 3.5095048008863536e-06\n",
      "Tolak H0\n"
     ]
    }
   ],
   "source": [
    "# import library\n",
    "from scipy.stats import ttest_ind\n",
    "\n",
    "# two sample independent t-test\n",
    "result = list(ttest_ind(df[df['Genre'] == 'Non Fiction']['Price'],\n",
    "                        df[df['Genre'] == 'Fiction']['Price'],\n",
    "                        equal_var = False\n",
    "                       ))\n",
    "\n",
    "print('T-statistic:', result[0])\n",
    "print('P-value:', result[1]/2)\n",
    "\n",
    "# conclusion\n",
    "if result[1]/2 < 0.05:\n",
    "    print('Tolak H0')\n",
    "else:\n",
    "    print('Terima H0')"
   ]
  },
  {
   "cell_type": "markdown",
   "metadata": {},
   "source": [
    "#### b). Equal Variance Assumption"
   ]
  },
  {
   "cell_type": "code",
   "execution_count": 11,
   "metadata": {},
   "outputs": [
    {
     "name": "stdout",
     "output_type": "stream",
     "text": [
      "T-statistic: 4.351608076818746\n",
      "P-value: 8.062175359060365e-06\n",
      "Tolak H0\n"
     ]
    }
   ],
   "source": [
    "# import library\n",
    "from scipy.stats import ttest_ind\n",
    "\n",
    "# two sample independent t-test\n",
    "result = list(ttest_ind(df[df['Genre'] == 'Non Fiction']['Price'],\n",
    "                        df[df['Genre'] == 'Fiction']['Price'],\n",
    "                        equal_var = True\n",
    "                       ))\n",
    "\n",
    "print('T-statistic:', result[0])\n",
    "print('P-value:', result[1]/2)\n",
    "\n",
    "# conclusion\n",
    "if result[1]/2 < 0.05:\n",
    "    print('Tolak H0')\n",
    "else:\n",
    "    print('Terima H0')"
   ]
  },
  {
   "cell_type": "markdown",
   "metadata": {},
   "source": [
    "<b>Conclusion</b>: P-value lebih rendah dari tingkat signifikan 0.05, artinya kita memiliki cukup bukti untuk menolak hipotesis nol. Jadi, rata-rata harga buku non-fiksi lebih tinggi dari dari harga buku fiksi.\n",
    "\n",
    "Kita dapat cek rata-rata harga buku menggunakan <i>pandas groupby</i> seperti code dibawah ini. Data harga (<i>price</i>) kita kelompokkan berdasarkan genre buku. Kita dapati rata-rata harga buku non-fiksi(14.8) lebih tinggi dari buku fiksi(10.8)."
   ]
  },
  {
   "cell_type": "code",
   "execution_count": 12,
   "metadata": {},
   "outputs": [
    {
     "data": {
      "text/html": [
       "<div>\n",
       "<style scoped>\n",
       "    .dataframe tbody tr th:only-of-type {\n",
       "        vertical-align: middle;\n",
       "    }\n",
       "\n",
       "    .dataframe tbody tr th {\n",
       "        vertical-align: top;\n",
       "    }\n",
       "\n",
       "    .dataframe thead th {\n",
       "        text-align: right;\n",
       "    }\n",
       "</style>\n",
       "<table border=\"1\" class=\"dataframe\">\n",
       "  <thead>\n",
       "    <tr style=\"text-align: right;\">\n",
       "      <th></th>\n",
       "      <th>Price</th>\n",
       "    </tr>\n",
       "    <tr>\n",
       "      <th>Genre</th>\n",
       "      <th></th>\n",
       "    </tr>\n",
       "  </thead>\n",
       "  <tbody>\n",
       "    <tr>\n",
       "      <th>Fiction</th>\n",
       "      <td>10.850000</td>\n",
       "    </tr>\n",
       "    <tr>\n",
       "      <th>Non Fiction</th>\n",
       "      <td>14.841935</td>\n",
       "    </tr>\n",
       "  </tbody>\n",
       "</table>\n",
       "</div>"
      ],
      "text/plain": [
       "                 Price\n",
       "Genre                 \n",
       "Fiction      10.850000\n",
       "Non Fiction  14.841935"
      ]
     },
     "execution_count": 12,
     "metadata": {},
     "output_type": "execute_result"
    }
   ],
   "source": [
    "df[['Price', 'Genre']].groupby(['Genre']).mean()"
   ]
  },
  {
   "cell_type": "markdown",
   "metadata": {},
   "source": [
    "## c). T-test Paired\n",
    "Kita akan menguji hipotesis kecepatan reaksi seseorang saat mengendarai mobil antara sambil membuka smartphon dan tidak membuka smartphone atau fokus berkendara saja."
   ]
  },
  {
   "cell_type": "code",
   "execution_count": 14,
   "metadata": {},
   "outputs": [],
   "source": [
    "# Creating dummy dataset\n",
    "using_smartphone = [604,556,540,522,469,544,513,470,556,531,599,537,619,536,554,467]\n",
    "no_smartphone = [636,623,615,672,601,600,542,554,543,520,609,559,595,565,573,554]\n",
    "\n",
    "df_paired = pd.DataFrame({\n",
    "    'no':no_smartphone,\n",
    "    'yes':using_smartphone\n",
    "})\n",
    "\n",
    "df_paired['diff'] = df_paired['yes'] - df_paired['no']"
   ]
  },
  {
   "cell_type": "code",
   "execution_count": 15,
   "metadata": {},
   "outputs": [
    {
     "data": {
      "text/html": [
       "<div>\n",
       "<style scoped>\n",
       "    .dataframe tbody tr th:only-of-type {\n",
       "        vertical-align: middle;\n",
       "    }\n",
       "\n",
       "    .dataframe tbody tr th {\n",
       "        vertical-align: top;\n",
       "    }\n",
       "\n",
       "    .dataframe thead th {\n",
       "        text-align: right;\n",
       "    }\n",
       "</style>\n",
       "<table border=\"1\" class=\"dataframe\">\n",
       "  <thead>\n",
       "    <tr style=\"text-align: right;\">\n",
       "      <th></th>\n",
       "      <th>no</th>\n",
       "      <th>yes</th>\n",
       "      <th>diff</th>\n",
       "    </tr>\n",
       "  </thead>\n",
       "  <tbody>\n",
       "    <tr>\n",
       "      <th>0</th>\n",
       "      <td>636</td>\n",
       "      <td>604</td>\n",
       "      <td>-32</td>\n",
       "    </tr>\n",
       "    <tr>\n",
       "      <th>1</th>\n",
       "      <td>623</td>\n",
       "      <td>556</td>\n",
       "      <td>-67</td>\n",
       "    </tr>\n",
       "    <tr>\n",
       "      <th>2</th>\n",
       "      <td>615</td>\n",
       "      <td>540</td>\n",
       "      <td>-75</td>\n",
       "    </tr>\n",
       "    <tr>\n",
       "      <th>3</th>\n",
       "      <td>672</td>\n",
       "      <td>522</td>\n",
       "      <td>-150</td>\n",
       "    </tr>\n",
       "    <tr>\n",
       "      <th>4</th>\n",
       "      <td>601</td>\n",
       "      <td>469</td>\n",
       "      <td>-132</td>\n",
       "    </tr>\n",
       "    <tr>\n",
       "      <th>5</th>\n",
       "      <td>600</td>\n",
       "      <td>544</td>\n",
       "      <td>-56</td>\n",
       "    </tr>\n",
       "    <tr>\n",
       "      <th>6</th>\n",
       "      <td>542</td>\n",
       "      <td>513</td>\n",
       "      <td>-29</td>\n",
       "    </tr>\n",
       "    <tr>\n",
       "      <th>7</th>\n",
       "      <td>554</td>\n",
       "      <td>470</td>\n",
       "      <td>-84</td>\n",
       "    </tr>\n",
       "    <tr>\n",
       "      <th>8</th>\n",
       "      <td>543</td>\n",
       "      <td>556</td>\n",
       "      <td>13</td>\n",
       "    </tr>\n",
       "    <tr>\n",
       "      <th>9</th>\n",
       "      <td>520</td>\n",
       "      <td>531</td>\n",
       "      <td>11</td>\n",
       "    </tr>\n",
       "  </tbody>\n",
       "</table>\n",
       "</div>"
      ],
      "text/plain": [
       "    no  yes  diff\n",
       "0  636  604   -32\n",
       "1  623  556   -67\n",
       "2  615  540   -75\n",
       "3  672  522  -150\n",
       "4  601  469  -132\n",
       "5  600  544   -56\n",
       "6  542  513   -29\n",
       "7  554  470   -84\n",
       "8  543  556    13\n",
       "9  520  531    11"
      ]
     },
     "execution_count": 15,
     "metadata": {},
     "output_type": "execute_result"
    }
   ],
   "source": [
    "df_paired.head(10)"
   ]
  },
  {
   "cell_type": "markdown",
   "metadata": {},
   "source": [
    "<b>Hypothesis</b>:\n",
    "\n",
    "<b>H<sub>0</sub></b>: Mean Population of difference (yes-no) = 0\n",
    "\n",
    "<b>H<sub>a</sub></b>: Mean Population of difference (yes-no) < 0"
   ]
  },
  {
   "cell_type": "code",
   "execution_count": 26,
   "metadata": {},
   "outputs": [
    {
     "name": "stdout",
     "output_type": "stream",
     "text": [
      "T-statistic: -3.7091357792693707\n",
      "P-value: 0.0010497189034628326\n",
      "Tolak H0\n"
     ]
    }
   ],
   "source": [
    "# t-test paired\n",
    "tset, pval = ttest_1samp(df_paired['diff'],0)\n",
    "\n",
    "print('T-statistic:', tset)\n",
    "print('P-value:', pval/2)\n",
    "\n",
    "# conclusion\n",
    "if pval/2 < 0.05:\n",
    "    print('Tolak H0')\n",
    "else:\n",
    "    print('Terima H0')"
   ]
  },
  {
   "cell_type": "markdown",
   "metadata": {},
   "source": [
    "<b>Conclusion</b>: P-value lebih rendah dari tingkat signifikansi 0.05, artinya kita memiliki cukup bukti untuk menolak hipotesis nol. Jadi, kecepatan reaksi seseorang menurun ketika pengemudi memegang smartphone saat mengendarai mobil."
   ]
  },
  {
   "cell_type": "markdown",
   "metadata": {},
   "source": [
    "## d). One-way Annova F-test for more than two population mean\n",
    "Kita buat dummy dataset yang berisi data jam belajar siswa serta jenis transportasi yang digunakan untuk berangkat ke sekolah. Kita hendak menguji apakah ada perbedaan rata-rata belajar antara kelompok siswa yang berjalan kaki ke sekolah, dengan yang mmenggunakan transportasi publik, serta dengan yang mengendarai kendaraan pribadi."
   ]
  },
  {
   "cell_type": "code",
   "execution_count": 29,
   "metadata": {},
   "outputs": [
    {
     "data": {
      "text/html": [
       "<div>\n",
       "<style scoped>\n",
       "    .dataframe tbody tr th:only-of-type {\n",
       "        vertical-align: middle;\n",
       "    }\n",
       "\n",
       "    .dataframe tbody tr th {\n",
       "        vertical-align: top;\n",
       "    }\n",
       "\n",
       "    .dataframe thead th {\n",
       "        text-align: right;\n",
       "    }\n",
       "</style>\n",
       "<table border=\"1\" class=\"dataframe\">\n",
       "  <thead>\n",
       "    <tr style=\"text-align: right;\">\n",
       "      <th></th>\n",
       "      <th>transportation</th>\n",
       "      <th>Study Hour</th>\n",
       "    </tr>\n",
       "  </thead>\n",
       "  <tbody>\n",
       "    <tr>\n",
       "      <th>2</th>\n",
       "      <td>Walking</td>\n",
       "      <td>5</td>\n",
       "    </tr>\n",
       "    <tr>\n",
       "      <th>15</th>\n",
       "      <td>Public</td>\n",
       "      <td>6</td>\n",
       "    </tr>\n",
       "    <tr>\n",
       "      <th>19</th>\n",
       "      <td>Public</td>\n",
       "      <td>7</td>\n",
       "    </tr>\n",
       "    <tr>\n",
       "      <th>9</th>\n",
       "      <td>Walking</td>\n",
       "      <td>5</td>\n",
       "    </tr>\n",
       "    <tr>\n",
       "      <th>6</th>\n",
       "      <td>Walking</td>\n",
       "      <td>2</td>\n",
       "    </tr>\n",
       "  </tbody>\n",
       "</table>\n",
       "</div>"
      ],
      "text/plain": [
       "   transportation  Study Hour\n",
       "2         Walking           5\n",
       "15         Public           6\n",
       "19         Public           7\n",
       "9         Walking           5\n",
       "6         Walking           2"
      ]
     },
     "execution_count": 29,
     "metadata": {},
     "output_type": "execute_result"
    }
   ],
   "source": [
    "# Create dummy dataset\n",
    "transport = []\n",
    "method = ['Walking ', 'Public ', 'Private ']\n",
    "for i in method:\n",
    "    transport.extend((i*10).split())\n",
    "\n",
    "transportdf = pd.concat([pd.Series(transport, name = 'transportation'),\n",
    "                        pd.Series([5,4,5,6,5,3,2,4,5,5,7,7,5,6,4,6,5,5,6,7,5,4,5,6,6,5,5,5,7,7], name = 'Study Hour')], axis=1)\n",
    "transportdf.sample(5)"
   ]
  },
  {
   "cell_type": "markdown",
   "metadata": {},
   "source": [
    "<b>Hypothesis</b>:\n",
    "\n",
    "<b>H<sub>0</sub></b>: Rata-rata jam belajar siswa yang berjalan kaki = siswa yang memakai transportasi publik = siswa yang menggunakan kendaraan pribadi\n",
    "\n",
    "<b>H<sub>a</sub></b>: Minimal ada satu pasang yang rata-rata jam belajarnya tidak sama."
   ]
  },
  {
   "cell_type": "code",
   "execution_count": 30,
   "metadata": {},
   "outputs": [
    {
     "name": "stdout",
     "output_type": "stream",
     "text": [
      "T-statistic: 4.809836065573772\n",
      "P-value: 0.0163405142361861\n",
      "Tolak H0\n"
     ]
    }
   ],
   "source": [
    "# import library\n",
    "from scipy.stats import f_oneway\n",
    "\n",
    "# one-way annova f-test\n",
    "tstat, pval = f_oneway(transportdf[transportdf['transportation'] == 'Walking']['Study Hour'],\n",
    "                       transportdf[transportdf['transportation'] == 'Public']['Study Hour'],\n",
    "                       transportdf[transportdf['transportation'] == 'Private']['Study Hour'],\n",
    "                      )\n",
    "\n",
    "print('T-statistic:', tstat)\n",
    "print('P-value:', pval)\n",
    "\n",
    "# conclusion\n",
    "if pval < 0.05:\n",
    "    print('Tolak H0')\n",
    "else:\n",
    "    print('Terima H0')"
   ]
  },
  {
   "cell_type": "markdown",
   "metadata": {},
   "source": [
    "<b>Conclusion</b>: P-value lebih rendah dari tingkat signifikansi 0.05, artinya kita memiliki cukup bukti untuk menolak hipotesis nol. Sehingga, ada minimal satu pasangan yang tidak sama.\n",
    "\n",
    "Jika kita lihat dengan agregasi data, kita dapat mengetahui berapa rata-rata jam belajar di tiap kelompok."
   ]
  },
  {
   "cell_type": "code",
   "execution_count": 31,
   "metadata": {},
   "outputs": [
    {
     "data": {
      "text/html": [
       "<div>\n",
       "<style scoped>\n",
       "    .dataframe tbody tr th:only-of-type {\n",
       "        vertical-align: middle;\n",
       "    }\n",
       "\n",
       "    .dataframe tbody tr th {\n",
       "        vertical-align: top;\n",
       "    }\n",
       "\n",
       "    .dataframe thead th {\n",
       "        text-align: right;\n",
       "    }\n",
       "</style>\n",
       "<table border=\"1\" class=\"dataframe\">\n",
       "  <thead>\n",
       "    <tr style=\"text-align: right;\">\n",
       "      <th></th>\n",
       "      <th>Study Hour</th>\n",
       "    </tr>\n",
       "    <tr>\n",
       "      <th>transportation</th>\n",
       "      <th></th>\n",
       "    </tr>\n",
       "  </thead>\n",
       "  <tbody>\n",
       "    <tr>\n",
       "      <th>Private</th>\n",
       "      <td>5.5</td>\n",
       "    </tr>\n",
       "    <tr>\n",
       "      <th>Public</th>\n",
       "      <td>5.8</td>\n",
       "    </tr>\n",
       "    <tr>\n",
       "      <th>Walking</th>\n",
       "      <td>4.4</td>\n",
       "    </tr>\n",
       "  </tbody>\n",
       "</table>\n",
       "</div>"
      ],
      "text/plain": [
       "                Study Hour\n",
       "transportation            \n",
       "Private                5.5\n",
       "Public                 5.8\n",
       "Walking                4.4"
      ]
     },
     "execution_count": 31,
     "metadata": {},
     "output_type": "execute_result"
    }
   ],
   "source": [
    "transportdf.groupby(['transportation']).mean()"
   ]
  },
  {
   "cell_type": "markdown",
   "metadata": {},
   "source": [
    "----------------------\n",
    "# <center>Thank you and keep learning!</center>"
   ]
  }
 ],
 "metadata": {
  "kernelspec": {
   "display_name": "Python 3",
   "language": "python",
   "name": "python3"
  },
  "language_info": {
   "codemirror_mode": {
    "name": "ipython",
    "version": 3
   },
   "file_extension": ".py",
   "mimetype": "text/x-python",
   "name": "python",
   "nbconvert_exporter": "python",
   "pygments_lexer": "ipython3",
   "version": "3.8.10"
  }
 },
 "nbformat": 4,
 "nbformat_minor": 4
}
